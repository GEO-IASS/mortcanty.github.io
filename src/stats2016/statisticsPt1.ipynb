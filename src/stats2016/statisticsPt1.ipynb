{
 "cells": [
  {
   "cell_type": "markdown",
   "metadata": {
    "nbpresent": {
     "id": "5ea15087-2ae9-4c8f-8286-c240a6825ce7"
    }
   },
   "source": [
    "# Statistics for Data Analysis\n",
    "## Mort Canty\n",
    "## mort.canty@gmail.com\n",
    "## November, 2016\n",
    "$$ \\def\\pr{\\hbox{Pr}}\n",
    "\\def\\var{\\hbox{var}}\n",
    "\\def\\cov{\\hbox{cov}}\n",
    "\\def\\corr{\\hbox{corr}}\n",
    "\\def\\dmX{\\un{\\mathcal{X}}}\n",
    "\\def\\dmG{\\un{\\mathcal{G}}}\n",
    "\\def\\dmK{\\un{\\mathcal{K}}}\n",
    "\\def\\dmS{\\un{\\mathcal{S}}}\n",
    "\\def\\dmC{\\un{\\mathcal{C}}}\n",
    "\\def\\dmZ{\\un{\\mathcal{Z}}}\n",
    "\\def\\bma{{\\mbox{\\boldmath $\\alpha$}}}\n",
    "\\def\\bmb{{\\mbox{\\boldmath $\\beta$}}}\n",
    "\\def\\bmu{{\\mbox{\\boldmath $\\mu$}}}\n",
    "\\def\\bme{{\\mbox{\\boldmath $\\epsilon$}}}\n",
    "\\def\\bmS{{\\mbox{\\boldmath $\\Sigma$}}}\n",
    "\\def\\bmL{{\\mbox{\\boldmath $\\Lambda$}}}\n",
    "\\def\\bmd{{\\mbox{\\boldmath $\\delta$}}}\n",
    "\\def\\bmD{{\\mbox{\\boldmath $\\Delta$}}}\n",
    "\\def\\bmG{{\\mbox{\\boldmath $\\Gamma$}}}\n",
    "\\def\\bmphi{{\\mbox{\\boldmath $\\phi$}}}\n",
    "\\def\\bmPhi{{\\mbox{\\boldmath $\\Phi$}}}\n",
    "\\def\\bmpsi{{\\mbox{\\boldmath $\\psi$}}}\n",
    "\\def\\bmtheta{{\\mbox{\\boldmath $\\theta$}}}\n",
    "\\def\\eq{\\begin{equation}}\n",
    "\\def\\eeq{\\end{equation}}\n",
    "\\def\\i{{\\bf i}}\n",
    "\\def\\un#1{{\\bf #1}}$$"
   ]
  },
  {
   "cell_type": "markdown",
   "metadata": {
    "nbpresent": {
     "id": "0de94609-ff96-4394-a29f-fe1e187e6ec5"
    }
   },
   "source": [
    "<span>**Topics:**</span>\n",
    "\n",
    "-   Vectors and matrices\n",
    "\n",
    "-   Random variables\n",
    "\n",
    "-   Point and interval parameter estimation\n",
    "\n",
    "-   Multivariate statistics\n",
    "\n",
    "-   Linear regression\n",
    "\n",
    "-   Multiple linear regression, Kalman filter\n",
    "\n",
    "-   Hypothesis Testing\n",
    "\n",
    "-   Data assimilation\n",
    "\n",
    "-   Spatial statistics"
   ]
  },
  {
   "cell_type": "markdown",
   "metadata": {
    "nbpresent": {
     "id": "5fd864fc-cac9-4341-8fed-53d362562bf5"
    }
   },
   "source": [
    "<span>**References:**</span>\n",
    "\n",
    "J. E. Freund (2003), <span>*Mathematical Statistics with\n",
    "Applications*</span>, 7th Ed., Prentice Hall.\n",
    "\n",
    "K. V. Mardia et al. (1979), <span>*Multivariate Analysis*</span>,\n",
    "Academic Press.\n",
    "\n",
    "M. J. Canty (2014), <span>*Image Analysis, Classification and Change\n",
    "Detection in Remote Sensing*</span>, 3rd Ed., Taylor and Francis\n",
    "\n",
    "<span>**Course Material:**</span>\n",
    "\n",
    "http://mortcanty.github.io/src/\n"
   ]
  },
  {
   "cell_type": "markdown",
   "metadata": {
    "nbpresent": {
     "id": "96545b4c-5871-4803-b5bf-0293f45c4e14"
    }
   },
   "source": [
    "## Part 1. Linear Algebra Basics\n",
    "\n",
    "\n",
    "The <span>*sum*</span> of two column vectors is given by\n",
    "$$\\un x + \\un y = \\pmatrix{x_1\\cr x_2}+\\pmatrix{y_1\\cr y_2}=\\pmatrix{x_1+y_1\\cr x_2+y_2},$$\n",
    "and their <span>*inner product*</span> by\n",
    "$$\\un x^\\top \\un y =(x_1,x_2) \\pmatrix{y_1\\cr y_2}=x_1y_1+x_2y_2.$$ The\n",
    "<span>*length*</span> or <span>*(2-)norm*</span> of the vector $\\un x$\n",
    "is $$\\|\\un x\\| = \\sqrt{x_1^2+x_2^2} = \\sqrt{\\un x^\\top \\un x}\\ .$$"
   ]
  },
  {
   "cell_type": "markdown",
   "metadata": {
    "nbpresent": {
     "id": "fe0289ea-53e6-40a8-9dab-86375d151a02"
    }
   },
   "source": [
    "The inner product can be written as\n",
    "$$\\un x^\\top \\un y = \\|\\un x\\|\\|\\un y\\|\\cos(\\theta)$$ \n",
    "\n",
    "where $\\theta$ is\n",
    "the angle subtended by $\\un x$ and $\\un y$. If $\\theta=\\pi/2$ then the\n",
    "vectors are <span>*orthogonal*</span>."
   ]
  },
  {
   "cell_type": "markdown",
   "metadata": {
    "nbpresent": {
     "id": "d42c98fd-9cbb-4121-82b8-ae97bf9006f4"
    }
   },
   "source": [
    "The product of two $2\\times 2$ matrices is given by \n",
    "\n",
    "$$\\eqalign{\n",
    "\\un A \\un B &=\\pmatrix{a_{11} & a_{12}\\cr a_{21}&a_{22}} \\pmatrix{b_{11} & b_{12}\\cr b_{21}& b_{22}}\\cr\n",
    "&=\\pmatrix{a_{11}b_{11}+a_{12}b_{21} & a_{11}b_{12}+a_{12}b_{22}\\cr a_{21}b_{11}+a_{22}b_{21} & a_{21}b_{12}+a_{22}b_{22}}}$$\n",
    "\n",
    "The matrix product $\\un A\\un B$ is allowed whenever $\\un A$ has the same\n",
    "number of columns as $\\un B$ has rows. \n",
    "\n"
   ]
  },
  {
   "cell_type": "markdown",
   "metadata": {
    "nbpresent": {
     "id": "1cbc07a9-b8eb-4ef3-9ffc-51454a5481de"
    }
   },
   "source": [
    "So if $\\un A$ has dimension\n",
    "$\\ell\\times m$ and $\\un B$ has dimension $m\\times n$, then $\\un A\\un B$\n",
    "is $\\ell\\times n$ with elements\n",
    "\n",
    "$$(\\un A\\un B)_{ij} = \\sum_{k=1}^m a_{ik}b_{kj}\\quad i=1\\dots \\ell,\\ j=1\\dots n.$$\n",
    "\n",
    "Matrix multiplication is not <span>*commutative*</span>, i.e.\n",
    "$\\un A\\un B\\ne\\un B\\un A$ in general. However it is\n",
    "<span>*associative*</span>:\n",
    "\n",
    "$$(\\un A\\un B)\\un C = \\un A(\\un B\\un C)= \\un A \\un B \\un C. \\tag 1 $$ "
   ]
  },
  {
   "cell_type": "markdown",
   "metadata": {
    "nbpresent": {
     "id": "3be244e5-df11-4b65-b9b6-62f17f419426"
    }
   },
   "source": [
    "The\n",
    "<span>*outer product*</span> of two vectors of equal length, written\n",
    "$\\un x \\un y^\\top$, is a matrix, e.g.,\n",
    "\n",
    "$$\\un x \\un y^\\top = \\pmatrix{x_1\\cr x_2} (y_1, y_2)= \\pmatrix{x_1&0\\cr x_2&0} \\pmatrix{y_1&y_2\\cr0&0}\n",
    "=\\pmatrix{x_1y_1&x_1y_2\\cr x_2y_1&x_2y_2}.$$\n"
   ]
  },
  {
   "cell_type": "code",
   "execution_count": null,
   "metadata": {
    "collapsed": false,
    "nbpresent": {
     "id": "b50cf153-d41c-408c-9381-927375ac3b83"
    }
   },
   "outputs": [],
   "source": [
    "from numpy import *\n",
    "\n",
    "A = mat(random.rand(3,1))\n",
    "print A\n",
    "print\n",
    "B = A*A.T\n",
    "print B\n",
    "print\n",
    "print linalg.det(B)\n"
   ]
  },
  {
   "cell_type": "markdown",
   "metadata": {
    "nbpresent": {
     "id": "f1cf99e6-9744-4c86-981c-6f787294afff"
    }
   },
   "source": [
    "Matrices, like vectors, have a transposed form, obtained by\n",
    "interchanging their rows and columns.\n",
    "\n",
    "$$\\un A = \\pmatrix{a_{11} & a_{12}\\cr a_{21}&a_{22}},\\quad\\un A^\\top = \\pmatrix{a_{11} & a_{21}\\cr a_{12}&a_{22}}.$$\n",
    "\n",
    "Transposition has the properties $$\\eqalign{\n",
    "(\\un A+\\un B)^\\top &= \\un A^\\top + \\un B^\\top\\cr\n",
    "(\\un A\\un B)^\\top  &= \\un B^\\top\\un A^\\top.}\\tag 2$$ \n",
    "\n"
   ]
  },
  {
   "cell_type": "markdown",
   "metadata": {
    "nbpresent": {
     "id": "8a12b525-f4f0-41f7-93f1-578a89fdcf05"
    }
   },
   "source": [
    "The determinant of\n",
    "a $2\\times 2$ matrix is given by\n",
    "\n",
    "$$|\\un A| = a_{11}a_{22}-a_{12}a_{21}.$$ \n",
    "\n",
    "The determinant has the\n",
    "properties $$\\eqalign{\n",
    "|\\un A\\un B| &= |\\un A| |\\un B| \\cr\n",
    "|\\un A^\\top| &= |\\un A|.}\\tag 3$$"
   ]
  },
  {
   "cell_type": "markdown",
   "metadata": {
    "collapsed": true,
    "nbpresent": {
     "id": "4ca31d12-e0f9-473f-9b96-d8a42a9b3ad9"
    }
   },
   "source": [
    "The $2\\times 2$ <span>*identity matrix*</span> is\n",
    "\n",
    "$$\\un I = \\pmatrix{1&0\\cr 0&1},$$ \n",
    "\n",
    "and for any $\\un A$,\n",
    "\n",
    "$$\\un I \\un A = \\un A \\un I= \\un A.$$ \n"
   ]
  },
  {
   "cell_type": "markdown",
   "metadata": {
    "nbpresent": {
     "id": "9a407fde-3e7c-45db-bbdd-4d613c3b6f31"
    }
   },
   "source": [
    "The <span>*matrix inverse*</span>\n",
    "$\\un A^{-1}$ of a square matrix $\\un A$ is defined in terms of the\n",
    "identity matrix: $$\\un A^{-1} \\un A = \\un A \\un A^{-1} = \\un I.$$ \n",
    "\n",
    "For\n",
    "example:\n",
    "\n",
    "$$\\un A^{-1}={1\\over |\\un A|}\\pmatrix{a_{22}& -a_{12}\\cr -a_{21}&a_{11}}.$$\n"
   ]
  },
  {
   "cell_type": "markdown",
   "metadata": {
    "nbpresent": {
     "id": "a2ec78e2-ea44-45b2-956e-e993255b83ae"
    }
   },
   "source": [
    "The matrix inverse has the properties \n",
    "$$\\eqalign{\n",
    "(\\un A\\un B)^{-1} &= \\un B^{-1}\\un A^{-1}\\cr\n",
    "(\\un A^{-1})^\\top &= (\\un A^\\top)^{-1}.}\\tag 4$$ \n",
    "\n",
    "If the transpose of a square\n",
    "matrix is its inverse, i.e.,\n",
    "\n",
    "$$\\un A^\\top\\un A = \\un A\\un A^\\top = \\un I,\\tag 5$$ \n",
    "\n",
    "then it is referred to as\n",
    "an <span>*orthonormal matrix*</span>. \n"
   ]
  },
  {
   "cell_type": "markdown",
   "metadata": {
    "nbpresent": {
     "id": "dfa80671-16ae-4193-bc39-92f45580bf0e"
    }
   },
   "source": [
    "The <span>*trace*</span> of\n",
    "a square matrix is the sum of its diagonal elements:\n",
    "\n",
    "$${\\rm tr}\\ \\un A = a_{11}+a_{22}.$$ \n",
    "\n",
    "\n",
    "The trace has the properties\n",
    "$$\\eqalign{\n",
    "{\\rm tr}(\\un A + \\un B) &= {\\rm tr} \\un A + {\\rm tr} \\un B \\cr\n",
    "{\\rm tr}(\\un A\\un B) &= {\\rm tr}(\\un B\\un A).\\tag 6}$$"
   ]
  },
  {
   "cell_type": "code",
   "execution_count": null,
   "metadata": {
    "collapsed": false,
    "nbpresent": {
     "id": "2350d87f-b44a-406c-a814-e2b5770bed85"
    }
   },
   "outputs": [],
   "source": [
    "C = mat(random.rand(3,3))\n",
    "print C.I*C\n",
    "print trace(C.I*C)"
   ]
  },
  {
   "cell_type": "code",
   "execution_count": null,
   "metadata": {
    "collapsed": false,
    "nbpresent": {
     "id": "2b427c90-7c0e-47d4-b83b-036d17c51267"
    }
   },
   "outputs": [],
   "source": [
    "print B.I"
   ]
  },
  {
   "cell_type": "markdown",
   "metadata": {
    "nbpresent": {
     "id": "4d03c9fd-67a8-4b58-9090-cf970245579d"
    }
   },
   "source": [
    "The $p\\times p$ matrix $\\un A$ is <span>*symmetric*</span> if\n",
    "\n",
    "$$\\un A^\\top = \\un A.$$\n",
    "\n",
    "The $p\\times p$ symmetric matrix $\\un A$\n",
    "is <span>*positive definite*</span> if\n",
    "\n",
    "$$\\un x^\\top\\un A\\un x > 0\\quad\\hbox{for all }p\\hbox{-dimensional vectors } \\un x.$$\n",
    "\n",
    "The expression $\\un x^\\top\\un A\\un x$ is called a <span>*quadratic\n",
    "form*</span>.\n"
   ]
  },
  {
   "cell_type": "markdown",
   "metadata": {
    "nbpresent": {
     "id": "a1c4533e-5ff4-4016-9325-f37f22d88a87"
    }
   },
   "source": [
    "<span>**Exercise 1:**</span> Prove with the help of (6) that\n",
    "$\\un x^\\top\\un A\\un x = {\\rm tr}(\\un A \\un x\\un x^\\top)$.\n",
    "\n",
    "<span>*Cholesky decomposition*</span>: If $\\un A$ is symmetric positive\n",
    "definite, there exists a lower triangular matrix $\\un L$ such that\n",
    "$$A = \\un L\\un L^\\top.$$"
   ]
  },
  {
   "cell_type": "code",
   "execution_count": null,
   "metadata": {
    "collapsed": false,
    "nbpresent": {
     "id": "e4a2452e-7528-4e3d-8d1e-1ad3a91d14ee"
    }
   },
   "outputs": [],
   "source": [
    "# symmetric positive definite matrix\n",
    "C = mat(random.rand(100,3))\n",
    "S = C.T*C/100\n",
    "print S\n",
    "print\n",
    "L = linalg.cholesky(S)\n",
    "print L\n",
    "print\n",
    "print L*L.T"
   ]
  },
  {
   "cell_type": "markdown",
   "metadata": {
    "nbpresent": {
     "id": "d90f11f6-c837-4d6b-8f00-cfbd9d602694"
    }
   },
   "source": [
    "If $|\\un A|=0$, then $\\un A$ has no inverse and is said to be a\n",
    "<span>*singular matrix*</span>. If $\\un A$ is\n",
    "<span>*nonsingular*</span>, then the equation \n",
    "\n",
    "$$ \\un A \\un x = \\un 0 $$ \n",
    "\n",
    "only has the\n",
    "<span>*trivial solution*</span> $\\un x=\\un 0$. If $\\un A$ is\n",
    "singular, the equation has at least one <span>*nontrivial\n",
    "solution*</span> $\\un x \\ne \\un 0$.\n",
    "\n",
    "A set of vectors $\\un x_1\\dots \\un x_r$ is said to be <span>*linearly\n",
    "dependent*</span> if there exists a set of scalars $c_1\\dots c_r$, not\n",
    "all of which are zero, such that $$\\sum_{i=1}^r c_i\\un x_i = \\un 0.$$\n",
    "Otherwise they are <span>*linearly independent*</span>.\n",
    "\n",
    "A matrix\n",
    "is said to have <span>*rank*</span> $r$ if the maximum number of\n",
    "linearly independent columns is $r$."
   ]
  },
  {
   "cell_type": "markdown",
   "metadata": {
    "nbpresent": {
     "id": "1b536408-d7e2-4a2f-b1ed-bfbb3fee20bd"
    }
   },
   "source": [
    "<span>**Eigenvalues and eigenvectors**</span>\n",
    "\n",
    "An <span>*eigenvalue problem*</span>: Find <span>*eigenvectors*</span>\n",
    "$\\un x$ and <span>*eigenvalues*</span> $\\lambda$ that satisfy the\n",
    "equation \n",
    "\n",
    "$$\\un A \\un x = \\lambda \\un x,\\tag 7$$ \n",
    "\n",
    "where $\\un A$ is a symmetric\n",
    "and positive definite matrix. This can be written equivalently as\n",
    "\n",
    "$$(\\un A-\\lambda\\un I)\\un x = \\un 0,$$\n",
    "\n",
    "so for a nontrivial solution we\n",
    "must have\n",
    "\n",
    "$$|\\un A-\\lambda\\un I| = 0.$$\n",
    "\n",
    "This is called the\n",
    "<span>*characteristic equation*</span>. If $\\un x$ has dimension $N$,\n",
    "then the characteristic equation has $N$ solutions $\\lambda_i$,\n",
    "$i=1\\dots N$. Correspondingly there are $N$ eigenvectors\n",
    "$\\un x=\\un x^{(i)}$, $i=1\\dots N$."
   ]
  },
  {
   "cell_type": "markdown",
   "metadata": {
    "collapsed": true,
    "nbpresent": {
     "id": "ae4ba65f-c454-42a3-9c76-5b5609e1d7c8"
    }
   },
   "source": [
    "<span>**Example:**</span> A $2\\times 2$ matrix eigenvalue problem, $\\un A\\un x = \\lambda \\un x$,\n",
    "The characteristic equation is\n",
    "$$(a_{11}-\\lambda)(a_{22}-\\lambda)-a^2_{12} = 0.$$ This is a quadratic\n",
    "equation in $\\lambda$ with solutions $$\\eqalign{\n",
    "\\lambda^{(1)} & = {1\\over 2}\\left( a_{11}+a_{22} +\\sqrt{(a_{11}+a_{22})^2-4(a_{11}a_{22}-a_{12}^2)}\\right)\\cr\n",
    "\\lambda^{(2)} & = {1\\over 2}\\left( a_{11}+a_{22} -\\sqrt{(a_{11}+a_{22})^2-4(a_{11}a_{22}-a_{12}^2)}\\right).}$$\n",
    "Thus there are two eigenvalues and, correspondingly, two eigenvectors\n",
    "$$\\un x^{(1)},\\quad\\un x^{(2)}.$$ The eigenvectors can be obtained by\n",
    "first substituting $\\lambda^{(1)}$ and then $\\lambda^{(2)}$ into\n",
    "Equation (2) and solving for $x_1$ and $x_2$ each time.\n",
    "\n",
    "<span>**Exercise 2:**</span> Show that the eigenvectors are orthogonal,\n",
    "$$(\\un x^{(1)})^\\top \\un x^{(2)} = 0.$$"
   ]
  },
  {
   "cell_type": "markdown",
   "metadata": {
    "nbpresent": {
     "id": "4ac63eb9-d0df-44b0-b1ba-7212d445f262"
    }
   },
   "source": [
    "The eigenvectors can be always chosen to have unit length,\n",
    "$$\\|\\un x^{(1)}\\| = \\|\\un x^{(2)}\\| = 1.$$ 0.5cm The matrix formed by\n",
    "two eigenvectors, for instance\n",
    "$$\\un U =(\\un x^{(1)},\\un x^{(2)}) = \\pmatrix{x^{(1)}_1 & x^{(2)}_1\\cr x^{(1)}_2 & x^{(2)}_2},$$\n",
    "is orthonormal: $$\\un U^\\top\\un U = \\un I$$ and is said to\n",
    "<span>*diagonalize*</span> the matrix $\\un A$:\n",
    "$$\\un U^\\top \\un A \\un U = \\pmatrix{\\lambda^{(1)} & 0\\cr 0 & \\lambda^{(2)}} = \\bf\\Lambda,\\tag 8$$"
   ]
  },
  {
   "cell_type": "code",
   "execution_count": null,
   "metadata": {
    "collapsed": false,
    "nbpresent": {
     "id": "02abc7ee-a260-4534-9284-fc4f9166f48c"
    }
   },
   "outputs": [],
   "source": [
    "lmda,U = linalg.eig(S)\n",
    "print lmda\n",
    "print\n",
    "print U\n",
    "print\n",
    "print U.T*U"
   ]
  },
  {
   "cell_type": "markdown",
   "metadata": {
    "nbpresent": {
     "id": "89e67425-9add-4b86-9b07-b74177becc8b"
    }
   },
   "source": [
    "<span>**Singular value decomposition (SVD)**</span>\n",
    "\n",
    "Simply by rewriting (8), we get a special form of <span>*singular value\n",
    "decomposition*</span> (SVD) for symmetric matrices:\n",
    "$$\\un A = \\un U\\bf\\Lambda\\un U^\\top.$$ This says that any symmetric matrix\n",
    "$\\un A$ can be factored into the product of an orthonormal matrix\n",
    "$\\un U$ times a diagonal matrix $\\bf\\Lambda$ times the transpose of $\\un U$\n",
    "(also called the <span>*eigen-decomposition of $\\un A$*</span>).\n"
   ]
  },
  {
   "cell_type": "markdown",
   "metadata": {
    "nbpresent": {
     "id": "c7f3a739-fbe5-4e16-a408-5128d643d22b"
    }
   },
   "source": [
    "The SVD of a general $m\\times n$ matrix $\\un A$ with $m>n$ is\n",
    "$$\\un A = \\un U\\un W \\un V^\\top$$ where $\\un U$ is $m\\times n$ with\n",
    "$\\un U^\\top\\un U = \\un I_n$, $$\\un W = \\pmatrix{w_1  & \\cdots & 0 \\cr\n",
    "                 \\vdots  &\\vdots &\\vdots\\cr\n",
    "                 0  &\\cdots & w_n}$$ and $\\un V$ is $n\\times n$ with\n",
    "$\\un V^\\top\\un V = \\un V\\un V^\\top = \\un I_n$"
   ]
  },
  {
   "cell_type": "code",
   "execution_count": null,
   "metadata": {
    "collapsed": false,
    "nbpresent": {
     "id": "a72c8929-e7b4-41ba-8878-2e48593eaffd"
    }
   },
   "outputs": [],
   "source": [
    "U,w,_ = linalg.svd(S)\n",
    "print U\n",
    "print w\n",
    "# Singular matrix\n",
    "U,w,_ = linalg.svd(B)\n",
    "print\n",
    "print U\n",
    "print w"
   ]
  },
  {
   "cell_type": "markdown",
   "metadata": {
    "nbpresent": {
     "id": "0d32b035-9ac8-448f-b14e-ab9f9adfaa18"
    }
   },
   "source": [
    "If $\\un A$ is singular and we order the eigenvalues and eigenvectors in order of decreasing eigenvalue, then the\n",
    "eigendecomposition reads\n",
    "$$\n",
    "\\un A = \\sum_{i=1}^r \\lambda_i\\un u^{(i)}\\un u^{(i)\\top},\n",
    "$$\n",
    "where $r$ is the number of nonzero eigenvalues.  Accordingly,\n",
    "$$\n",
    "\\un A = \\un {U_r}\\bf\\Lambda_r\\un U_r^\\top,\n",
    "$$\n",
    "where\n",
    "$$\n",
    "\\un U_r = (\\un {u^{(1)}},\\dots , \\un u^{(r)}),\\quad \\bf\\Lambda = \\pmatrix{\\lambda_1 & 0         & \\cdots & 0 \\cr\n",
    "                                                                        0      & \\lambda_2 & \\cdots & 0 \\cr\n",
    "                                                                        \\vdots &   \\vdots  & \\ddots & \\vdots \\cr\n",
    "                                                                        0      &  0        & \\cdots & \\lambda_r} .\n",
    "$$\n"
   ]
  },
  {
   "cell_type": "markdown",
   "metadata": {
    "nbpresent": {
     "id": "174d75b4-b7d1-479e-8e64-6e11d20b9812"
    }
   },
   "source": [
    "The *pseudoinverse* of the symmetric, singular matrix $\\un A$ is defined as\n",
    "$$\n",
    "\\un A^+ = \\un U_r\\bf\\Lambda_r^{-1}\\un U_r^\\top.\n",
    "$$"
   ]
  },
  {
   "cell_type": "code",
   "execution_count": null,
   "metadata": {
    "collapsed": false,
    "nbpresent": {
     "id": "31a21b8f-d34c-4a3d-85fd-5b35528d84f8"
    }
   },
   "outputs": [],
   "source": [
    "u = U[:,0]\n",
    "print 'pseudo inverse =\\n %s' % str(u*(1/w[0])*u.T)"
   ]
  },
  {
   "cell_type": "markdown",
   "metadata": {
    "nbpresent": {
     "id": "a01e1489-2afa-4bfc-90d9-7e56e983ded8"
    }
   },
   "source": [
    "Suppose $\\un A$ is a $N\\times N$ symmetric matrix. Then its eigenvectors\n",
    "$\\un u_i$, $i=1\\dots N$, are orthogonal and any $N$-component vector\n",
    "$\\un x$ can be expressed as a linear combination of them,\n",
    "$$\\un x = \\sum_{i=1}^N\\beta_i\\un u_i.$$ But then we have\n",
    "$$\\un x^\\top\\un A\\un x = \\un x^\\top\\sum_i\\beta_i\\lambda_i\\un u_i\n",
    "=\\sum_i\\beta_i^2\\lambda_i,$$ where $\\lambda_i$, $i=1\\dots N$, are the\n",
    "eigenvalues of $\\un A$. \n",
    "\n",
    "So $\\un A$ is positive definite if and\n",
    "only if all of its eigenvalues are positive."
   ]
  },
  {
   "cell_type": "markdown",
   "metadata": {
    "nbpresent": {
     "id": "f347ffad-7c9e-47fd-8655-80fdcdc957eb"
    }
   },
   "source": [
    "<span>**Lagrange multipliers**</span>\n",
    "\n",
    "A <span>*vector partial derivative*</span> is written in the form\n",
    "${\\partial\\over\\partial\\un x}$. For instance in two dimensions:\n",
    "$${\\partial\\over \\partial\\un x} =\n",
    "\\pmatrix{1\\cr 0}{\\partial\\over \\partial x_1}+\\pmatrix{0\\cr 1}{\\partial\\over \\partial x_2}.$$\n",
    "This operator (also called the <span>*gradient*</span>) arranges the\n",
    "partial derivatives of any scalar function of the vector $\\un x$ with\n",
    "respect to each of its components into a column vector, e.g.,\n",
    "$${\\partial f(\\un x)\\over\\partial\\un x}=\\pmatrix{\\partial f(\\un x)\\over\\partial x_1\\cr\n",
    "                                               {\\partial f(\\un x)\\over\\partial x_2}}.$$"
   ]
  },
  {
   "cell_type": "markdown",
   "metadata": {
    "nbpresent": {
     "id": "a861e329-ea9b-421f-ae9c-9760073f69e5"
    }
   },
   "source": [
    "The operations with vector derivatives correspond closely to operations\n",
    "with ordinary scalar derivatives:\n",
    "\n",
    "$${\\partial \\over \\partial\\un x}(\\un x^\\top \\un y) = \\un y\\quad\\hbox{analogous to}\n",
    "\\quad {\\partial\\over \\partial x}xy=y$$\n",
    "\n",
    "$${\\partial \\over \\partial\\un x}(\\un x^\\top \\un x) = 2\\un x\\quad\\hbox{analogous to}\n",
    "\\quad {\\partial \\over \\partial x}x^2=2x.$$ \n"
   ]
  },
  {
   "cell_type": "markdown",
   "metadata": {
    "nbpresent": {
     "id": "b1d3434d-63a1-49d2-8eb6-0d7ead8e25b1"
    }
   },
   "source": [
    "For quadratic forms we have\n",
    "\n",
    "$$\\eqalign{\n",
    "{\\partial\\over\\partial \\un x}(\\un x^\\top \\un A \\un y)&=\\un A \\un y\\cr\n",
    "{\\partial\\over\\partial \\un y}(\\un x^\\top \\un A \\un y)&=\\un A^\\top \\un x}$$\n",
    "\n",
    "and\n",
    "\n",
    "$${\\partial\\over\\partial \\un x}(\\un x^\\top \\un A \\un x)=\\un A \\un x+\\un A^\\top\\un x.$$"
   ]
  },
  {
   "cell_type": "markdown",
   "metadata": {
    "nbpresent": {
     "id": "dfa09f31-f1f3-4e3a-a2cb-106e09093df4"
    }
   },
   "source": [
    "If $\\un A$ is a symmetric matrix\n",
    "\n",
    "$${\\partial\\over\\partial \\un x}(\\un x^\\top \\un A \\un x)=2\\un A \\un x.$$\n",
    "\n",
    "<span>**Exercise 3:**</span> What is\n",
    "${\\partial\\over\\partial\\un x} {1 \\over \\un x^\\top\\un A \\un y}$?"
   ]
  },
  {
   "cell_type": "markdown",
   "metadata": {
    "nbpresent": {
     "id": "f741e37d-78d5-40b6-9ae1-5e1c605e7bfc"
    }
   },
   "source": [
    "The Taylor expansion of a scalar function of a vector $\\un x$ about\n",
    "$\\un x^*$ is\n",
    "\n",
    "$$f(\\un x) = f(\\un x^*)+(\\un x-\\un x^*)^\\top{\\partial f(\\un x^*)\\over\\partial\\un x}\n",
    "+{1\\over 2}(\\un x-\\un x^*)^\\top\\un H(\\un x^*)(\\un x-\\un x^*)+\\dots,$$\n",
    "\n",
    "where $\\un H$ is called the <span>*Hessian matrix*</span>. Its\n",
    "elements are given by\n",
    "\n",
    "$$\\left(\\un H(\\un x^*)\\right)_{ij} = {\\partial^2 f(\\un x^*)\\over\\partial x_i\\partial x_j},$$\n",
    "\n",
    "and it is a symmetric matrix. Note that we can write\n",
    "\n",
    "$$\\un H(\\un x^*)= {\\partial\\over\\partial\\un x} {\\partial\\over\\partial\\un x^\\top} f(\\un x^*) =  {\\partial^2 f(\\un x^*)\\over\\partial \\un x\\partial\\un x^\\top}.$$"
   ]
  },
  {
   "cell_type": "markdown",
   "metadata": {
    "nbpresent": {
     "id": "ed75d8a0-c7f7-418a-ba67-cc5adab8d499"
    }
   },
   "source": [
    "At the stationary point the vector derivative with respect to $\\un x$\n",
    "vanishes, \n",
    "\n",
    "$${\\partial f(\\un x^*)\\over\\partial\\un x}=\\un 0,$$ \n",
    "\n",
    "so we have\n",
    "\n",
    "$$f(\\un x) \\approx f(\\un x^*)+{1\\over 2}(\\un x-\\un x^*)^\\top\\un H(\\un x^*)(\\un x-\\un x^*).$$\n",
    "\n",
    "The condition for a local minimum is that the Hessian matrix be positive\n",
    "definite at the point $\\un x^*$.\n"
   ]
  },
  {
   "cell_type": "markdown",
   "metadata": {
    "nbpresent": {
     "id": "b00ca437-8e5b-40b5-aeb3-a11f0905927f"
    }
   },
   "source": [
    "Suppose that we wish to find the position $\\un x^*$ of a minimum (or\n",
    "maximum) of a function $f(\\un x)$. If there are no constraints, then we\n",
    "solve the set of equations\n",
    "\n",
    "$${\\partial f(\\un x)\\over \\partial x_i}= 0,\\quad i=1,2\\dots$$\n",
    "\n",
    "or, in\n",
    "terms of our notation for vector derivatives,\n",
    "\n",
    "$${\\partial f(\\un x)\\over \\partial\\un x}=\\un 0,$$ \n",
    "\n",
    "and examine the\n",
    "Hessian matrix at the solution point."
   ]
  },
  {
   "cell_type": "markdown",
   "metadata": {
    "nbpresent": {
     "id": "402c2f2b-78d0-4689-87fe-4ab4fe3e9e3c"
    }
   },
   "source": [
    "Suppose that $\\un x$ is <span>*constrained*</span> by the condition\n",
    "\n",
    "$$h(\\un x) = 0.$$ \n",
    "\n",
    "For example, in two dimensions we might have the\n",
    "constraint \n",
    "\n",
    "$$h(\\un x)=x_1^2+x_2^2-1=0$$\n",
    "\n",
    "which requires $\\un x$ to lie on\n",
    "a circle of radius 1.\n",
    "\n",
    "A very general way to find an extremum of $f(\\un x)$ subject to\n",
    "$h(\\un x)=0$ is to determine an <span>*unconstrained*</span> minimum or\n",
    "maximum of the <span>*Lagrange function*</span>\n",
    "\n",
    "$$L(\\un x) = f(\\un x)+\\lambda h(\\un x).$$"
   ]
  },
  {
   "cell_type": "markdown",
   "metadata": {
    "nbpresent": {
     "id": "730c59ad-bd44-4261-9e68-44ef5282feab"
    }
   },
   "source": [
    "The quantity $\\lambda$\n",
    "is a <span>*Lagrange multiplier*</span>. To find the extremum, we solve\n",
    "the set of equations $$\\eqalign{\n",
    "{\\partial\\over \\partial \\un  x}(f(\\un x)+\\lambda h(\\un x))&= \\un 0,\\cr\n",
    "{\\partial\\over \\partial \\lambda}(f(\\un x)+\\lambda h(\\un x))&= 0}$$ for\n",
    "$\\un x$ and $\\lambda$.\n",
    "\n",
    "<span>**Exercise 4:**</span> Find the minimum of\n",
    "\n",
    "$$f(\\un x) = ax_1^2 + bx_2^2$$ for $a,b>0$ subject to the constraint\n",
    "\n",
    "$$x_1+x_2=1.$$"
   ]
  },
  {
   "cell_type": "markdown",
   "metadata": {
    "nbpresent": {
     "id": "cbc72205-ff75-459a-beb6-9afe20684bda"
    }
   },
   "source": [
    "<span>**Example:**</span> (PCA) Find the maximum of\n",
    "\n",
    "$$f(\\un x) = \\un x^\\top\\un C\\un x,$$ \n",
    "\n",
    "where $\\un C$ is symmetric positive\n",
    "definite, subject to the constraint\n",
    "$$h(\\un x) = \\un x^\\top\\un x - 1 = 0.$$\n",
    "The Lagrange function is\n",
    "\n",
    "$$L(\\un x) = \\un x^\\top\\un C \\un x - \\lambda(\\un x^\\top \\un x - 1).$$\n",
    "\n",
    "Any extremum of $L$ occurs at a value of $\\un x$ for which\n",
    "\n",
    "$${\\partial L\\over \\partial\\un x}=2\\un C \\un x-2\\lambda\\un x=0,$$\n",
    "\n",
    "which\n",
    "is the eigenvalue problem\n",
    "\n",
    "$$\\un C \\un x = \\lambda\\un x.$$ \n"
   ]
  },
  {
   "cell_type": "markdown",
   "metadata": {
    "collapsed": true,
    "nbpresent": {
     "id": "789bc501-fe79-4c68-8069-6bf7525d8b6f"
    }
   },
   "source": [
    "Let $\\un u$ be\n",
    "an eigenvector with eigenvalue $\\lambda$. Then\n",
    "\n",
    "$$\\un u^\\top\\un C\\un u = \\lambda\\un u^\\top\\un u = \\lambda.$$\n",
    "\n",
    "So to\n",
    "maximize $f(\\un x)$ we must choose the eigenvector of $\\un C$ with\n",
    "maximum eigenvalue."
   ]
  },
  {
   "cell_type": "code",
   "execution_count": null,
   "metadata": {
    "collapsed": true
   },
   "outputs": [],
   "source": []
  }
 ],
 "metadata": {
  "anaconda-cloud": {},
  "kernelspec": {
   "display_name": "Python [Root]",
   "language": "python",
   "name": "Python [Root]"
  },
  "language_info": {
   "codemirror_mode": {
    "name": "ipython",
    "version": 2
   },
   "file_extension": ".py",
   "mimetype": "text/x-python",
   "name": "python",
   "nbconvert_exporter": "python",
   "pygments_lexer": "ipython2",
   "version": "2.7.12"
  },
  "nbpresent": {
   "slides": {
    "00ee6165-9ade-4a6a-a6de-15c0cc0f006c": {
     "id": "00ee6165-9ade-4a6a-a6de-15c0cc0f006c",
     "prev": "72e8d6c2-984e-44c0-add4-b1ff3c9794ef",
     "regions": {
      "08dc49af-2f05-4d46-b160-06e52cd5435f": {
       "attrs": {
        "height": 0.8,
        "width": 0.8,
        "x": 0.1,
        "y": 0.1
       },
       "content": {
        "cell": "5fd864fc-cac9-4341-8fed-53d362562bf5",
        "part": "whole"
       },
       "id": "08dc49af-2f05-4d46-b160-06e52cd5435f"
      }
     }
    },
    "0cda629f-0704-4d9b-b076-5eae423b1118": {
     "id": "0cda629f-0704-4d9b-b076-5eae423b1118",
     "prev": "7407d16c-57e1-4b4e-b539-e52807060966",
     "regions": {
      "ecbe9d27-b62a-42d9-9c98-3814b6f3666d": {
       "attrs": {
        "height": 0.8,
        "width": 0.8,
        "x": 0.1,
        "y": 0.1
       },
       "content": {
        "cell": "789bc501-fe79-4c68-8069-6bf7525d8b6f",
        "part": "whole"
       },
       "id": "ecbe9d27-b62a-42d9-9c98-3814b6f3666d"
      }
     }
    },
    "18de16a5-2dc1-4dc3-b4d8-f6408a4334a5": {
     "id": "18de16a5-2dc1-4dc3-b4d8-f6408a4334a5",
     "prev": "51633b26-5e64-4ba9-819e-007bffe9158f",
     "regions": {
      "dacc5c2f-e4b6-4260-af3f-1ca3cbdc8f39": {
       "attrs": {
        "height": 0.8,
        "width": 0.8,
        "x": 0.1,
        "y": 0.1
       },
       "content": {
        "cell": "4ac63eb9-d0df-44b0-b1ba-7212d445f262",
        "part": "whole"
       },
       "id": "dacc5c2f-e4b6-4260-af3f-1ca3cbdc8f39"
      }
     }
    },
    "37148800-5ffa-4466-af63-be5e7126fd40": {
     "id": "37148800-5ffa-4466-af63-be5e7126fd40",
     "prev": "78afdbe1-0eae-4b94-8e33-b1aa2fa39b5c",
     "regions": {
      "6d8cee6d-2da4-44b2-97f8-fe5e231be584": {
       "attrs": {
        "height": 0.8,
        "width": 0.8,
        "x": 0.1,
        "y": 0.1
       },
       "content": {
        "cell": "fe0289ea-53e6-40a8-9dab-86375d151a02",
        "part": "whole"
       },
       "id": "6d8cee6d-2da4-44b2-97f8-fe5e231be584"
      }
     }
    },
    "44652aea-4320-4e86-a198-8d98d40b754a": {
     "id": "44652aea-4320-4e86-a198-8d98d40b754a",
     "prev": "4c8885e2-55fc-4fe0-9b7a-8f9680877b26",
     "regions": {
      "3276da47-c074-4ba2-9963-0aae6ae855ed": {
       "attrs": {
        "height": 0.8,
        "width": 0.8,
        "x": 0.1,
        "y": 0.1
       },
       "content": {
        "cell": "1cbc07a9-b8eb-4ef3-9ffc-51454a5481de",
        "part": "whole"
       },
       "id": "3276da47-c074-4ba2-9963-0aae6ae855ed"
      }
     }
    },
    "44b9ea6b-ac4a-4246-bd7a-19c792c3eaa9": {
     "id": "44b9ea6b-ac4a-4246-bd7a-19c792c3eaa9",
     "prev": "8f7f5669-1b6d-4fe0-9683-fed25f71faf3",
     "regions": {
      "ed680071-4dcf-44b0-b955-9bc0404cd0ec": {
       "attrs": {
        "height": 0.8,
        "width": 0.8,
        "x": 0.1,
        "y": 0.1
       },
       "content": {
        "cell": "730c59ad-bd44-4261-9e68-44ef5282feab",
        "part": "whole"
       },
       "id": "ed680071-4dcf-44b0-b955-9bc0404cd0ec"
      }
     }
    },
    "4b46a5ed-d80d-4945-b654-32b744f48ccc": {
     "id": "4b46a5ed-d80d-4945-b654-32b744f48ccc",
     "prev": "7fc7e185-33d7-4a8a-b726-7c56ffc2c100",
     "regions": {
      "059d92b7-7401-401b-bc75-71b3afa1b3b0": {
       "attrs": {
        "height": 0.8,
        "width": 0.8,
        "x": 0.1,
        "y": 0.1
       },
       "content": {
        "cell": "ed75d8a0-c7f7-418a-ba67-cc5adab8d499",
        "part": "whole"
       },
       "id": "059d92b7-7401-401b-bc75-71b3afa1b3b0"
      }
     }
    },
    "4c8885e2-55fc-4fe0-9b7a-8f9680877b26": {
     "id": "4c8885e2-55fc-4fe0-9b7a-8f9680877b26",
     "prev": "37148800-5ffa-4466-af63-be5e7126fd40",
     "regions": {
      "9b810cf3-4745-4537-93fd-f9a65a777ce4": {
       "attrs": {
        "height": 0.8,
        "width": 0.8,
        "x": 0.1,
        "y": 0.1
       },
       "content": {
        "cell": "d42c98fd-9cbb-4121-82b8-ae97bf9006f4",
        "part": "whole"
       },
       "id": "9b810cf3-4745-4537-93fd-f9a65a777ce4"
      }
     }
    },
    "51633b26-5e64-4ba9-819e-007bffe9158f": {
     "id": "51633b26-5e64-4ba9-819e-007bffe9158f",
     "prev": "55acd773-09cf-4904-a26b-53ad5c4e25d7",
     "regions": {
      "b735d58c-e7c3-4604-8793-8629d96278be": {
       "attrs": {
        "height": 0.8,
        "width": 0.8,
        "x": 0.1,
        "y": 0.1
       },
       "content": {
        "cell": "ae4ba65f-c454-42a3-9c76-5b5609e1d7c8",
        "part": "whole"
       },
       "id": "b735d58c-e7c3-4604-8793-8629d96278be"
      }
     }
    },
    "51f5ec48-8f0e-4846-b00f-99d05ad507f1": {
     "id": "51f5ec48-8f0e-4846-b00f-99d05ad507f1",
     "prev": "18de16a5-2dc1-4dc3-b4d8-f6408a4334a5",
     "regions": {
      "0c528dfa-6041-4c3a-8c98-11eeca36c814": {
       "attrs": {
        "height": 0.8,
        "width": 0.8,
        "x": 0.1,
        "y": 0.1
       },
       "content": {
        "cell": "02abc7ee-a260-4534-9284-fc4f9166f48c",
        "part": "whole"
       },
       "id": "0c528dfa-6041-4c3a-8c98-11eeca36c814"
      }
     }
    },
    "520554b3-0653-4e80-88bd-77f557764959": {
     "id": "520554b3-0653-4e80-88bd-77f557764959",
     "prev": "70d375e2-d145-4dcf-84ed-48a34d74756a",
     "regions": {
      "0ac851a4-236c-46e9-8c71-3380dfd8f84b": {
       "attrs": {
        "height": 0.8,
        "width": 0.8,
        "x": 0.1,
        "y": 0.1
       },
       "content": {
        "cell": "a01e1489-2afa-4bfc-90d9-7e56e983ded8",
        "part": "whole"
       },
       "id": "0ac851a4-236c-46e9-8c71-3380dfd8f84b"
      }
     }
    },
    "521e2be1-2010-4fb4-8f4d-086ac8cc6899": {
     "id": "521e2be1-2010-4fb4-8f4d-086ac8cc6899",
     "prev": "c5605d04-47c3-45b3-9ac9-8f0d0e716d28",
     "regions": {
      "347ecbd9-0a90-44dc-9486-16c7e108714d": {
       "attrs": {
        "height": 0.8,
        "width": 0.8,
        "x": 0.1,
        "y": 0.1
       },
       "content": {
        "cell": "9a407fde-3e7c-45db-bbdd-4d613c3b6f31",
        "part": "whole"
       },
       "id": "347ecbd9-0a90-44dc-9486-16c7e108714d"
      }
     }
    },
    "53d27ad5-582b-4b3e-b9c6-40fd7849fa02": {
     "id": "53d27ad5-582b-4b3e-b9c6-40fd7849fa02",
     "prev": "7db4359b-e98c-40fb-9dfd-c015ba3cb800",
     "regions": {
      "6def596c-6642-4fd1-b12d-66792ccf79ca": {
       "attrs": {
        "height": 0.8,
        "width": 0.8,
        "x": 0.1,
        "y": 0.1
       },
       "content": {
        "cell": "174d75b4-b7d1-479e-8e64-6e11d20b9812",
        "part": "whole"
       },
       "id": "6def596c-6642-4fd1-b12d-66792ccf79ca"
      }
     }
    },
    "55acd773-09cf-4904-a26b-53ad5c4e25d7": {
     "id": "55acd773-09cf-4904-a26b-53ad5c4e25d7",
     "prev": "99ae5be8-5f57-455b-8d95-66aa15faf09f",
     "regions": {
      "739644cc-fb07-47b2-90f2-55cab47a8d24": {
       "attrs": {
        "height": 0.8,
        "width": 0.8,
        "x": 0.1,
        "y": 0.1
       },
       "content": {
        "cell": "1b536408-d7e2-4a2f-b1ed-bfbb3fee20bd",
        "part": "whole"
       },
       "id": "739644cc-fb07-47b2-90f2-55cab47a8d24"
      }
     }
    },
    "70d375e2-d145-4dcf-84ed-48a34d74756a": {
     "id": "70d375e2-d145-4dcf-84ed-48a34d74756a",
     "prev": "53d27ad5-582b-4b3e-b9c6-40fd7849fa02",
     "regions": {
      "7d95c9c9-f394-4334-8374-31ca2381f92c": {
       "attrs": {
        "height": 0.8,
        "width": 0.8,
        "x": 0.1,
        "y": 0.1
       },
       "content": {
        "cell": "31a21b8f-d34c-4a3d-85fd-5b35528d84f8",
        "part": "whole"
       },
       "id": "7d95c9c9-f394-4334-8374-31ca2381f92c"
      }
     }
    },
    "72e8d6c2-984e-44c0-add4-b1ff3c9794ef": {
     "id": "72e8d6c2-984e-44c0-add4-b1ff3c9794ef",
     "prev": "a3a59cca-f19c-4799-8038-a0505d8d81f5",
     "regions": {
      "2518003a-3a53-4e0c-9e61-280e47bdac7d": {
       "attrs": {
        "height": 0.8,
        "width": 0.8,
        "x": 0.1,
        "y": 0.1
       },
       "content": {
        "cell": "0de94609-ff96-4394-a29f-fe1e187e6ec5",
        "part": "whole"
       },
       "id": "2518003a-3a53-4e0c-9e61-280e47bdac7d"
      }
     }
    },
    "734fded3-efcb-45a6-bbe4-08b7f4ad53b9": {
     "id": "734fded3-efcb-45a6-bbe4-08b7f4ad53b9",
     "prev": "ec0ec71d-cf39-4849-b4ea-87a4f60359aa",
     "regions": {
      "303a0805-827c-4b8c-b0bf-05c9adcecab4": {
       "attrs": {
        "height": 0.8,
        "width": 0.8,
        "x": 0.1,
        "y": 0.1
       },
       "content": {
        "cell": "b50cf153-d41c-408c-9381-927375ac3b83",
        "part": "whole"
       },
       "id": "303a0805-827c-4b8c-b0bf-05c9adcecab4"
      }
     }
    },
    "7407d16c-57e1-4b4e-b539-e52807060966": {
     "id": "7407d16c-57e1-4b4e-b539-e52807060966",
     "prev": "44b9ea6b-ac4a-4246-bd7a-19c792c3eaa9",
     "regions": {
      "d7f7618f-a0fb-4cc9-98ff-804039416ae4": {
       "attrs": {
        "height": 0.8,
        "width": 0.8,
        "x": 0.1,
        "y": 0.1
       },
       "content": {
        "cell": "cbc72205-ff75-459a-beb6-9afe20684bda",
        "part": "whole"
       },
       "id": "d7f7618f-a0fb-4cc9-98ff-804039416ae4"
      }
     }
    },
    "75ae3ce1-e527-4f8f-b955-fc154373a6b9": {
     "id": "75ae3ce1-e527-4f8f-b955-fc154373a6b9",
     "prev": "e843698e-001a-4bb1-8e83-3b28c2cda59d",
     "regions": {
      "f0b5d147-de82-4eb0-90c1-e7fac3be1893": {
       "attrs": {
        "height": 0.8,
        "width": 0.8,
        "x": 0.1,
        "y": 0.1
       },
       "content": {
        "cell": "a861e329-ea9b-421f-ae9c-9760073f69e5",
        "part": "whole"
       },
       "id": "f0b5d147-de82-4eb0-90c1-e7fac3be1893"
      }
     }
    },
    "78afdbe1-0eae-4b94-8e33-b1aa2fa39b5c": {
     "id": "78afdbe1-0eae-4b94-8e33-b1aa2fa39b5c",
     "prev": "00ee6165-9ade-4a6a-a6de-15c0cc0f006c",
     "regions": {
      "984b2624-c86c-4961-a92d-505efb0b0bb0": {
       "attrs": {
        "height": 0.8,
        "width": 0.8,
        "x": 0.1,
        "y": 0.1
       },
       "content": {
        "cell": "96545b4c-5871-4803-b5bf-0293f45c4e14",
        "part": "whole"
       },
       "id": "984b2624-c86c-4961-a92d-505efb0b0bb0"
      }
     }
    },
    "7db4359b-e98c-40fb-9dfd-c015ba3cb800": {
     "id": "7db4359b-e98c-40fb-9dfd-c015ba3cb800",
     "prev": "b3ef365f-9cb6-4171-8954-3d4a56136600",
     "regions": {
      "3cc0b33a-7689-4b2a-a9e5-18063a42076d": {
       "attrs": {
        "height": 0.8,
        "width": 0.8,
        "x": 0.1,
        "y": 0.1
       },
       "content": {
        "cell": "0d32b035-9ac8-448f-b14e-ab9f9adfaa18",
        "part": "whole"
       },
       "id": "3cc0b33a-7689-4b2a-a9e5-18063a42076d"
      }
     }
    },
    "7fc7e185-33d7-4a8a-b726-7c56ffc2c100": {
     "id": "7fc7e185-33d7-4a8a-b726-7c56ffc2c100",
     "prev": "a13bf186-9d55-40f8-befe-01d5b27cd47f",
     "regions": {
      "b68a5aa7-277d-43b0-8f2c-f8997731ac39": {
       "attrs": {
        "height": 0.8,
        "width": 0.8,
        "x": 0.1,
        "y": 0.1
       },
       "content": {
        "cell": "f741e37d-78d5-40b6-9ae1-5e1c605e7bfc",
        "part": "whole"
       },
       "id": "b68a5aa7-277d-43b0-8f2c-f8997731ac39"
      }
     }
    },
    "8c07aae5-af33-4c78-a800-21768498036c": {
     "id": "8c07aae5-af33-4c78-a800-21768498036c",
     "prev": "521e2be1-2010-4fb4-8f4d-086ac8cc6899",
     "regions": {
      "bd7a5424-23a2-4f4d-8095-ce446101b2ac": {
       "attrs": {
        "height": 0.8,
        "width": 0.8,
        "x": 0.1,
        "y": 0.1
       },
       "content": {
        "cell": "a2ec78e2-ea44-45b2-956e-e993255b83ae",
        "part": "whole"
       },
       "id": "bd7a5424-23a2-4f4d-8095-ce446101b2ac"
      }
     }
    },
    "8f7f5669-1b6d-4fe0-9683-fed25f71faf3": {
     "id": "8f7f5669-1b6d-4fe0-9683-fed25f71faf3",
     "prev": "b68b2675-a3d9-4cfc-9b72-12e8c6674480",
     "regions": {
      "ca40fe4f-a4d0-4ecf-9687-6a3bd28ecdb1": {
       "attrs": {
        "height": 0.8,
        "width": 0.8,
        "x": 0.1,
        "y": 0.1
       },
       "content": {
        "cell": "402c2f2b-78d0-4689-87fe-4ab4fe3e9e3c",
        "part": "whole"
       },
       "id": "ca40fe4f-a4d0-4ecf-9687-6a3bd28ecdb1"
      }
     }
    },
    "964a4f0e-a8be-433d-ba8a-0c9bd706f88d": {
     "id": "964a4f0e-a8be-433d-ba8a-0c9bd706f88d",
     "prev": "8c07aae5-af33-4c78-a800-21768498036c",
     "regions": {
      "d1cf83fa-436b-4263-89a1-0e1498d6bd92": {
       "attrs": {
        "height": 0.8,
        "width": 0.8,
        "x": 0.1,
        "y": 0.1
       },
       "content": {
        "cell": "dfa80671-16ae-4193-bc39-92f45580bf0e",
        "part": "whole"
       },
       "id": "d1cf83fa-436b-4263-89a1-0e1498d6bd92"
      }
     }
    },
    "99ae5be8-5f57-455b-8d95-66aa15faf09f": {
     "id": "99ae5be8-5f57-455b-8d95-66aa15faf09f",
     "prev": "a1f669e8-2307-4495-9358-89dce0e1af88",
     "regions": {
      "364447f4-6de2-43fd-b63f-dce0b5f4fe4c": {
       "attrs": {
        "height": 0.8,
        "width": 0.8,
        "x": 0.1,
        "y": 0.1
       },
       "content": {
        "cell": "d90f11f6-c837-4d6b-8f00-cfbd9d602694",
        "part": "whole"
       },
       "id": "364447f4-6de2-43fd-b63f-dce0b5f4fe4c"
      }
     }
    },
    "a13bf186-9d55-40f8-befe-01d5b27cd47f": {
     "id": "a13bf186-9d55-40f8-befe-01d5b27cd47f",
     "prev": "b6d2726f-d245-42b4-93d6-54b36d6ba855",
     "regions": {
      "4a3e2fd8-7381-4502-ad5e-130e2386de39": {
       "attrs": {
        "height": 0.8,
        "width": 0.8,
        "x": 0.1,
        "y": 0.1
       },
       "content": {
        "cell": "dfa09f31-f1f3-4e3a-a2cb-106e09093df4",
        "part": "whole"
       },
       "id": "4a3e2fd8-7381-4502-ad5e-130e2386de39"
      }
     }
    },
    "a1f669e8-2307-4495-9358-89dce0e1af88": {
     "id": "a1f669e8-2307-4495-9358-89dce0e1af88",
     "prev": "e3718057-5747-488c-810d-de66dddaa3f6",
     "regions": {
      "c955944c-921b-4bf6-88ea-b139bae1ead5": {
       "attrs": {
        "height": 0.8,
        "width": 0.8,
        "x": 0.1,
        "y": 0.1
       },
       "content": {
        "cell": "e4a2452e-7528-4e3d-8d1e-1ad3a91d14ee",
        "part": "whole"
       },
       "id": "c955944c-921b-4bf6-88ea-b139bae1ead5"
      }
     }
    },
    "a3a59cca-f19c-4799-8038-a0505d8d81f5": {
     "id": "a3a59cca-f19c-4799-8038-a0505d8d81f5",
     "prev": null,
     "regions": {
      "15e6cc3d-4342-4d81-9962-c50a141558b8": {
       "attrs": {
        "height": 0.8,
        "width": 0.8,
        "x": 0.1,
        "y": 0.1
       },
       "content": {
        "cell": "5ea15087-2ae9-4c8f-8286-c240a6825ce7",
        "part": "whole"
       },
       "id": "15e6cc3d-4342-4d81-9962-c50a141558b8"
      }
     }
    },
    "adbbc5f7-9438-44fe-bd1c-67f8b8d93f68": {
     "id": "adbbc5f7-9438-44fe-bd1c-67f8b8d93f68",
     "prev": "e0aeafd4-3b25-4f5f-a050-987eb5bfe264",
     "regions": {
      "b1285cb9-600f-45e9-8ad0-b0838c9d6ac1": {
       "attrs": {
        "height": 0.8,
        "width": 0.8,
        "x": 0.1,
        "y": 0.1
       },
       "content": {
        "cell": "8a12b525-f4f0-41f7-93f1-578a89fdcf05",
        "part": "whole"
       },
       "id": "b1285cb9-600f-45e9-8ad0-b0838c9d6ac1"
      }
     }
    },
    "b250c13b-edb5-46ed-af69-f2b01dfdf326": {
     "id": "b250c13b-edb5-46ed-af69-f2b01dfdf326",
     "prev": "e078ff20-8aee-4a17-8ba5-01d54441c2f8",
     "regions": {
      "dc444f5f-7d59-4de8-9424-f456a55eb7d1": {
       "attrs": {
        "height": 0.8,
        "width": 0.8,
        "x": 0.1,
        "y": 0.1
       },
       "content": {
        "cell": "c7f3a739-fbe5-4e16-a408-5128d643d22b",
        "part": "whole"
       },
       "id": "dc444f5f-7d59-4de8-9424-f456a55eb7d1"
      }
     }
    },
    "b3ef365f-9cb6-4171-8954-3d4a56136600": {
     "id": "b3ef365f-9cb6-4171-8954-3d4a56136600",
     "prev": "b250c13b-edb5-46ed-af69-f2b01dfdf326",
     "regions": {
      "f2991789-4068-49ef-add8-e9ba470b17c0": {
       "attrs": {
        "height": 0.8,
        "width": 0.8,
        "x": 0.1,
        "y": 0.1
       },
       "content": {
        "cell": "a72c8929-e7b4-41ba-8878-2e48593eaffd",
        "part": "whole"
       },
       "id": "f2991789-4068-49ef-add8-e9ba470b17c0"
      }
     }
    },
    "b68b2675-a3d9-4cfc-9b72-12e8c6674480": {
     "id": "b68b2675-a3d9-4cfc-9b72-12e8c6674480",
     "prev": "4b46a5ed-d80d-4945-b654-32b744f48ccc",
     "regions": {
      "7dbab845-b290-4132-8dcd-4cf5ee3c9b43": {
       "attrs": {
        "height": 0.8,
        "width": 0.8,
        "x": 0.1,
        "y": 0.1
       },
       "content": {
        "cell": "b00ca437-8e5b-40b5-aeb3-a11f0905927f",
        "part": "whole"
       },
       "id": "7dbab845-b290-4132-8dcd-4cf5ee3c9b43"
      }
     }
    },
    "b6d2726f-d245-42b4-93d6-54b36d6ba855": {
     "id": "b6d2726f-d245-42b4-93d6-54b36d6ba855",
     "prev": "75ae3ce1-e527-4f8f-b955-fc154373a6b9",
     "regions": {
      "3c868278-3682-4234-9e01-81d951aba001": {
       "attrs": {
        "height": 0.8,
        "width": 0.8,
        "x": 0.1,
        "y": 0.1
       },
       "content": {
        "cell": "b1d3434d-63a1-49d2-8eb6-0d7ead8e25b1",
        "part": "whole"
       },
       "id": "3c868278-3682-4234-9e01-81d951aba001"
      }
     }
    },
    "c5605d04-47c3-45b3-9ac9-8f0d0e716d28": {
     "id": "c5605d04-47c3-45b3-9ac9-8f0d0e716d28",
     "prev": "adbbc5f7-9438-44fe-bd1c-67f8b8d93f68",
     "regions": {
      "bea313b6-7c60-432e-a7ff-e8db59fae477": {
       "attrs": {
        "height": 0.8,
        "width": 0.8,
        "x": 0.1,
        "y": 0.1
       },
       "content": {
        "cell": "4ca31d12-e0f9-473f-9b96-d8a42a9b3ad9",
        "part": "whole"
       },
       "id": "bea313b6-7c60-432e-a7ff-e8db59fae477"
      }
     }
    },
    "c8486774-48a3-4ecf-8bec-51b0ea9f379e": {
     "id": "c8486774-48a3-4ecf-8bec-51b0ea9f379e",
     "prev": "964a4f0e-a8be-433d-ba8a-0c9bd706f88d",
     "regions": {
      "9a73edd6-763a-4352-aa07-e4f917cc046a": {
       "attrs": {
        "height": 0.8,
        "width": 0.8,
        "x": 0.1,
        "y": 0.1
       },
       "content": {
        "cell": "2350d87f-b44a-406c-a814-e2b5770bed85",
        "part": "whole"
       },
       "id": "9a73edd6-763a-4352-aa07-e4f917cc046a"
      }
     }
    },
    "e078ff20-8aee-4a17-8ba5-01d54441c2f8": {
     "id": "e078ff20-8aee-4a17-8ba5-01d54441c2f8",
     "prev": "51f5ec48-8f0e-4846-b00f-99d05ad507f1",
     "regions": {
      "a4f224ad-afc9-4807-9815-ccaa5f8937cc": {
       "attrs": {
        "height": 0.8,
        "width": 0.8,
        "x": 0.1,
        "y": 0.1
       },
       "content": {
        "cell": "89e67425-9add-4b86-9b07-b74177becc8b",
        "part": "whole"
       },
       "id": "a4f224ad-afc9-4807-9815-ccaa5f8937cc"
      }
     }
    },
    "e0aeafd4-3b25-4f5f-a050-987eb5bfe264": {
     "id": "e0aeafd4-3b25-4f5f-a050-987eb5bfe264",
     "prev": "734fded3-efcb-45a6-bbe4-08b7f4ad53b9",
     "regions": {
      "6957bc7b-e71c-4911-a5a0-c1ed7df509ea": {
       "attrs": {
        "height": 0.8,
        "width": 0.8,
        "x": 0.1,
        "y": 0.1
       },
       "content": {
        "cell": "f1cf99e6-9744-4c86-981c-6f787294afff",
        "part": "whole"
       },
       "id": "6957bc7b-e71c-4911-a5a0-c1ed7df509ea"
      }
     }
    },
    "e3718057-5747-488c-810d-de66dddaa3f6": {
     "id": "e3718057-5747-488c-810d-de66dddaa3f6",
     "prev": "e6da59cf-2f91-49a8-98d0-3c0700de93d8",
     "regions": {
      "5812e623-ac22-44ed-bd22-43b585e87362": {
       "attrs": {
        "height": 0.8,
        "width": 0.8,
        "x": 0.1,
        "y": 0.1
       },
       "content": {
        "cell": "a1c4533e-5ff4-4016-9325-f37f22d88a87",
        "part": "whole"
       },
       "id": "5812e623-ac22-44ed-bd22-43b585e87362"
      }
     }
    },
    "e6da59cf-2f91-49a8-98d0-3c0700de93d8": {
     "id": "e6da59cf-2f91-49a8-98d0-3c0700de93d8",
     "prev": "fd372619-f041-4916-a5e2-c6cf61055d74",
     "regions": {
      "c39f06eb-fce9-4979-a590-31e906a6f8df": {
       "attrs": {
        "height": 0.8,
        "width": 0.8,
        "x": 0.1,
        "y": 0.1
       },
       "content": {
        "cell": "4d03c9fd-67a8-4b58-9090-cf970245579d",
        "part": "whole"
       },
       "id": "c39f06eb-fce9-4979-a590-31e906a6f8df"
      }
     }
    },
    "e843698e-001a-4bb1-8e83-3b28c2cda59d": {
     "id": "e843698e-001a-4bb1-8e83-3b28c2cda59d",
     "prev": "520554b3-0653-4e80-88bd-77f557764959",
     "regions": {
      "bb81b0e9-7743-460f-94e1-c117bfe328f0": {
       "attrs": {
        "height": 0.8,
        "width": 0.8,
        "x": 0.1,
        "y": 0.1
       },
       "content": {
        "cell": "f347ffad-7c9e-47fd-8655-80fdcdc957eb",
        "part": "whole"
       },
       "id": "bb81b0e9-7743-460f-94e1-c117bfe328f0"
      }
     }
    },
    "ec0ec71d-cf39-4849-b4ea-87a4f60359aa": {
     "id": "ec0ec71d-cf39-4849-b4ea-87a4f60359aa",
     "prev": "44652aea-4320-4e86-a198-8d98d40b754a",
     "regions": {
      "3695e9dd-ca7f-430b-89f5-534ba8689807": {
       "attrs": {
        "height": 0.8,
        "width": 0.8,
        "x": 0.1,
        "y": 0.1
       },
       "content": {
        "cell": "3be244e5-df11-4b65-b9b6-62f17f419426",
        "part": "whole"
       },
       "id": "3695e9dd-ca7f-430b-89f5-534ba8689807"
      }
     }
    },
    "fd372619-f041-4916-a5e2-c6cf61055d74": {
     "id": "fd372619-f041-4916-a5e2-c6cf61055d74",
     "prev": "c8486774-48a3-4ecf-8bec-51b0ea9f379e",
     "regions": {
      "96c7e49f-c6d1-4aa8-93a6-b26c67801140": {
       "attrs": {
        "height": 0.8,
        "width": 0.8,
        "x": 0.1,
        "y": 0.1
       },
       "content": {
        "cell": "2b427c90-7c0e-47d4-b83b-036d17c51267",
        "part": "whole"
       },
       "id": "96c7e49f-c6d1-4aa8-93a6-b26c67801140"
      }
     }
    }
   },
   "themes": {
    "default": "4b3fd9da-39a2-47bb-8f43-a24ed1c5b69a",
    "theme": {
     "4b3fd9da-39a2-47bb-8f43-a24ed1c5b69a": {
      "id": "4b3fd9da-39a2-47bb-8f43-a24ed1c5b69a",
      "palette": {
       "19cc588f-0593-49c9-9f4b-e4d7cc113b1c": {
        "id": "19cc588f-0593-49c9-9f4b-e4d7cc113b1c",
        "rgb": [
         252,
         252,
         252
        ]
       },
       "31af15d2-7e15-44c5-ab5e-e04b16a89eff": {
        "id": "31af15d2-7e15-44c5-ab5e-e04b16a89eff",
        "rgb": [
         68,
         68,
         68
        ]
       },
       "50f92c45-a630-455b-aec3-788680ec7410": {
        "id": "50f92c45-a630-455b-aec3-788680ec7410",
        "rgb": [
         155,
         177,
         192
        ]
       },
       "c5cc3653-2ee1-402a-aba2-7caae1da4f6c": {
        "id": "c5cc3653-2ee1-402a-aba2-7caae1da4f6c",
        "rgb": [
         43,
         126,
         184
        ]
       },
       "efa7f048-9acb-414c-8b04-a26811511a21": {
        "id": "efa7f048-9acb-414c-8b04-a26811511a21",
        "rgb": [
         25.118061674008803,
         73.60176211453744,
         107.4819383259912
        ]
       }
      },
      "rules": {
       "blockquote": {
        "color": "50f92c45-a630-455b-aec3-788680ec7410"
       },
       "code": {
        "font-family": "Anonymous Pro"
       },
       "h1": {
        "color": "c5cc3653-2ee1-402a-aba2-7caae1da4f6c",
        "font-family": "Lato",
        "font-size": 8
       },
       "h2": {
        "color": "c5cc3653-2ee1-402a-aba2-7caae1da4f6c",
        "font-family": "Lato",
        "font-size": 6
       },
       "h3": {
        "color": "50f92c45-a630-455b-aec3-788680ec7410",
        "font-family": "Lato",
        "font-size": 5.5
       },
       "h4": {
        "color": "c5cc3653-2ee1-402a-aba2-7caae1da4f6c",
        "font-family": "Lato",
        "font-size": 5
       },
       "h5": {
        "font-family": "Lato"
       },
       "h6": {
        "font-family": "Lato"
       },
       "h7": {
        "font-family": "Lato"
       },
       "pre": {
        "font-family": "Anonymous Pro",
        "font-size": 4
       }
      },
      "text-base": {
       "font-family": "Merriweather",
       "font-size": 4
      }
     }
    }
   }
  }
 },
 "nbformat": 4,
 "nbformat_minor": 1
}
