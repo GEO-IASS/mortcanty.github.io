{
 "cells": [
  {
   "cell_type": "markdown",
   "metadata": {
    "nbpresent": {
     "id": "5ea15087-2ae9-4c8f-8286-c240a6825ce7"
    }
   },
   "source": [
    "# Statistics for Data Analysis\n",
    "## Mort Canty\n",
    "## mort.canty@gmail.com\n",
    "## November, 2016\n",
    "$$ \\def\\pr{\\hbox{Pr}}\n",
    "\\def\\var{\\hbox{var}}\n",
    "\\def\\cov{\\hbox{cov}}\n",
    "\\def\\corr{\\hbox{corr}}\n",
    "\\def\\dmX{\\un{\\mathcal{X}}}\n",
    "\\def\\dmG{\\un{\\mathcal{G}}}\n",
    "\\def\\dmK{\\un{\\mathcal{K}}}\n",
    "\\def\\dmS{\\un{\\mathcal{S}}}\n",
    "\\def\\dmC{\\un{\\mathcal{C}}}\n",
    "\\def\\dmZ{\\un{\\mathcal{Z}}}\n",
    "\\def\\bma{{\\mbox{\\boldmath $\\alpha$}}}\n",
    "\\def\\bmb{{\\mbox{\\boldmath $\\beta$}}}\n",
    "\\def\\bmu{{\\mbox{\\boldmath $\\mu$}}}\n",
    "\\def\\bme{{\\mbox{\\boldmath $\\epsilon$}}}\n",
    "\\def\\bmS{{\\mbox{\\boldmath $\\Sigma$}}}\n",
    "\\def\\bmL{{\\mbox{\\boldmath $\\Lambda$}}}\n",
    "\\def\\bmd{{\\mbox{\\boldmath $\\delta$}}}\n",
    "\\def\\bmD{{\\mbox{\\boldmath $\\Delta$}}}\n",
    "\\def\\bmG{{\\mbox{\\boldmath $\\Gamma$}}}\n",
    "\\def\\bmphi{{\\mbox{\\boldmath $\\phi$}}}\n",
    "\\def\\bmPhi{{\\mbox{\\boldmath $\\Phi$}}}\n",
    "\\def\\bmpsi{{\\mbox{\\boldmath $\\psi$}}}\n",
    "\\def\\bmtheta{{\\mbox{\\boldmath $\\theta$}}}\n",
    "\\def\\eq{\\begin{equation}}\n",
    "\\def\\eeq{\\end{equation}}\n",
    "\\def\\i{{\\bf i}}\n",
    "\\def\\un#1{{\\bf #1}}$$"
   ]
  },
  {
   "cell_type": "markdown",
   "metadata": {
    "nbpresent": {
     "id": "0de94609-ff96-4394-a29f-fe1e187e6ec5"
    }
   },
   "source": [
    "<span>**Topics:**</span>\n",
    "\n",
    "-   Vectors and matrices\n",
    "\n",
    "-   Random variables\n",
    "\n",
    "-   Point and interval parameter estimation\n",
    "\n",
    "-   Multivariate statistics\n",
    "\n",
    "-   Linear regression\n",
    "\n",
    "-   Multiple linear regression, Kalman filter\n",
    "\n",
    "-   Hypothesis Testing\n",
    "\n",
    "-   Data assimilation\n",
    "\n",
    "-   Spatial statistics"
   ]
  },
  {
   "cell_type": "markdown",
   "metadata": {
    "nbpresent": {
     "id": "5fd864fc-cac9-4341-8fed-53d362562bf5"
    }
   },
   "source": [
    "<span>**References:**</span>\n",
    "\n",
    "J. E. Freund (2003), <span>*Mathematical Statistics with\n",
    "Applications*</span>, 7th Ed., Prentice Hall.\n",
    "\n",
    "K. V. Mardia et al. (1979), <span>*Multivariate Analysis*</span>,\n",
    "Academic Press.\n",
    "\n",
    "M. J. Canty (2014), <span>*Image Analysis, Classification and Change\n",
    "Detection in Remote Sensing*</span>, 3rd Ed., Taylor and Francis\n",
    "\n",
    "<span>**Course Material:**</span>\n",
    "\n",
    "http://mortcanty.github.io/src/stats2016.html\n"
   ]
  },
  {
   "cell_type": "markdown",
   "metadata": {
    "nbpresent": {
     "id": "96545b4c-5871-4803-b5bf-0293f45c4e14"
    }
   },
   "source": [
    "## Part 1. Vectors and Matrices\n",
    "\n",
    "\n",
    "The <span>*sum*</span> of two column vectors is given by\n",
    "$$\\un x + \\un y = \\pmatrix{x_1\\cr x_2}+\\pmatrix{y_1\\cr y_2}=\\pmatrix{x_1+y_1\\cr x_2+y_2},$$\n",
    "and their <span>*inner product*</span> by\n",
    "$$\\un x^\\top \\un y =(x_1,x_2) \\pmatrix{y_1\\cr y_2}=x_1y_1+x_2y_2.$$ The\n",
    "<span>*length*</span> or <span>*(2-)norm*</span> of the vector $\\un x$\n",
    "is $$\\|\\un x\\| = \\sqrt{x_1^2+x_2^2} = \\sqrt{\\un x^\\top \\un x}\\ .$$"
   ]
  },
  {
   "cell_type": "markdown",
   "metadata": {
    "nbpresent": {
     "id": "fe0289ea-53e6-40a8-9dab-86375d151a02"
    }
   },
   "source": [
    "The inner product can be written as\n",
    "$$\\un x^\\top \\un y = \\|\\un x\\|\\|\\un y\\|\\cos(\\theta)$$ \n",
    "\n",
    "where $\\theta$ is\n",
    "the angle subtended by $\\un x$ and $\\un y$. If $\\theta=\\pi/2$ then the\n",
    "vectors are <span>*orthogonal*</span>."
   ]
  },
  {
   "cell_type": "markdown",
   "metadata": {
    "nbpresent": {
     "id": "d42c98fd-9cbb-4121-82b8-ae97bf9006f4"
    }
   },
   "source": [
    "The product of two $2\\times 2$ matrices is given by \n",
    "\n",
    "$$\\eqalign{\n",
    "\\un A \\un B &=\\pmatrix{a_{11} & a_{12}\\cr a_{21}&a_{22}} \\pmatrix{b_{11} & b_{12}\\cr b_{21}& b_{22}}\\cr\n",
    "&=\\pmatrix{a_{11}b_{11}+a_{12}b_{21} & a_{11}b_{12}+a_{12}b_{22}\\cr a_{21}b_{11}+a_{22}b_{21} & a_{21}b_{12}+a_{22}b_{22}}}$$\n",
    "\n",
    "The matrix product $\\un A\\un B$ is allowed whenever $\\un A$ has the same\n",
    "number of columns as $\\un B$ has rows. \n",
    "\n"
   ]
  },
  {
   "cell_type": "markdown",
   "metadata": {
    "nbpresent": {
     "id": "1cbc07a9-b8eb-4ef3-9ffc-51454a5481de"
    }
   },
   "source": [
    "So if $\\un A$ has dimension\n",
    "$\\ell\\times m$ and $\\un B$ has dimension $m\\times n$, then $\\un A\\un B$\n",
    "is $\\ell\\times n$ with elements\n",
    "\n",
    "$$(\\un A\\un B)_{ij} = \\sum_{k=1}^m a_{ik}b_{kj}\\quad i=1\\dots \\ell,\\ j=1\\dots n.$$\n",
    "\n",
    "Matrix multiplication is not <span>*commutative*</span>, i.e.\n",
    "$\\un A\\un B\\ne\\un B\\un A$ in general. However it is\n",
    "<span>*associative*</span>:\n",
    "\n",
    "$$(\\un A\\un B)\\un C = \\un A(\\un B\\un C)= \\un A \\un B \\un C. \\tag 1 $$ "
   ]
  },
  {
   "cell_type": "markdown",
   "metadata": {
    "nbpresent": {
     "id": "3be244e5-df11-4b65-b9b6-62f17f419426"
    }
   },
   "source": [
    "The\n",
    "<span>*outer product*</span> of two vectors of equal length, written\n",
    "$\\un x \\un y^\\top$, is a matrix, e.g.,\n",
    "\n",
    "$$\\un x \\un y^\\top = \\pmatrix{x_1\\cr x_2} (y_1, y_2)= \\pmatrix{x_1&0\\cr x_2&0} \\pmatrix{y_1&y_2\\cr0&0}\n",
    "=\\pmatrix{x_1y_1&x_1y_2\\cr x_2y_1&x_2y_2}.$$\n"
   ]
  },
  {
   "cell_type": "code",
   "execution_count": 1,
   "metadata": {
    "collapsed": false,
    "nbpresent": {
     "id": "b50cf153-d41c-408c-9381-927375ac3b83"
    }
   },
   "outputs": [
    {
     "name": "stdout",
     "output_type": "stream",
     "text": [
      "[[ 0.08474233]\n",
      " [ 0.69916474]\n",
      " [ 0.37698698]]\n",
      "\n",
      "[[ 0.00718126  0.05924885  0.03194676]\n",
      " [ 0.05924885  0.48883133  0.26357601]\n",
      " [ 0.03194676  0.26357601  0.14211919]]\n",
      "\n",
      "5.92669364638e-36\n"
     ]
    }
   ],
   "source": [
    "from numpy import *\n",
    "\n",
    "A = mat(random.rand(3,1))\n",
    "print A\n",
    "print\n",
    "B = A*A.T\n",
    "print B\n",
    "print\n",
    "print linalg.det(B)\n"
   ]
  },
  {
   "cell_type": "markdown",
   "metadata": {
    "nbpresent": {
     "id": "f1cf99e6-9744-4c86-981c-6f787294afff"
    }
   },
   "source": [
    "Matrices, like vectors, have a transposed form, obtained by\n",
    "interchanging their rows and columns.\n",
    "\n",
    "$$\\un A = \\pmatrix{a_{11} & a_{12}\\cr a_{21}&a_{22}},\\quad\\un A^\\top = \\pmatrix{a_{11} & a_{21}\\cr a_{12}&a_{22}}.$$\n",
    "\n",
    "Transposition has the properties $$\\eqalign{\n",
    "(\\un A+\\un B)^\\top &= \\un A^\\top + \\un B^\\top\\cr\n",
    "(\\un A\\un B)^\\top  &= \\un B^\\top\\un A^\\top.}\\tag 2$$ \n",
    "\n"
   ]
  },
  {
   "cell_type": "markdown",
   "metadata": {
    "nbpresent": {
     "id": "8a12b525-f4f0-41f7-93f1-578a89fdcf05"
    }
   },
   "source": [
    "The determinant of\n",
    "a $2\\times 2$ matrix is given by\n",
    "\n",
    "$$|\\un A| = a_{11}a_{22}-a_{12}a_{21}.$$ \n",
    "\n",
    "The determinant has the\n",
    "properties $$\\eqalign{\n",
    "|\\un A\\un B| &= |\\un A| |\\un B| \\cr\n",
    "|\\un A^\\top| &= |\\un A|.}\\tag 3$$"
   ]
  },
  {
   "cell_type": "markdown",
   "metadata": {
    "collapsed": true,
    "nbpresent": {
     "id": "4ca31d12-e0f9-473f-9b96-d8a42a9b3ad9"
    }
   },
   "source": [
    "The $2\\times 2$ <span>*identity matrix*</span> is\n",
    "\n",
    "$$\\un I = \\pmatrix{1&0\\cr 0&1},$$ \n",
    "\n",
    "and for any $\\un A$,\n",
    "\n",
    "$$\\un I \\un A = \\un A \\un I= \\un A.$$ \n"
   ]
  },
  {
   "cell_type": "markdown",
   "metadata": {
    "nbpresent": {
     "id": "9a407fde-3e7c-45db-bbdd-4d613c3b6f31"
    }
   },
   "source": [
    "The <span>*matrix inverse*</span>\n",
    "$\\un A^{-1}$ of a square matrix $\\un A$ is defined in terms of the\n",
    "identity matrix: $$\\un A^{-1} \\un A = \\un A \\un A^{-1} = \\un I.$$ \n",
    "\n",
    "For\n",
    "example:\n",
    "\n",
    "$$\\un A^{-1}={1\\over |\\un A|}\\pmatrix{a_{22}& -a_{12}\\cr -a_{21}&a_{11}}.$$\n"
   ]
  },
  {
   "cell_type": "markdown",
   "metadata": {
    "nbpresent": {
     "id": "a2ec78e2-ea44-45b2-956e-e993255b83ae"
    }
   },
   "source": [
    "The matrix inverse has the properties \n",
    "$$\\eqalign{\n",
    "(\\un A\\un B)^{-1} &= \\un B^{-1}\\un A^{-1}\\cr\n",
    "(\\un A^{-1})^\\top &= (\\un A^\\top)^{-1}.}\\tag 4$$ \n",
    "\n",
    "If the transpose of a square\n",
    "matrix is its inverse, i.e.,\n",
    "\n",
    "$$\\un A^\\top\\un A = \\un A\\un A^\\top = \\un I,\\tag 5$$ \n",
    "\n",
    "then it is referred to as\n",
    "an <span>*orthonormal matrix*</span>. \n"
   ]
  },
  {
   "cell_type": "markdown",
   "metadata": {
    "nbpresent": {
     "id": "dfa80671-16ae-4193-bc39-92f45580bf0e"
    }
   },
   "source": [
    "The <span>*trace*</span> of\n",
    "a square matrix is the sum of its diagonal elements:\n",
    "\n",
    "$${\\rm tr}\\ \\un A = a_{11}+a_{22}.$$ \n",
    "\n",
    "\n",
    "The trace has the properties\n",
    "$$\\eqalign{\n",
    "{\\rm tr}(\\un A + \\un B) &= {\\rm tr} \\un A + {\\rm tr} \\un B \\cr\n",
    "{\\rm tr}(\\un A\\un B) &= {\\rm tr}(\\un B\\un A).\\tag 6}$$"
   ]
  },
  {
   "cell_type": "code",
   "execution_count": null,
   "metadata": {
    "collapsed": false,
    "nbpresent": {
     "id": "2350d87f-b44a-406c-a814-e2b5770bed85"
    }
   },
   "outputs": [],
   "source": [
    "C = mat(random.rand(3,3))\n",
    "print C.I*C\n",
    "print trace(C.I*C)"
   ]
  },
  {
   "cell_type": "code",
   "execution_count": null,
   "metadata": {
    "collapsed": false,
    "nbpresent": {
     "id": "2b427c90-7c0e-47d4-b83b-036d17c51267"
    }
   },
   "outputs": [],
   "source": [
    "print B.I"
   ]
  },
  {
   "cell_type": "markdown",
   "metadata": {
    "nbpresent": {
     "id": "4d03c9fd-67a8-4b58-9090-cf970245579d"
    }
   },
   "source": [
    "The $p\\times p$ matrix $\\un A$ is <span>*symmetric*</span> if\n",
    "\n",
    "$$\\un A^\\top = \\un A.$$\n",
    "\n",
    "The $p\\times p$ symmetric matrix $\\un A$\n",
    "is <span>*positive definite*</span> if\n",
    "\n",
    "$$\\un x^\\top\\un A\\un x > 0\\quad\\hbox{for all }p\\hbox{-dimensional vectors } \\un x.$$\n",
    "\n",
    "The expression $\\un x^\\top\\un A\\un x$ is called a <span>*quadratic\n",
    "form*</span>.\n"
   ]
  },
  {
   "cell_type": "markdown",
   "metadata": {
    "nbpresent": {
     "id": "a1c4533e-5ff4-4016-9325-f37f22d88a87"
    }
   },
   "source": [
    "<span>**Exercise 1:**</span> Prove with the help of (6) that\n",
    "$\\un x^\\top\\un A\\un x = {\\rm tr}(\\un A \\un x\\un x^\\top)$.\n",
    "\n",
    "<span>*Cholesky decomposition*</span>: If $\\un A$ is symmetric positive\n",
    "definite, there exists a lower triangular matrix $\\un L$ such that\n",
    "$$A = \\un L\\un L^\\top.$$"
   ]
  },
  {
   "cell_type": "code",
   "execution_count": null,
   "metadata": {
    "collapsed": false,
    "nbpresent": {
     "id": "e4a2452e-7528-4e3d-8d1e-1ad3a91d14ee"
    }
   },
   "outputs": [],
   "source": [
    "# symmetric positive definite matrix\n",
    "C = mat(random.rand(100,3))\n",
    "S = C.T*C/100\n",
    "print S\n",
    "print\n",
    "L = linalg.cholesky(S)\n",
    "print L\n",
    "print\n",
    "print L*L.T"
   ]
  },
  {
   "cell_type": "markdown",
   "metadata": {
    "nbpresent": {
     "id": "d90f11f6-c837-4d6b-8f00-cfbd9d602694"
    }
   },
   "source": [
    "If $|\\un A|=0$, then $\\un A$ has no inverse and is said to be a\n",
    "<span>*singular matrix*</span>. If $\\un A$ is\n",
    "<span>*nonsingular*</span>, then the equation \n",
    "\n",
    "$$ \\un A \\un x = \\un 0 $$ \n",
    "\n",
    "only has the <span>*trivial solution*</span> $\\un x=\\un 0$. \n",
    "Thus, if $\\un A$ is non-singular and $\\un A\\un x = \\un 0$,\n",
    "\n",
    "$$\n",
    "\\un A^{-1}\\un A\\un x = \\un I\\un x = \\un x = \\un 0.\n",
    "$$\n",
    "\n",
    "\n",
    "If $\\un A$ is\n",
    "singular, the equation has at least one <span>*nontrivial\n",
    "solution*</span> $\\un x \\ne \\un 0$."
   ]
  },
  {
   "cell_type": "markdown",
   "metadata": {
    "nbpresent": {
     "id": "43dcf09a-0e14-44fb-9ab0-7b5eff7f553f"
    }
   },
   "source": [
    "A set of vectors $\\un x_1\\dots \\un x_r$ is said to be <span>*linearly\n",
    "dependent*</span> if there exists a set of scalars $c_1\\dots c_r$, not\n",
    "all of which are zero, such that $$\\sum_{i=1}^r c_i\\un x_i = \\un 0.$$\n",
    "Otherwise they are <span>*linearly independent*</span>.\n",
    "\n",
    "A matrix\n",
    "is said to have <span>*rank*</span> $r$ if the maximum number of\n",
    "linearly independent columns is $r$."
   ]
  },
  {
   "cell_type": "markdown",
   "metadata": {
    "nbpresent": {
     "id": "1b536408-d7e2-4a2f-b1ed-bfbb3fee20bd"
    }
   },
   "source": [
    "<span>**Eigenvalues and eigenvectors**</span>\n",
    "\n",
    "An <span>*eigenvalue problem*</span>: Find <span>*eigenvectors*</span>\n",
    "$\\un x$ and <span>*eigenvalues*</span> $\\lambda$ that satisfy the\n",
    "equation \n",
    "\n",
    "$$\\un A \\un x = \\lambda \\un x,\\tag 7$$ \n",
    "\n",
    "where $\\un A$ is a symmetric\n",
    "and positive definite matrix. This can be written equivalently as\n",
    "\n",
    "$$(\\un A-\\lambda\\un I)\\un x = \\un 0,$$\n",
    "\n",
    "so for a nontrivial solution we\n",
    "must have\n",
    "\n",
    "$$|\\un A-\\lambda\\un I| = 0.$$\n",
    "\n",
    "This is called the\n",
    "<span>*characteristic equation*</span>. If $\\un x$ has dimension $N$,\n",
    "then the characteristic equation has $N$ solutions $\\lambda_i$,\n",
    "$i=1\\dots N$. Correspondingly there are $N$ eigenvectors\n",
    "$\\un x=\\un x^{(i)}$, $i=1\\dots N$."
   ]
  },
  {
   "cell_type": "markdown",
   "metadata": {
    "collapsed": true,
    "nbpresent": {
     "id": "ae4ba65f-c454-42a3-9c76-5b5609e1d7c8"
    }
   },
   "source": [
    "<span>**Example:**</span> A $2\\times 2$ matrix eigenvalue problem, $\\un A\\un x = \\lambda \\un x$,\n",
    "The characteristic equation is\n",
    "\n",
    "$$(a_{11}-\\lambda)(a_{22}-\\lambda)-a^2_{12} = 0.$$ \n",
    "\n",
    "This is a quadratic\n",
    "equation in $\\lambda$ with solutions \n",
    "\n",
    "$$\\eqalign{\n",
    "\\lambda^{(1)} & = {1\\over 2}\\left( a_{11}+a_{22} +\\sqrt{(a_{11}+a_{22})^2-4(a_{11}a_{22}-a_{12}^2)}\\right)\\cr\n",
    "\\lambda^{(2)} & = {1\\over 2}\\left( a_{11}+a_{22} -\\sqrt{(a_{11}+a_{22})^2-4(a_{11}a_{22}-a_{12}^2)}\\right).}$$\n"
   ]
  },
  {
   "cell_type": "markdown",
   "metadata": {
    "nbpresent": {
     "id": "e3a5eb66-28f0-4bc8-8fe4-666df0c9f085"
    }
   },
   "source": [
    "Thus there are two eigenvalues and, correspondingly, two eigenvectors\n",
    "\n",
    "$$\\un x^{(1)},\\quad\\un x^{(2)}.$$ \n",
    "\n",
    "The eigenvectors can be obtained by\n",
    "first substituting $\\lambda^{(1)}$ and then $\\lambda^{(2)}$ into\n",
    "Equation (7) and solving for $x_1$ and $x_2$ each time.\n",
    "\n",
    "<span>**Exercise 2:**</span> Show that the eigenvectors are orthogonal,\n",
    "$$(\\un x^{(1)})^\\top \\un x^{(2)} = 0.$$"
   ]
  },
  {
   "cell_type": "markdown",
   "metadata": {
    "nbpresent": {
     "id": "4ac63eb9-d0df-44b0-b1ba-7212d445f262"
    }
   },
   "source": [
    "The eigenvectors can be always chosen to have unit length,\n",
    "\n",
    "$$\\|\\un x^{(1)}\\| = \\|\\un x^{(2)}\\| = 1.$$\n",
    "\n",
    "The matrix formed by\n",
    "two eigenvectors, for instance\n",
    "$$\\un U =(\\un x^{(1)},\\un x^{(2)}) = \\pmatrix{x^{(1)}_1 & x^{(2)}_1\\cr x^{(1)}_2 & x^{(2)}_2},$$\n",
    "is orthonormal: $$\\un U^\\top\\un U = \\un I$$ and is said to\n",
    "<span>*diagonalize*</span> the matrix $\\un A$:\n",
    "$$\\un U^\\top \\un A \\un U = \\pmatrix{\\lambda^{(1)} & 0\\cr 0 & \\lambda^{(2)}} = \\bf\\Lambda,\\tag 8$$"
   ]
  },
  {
   "cell_type": "code",
   "execution_count": null,
   "metadata": {
    "collapsed": false,
    "nbpresent": {
     "id": "02abc7ee-a260-4534-9284-fc4f9166f48c"
    }
   },
   "outputs": [],
   "source": [
    "lmda,U = linalg.eig(S)\n",
    "print lmda\n",
    "print\n",
    "print U\n",
    "print\n",
    "print U.T*U\n",
    "print\n",
    "print U.T*S*U"
   ]
  },
  {
   "cell_type": "markdown",
   "metadata": {
    "nbpresent": {
     "id": "89e67425-9add-4b86-9b07-b74177becc8b"
    }
   },
   "source": [
    "<span>**Singular value decomposition (SVD)**</span>\n",
    "\n",
    "Simply by rewriting (8), we get a special form of <span>*singular value\n",
    "decomposition*</span> (SVD) for symmetric matrices:\n",
    "\n",
    "$$\\un A = \\un U\\bf\\Lambda\\un U^\\top.$$ \n",
    "\n",
    "This says that any symmetric matrix\n",
    "$\\un A$ can be factored into the product of an orthonormal matrix\n",
    "$\\un U$ times a diagonal matrix $\\bf\\Lambda$ times the transpose of $\\un U$\n",
    "(also called the <span>*eigen-decomposition of $\\un A$*</span>).  It can be written in the form\n",
    "\n",
    "$$\n",
    "\\un A = \\sum_{i=1}^n \\lambda_i\\un x^{(i)}\\un x^{(i)\\top}.\n",
    "$$\n"
   ]
  },
  {
   "cell_type": "markdown",
   "metadata": {
    "nbpresent": {
     "id": "c7f3a739-fbe5-4e16-a408-5128d643d22b"
    }
   },
   "source": [
    "The SVD of a general $m\\times n$ matrix $\\un A$ with $m>n$ is\n",
    "$$\\un A = \\un U\\un W \\un V^\\top$$ where $\\un U$ is $m\\times n$ with\n",
    "$\\un U^\\top\\un U = \\un I_n$, $$\\un W = \\pmatrix{w_1  & \\cdots & 0 \\cr\n",
    "                 \\vdots  &\\vdots &\\vdots\\cr\n",
    "                 0  &\\cdots & w_n}$$ and $\\un V$ is $n\\times n$ with\n",
    "$\\un V^\\top\\un V = \\un V\\un V^\\top = \\un I_n$"
   ]
  },
  {
   "cell_type": "code",
   "execution_count": null,
   "metadata": {
    "collapsed": false,
    "nbpresent": {
     "id": "a72c8929-e7b4-41ba-8878-2e48593eaffd"
    }
   },
   "outputs": [],
   "source": [
    "U,w,_ = linalg.svd(S)\n",
    "print U\n",
    "print\n",
    "print w\n",
    "# Singular matrix\n",
    "U,w,_ = linalg.svd(B)\n",
    "print\n",
    "print U\n",
    "print\n",
    "print w"
   ]
  },
  {
   "cell_type": "markdown",
   "metadata": {
    "nbpresent": {
     "id": "0d32b035-9ac8-448f-b14e-ab9f9adfaa18"
    }
   },
   "source": [
    "If $\\un A$ is singular and we order the eigenvalues and eigenvectors in order of decreasing eigenvalue, then the\n",
    "eigendecomposition reads\n",
    "\n",
    "$$\n",
    "\\un A = \\sum_{i=1}^r \\lambda_i\\un x^{(i)}\\un x^{(i)\\top},\n",
    "$$\n",
    "\n",
    "where $r$ is the number of nonzero eigenvalues.  Accordingly,\n",
    "\n",
    "$$\n",
    "\\un A = \\un {U_r}\\bf\\Lambda_r\\un U_r^\\top,\n",
    "$$\n",
    "\n",
    "where\n",
    "\n",
    "$$\n",
    "\\un U_r = (\\un {x}^{(1)},\\dots , \\un x^{(r)}),\\quad \\bf\\Lambda = \\pmatrix{\\lambda_1 & 0         & \\cdots & 0 \\cr\n",
    "                                                                        0      & \\lambda_2 & \\cdots & 0 \\cr\n",
    "                                                                        \\vdots &   \\vdots  & \\ddots & \\vdots \\cr\n",
    "                                                                        0      &  0        & \\cdots & \\lambda_r} .\n",
    "$$\n"
   ]
  },
  {
   "cell_type": "markdown",
   "metadata": {
    "nbpresent": {
     "id": "174d75b4-b7d1-479e-8e64-6e11d20b9812"
    }
   },
   "source": [
    "The *pseudoinverse* of the symmetric, singular matrix $\\un A$ is defined as\n",
    "$$\n",
    "\\un A^+ = \\un U_r\\bf\\Lambda_r^{-1}\\un U_r^\\top.\n",
    "$$"
   ]
  },
  {
   "cell_type": "code",
   "execution_count": null,
   "metadata": {
    "collapsed": false,
    "nbpresent": {
     "id": "31a21b8f-d34c-4a3d-85fd-5b35528d84f8"
    }
   },
   "outputs": [],
   "source": [
    "u = U[:,0]\n",
    "print 'pseudo inverse =\\n %s' % str(u*(1/w[0])*u.T)"
   ]
  },
  {
   "cell_type": "markdown",
   "metadata": {
    "nbpresent": {
     "id": "a01e1489-2afa-4bfc-90d9-7e56e983ded8"
    }
   },
   "source": [
    "Suppose $\\un A$ is a $N\\times N$ symmetric matrix. Then its eigenvectors\n",
    "$\\un x_i$, $i=1\\dots N$, are orthogonal and any $N$-component vector\n",
    "$\\un u$ can be expressed as a linear combination of them, \n",
    "\n",
    "$$\\un u = \\sum_{i=1}^N\\beta_i\\un x_i.$$\n",
    "\n",
    "But then we have\n",
    "\n",
    "$$\\un u^\\top\\un A\\un u = \\un u^\\top\\sum_i\\beta_i\\lambda_i\\un x_i\n",
    "=\\sum_i\\beta_i^2\\lambda_i,$$ \n",
    "\n",
    "where $\\lambda_i$, $i=1\\dots N$, are the\n",
    "eigenvalues of $\\un A$. \n",
    "\n",
    "So $\\un A$ is positive definite if and\n",
    "only if all of its eigenvalues are positive."
   ]
  },
  {
   "cell_type": "markdown",
   "metadata": {
    "nbpresent": {
     "id": "f347ffad-7c9e-47fd-8655-80fdcdc957eb"
    }
   },
   "source": [
    "<span>**Lagrange multipliers**</span>\n",
    "\n",
    "A <span>*vector partial derivative*</span> is written in the form\n",
    "${\\partial\\over\\partial\\un x}$. For instance in two dimensions:\n",
    "\n",
    "$${\\partial\\over \\partial\\un x} =\n",
    "\\pmatrix{1\\cr 0}{\\partial\\over \\partial x_1}+\\pmatrix{0\\cr 1}{\\partial\\over \\partial x_2}.$$\n",
    "\n",
    "This operator (also called the <span>*gradient*</span>) arranges the\n",
    "partial derivatives of any scalar function of the vector $\\un x$ with\n",
    "respect to each of its components into a column vector, e.g.,\n",
    "\n",
    "$${\\partial f(\\un x)\\over\\partial\\un x}=\\pmatrix{\\partial f(\\un x)\\over\\partial x_1\\cr\n",
    "                                               {\\partial f(\\un x)\\over\\partial x_2}}.$$"
   ]
  },
  {
   "cell_type": "markdown",
   "metadata": {
    "nbpresent": {
     "id": "a861e329-ea9b-421f-ae9c-9760073f69e5"
    }
   },
   "source": [
    "The operations with vector derivatives correspond closely to operations\n",
    "with ordinary scalar derivatives:\n",
    "\n",
    "$${\\partial \\over \\partial\\un x}(\\un x^\\top \\un y) = \\un y\\quad\\hbox{analogous to}\n",
    "\\quad {\\partial\\over \\partial x}xy=y$$\n",
    "\n",
    "$${\\partial \\over \\partial\\un x}(\\un x^\\top \\un x) = 2\\un x\\quad\\hbox{analogous to}\n",
    "\\quad {\\partial \\over \\partial x}x^2=2x.$$ \n"
   ]
  },
  {
   "cell_type": "markdown",
   "metadata": {
    "nbpresent": {
     "id": "b1d3434d-63a1-49d2-8eb6-0d7ead8e25b1"
    }
   },
   "source": [
    "For quadratic forms we have\n",
    "\n",
    "$$\\eqalign{\n",
    "{\\partial\\over\\partial \\un x}(\\un x^\\top \\un A \\un y)&=\\un A \\un y\\cr\n",
    "{\\partial\\over\\partial \\un y}(\\un x^\\top \\un A \\un y)&=\\un A^\\top \\un x}$$\n",
    "\n",
    "and\n",
    "\n",
    "$${\\partial\\over\\partial \\un x}(\\un x^\\top \\un A \\un x)=\\un A \\un x+\\un A^\\top\\un x.$$"
   ]
  },
  {
   "cell_type": "markdown",
   "metadata": {
    "nbpresent": {
     "id": "dfa09f31-f1f3-4e3a-a2cb-106e09093df4"
    }
   },
   "source": [
    "If $\\un A$ is a symmetric matrix\n",
    "\n",
    "$${\\partial\\over\\partial \\un x}(\\un x^\\top \\un A \\un x)=2\\un A \\un x.$$\n",
    "\n",
    "<span>**Exercise 3:**</span> What is\n",
    "${\\partial\\over\\partial\\un x} {1 \\over \\un x^\\top\\un A \\un y}$?"
   ]
  },
  {
   "cell_type": "markdown",
   "metadata": {
    "nbpresent": {
     "id": "a0ce267c-a8e8-4ae3-ad90-e2957cb52e57"
    }
   },
   "source": [
    "Suppose $x^*$ is a stationary point of the function $f(x)$, by which is meant that its\n",
    "first derivative vanishes at that point:\n",
    "\n",
    "$$\n",
    "{d\\over dx}f(x^*)={d\\over dx}f(x)\\Big|_{x=x^*}= 0;\n",
    "$$\n",
    "\n",
    "Then $f(x^*)$ is a local minimum if the second derivative at\n",
    "$x^*$ is positive,\n",
    "\n",
    "$$\n",
    "{d^2\\over dx^2}f(x^*)>0.\n",
    "$$\n",
    "\n",
    "This is easliy seen from the Taylor expnsion fo $f(x)$ about $x^*$:\n",
    "\n",
    "$$\n",
    "f(x)= f(x^*)+(x-x^*){d\\over dx}f(x^*)+{1\\over 2}(x-x^*)^2{d^2\\over dx^2}f(x^*)+\\dots\\ .\n",
    "$$"
   ]
  },
  {
   "cell_type": "markdown",
   "metadata": {
    "nbpresent": {
     "id": "f741e37d-78d5-40b6-9ae1-5e1c605e7bfc"
    }
   },
   "source": [
    "The Taylor expansion of a scalar function of a vector $\\un x$ about\n",
    "$\\un x^*$ is\n",
    "\n",
    "$$f(\\un x) = f(\\un x^*)+(\\un x-\\un x^*)^\\top{\\partial f(\\un x^*)\\over\\partial\\un x}\n",
    "+{1\\over 2}(\\un x-\\un x^*)^\\top\\un H(\\un x^*)(\\un x-\\un x^*)+\\dots,$$\n",
    "\n",
    "where $\\un H$ is called the <span>*Hessian matrix*</span>. Its\n",
    "elements are given by\n",
    "\n",
    "$$\\left(\\un H(\\un x^*)\\right)_{ij} = {\\partial^2 f(\\un x^*)\\over\\partial x_i\\partial x_j},$$\n",
    "\n",
    "and it is a symmetric matrix. Note that we can write\n",
    "\n",
    "$$\\un H(\\un x^*)= {\\partial\\over\\partial\\un x} {\\partial\\over\\partial\\un x^\\top} f(\\un x^*) =  {\\partial^2 f(\\un x^*)\\over\\partial \\un x\\partial\\un x^\\top}.$$"
   ]
  },
  {
   "cell_type": "markdown",
   "metadata": {
    "nbpresent": {
     "id": "ed75d8a0-c7f7-418a-ba67-cc5adab8d499"
    }
   },
   "source": [
    "At the stationary point the vector derivative with respect to $\\un x$\n",
    "vanishes, \n",
    "\n",
    "$${\\partial f(\\un x^*)\\over\\partial\\un x}=\\un 0,$$ \n",
    "\n",
    "so we have\n",
    "\n",
    "$$f(\\un x) \\approx f(\\un x^*)+{1\\over 2}(\\un x-\\un x^*)^\\top\\un H(\\un x^*)(\\un x-\\un x^*).$$\n",
    "\n",
    "The condition for a local minimum is that the Hessian matrix be positive\n",
    "definite at the point $\\un x^*$.\n"
   ]
  },
  {
   "cell_type": "markdown",
   "metadata": {
    "nbpresent": {
     "id": "b00ca437-8e5b-40b5-aeb3-a11f0905927f"
    }
   },
   "source": [
    "Suppose that we wish to find the position $\\un x^*$ of a minimum (or\n",
    "maximum) of a function $f(\\un x)$. If there are no constraints, then we\n",
    "solve the set of equations\n",
    "\n",
    "$${\\partial f(\\un x)\\over \\partial x_i}= 0,\\quad i=1,2\\dots$$\n",
    "\n",
    "or, in\n",
    "terms of our notation for vector derivatives,\n",
    "\n",
    "$${\\partial f(\\un x)\\over \\partial\\un x}=\\un 0,$$ \n",
    "\n",
    "and examine the\n",
    "Hessian matrix at the solution point."
   ]
  },
  {
   "cell_type": "markdown",
   "metadata": {
    "nbpresent": {
     "id": "402c2f2b-78d0-4689-87fe-4ab4fe3e9e3c"
    }
   },
   "source": [
    "Suppose that $\\un x$ is <span>*constrained*</span> by the condition\n",
    "\n",
    "$$h(\\un x) = 0.$$ \n",
    "\n",
    "For example, in two dimensions we might have the\n",
    "constraint \n",
    "\n",
    "$$h(\\un x)=x_1^2+x_2^2-1=0$$\n",
    "\n",
    "which requires $\\un x$ to lie on\n",
    "a circle of radius 1.\n",
    "\n",
    "A very general way to find an extremum of $f(\\un x)$ subject to\n",
    "$h(\\un x)=0$ is to determine an <span>*unconstrained*</span> minimum or\n",
    "maximum of the <span>*Lagrange function*</span>\n",
    "\n",
    "$$L(\\un x) = f(\\un x)+\\lambda h(\\un x).$$"
   ]
  },
  {
   "cell_type": "markdown",
   "metadata": {
    "nbpresent": {
     "id": "730c59ad-bd44-4261-9e68-44ef5282feab"
    }
   },
   "source": [
    "The quantity $\\lambda$\n",
    "is a <span>*Lagrange multiplier*</span>. To find the extremum, we solve\n",
    "the set of equations $$\\eqalign{\n",
    "{\\partial\\over \\partial \\un  x}(f(\\un x)+\\lambda h(\\un x))&= \\un 0,\\cr\n",
    "{\\partial\\over \\partial \\lambda}(f(\\un x)+\\lambda h(\\un x))&= 0}$$ for\n",
    "$\\un x$ and $\\lambda$.\n",
    "\n",
    "<span>**Exercise 4:**</span> Find the minimum of\n",
    "\n",
    "$$f(\\un x) = ax_1^2 + bx_2^2$$ for $a,b>0$ subject to the constraint\n",
    "\n",
    "$$x_1+x_2=1.$$"
   ]
  },
  {
   "cell_type": "markdown",
   "metadata": {
    "nbpresent": {
     "id": "cbc72205-ff75-459a-beb6-9afe20684bda"
    }
   },
   "source": [
    "<span>**Example:**</span> (PCA) Find the maximum of\n",
    "\n",
    "$$f(\\un x) = \\un x^\\top\\un C\\un x,$$ \n",
    "\n",
    "where $\\un C$ is symmetric positive\n",
    "definite, subject to the constraint\n",
    "$$h(\\un x) = \\un x^\\top\\un x - 1 = 0.$$\n",
    "The Lagrange function is\n",
    "\n",
    "$$L(\\un x) = \\un x^\\top\\un C \\un x - \\lambda(\\un x^\\top \\un x - 1).$$\n",
    "\n",
    "Any extremum of $L$ occurs at a value of $\\un x$ for which\n",
    "\n",
    "$${\\partial L\\over \\partial\\un x}=2\\un C \\un x-2\\lambda\\un x=0,$$\n",
    "\n",
    "which\n",
    "is the eigenvalue problem\n",
    "\n",
    "$$\\un C \\un x = \\lambda\\un x.$$ \n"
   ]
  },
  {
   "cell_type": "markdown",
   "metadata": {
    "collapsed": true,
    "nbpresent": {
     "id": "789bc501-fe79-4c68-8069-6bf7525d8b6f"
    }
   },
   "source": [
    "Let $\\un u$ be\n",
    "an eigenvector with eigenvalue $\\lambda$. Then\n",
    "\n",
    "$$\\un u^\\top\\un C\\un u = \\lambda\\un u^\\top\\un u = \\lambda.$$\n",
    "\n",
    "So to\n",
    "maximize $f(\\un x)$ we must choose the eigenvector of $\\un C$ with\n",
    "maximum eigenvalue."
   ]
  }
 ],
 "metadata": {
  "anaconda-cloud": {},
  "kernelspec": {
   "display_name": "Python [Root]",
   "language": "python",
   "name": "Python [Root]"
  },
  "language_info": {
   "codemirror_mode": {
    "name": "ipython",
    "version": 2
   },
   "file_extension": ".py",
   "mimetype": "text/x-python",
   "name": "python",
   "nbconvert_exporter": "python",
   "pygments_lexer": "ipython2",
   "version": "2.7.12"
  },
  "nbpresent": {
   "slides": {
    "1a325d5b-4f50-429f-a959-5308a23c61ca": {
     "id": "1a325d5b-4f50-429f-a959-5308a23c61ca",
     "prev": "1cbee3a6-b61b-438a-af6f-923e93edb778",
     "regions": {
      "1a8bcc20-a8c9-4eb8-b12c-78ab131250f7": {
       "attrs": {
        "height": 0.8,
        "width": 0.8,
        "x": 0.1,
        "y": 0.1
       },
       "content": {
        "cell": "f1cf99e6-9744-4c86-981c-6f787294afff",
        "part": "whole"
       },
       "id": "1a8bcc20-a8c9-4eb8-b12c-78ab131250f7"
      }
     }
    },
    "1cbee3a6-b61b-438a-af6f-923e93edb778": {
     "id": "1cbee3a6-b61b-438a-af6f-923e93edb778",
     "prev": "b647421e-7813-453e-96ba-a98b2e4fe577",
     "regions": {
      "cc6816a5-a300-45c1-a01a-b284c682c756": {
       "attrs": {
        "height": 0.8,
        "width": 0.8,
        "x": 0.1,
        "y": 0.1
       },
       "content": {
        "cell": "b50cf153-d41c-408c-9381-927375ac3b83",
        "part": "whole"
       },
       "id": "cc6816a5-a300-45c1-a01a-b284c682c756"
      }
     }
    },
    "247bad44-4015-468d-8b16-67203f54862c": {
     "id": "247bad44-4015-468d-8b16-67203f54862c",
     "prev": "44f92166-21da-4755-8828-7bb8120188f0",
     "regions": {
      "7178af00-f7bf-43d0-bcf3-818ead517b7b": {
       "attrs": {
        "height": 0.8,
        "width": 0.8,
        "x": 0.1,
        "y": 0.1
       },
       "content": {
        "cell": "89e67425-9add-4b86-9b07-b74177becc8b",
        "part": "whole"
       },
       "id": "7178af00-f7bf-43d0-bcf3-818ead517b7b"
      }
     }
    },
    "2b9b2f17-237c-45b5-a5df-231ede4a1dcc": {
     "id": "2b9b2f17-237c-45b5-a5df-231ede4a1dcc",
     "prev": "c25160e8-1975-4468-8d82-2e55ca068e24",
     "regions": {
      "1106cf3c-6085-40ec-84c5-d5574b21e3a6": {
       "attrs": {
        "height": 0.8,
        "width": 0.8,
        "x": 0.1,
        "y": 0.1
       },
       "content": {
        "cell": "730c59ad-bd44-4261-9e68-44ef5282feab",
        "part": "whole"
       },
       "id": "1106cf3c-6085-40ec-84c5-d5574b21e3a6"
      }
     }
    },
    "3b2af393-ab68-4691-915f-1126abe1b611": {
     "id": "3b2af393-ab68-4691-915f-1126abe1b611",
     "prev": "71579288-8680-45be-be20-cabced429744",
     "regions": {
      "33b9ab6f-9720-4f3c-a19e-c21f42428a5b": {
       "attrs": {
        "height": 0.8,
        "width": 0.8,
        "x": 0.1,
        "y": 0.1
       },
       "content": {
        "cell": "b00ca437-8e5b-40b5-aeb3-a11f0905927f",
        "part": "whole"
       },
       "id": "33b9ab6f-9720-4f3c-a19e-c21f42428a5b"
      }
     }
    },
    "3c6fd342-fd3d-40a9-bdd8-a0b870acc8f9": {
     "id": "3c6fd342-fd3d-40a9-bdd8-a0b870acc8f9",
     "prev": "a1314509-242a-4b16-877e-f63888a13027",
     "regions": {
      "31436aa5-e0f4-4db0-ab29-bbadcab12eeb": {
       "attrs": {
        "height": 0.8,
        "width": 0.8,
        "x": 0.1,
        "y": 0.1
       },
       "content": {
        "cell": "4ca31d12-e0f9-473f-9b96-d8a42a9b3ad9",
        "part": "whole"
       },
       "id": "31436aa5-e0f4-4db0-ab29-bbadcab12eeb"
      }
     }
    },
    "408682e4-1e49-49d3-9761-811438982f80": {
     "id": "408682e4-1e49-49d3-9761-811438982f80",
     "prev": "d2302db1-2d1a-450c-967b-6333c76a0572",
     "regions": {
      "768e808e-e98a-40ee-8cf4-621423bce12b": {
       "attrs": {
        "height": 0.8,
        "width": 0.8,
        "x": 0.1,
        "y": 0.1
       },
       "content": {
        "cell": "f741e37d-78d5-40b6-9ae1-5e1c605e7bfc",
        "part": "whole"
       },
       "id": "768e808e-e98a-40ee-8cf4-621423bce12b"
      }
     }
    },
    "44f92166-21da-4755-8828-7bb8120188f0": {
     "id": "44f92166-21da-4755-8828-7bb8120188f0",
     "prev": "e0a5e512-c8aa-4658-819c-8dd73f148bb0",
     "regions": {
      "67b63872-579a-4e02-b1cf-29e14efe6fb8": {
       "attrs": {
        "height": 0.8,
        "width": 0.8,
        "x": 0.1,
        "y": 0.1
       },
       "content": {
        "cell": "02abc7ee-a260-4534-9284-fc4f9166f48c",
        "part": "whole"
       },
       "id": "67b63872-579a-4e02-b1cf-29e14efe6fb8"
      }
     }
    },
    "474271cd-d887-4094-98bf-29e8985bbe69": {
     "id": "474271cd-d887-4094-98bf-29e8985bbe69",
     "prev": "bb053384-01c4-442e-ab91-e9d6a7e89f88",
     "regions": {
      "117944ef-68e0-4c6b-92ef-56a59e7b8037": {
       "attrs": {
        "height": 0.8,
        "width": 0.8,
        "x": 0.1,
        "y": 0.1
       },
       "content": {
        "cell": "5fd864fc-cac9-4341-8fed-53d362562bf5",
        "part": "whole"
       },
       "id": "117944ef-68e0-4c6b-92ef-56a59e7b8037"
      }
     }
    },
    "4e357ef4-1f75-4039-a7ee-1172074df7d3": {
     "id": "4e357ef4-1f75-4039-a7ee-1172074df7d3",
     "prev": "6fe5767a-8423-4423-982d-68983f369cee",
     "regions": {
      "5b653106-1691-41d6-9f38-fc7579e0ddb4": {
       "attrs": {
        "height": 0.8,
        "width": 0.8,
        "x": 0.1,
        "y": 0.1
       },
       "content": {
        "cell": "43dcf09a-0e14-44fb-9ab0-7b5eff7f553f",
        "part": "whole"
       },
       "id": "5b653106-1691-41d6-9f38-fc7579e0ddb4"
      }
     }
    },
    "50c81cef-01da-4d44-9431-9e3e3d7558c6": {
     "id": "50c81cef-01da-4d44-9431-9e3e3d7558c6",
     "prev": "efb90e59-7589-42d3-b1a5-93ab48db4124",
     "regions": {
      "0bbe8baa-666c-479c-9ffe-379324a0f107": {
       "attrs": {
        "height": 0.8,
        "width": 0.8,
        "x": 0.1,
        "y": 0.1
       },
       "content": {
        "cell": "a72c8929-e7b4-41ba-8878-2e48593eaffd",
        "part": "whole"
       },
       "id": "0bbe8baa-666c-479c-9ffe-379324a0f107"
      }
     }
    },
    "5234a870-8078-42a6-a0fe-1cc6788fa867": {
     "id": "5234a870-8078-42a6-a0fe-1cc6788fa867",
     "prev": "474271cd-d887-4094-98bf-29e8985bbe69",
     "regions": {
      "dfd07bac-97b4-4ab2-b780-d8b6bb4af064": {
       "attrs": {
        "height": 0.8,
        "width": 0.8,
        "x": 0.1,
        "y": 0.1
       },
       "content": {
        "cell": "96545b4c-5871-4803-b5bf-0293f45c4e14",
        "part": "whole"
       },
       "id": "dfd07bac-97b4-4ab2-b780-d8b6bb4af064"
      }
     }
    },
    "59328be1-0944-4baf-8a6f-178b44c7de7d": {
     "id": "59328be1-0944-4baf-8a6f-178b44c7de7d",
     "prev": "6ea0d7b8-e10b-4f97-90bf-da5594ebb9fc",
     "regions": {
      "3831ad2f-1331-4eb7-8fdd-ade4fda4aa6d": {
       "attrs": {
        "height": 0.8,
        "width": 0.8,
        "x": 0.1,
        "y": 0.1
       },
       "content": {
        "cell": "ae4ba65f-c454-42a3-9c76-5b5609e1d7c8",
        "part": "whole"
       },
       "id": "3831ad2f-1331-4eb7-8fdd-ade4fda4aa6d"
      }
     }
    },
    "5dc0366a-41f1-4d00-b46c-2b96eb6c2ad5": {
     "id": "5dc0366a-41f1-4d00-b46c-2b96eb6c2ad5",
     "prev": "9fc542f7-2738-483e-9fec-918212f23a4d",
     "regions": {
      "59c1965a-e190-45d7-acd6-18b6551e9f05": {
       "attrs": {
        "height": 0.8,
        "width": 0.8,
        "x": 0.1,
        "y": 0.1
       },
       "content": {
        "cell": "2b427c90-7c0e-47d4-b83b-036d17c51267",
        "part": "whole"
       },
       "id": "59c1965a-e190-45d7-acd6-18b6551e9f05"
      }
     }
    },
    "5f9f5f6c-0218-425e-9e12-dab2efd0a0df": {
     "id": "5f9f5f6c-0218-425e-9e12-dab2efd0a0df",
     "prev": "dafe5ffb-b056-4263-8a71-560454570a86",
     "regions": {
      "0dd70fda-3719-4707-b151-3111b0e0c2e4": {
       "attrs": {
        "height": 0.8,
        "width": 0.8,
        "x": 0.1,
        "y": 0.1
       },
       "content": {
        "cell": "31a21b8f-d34c-4a3d-85fd-5b35528d84f8",
        "part": "whole"
       },
       "id": "0dd70fda-3719-4707-b151-3111b0e0c2e4"
      }
     }
    },
    "61d7ada4-f9c7-4f55-ae76-007ca720a8e2": {
     "id": "61d7ada4-f9c7-4f55-ae76-007ca720a8e2",
     "prev": "64ccbe06-1b8e-4f8c-8c6e-b63740c2dc7e",
     "regions": {
      "e979bf89-f646-4392-8e05-2686e0c9e0fd": {
       "attrs": {
        "height": 0.8,
        "width": 0.8,
        "x": 0.1,
        "y": 0.1
       },
       "content": {
        "cell": "f347ffad-7c9e-47fd-8655-80fdcdc957eb",
        "part": "whole"
       },
       "id": "e979bf89-f646-4392-8e05-2686e0c9e0fd"
      }
     }
    },
    "6221bf8a-d088-424d-b969-51214bc8bc03": {
     "id": "6221bf8a-d088-424d-b969-51214bc8bc03",
     "prev": "64c0f6b5-696e-40a9-8bbe-366016be13c9",
     "regions": {
      "0ca7ea43-0a49-4cf4-940e-42f80968bb50": {
       "attrs": {
        "height": 0.8,
        "width": 0.8,
        "x": 0.1,
        "y": 0.1
       },
       "content": {
        "cell": "d42c98fd-9cbb-4121-82b8-ae97bf9006f4",
        "part": "whole"
       },
       "id": "0ca7ea43-0a49-4cf4-940e-42f80968bb50"
      }
     }
    },
    "64c0f6b5-696e-40a9-8bbe-366016be13c9": {
     "id": "64c0f6b5-696e-40a9-8bbe-366016be13c9",
     "prev": "5234a870-8078-42a6-a0fe-1cc6788fa867",
     "regions": {
      "7ef2bcd5-80c2-4542-873f-d8f99940e23f": {
       "attrs": {
        "height": 0.8,
        "width": 0.8,
        "x": 0.1,
        "y": 0.1
       },
       "content": {
        "cell": "fe0289ea-53e6-40a8-9dab-86375d151a02",
        "part": "whole"
       },
       "id": "7ef2bcd5-80c2-4542-873f-d8f99940e23f"
      }
     }
    },
    "64ccbe06-1b8e-4f8c-8c6e-b63740c2dc7e": {
     "id": "64ccbe06-1b8e-4f8c-8c6e-b63740c2dc7e",
     "prev": "5f9f5f6c-0218-425e-9e12-dab2efd0a0df",
     "regions": {
      "6125a6b3-9c19-460b-8aac-af39330b739d": {
       "attrs": {
        "height": 0.8,
        "width": 0.8,
        "x": 0.1,
        "y": 0.1
       },
       "content": {
        "cell": "a01e1489-2afa-4bfc-90d9-7e56e983ded8",
        "part": "whole"
       },
       "id": "6125a6b3-9c19-460b-8aac-af39330b739d"
      }
     }
    },
    "655f502b-4e0a-4dd0-9db9-e523ccc97c81": {
     "id": "655f502b-4e0a-4dd0-9db9-e523ccc97c81",
     "prev": null,
     "regions": {
      "1a74f1d9-d7dc-4e39-94ba-ae8ee814a9f1": {
       "attrs": {
        "height": 0.8,
        "width": 0.8,
        "x": 0.1,
        "y": 0.1
       },
       "content": {
        "cell": "5ea15087-2ae9-4c8f-8286-c240a6825ce7",
        "part": "whole"
       },
       "id": "1a74f1d9-d7dc-4e39-94ba-ae8ee814a9f1"
      }
     }
    },
    "6ea0d7b8-e10b-4f97-90bf-da5594ebb9fc": {
     "id": "6ea0d7b8-e10b-4f97-90bf-da5594ebb9fc",
     "prev": "4e357ef4-1f75-4039-a7ee-1172074df7d3",
     "regions": {
      "5737ce61-4479-406e-85d8-8f4d1fef77d2": {
       "attrs": {
        "height": 0.8,
        "width": 0.8,
        "x": 0.1,
        "y": 0.1
       },
       "content": {
        "cell": "1b536408-d7e2-4a2f-b1ed-bfbb3fee20bd",
        "part": "whole"
       },
       "id": "5737ce61-4479-406e-85d8-8f4d1fef77d2"
      }
     }
    },
    "6fe5767a-8423-4423-982d-68983f369cee": {
     "id": "6fe5767a-8423-4423-982d-68983f369cee",
     "prev": "a8dab65a-867f-4e06-82d4-12a05829bb51",
     "regions": {
      "079785fb-0248-4688-aaa3-99eac91f3d31": {
       "attrs": {
        "height": 0.8,
        "width": 0.8,
        "x": 0.1,
        "y": 0.1
       },
       "content": {
        "cell": "d90f11f6-c837-4d6b-8f00-cfbd9d602694",
        "part": "whole"
       },
       "id": "079785fb-0248-4688-aaa3-99eac91f3d31"
      }
     }
    },
    "71579288-8680-45be-be20-cabced429744": {
     "id": "71579288-8680-45be-be20-cabced429744",
     "prev": "408682e4-1e49-49d3-9761-811438982f80",
     "regions": {
      "b4628ae6-ce43-4ee9-83a6-eef3dc826de4": {
       "attrs": {
        "height": 0.8,
        "width": 0.8,
        "x": 0.1,
        "y": 0.1
       },
       "content": {
        "cell": "ed75d8a0-c7f7-418a-ba67-cc5adab8d499",
        "part": "whole"
       },
       "id": "b4628ae6-ce43-4ee9-83a6-eef3dc826de4"
      }
     }
    },
    "71693349-403c-45ea-853c-d045081ee266": {
     "id": "71693349-403c-45ea-853c-d045081ee266",
     "prev": "da528d06-aaea-4c87-ae55-ca7c846dcc94",
     "regions": {
      "96fa9ef2-e079-42bc-ab59-0aa1b3fe7bb4": {
       "attrs": {
        "height": 0.8,
        "width": 0.8,
        "x": 0.1,
        "y": 0.1
       },
       "content": {
        "cell": "dfa80671-16ae-4193-bc39-92f45580bf0e",
        "part": "whole"
       },
       "id": "96fa9ef2-e079-42bc-ab59-0aa1b3fe7bb4"
      }
     }
    },
    "7379e94f-b379-417a-b312-9700fc962062": {
     "id": "7379e94f-b379-417a-b312-9700fc962062",
     "prev": "6221bf8a-d088-424d-b969-51214bc8bc03",
     "regions": {
      "f1880d75-add7-47e0-bb57-c63d40f70a28": {
       "attrs": {
        "height": 0.8,
        "width": 0.8,
        "x": 0.1,
        "y": 0.1
       },
       "content": {
        "cell": "1cbc07a9-b8eb-4ef3-9ffc-51454a5481de",
        "part": "whole"
       },
       "id": "f1880d75-add7-47e0-bb57-c63d40f70a28"
      }
     }
    },
    "7a1ed85a-d452-496b-99fe-8fa270194c3e": {
     "id": "7a1ed85a-d452-496b-99fe-8fa270194c3e",
     "prev": "c62cebcc-33c7-4b8d-9f71-366b9f6860b5",
     "regions": {
      "b28b83a0-7494-4eee-bb10-444246cd94e1": {
       "attrs": {
        "height": 0.8,
        "width": 0.8,
        "x": 0.1,
        "y": 0.1
       },
       "content": {
        "cell": "b1d3434d-63a1-49d2-8eb6-0d7ead8e25b1",
        "part": "whole"
       },
       "id": "b28b83a0-7494-4eee-bb10-444246cd94e1"
      }
     }
    },
    "80dfc590-f28b-4546-84b1-38aa619d84fb": {
     "id": "80dfc590-f28b-4546-84b1-38aa619d84fb",
     "prev": "5dc0366a-41f1-4d00-b46c-2b96eb6c2ad5",
     "regions": {
      "731691bd-ffff-401b-8879-3ea032c3369a": {
       "attrs": {
        "height": 0.8,
        "width": 0.8,
        "x": 0.1,
        "y": 0.1
       },
       "content": {
        "cell": "4d03c9fd-67a8-4b58-9090-cf970245579d",
        "part": "whole"
       },
       "id": "731691bd-ffff-401b-8879-3ea032c3369a"
      }
     }
    },
    "8f292529-8211-49cf-a33c-b0a1374b804f": {
     "id": "8f292529-8211-49cf-a33c-b0a1374b804f",
     "prev": "2b9b2f17-237c-45b5-a5df-231ede4a1dcc",
     "regions": {
      "5169e614-9f70-4d37-a4c0-250f1f329d12": {
       "attrs": {
        "height": 0.8,
        "width": 0.8,
        "x": 0.1,
        "y": 0.1
       },
       "content": {
        "cell": "cbc72205-ff75-459a-beb6-9afe20684bda",
        "part": "whole"
       },
       "id": "5169e614-9f70-4d37-a4c0-250f1f329d12"
      }
     }
    },
    "95096f9e-1835-4126-aa21-f43231daa8c1": {
     "id": "95096f9e-1835-4126-aa21-f43231daa8c1",
     "prev": "3c6fd342-fd3d-40a9-bdd8-a0b870acc8f9",
     "regions": {
      "4c57a688-387b-4d13-a032-4aa3f2fdf2c7": {
       "attrs": {
        "height": 0.8,
        "width": 0.8,
        "x": 0.1,
        "y": 0.1
       },
       "content": {
        "cell": "9a407fde-3e7c-45db-bbdd-4d613c3b6f31",
        "part": "whole"
       },
       "id": "4c57a688-387b-4d13-a032-4aa3f2fdf2c7"
      }
     }
    },
    "9fc542f7-2738-483e-9fec-918212f23a4d": {
     "id": "9fc542f7-2738-483e-9fec-918212f23a4d",
     "prev": "71693349-403c-45ea-853c-d045081ee266",
     "regions": {
      "48648381-e5c8-4061-841f-6568f659f102": {
       "attrs": {
        "height": 0.8,
        "width": 0.8,
        "x": 0.1,
        "y": 0.1
       },
       "content": {
        "cell": "2350d87f-b44a-406c-a814-e2b5770bed85",
        "part": "whole"
       },
       "id": "48648381-e5c8-4061-841f-6568f659f102"
      }
     }
    },
    "a1314509-242a-4b16-877e-f63888a13027": {
     "id": "a1314509-242a-4b16-877e-f63888a13027",
     "prev": "1a325d5b-4f50-429f-a959-5308a23c61ca",
     "regions": {
      "f2e20747-1d4b-4d10-9db9-bf9550a7fd05": {
       "attrs": {
        "height": 0.8,
        "width": 0.8,
        "x": 0.1,
        "y": 0.1
       },
       "content": {
        "cell": "8a12b525-f4f0-41f7-93f1-578a89fdcf05",
        "part": "whole"
       },
       "id": "f2e20747-1d4b-4d10-9db9-bf9550a7fd05"
      }
     }
    },
    "a8dab65a-867f-4e06-82d4-12a05829bb51": {
     "id": "a8dab65a-867f-4e06-82d4-12a05829bb51",
     "prev": "b81f830e-1744-4deb-8674-4edeba9ab57d",
     "regions": {
      "e4251a3e-2966-4fa7-b491-b7a965a17f2d": {
       "attrs": {
        "height": 0.8,
        "width": 0.8,
        "x": 0.1,
        "y": 0.1
       },
       "content": {
        "cell": "e4a2452e-7528-4e3d-8d1e-1ad3a91d14ee",
        "part": "whole"
       },
       "id": "e4251a3e-2966-4fa7-b491-b7a965a17f2d"
      }
     }
    },
    "a90893ed-47a9-4727-8d82-09c6d00be4e5": {
     "id": "a90893ed-47a9-4727-8d82-09c6d00be4e5",
     "prev": "50c81cef-01da-4d44-9431-9e3e3d7558c6",
     "regions": {
      "01368e05-1d84-4109-a5fb-dc411ef7c9b6": {
       "attrs": {
        "height": 0.8,
        "width": 0.8,
        "x": 0.1,
        "y": 0.1
       },
       "content": {
        "cell": "0d32b035-9ac8-448f-b14e-ab9f9adfaa18",
        "part": "whole"
       },
       "id": "01368e05-1d84-4109-a5fb-dc411ef7c9b6"
      }
     }
    },
    "b647421e-7813-453e-96ba-a98b2e4fe577": {
     "id": "b647421e-7813-453e-96ba-a98b2e4fe577",
     "prev": "7379e94f-b379-417a-b312-9700fc962062",
     "regions": {
      "801c1ab4-4cfe-494d-ab8a-82be6d65d429": {
       "attrs": {
        "height": 0.8,
        "width": 0.8,
        "x": 0.1,
        "y": 0.1
       },
       "content": {
        "cell": "3be244e5-df11-4b65-b9b6-62f17f419426",
        "part": "whole"
       },
       "id": "801c1ab4-4cfe-494d-ab8a-82be6d65d429"
      }
     }
    },
    "b81f830e-1744-4deb-8674-4edeba9ab57d": {
     "id": "b81f830e-1744-4deb-8674-4edeba9ab57d",
     "prev": "80dfc590-f28b-4546-84b1-38aa619d84fb",
     "regions": {
      "f2b7952a-b627-464f-8f6f-de0b807f6a23": {
       "attrs": {
        "height": 0.8,
        "width": 0.8,
        "x": 0.1,
        "y": 0.1
       },
       "content": {
        "cell": "a1c4533e-5ff4-4016-9325-f37f22d88a87",
        "part": "whole"
       },
       "id": "f2b7952a-b627-464f-8f6f-de0b807f6a23"
      }
     }
    },
    "bb053384-01c4-442e-ab91-e9d6a7e89f88": {
     "id": "bb053384-01c4-442e-ab91-e9d6a7e89f88",
     "prev": "655f502b-4e0a-4dd0-9db9-e523ccc97c81",
     "regions": {
      "80813a5e-9b1a-4987-8533-7c801347feb6": {
       "attrs": {
        "height": 0.8,
        "width": 0.8,
        "x": 0.1,
        "y": 0.1
       },
       "content": {
        "cell": "0de94609-ff96-4394-a29f-fe1e187e6ec5",
        "part": "whole"
       },
       "id": "80813a5e-9b1a-4987-8533-7c801347feb6"
      }
     }
    },
    "c25160e8-1975-4468-8d82-2e55ca068e24": {
     "id": "c25160e8-1975-4468-8d82-2e55ca068e24",
     "prev": "3b2af393-ab68-4691-915f-1126abe1b611",
     "regions": {
      "66dd8c9b-1507-4c5c-8ed0-81d469280c3f": {
       "attrs": {
        "height": 0.8,
        "width": 0.8,
        "x": 0.1,
        "y": 0.1
       },
       "content": {
        "cell": "402c2f2b-78d0-4689-87fe-4ab4fe3e9e3c",
        "part": "whole"
       },
       "id": "66dd8c9b-1507-4c5c-8ed0-81d469280c3f"
      }
     }
    },
    "c62cebcc-33c7-4b8d-9f71-366b9f6860b5": {
     "id": "c62cebcc-33c7-4b8d-9f71-366b9f6860b5",
     "prev": "61d7ada4-f9c7-4f55-ae76-007ca720a8e2",
     "regions": {
      "7d8472e2-7886-4d9f-a324-ed750920c8ad": {
       "attrs": {
        "height": 0.8,
        "width": 0.8,
        "x": 0.1,
        "y": 0.1
       },
       "content": {
        "cell": "a861e329-ea9b-421f-ae9c-9760073f69e5",
        "part": "whole"
       },
       "id": "7d8472e2-7886-4d9f-a324-ed750920c8ad"
      }
     }
    },
    "cfa95e4b-5d5e-44db-b703-f3c859071414": {
     "id": "cfa95e4b-5d5e-44db-b703-f3c859071414",
     "prev": "8f292529-8211-49cf-a33c-b0a1374b804f",
     "regions": {
      "88157731-d519-42a2-af5d-d39aaa74ba00": {
       "attrs": {
        "height": 0.8,
        "width": 0.8,
        "x": 0.1,
        "y": 0.1
       },
       "content": {
        "cell": "789bc501-fe79-4c68-8069-6bf7525d8b6f",
        "part": "whole"
       },
       "id": "88157731-d519-42a2-af5d-d39aaa74ba00"
      }
     }
    },
    "d021e180-a230-4a56-9e20-21e83dd8150b": {
     "id": "d021e180-a230-4a56-9e20-21e83dd8150b",
     "prev": "59328be1-0944-4baf-8a6f-178b44c7de7d",
     "regions": {
      "fad3f4bc-019b-467b-bf46-63f4ba3b4a67": {
       "attrs": {
        "height": 0.8,
        "width": 0.8,
        "x": 0.1,
        "y": 0.1
       },
       "content": {
        "cell": "e3a5eb66-28f0-4bc8-8fe4-666df0c9f085",
        "part": "whole"
       },
       "id": "fad3f4bc-019b-467b-bf46-63f4ba3b4a67"
      }
     }
    },
    "d2302db1-2d1a-450c-967b-6333c76a0572": {
     "id": "d2302db1-2d1a-450c-967b-6333c76a0572",
     "prev": "e51f6d06-8889-4893-afad-56a35df7e1d6",
     "regions": {
      "3421baa5-8c41-4dfb-a104-ede300f30101": {
       "attrs": {
        "height": 0.8,
        "width": 0.8,
        "x": 0.1,
        "y": 0.1
       },
       "content": {
        "cell": "a0ce267c-a8e8-4ae3-ad90-e2957cb52e57",
        "part": "whole"
       },
       "id": "3421baa5-8c41-4dfb-a104-ede300f30101"
      }
     }
    },
    "da528d06-aaea-4c87-ae55-ca7c846dcc94": {
     "id": "da528d06-aaea-4c87-ae55-ca7c846dcc94",
     "prev": "95096f9e-1835-4126-aa21-f43231daa8c1",
     "regions": {
      "73de5bfd-12b6-433e-8fde-7eb612949d8c": {
       "attrs": {
        "height": 0.8,
        "width": 0.8,
        "x": 0.1,
        "y": 0.1
       },
       "content": {
        "cell": "a2ec78e2-ea44-45b2-956e-e993255b83ae",
        "part": "whole"
       },
       "id": "73de5bfd-12b6-433e-8fde-7eb612949d8c"
      }
     }
    },
    "dafe5ffb-b056-4263-8a71-560454570a86": {
     "id": "dafe5ffb-b056-4263-8a71-560454570a86",
     "prev": "a90893ed-47a9-4727-8d82-09c6d00be4e5",
     "regions": {
      "6545402b-b8ef-4437-a64b-c54c07f3f148": {
       "attrs": {
        "height": 0.8,
        "width": 0.8,
        "x": 0.1,
        "y": 0.1
       },
       "content": {
        "cell": "174d75b4-b7d1-479e-8e64-6e11d20b9812",
        "part": "whole"
       },
       "id": "6545402b-b8ef-4437-a64b-c54c07f3f148"
      }
     }
    },
    "e0a5e512-c8aa-4658-819c-8dd73f148bb0": {
     "id": "e0a5e512-c8aa-4658-819c-8dd73f148bb0",
     "prev": "d021e180-a230-4a56-9e20-21e83dd8150b",
     "regions": {
      "8e32fb12-1179-4524-9b26-c3294168014a": {
       "attrs": {
        "height": 0.8,
        "width": 0.8,
        "x": 0.1,
        "y": 0.1
       },
       "content": {
        "cell": "4ac63eb9-d0df-44b0-b1ba-7212d445f262",
        "part": "whole"
       },
       "id": "8e32fb12-1179-4524-9b26-c3294168014a"
      }
     }
    },
    "e51f6d06-8889-4893-afad-56a35df7e1d6": {
     "id": "e51f6d06-8889-4893-afad-56a35df7e1d6",
     "prev": "7a1ed85a-d452-496b-99fe-8fa270194c3e",
     "regions": {
      "dfe41ed9-1879-428a-87c8-7c3d5f1b216e": {
       "attrs": {
        "height": 0.8,
        "width": 0.8,
        "x": 0.1,
        "y": 0.1
       },
       "content": {
        "cell": "dfa09f31-f1f3-4e3a-a2cb-106e09093df4",
        "part": "whole"
       },
       "id": "dfe41ed9-1879-428a-87c8-7c3d5f1b216e"
      }
     }
    },
    "efb90e59-7589-42d3-b1a5-93ab48db4124": {
     "id": "efb90e59-7589-42d3-b1a5-93ab48db4124",
     "prev": "247bad44-4015-468d-8b16-67203f54862c",
     "regions": {
      "22d74371-981f-4dab-9499-e007b3c870cb": {
       "attrs": {
        "height": 0.8,
        "width": 0.8,
        "x": 0.1,
        "y": 0.1
       },
       "content": {
        "cell": "c7f3a739-fbe5-4e16-a408-5128d643d22b",
        "part": "whole"
       },
       "id": "22d74371-981f-4dab-9499-e007b3c870cb"
      }
     }
    }
   },
   "themes": {
    "default": "4b3fd9da-39a2-47bb-8f43-a24ed1c5b69a",
    "theme": {
     "4b3fd9da-39a2-47bb-8f43-a24ed1c5b69a": {
      "id": "4b3fd9da-39a2-47bb-8f43-a24ed1c5b69a",
      "palette": {
       "19cc588f-0593-49c9-9f4b-e4d7cc113b1c": {
        "id": "19cc588f-0593-49c9-9f4b-e4d7cc113b1c",
        "rgb": [
         252,
         252,
         252
        ]
       },
       "31af15d2-7e15-44c5-ab5e-e04b16a89eff": {
        "id": "31af15d2-7e15-44c5-ab5e-e04b16a89eff",
        "rgb": [
         68,
         68,
         68
        ]
       },
       "50f92c45-a630-455b-aec3-788680ec7410": {
        "id": "50f92c45-a630-455b-aec3-788680ec7410",
        "rgb": [
         155,
         177,
         192
        ]
       },
       "c5cc3653-2ee1-402a-aba2-7caae1da4f6c": {
        "id": "c5cc3653-2ee1-402a-aba2-7caae1da4f6c",
        "rgb": [
         43,
         126,
         184
        ]
       },
       "efa7f048-9acb-414c-8b04-a26811511a21": {
        "id": "efa7f048-9acb-414c-8b04-a26811511a21",
        "rgb": [
         25.118061674008803,
         73.60176211453744,
         107.4819383259912
        ]
       }
      },
      "rules": {
       "blockquote": {
        "color": "50f92c45-a630-455b-aec3-788680ec7410"
       },
       "code": {
        "font-family": "Anonymous Pro"
       },
       "h1": {
        "color": "c5cc3653-2ee1-402a-aba2-7caae1da4f6c",
        "font-family": "Lato",
        "font-size": 8
       },
       "h2": {
        "color": "c5cc3653-2ee1-402a-aba2-7caae1da4f6c",
        "font-family": "Lato",
        "font-size": 6
       },
       "h3": {
        "color": "50f92c45-a630-455b-aec3-788680ec7410",
        "font-family": "Lato",
        "font-size": 5.5
       },
       "h4": {
        "color": "c5cc3653-2ee1-402a-aba2-7caae1da4f6c",
        "font-family": "Lato",
        "font-size": 5
       },
       "h5": {
        "font-family": "Lato"
       },
       "h6": {
        "font-family": "Lato"
       },
       "h7": {
        "font-family": "Lato"
       },
       "pre": {
        "font-family": "Anonymous Pro",
        "font-size": 4
       }
      },
      "text-base": {
       "font-family": "Merriweather",
       "font-size": 4
      }
     }
    }
   }
  }
 },
 "nbformat": 4,
 "nbformat_minor": 1
}
