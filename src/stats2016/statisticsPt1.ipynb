{
 "cells": [
  {
   "cell_type": "markdown",
   "metadata": {
    "nbpresent": {
     "id": "5ea15087-2ae9-4c8f-8286-c240a6825ce7"
    }
   },
   "source": [
    "# Statistics for Data Analysis\n",
    "## Mort Canty\n",
    "## mort.canty@gmail.com\n",
    "## November, 2016\n",
    "$$ \\def\\pr{\\hbox{Pr}}\n",
    "\\def\\var{\\hbox{var}}\n",
    "\\def\\cov{\\hbox{cov}}\n",
    "\\def\\corr{\\hbox{corr}}\n",
    "\\def\\dmX{\\un{\\mathcal{X}}}\n",
    "\\def\\dmG{\\un{\\mathcal{G}}}\n",
    "\\def\\dmK{\\un{\\mathcal{K}}}\n",
    "\\def\\dmS{\\un{\\mathcal{S}}}\n",
    "\\def\\dmC{\\un{\\mathcal{C}}}\n",
    "\\def\\dmZ{\\un{\\mathcal{Z}}}\n",
    "\\def\\bma{{\\mbox{\\boldmath $\\alpha$}}}\n",
    "\\def\\bmb{{\\mbox{\\boldmath $\\beta$}}}\n",
    "\\def\\bmu{{\\mbox{\\boldmath $\\mu$}}}\n",
    "\\def\\bme{{\\mbox{\\boldmath $\\epsilon$}}}\n",
    "\\def\\bmS{{\\mbox{\\boldmath $\\Sigma$}}}\n",
    "\\def\\bmL{{\\mbox{\\boldmath $\\Lambda$}}}\n",
    "\\def\\bmd{{\\mbox{\\boldmath $\\delta$}}}\n",
    "\\def\\bmD{{\\mbox{\\boldmath $\\Delta$}}}\n",
    "\\def\\bmG{{\\mbox{\\boldmath $\\Gamma$}}}\n",
    "\\def\\bmphi{{\\mbox{\\boldmath $\\phi$}}}\n",
    "\\def\\bmPhi{{\\mbox{\\boldmath $\\Phi$}}}\n",
    "\\def\\bmpsi{{\\mbox{\\boldmath $\\psi$}}}\n",
    "\\def\\bmtheta{{\\mbox{\\boldmath $\\theta$}}}\n",
    "\\def\\eq{\\begin{equation}}\n",
    "\\def\\eeq{\\end{equation}}\n",
    "\\def\\i{{\\bf i}}\n",
    "\\def\\un#1{{\\bf #1}}$$"
   ]
  },
  {
   "cell_type": "markdown",
   "metadata": {
    "nbpresent": {
     "id": "0de94609-ff96-4394-a29f-fe1e187e6ec5"
    }
   },
   "source": [
    "<span>**Topics:**</span>\n",
    "\n",
    "-   Vectors and matrices\n",
    "\n",
    "-   Random variables\n",
    "\n",
    "-   Point and interval parameter estimation\n",
    "\n",
    "-   Multivariate statistics\n",
    "\n",
    "-   Linear regression\n",
    "\n",
    "-   Multiple linear regression, Kalman filter\n",
    "\n",
    "-   Hypothesis Testing\n",
    "\n",
    "-   Data assimilation\n",
    "\n",
    "-   Spatial statistics"
   ]
  },
  {
   "cell_type": "markdown",
   "metadata": {
    "nbpresent": {
     "id": "5fd864fc-cac9-4341-8fed-53d362562bf5"
    }
   },
   "source": [
    "<span>**References:**</span>\n",
    "\n",
    "J. E. Freund (2003), <span>*Mathematical Statistics with\n",
    "Applications*</span>, 7th Ed., Prentice Hall.\n",
    "\n",
    "K. V. Mardia et al. (1979), <span>*Multivariate Analysis*</span>,\n",
    "Academic Press.\n",
    "\n",
    "M. J. Canty (2014), <span>*Image Analysis, Classification and Change\n",
    "Detection in Remote Sensing*</span>, 3rd Ed., Taylor and Francis\n",
    "\n",
    "<span>**Course Material:**</span>\n",
    "\n",
    "http://mortcanty.github.io/src/stats2016.html\n"
   ]
  },
  {
   "cell_type": "markdown",
   "metadata": {
    "nbpresent": {
     "id": "d98043db-6044-4079-9635-f2fd96e9e302"
    }
   },
   "source": [
    "### Jupyter notebook environment with IPython\n",
    "\n",
    "Download and install Anaconda2 (Python 2.7 version)\n",
    "\n",
    "https://www.continuum.io/downloads\n",
    "\n",
    "In a command window enter\n",
    "\n",
    "**jupyter notebook**\n",
    "\n",
    "Point your browser (preferably Firefox) to **localhost:8888**"
   ]
  },
  {
   "cell_type": "markdown",
   "metadata": {
    "nbpresent": {
     "id": "96545b4c-5871-4803-b5bf-0293f45c4e14"
    }
   },
   "source": [
    "## Part 1. Vectors and Matrices\n",
    "\n",
    "\n",
    "The <span>*sum*</span> of two column vectors is given by\n",
    "\n",
    "$$\\un x + \\un y = \\pmatrix{x_1\\cr x_2}+\\pmatrix{y_1\\cr y_2}=\\pmatrix{x_1+y_1\\cr x_2+y_2},$$\n",
    "\n",
    "and their <span>*inner product*</span> by\n",
    "\n",
    "$$\\un x^\\top \\un y =(x_1,x_2) \\pmatrix{y_1\\cr y_2}=x_1y_1+x_2y_2.$$\n",
    "\n",
    "The\n",
    "<span>*length*</span> or <span>*(2-)norm*</span> of the vector $\\un x$\n",
    "is \n",
    "\n",
    "$$\\|\\un x\\| = \\sqrt{x_1^2+x_2^2} = \\sqrt{\\un x^\\top \\un x}\\ .$$"
   ]
  },
  {
   "cell_type": "markdown",
   "metadata": {
    "nbpresent": {
     "id": "fe0289ea-53e6-40a8-9dab-86375d151a02"
    }
   },
   "source": [
    "The inner product can be written as\n",
    "\n",
    "$$\\un x^\\top \\un y = \\|\\un x\\|\\|\\un y\\|\\cos(\\theta)$$ \n",
    "\n",
    "where $\\theta$ is\n",
    "the angle subtended by $\\un x$ and $\\un y$. If $\\theta=\\pi/2$ then the\n",
    "vectors are <span>*orthogonal*</span>."
   ]
  },
  {
   "cell_type": "markdown",
   "metadata": {
    "nbpresent": {
     "id": "d42c98fd-9cbb-4121-82b8-ae97bf9006f4"
    }
   },
   "source": [
    "The product of two $2\\times 2$ matrices is given by \n",
    "\n",
    "$$\\eqalign{\n",
    "\\un A \\un B &=\\pmatrix{a_{11} & a_{12}\\cr a_{21}&a_{22}} \\pmatrix{b_{11} & b_{12}\\cr b_{21}& b_{22}}\\cr\n",
    "&=\\pmatrix{a_{11}b_{11}+a_{12}b_{21} & a_{11}b_{12}+a_{12}b_{22}\\cr a_{21}b_{11}+a_{22}b_{21} & a_{21}b_{12}+a_{22}b_{22}}}$$\n",
    "\n",
    "The matrix product $\\un A\\un B$ is allowed whenever $\\un A$ has the same\n",
    "number of columns as $\\un B$ has rows. \n",
    "\n"
   ]
  },
  {
   "cell_type": "markdown",
   "metadata": {
    "nbpresent": {
     "id": "1cbc07a9-b8eb-4ef3-9ffc-51454a5481de"
    }
   },
   "source": [
    "So if $\\un A$ has dimension\n",
    "$\\ell\\times m$ and $\\un B$ has dimension $m\\times n$, then $\\un A\\un B$\n",
    "is $\\ell\\times n$ with elements\n",
    "\n",
    "$$(\\un A\\un B)_{ij} = \\sum_{k=1}^m a_{ik}b_{kj}\\quad i=1\\dots \\ell,\\ j=1\\dots n.$$\n",
    "\n",
    "Matrix multiplication is not <span>*commutative*</span>, i.e.\n",
    "$\\un A\\un B\\ne\\un B\\un A$ in general. However it is\n",
    "<span>*associative*</span>:\n",
    "\n",
    "$$(\\un A\\un B)\\un C = \\un A(\\un B\\un C)= \\un A \\un B \\un C. \\tag 1 $$ "
   ]
  },
  {
   "cell_type": "markdown",
   "metadata": {
    "nbpresent": {
     "id": "3be244e5-df11-4b65-b9b6-62f17f419426"
    }
   },
   "source": [
    "The\n",
    "<span>*outer product*</span> of two vectors of equal length, written\n",
    "$\\un x \\un y^\\top$, is a matrix, e.g.,\n",
    "\n",
    "$$\\un x \\un y^\\top = \\pmatrix{x_1\\cr x_2} (y_1, y_2)= \\pmatrix{x_1&0\\cr x_2&0} \\pmatrix{y_1&y_2\\cr0&0}\n",
    "=\\pmatrix{x_1y_1&x_1y_2\\cr x_2y_1&x_2y_2}.$$\n"
   ]
  },
  {
   "cell_type": "code",
   "execution_count": 1,
   "metadata": {
    "collapsed": false,
    "nbpresent": {
     "id": "b50cf153-d41c-408c-9381-927375ac3b83"
    }
   },
   "outputs": [
    {
     "name": "stdout",
     "output_type": "stream",
     "text": [
      "[[ 0.08474233]\n",
      " [ 0.69916474]\n",
      " [ 0.37698698]]\n",
      "\n",
      "[[ 0.00718126  0.05924885  0.03194676]\n",
      " [ 0.05924885  0.48883133  0.26357601]\n",
      " [ 0.03194676  0.26357601  0.14211919]]\n",
      "\n",
      "5.92669364638e-36\n"
     ]
    }
   ],
   "source": [
    "from numpy import *\n",
    "\n",
    "A = mat(random.rand(3,1))\n",
    "print A\n",
    "print\n",
    "B = A*A.T\n",
    "print B\n",
    "print\n",
    "print linalg.det(B)\n"
   ]
  },
  {
   "cell_type": "markdown",
   "metadata": {
    "nbpresent": {
     "id": "f1cf99e6-9744-4c86-981c-6f787294afff"
    }
   },
   "source": [
    "Matrices, like vectors, have a transposed form, obtained by\n",
    "interchanging their rows and columns.\n",
    "\n",
    "$$\\un A = \\pmatrix{a_{11} & a_{12}\\cr a_{21}&a_{22}},\\quad\\un A^\\top = \\pmatrix{a_{11} & a_{21}\\cr a_{12}&a_{22}}.$$\n",
    "\n",
    "Transposition has the properties $$\\eqalign{\n",
    "(\\un A+\\un B)^\\top &= \\un A^\\top + \\un B^\\top\\cr\n",
    "(\\un A\\un B)^\\top  &= \\un B^\\top\\un A^\\top.}\\tag 2$$ \n",
    "\n"
   ]
  },
  {
   "cell_type": "markdown",
   "metadata": {
    "nbpresent": {
     "id": "8a12b525-f4f0-41f7-93f1-578a89fdcf05"
    }
   },
   "source": [
    "The determinant of\n",
    "a $2\\times 2$ matrix is given by\n",
    "\n",
    "$$|\\un A| = a_{11}a_{22}-a_{12}a_{21}.$$ \n",
    "\n",
    "The determinant has the\n",
    "properties $$\\eqalign{\n",
    "|\\un A\\un B| &= |\\un A| |\\un B| \\cr\n",
    "|\\un A^\\top| &= |\\un A|.}\\tag 3$$"
   ]
  },
  {
   "cell_type": "markdown",
   "metadata": {
    "collapsed": true,
    "nbpresent": {
     "id": "4ca31d12-e0f9-473f-9b96-d8a42a9b3ad9"
    }
   },
   "source": [
    "The $2\\times 2$ <span>*identity matrix*</span> is\n",
    "\n",
    "$$\\un I = \\pmatrix{1&0\\cr 0&1},$$ \n",
    "\n",
    "and for any $\\un A$,\n",
    "\n",
    "$$\\un I \\un A = \\un A \\un I= \\un A.$$ \n"
   ]
  },
  {
   "cell_type": "markdown",
   "metadata": {
    "nbpresent": {
     "id": "9a407fde-3e7c-45db-bbdd-4d613c3b6f31"
    }
   },
   "source": [
    "The <span>*matrix inverse*</span>\n",
    "$\\un A^{-1}$ of a square matrix $\\un A$ is defined in terms of the\n",
    "identity matrix: $$\\un A^{-1} \\un A = \\un A \\un A^{-1} = \\un I.$$ \n",
    "\n",
    "For\n",
    "example:\n",
    "\n",
    "$$\\un A^{-1}={1\\over |\\un A|}\\pmatrix{a_{22}& -a_{12}\\cr -a_{21}&a_{11}}.$$\n"
   ]
  },
  {
   "cell_type": "markdown",
   "metadata": {
    "nbpresent": {
     "id": "a2ec78e2-ea44-45b2-956e-e993255b83ae"
    }
   },
   "source": [
    "The matrix inverse has the properties \n",
    "$$\\eqalign{\n",
    "(\\un A\\un B)^{-1} &= \\un B^{-1}\\un A^{-1}\\cr\n",
    "(\\un A^{-1})^\\top &= (\\un A^\\top)^{-1}.}\\tag 4$$ \n",
    "\n",
    "If the transpose of a square\n",
    "matrix is its inverse, i.e.,\n",
    "\n",
    "$$\\un A^\\top\\un A = \\un A\\un A^\\top = \\un I,\\tag 5$$ \n",
    "\n",
    "then it is referred to as\n",
    "an <span>*orthonormal matrix*</span>. \n"
   ]
  },
  {
   "cell_type": "markdown",
   "metadata": {
    "nbpresent": {
     "id": "dfa80671-16ae-4193-bc39-92f45580bf0e"
    }
   },
   "source": [
    "The <span>*trace*</span> of\n",
    "a square matrix is the sum of its diagonal elements:\n",
    "\n",
    "$${\\rm tr}\\ \\un A = a_{11}+a_{22}.$$ \n",
    "\n",
    "\n",
    "The trace has the properties\n",
    "$$\\eqalign{\n",
    "{\\rm tr}(\\un A + \\un B) &= {\\rm tr} \\un A + {\\rm tr} \\un B \\cr\n",
    "{\\rm tr}(\\un A\\un B) &= {\\rm tr}(\\un B\\un A).\\tag 6}$$"
   ]
  },
  {
   "cell_type": "code",
   "execution_count": null,
   "metadata": {
    "collapsed": false,
    "nbpresent": {
     "id": "2350d87f-b44a-406c-a814-e2b5770bed85"
    }
   },
   "outputs": [],
   "source": [
    "C = mat(random.rand(3,3))\n",
    "print C.I*C\n",
    "print trace(C.I*C)"
   ]
  },
  {
   "cell_type": "code",
   "execution_count": null,
   "metadata": {
    "collapsed": false,
    "nbpresent": {
     "id": "2b427c90-7c0e-47d4-b83b-036d17c51267"
    }
   },
   "outputs": [],
   "source": [
    "print B.I"
   ]
  },
  {
   "cell_type": "markdown",
   "metadata": {
    "nbpresent": {
     "id": "4d03c9fd-67a8-4b58-9090-cf970245579d"
    }
   },
   "source": [
    "The $p\\times p$ matrix $\\un A$ is <span>*symmetric*</span> if\n",
    "\n",
    "$$\\un A^\\top = \\un A.$$\n",
    "\n",
    "The $p\\times p$ symmetric matrix $\\un A$\n",
    "is <span>*positive definite*</span> if\n",
    "\n",
    "$$\\un x^\\top\\un A\\un x > 0\\quad\\hbox{for all }p\\hbox{-dimensional vectors } \\un x.$$\n",
    "\n",
    "The expression $\\un x^\\top\\un A\\un x$ is called a <span>*quadratic\n",
    "form*</span>.\n"
   ]
  },
  {
   "cell_type": "markdown",
   "metadata": {
    "nbpresent": {
     "id": "a1c4533e-5ff4-4016-9325-f37f22d88a87"
    }
   },
   "source": [
    "<span>**Exercise 1:**</span> Prove with the help of (6) that\n",
    "$\\un x^\\top\\un A\\un x = {\\rm tr}(\\un A \\un x\\un x^\\top)$.\n",
    "\n",
    "<span>*Cholesky decomposition*</span>: If $\\un A$ is symmetric positive\n",
    "definite, there exists a lower triangular matrix $\\un L$ such that\n",
    "$$A = \\un L\\un L^\\top.$$"
   ]
  },
  {
   "cell_type": "code",
   "execution_count": null,
   "metadata": {
    "collapsed": false,
    "nbpresent": {
     "id": "e4a2452e-7528-4e3d-8d1e-1ad3a91d14ee"
    }
   },
   "outputs": [],
   "source": [
    "# symmetric positive definite matrix\n",
    "C = mat(random.rand(100,3))\n",
    "S = C.T*C/100\n",
    "print S\n",
    "print\n",
    "L = linalg.cholesky(S)\n",
    "print L\n",
    "print\n",
    "print L*L.T"
   ]
  },
  {
   "cell_type": "markdown",
   "metadata": {
    "nbpresent": {
     "id": "d90f11f6-c837-4d6b-8f00-cfbd9d602694"
    }
   },
   "source": [
    "If $|\\un A|=0$, then $\\un A$ has no inverse and is said to be a\n",
    "<span>*singular matrix*</span>. If $\\un A$ is\n",
    "<span>*nonsingular*</span>, then the equation \n",
    "\n",
    "$$ \\un A \\un x = \\un 0 $$ \n",
    "\n",
    "only has the <span>*trivial solution*</span> $\\un x=\\un 0$. \n",
    "Thus, if $\\un A$ is non-singular and $\\un A\\un x = \\un 0$,\n",
    "\n",
    "$$\n",
    "\\un A^{-1}\\un A\\un x = \\un I\\un x = \\un x = \\un 0.\n",
    "$$\n",
    "\n",
    "\n",
    "If $\\un A$ is\n",
    "singular, the equation has at least one <span>*nontrivial\n",
    "solution*</span> $\\un x \\ne \\un 0$."
   ]
  },
  {
   "cell_type": "markdown",
   "metadata": {
    "nbpresent": {
     "id": "43dcf09a-0e14-44fb-9ab0-7b5eff7f553f"
    }
   },
   "source": [
    "A set of vectors $\\un x_1\\dots \\un x_r$ is said to be <span>*linearly\n",
    "dependent*</span> if there exists a set of scalars $c_1\\dots c_r$, not\n",
    "all of which are zero, such that $$\\sum_{i=1}^r c_i\\un x_i = \\un 0.$$\n",
    "Otherwise they are <span>*linearly independent*</span>.\n",
    "\n",
    "A matrix\n",
    "is said to have <span>*rank*</span> $r$ if the maximum number of\n",
    "linearly independent columns is $r$."
   ]
  },
  {
   "cell_type": "markdown",
   "metadata": {
    "nbpresent": {
     "id": "1b536408-d7e2-4a2f-b1ed-bfbb3fee20bd"
    }
   },
   "source": [
    "<span>**Eigenvalues and eigenvectors**</span>\n",
    "\n",
    "An <span>*eigenvalue problem*</span>: Find <span>*eigenvectors*</span>\n",
    "$\\un x$ and <span>*eigenvalues*</span> $\\lambda$ that satisfy the\n",
    "equation \n",
    "\n",
    "$$\\un A \\un x = \\lambda \\un x,\\tag 7$$ \n",
    "\n",
    "where $\\un A$ is a symmetric\n",
    "and positive definite matrix. This can be written equivalently as\n",
    "\n",
    "$$(\\un A-\\lambda\\un I)\\un x = \\un 0,$$\n",
    "\n",
    "so for a nontrivial solution we\n",
    "must have\n",
    "\n",
    "$$|\\un A-\\lambda\\un I| = 0.$$\n",
    "\n",
    "This is called the\n",
    "<span>*characteristic equation*</span>. If $\\un x$ has dimension $N$,\n",
    "then the characteristic equation has $N$ solutions $\\lambda_i$,\n",
    "$i=1\\dots N$. Correspondingly there are $N$ eigenvectors\n",
    "$\\un x=\\un x^{(i)}$, $i=1\\dots N$."
   ]
  },
  {
   "cell_type": "markdown",
   "metadata": {
    "collapsed": true,
    "nbpresent": {
     "id": "ae4ba65f-c454-42a3-9c76-5b5609e1d7c8"
    }
   },
   "source": [
    "<span>**Example:**</span> A $2\\times 2$ matrix eigenvalue problem, $\\un A\\un x = \\lambda \\un x$,\n",
    "The characteristic equation is\n",
    "\n",
    "$$(a_{11}-\\lambda)(a_{22}-\\lambda)-a^2_{12} = 0.$$ \n",
    "\n",
    "This is a quadratic\n",
    "equation in $\\lambda$ with solutions \n",
    "\n",
    "$$\\eqalign{\n",
    "\\lambda^{(1)} & = {1\\over 2}\\left( a_{11}+a_{22} +\\sqrt{(a_{11}+a_{22})^2-4(a_{11}a_{22}-a_{12}^2)}\\right)\\cr\n",
    "\\lambda^{(2)} & = {1\\over 2}\\left( a_{11}+a_{22} -\\sqrt{(a_{11}+a_{22})^2-4(a_{11}a_{22}-a_{12}^2)}\\right).}$$\n"
   ]
  },
  {
   "cell_type": "markdown",
   "metadata": {
    "nbpresent": {
     "id": "e3a5eb66-28f0-4bc8-8fe4-666df0c9f085"
    }
   },
   "source": [
    "Thus there are two eigenvalues and, correspondingly, two eigenvectors\n",
    "\n",
    "$$\\un x^{(1)},\\quad\\un x^{(2)}.$$ \n",
    "\n",
    "The eigenvectors can be obtained by\n",
    "first substituting $\\lambda^{(1)}$ and then $\\lambda^{(2)}$ into\n",
    "Equation (7) and solving for $x_1$ and $x_2$ each time.\n",
    "\n",
    "<span>**Exercise 2:**</span> Show that the eigenvectors are orthogonal,\n",
    "$$(\\un x^{(1)})^\\top \\un x^{(2)} = 0.$$"
   ]
  },
  {
   "cell_type": "markdown",
   "metadata": {
    "nbpresent": {
     "id": "4ac63eb9-d0df-44b0-b1ba-7212d445f262"
    }
   },
   "source": [
    "The eigenvectors can be always chosen to have unit length,\n",
    "\n",
    "$$\\|\\un x^{(1)}\\| = \\|\\un x^{(2)}\\| = 1.$$\n",
    "\n",
    "The matrix formed by\n",
    "two eigenvectors, for instance\n",
    "$$\\un U =(\\un x^{(1)},\\un x^{(2)}) = \\pmatrix{x^{(1)}_1 & x^{(2)}_1\\cr x^{(1)}_2 & x^{(2)}_2},$$\n",
    "is orthonormal: $$\\un U^\\top\\un U = \\un I$$ and is said to\n",
    "<span>*diagonalize*</span> the matrix $\\un A$:\n",
    "$$\\un U^\\top \\un A \\un U = \\pmatrix{\\lambda^{(1)} & 0\\cr 0 & \\lambda^{(2)}} = \\bf\\Lambda,\\tag 8$$"
   ]
  },
  {
   "cell_type": "code",
   "execution_count": null,
   "metadata": {
    "collapsed": false,
    "nbpresent": {
     "id": "02abc7ee-a260-4534-9284-fc4f9166f48c"
    }
   },
   "outputs": [],
   "source": [
    "lmda,U = linalg.eig(S)\n",
    "print lmda\n",
    "print\n",
    "print U\n",
    "print\n",
    "print U.T*U\n",
    "print\n",
    "print U.T*S*U"
   ]
  },
  {
   "cell_type": "markdown",
   "metadata": {
    "nbpresent": {
     "id": "89e67425-9add-4b86-9b07-b74177becc8b"
    }
   },
   "source": [
    "<span>**Singular value decomposition (SVD)**</span>\n",
    "\n",
    "Simply by rewriting (8), we get a special form of <span>*singular value\n",
    "decomposition*</span> (SVD) for symmetric matrices:\n",
    "\n",
    "$$\\un A = \\un U\\bf\\Lambda\\un U^\\top.$$ \n",
    "\n",
    "This says that any symmetric matrix\n",
    "$\\un A$ can be factored into the product of an orthonormal matrix\n",
    "$\\un U$ times a diagonal matrix $\\bf\\Lambda$ times the transpose of $\\un U$\n",
    "(also called the <span>*eigen-decomposition of $\\un A$*</span>).  It can be written in the form\n",
    "\n",
    "$$\n",
    "\\un A = \\sum_{i=1}^n \\lambda_i\\un x^{(i)}\\un x^{(i)\\top}.\n",
    "$$\n"
   ]
  },
  {
   "cell_type": "markdown",
   "metadata": {
    "nbpresent": {
     "id": "c7f3a739-fbe5-4e16-a408-5128d643d22b"
    }
   },
   "source": [
    "The SVD of a general $m\\times n$ matrix $\\un A$ with $m>n$ is\n",
    "\n",
    "$$\\un A = \\un U\\un W \\un V^\\top$$\n",
    "\n",
    "where $\\un U$ is $m\\times n$ with\n",
    "$\\un U^\\top\\un U = \\un I_n$, \n",
    "\n",
    "$$\\un W = \\pmatrix{w_1  & \\cdots & 0 \\cr\n",
    "                 \\vdots  &\\vdots &\\vdots\\cr\n",
    "                 0  &\\cdots & w_n}$$ \n",
    "                 \n",
    "and $\\un V$ is $n\\times n$ with\n",
    "$\\un V^\\top\\un V = \\un V\\un V^\\top = \\un I_n$"
   ]
  },
  {
   "cell_type": "code",
   "execution_count": null,
   "metadata": {
    "collapsed": false,
    "nbpresent": {
     "id": "a72c8929-e7b4-41ba-8878-2e48593eaffd"
    }
   },
   "outputs": [],
   "source": [
    "U,w,_ = linalg.svd(S)\n",
    "print U\n",
    "print\n",
    "print w\n",
    "# Singular matrix\n",
    "U,w,_ = linalg.svd(B)\n",
    "print\n",
    "print U\n",
    "print\n",
    "print w"
   ]
  },
  {
   "cell_type": "markdown",
   "metadata": {
    "nbpresent": {
     "id": "0d32b035-9ac8-448f-b14e-ab9f9adfaa18"
    }
   },
   "source": [
    "If $\\un A$ is singular and we order the eigenvalues and eigenvectors in order of decreasing eigenvalue, then the\n",
    "eigendecomposition reads\n",
    "\n",
    "$$\n",
    "\\un A = \\sum_{i=1}^r \\lambda_i\\un x^{(i)}\\un x^{(i)\\top},\n",
    "$$\n",
    "\n",
    "where $r$ is the number of nonzero eigenvalues.  Accordingly,\n",
    "\n",
    "$$\n",
    "\\un A = \\un {U_r}\\bf\\Lambda_r\\un U_r^\\top,\n",
    "$$\n",
    "\n",
    "where\n",
    "\n",
    "$$\n",
    "\\un U_r = (\\un {x}^{(1)},\\dots , \\un x^{(r)}),\\quad \\bf\\Lambda = \\pmatrix{\\lambda_1 & 0         & \\cdots & 0 \\cr\n",
    "                                                                        0      & \\lambda_2 & \\cdots & 0 \\cr\n",
    "                                                                        \\vdots &   \\vdots  & \\ddots & \\vdots \\cr\n",
    "                                                                        0      &  0        & \\cdots & \\lambda_r} .\n",
    "$$\n"
   ]
  },
  {
   "cell_type": "markdown",
   "metadata": {
    "nbpresent": {
     "id": "174d75b4-b7d1-479e-8e64-6e11d20b9812"
    }
   },
   "source": [
    "The *pseudoinverse* of the symmetric, singular matrix $\\un A$ is defined as\n",
    "\n",
    "$$\n",
    "\\un A^+ = \\un U_r\\bf\\Lambda_r^{-1}\\un U_r^\\top.\n",
    "$$"
   ]
  },
  {
   "cell_type": "code",
   "execution_count": null,
   "metadata": {
    "collapsed": false,
    "nbpresent": {
     "id": "31a21b8f-d34c-4a3d-85fd-5b35528d84f8"
    }
   },
   "outputs": [],
   "source": [
    "u = U[:,0]\n",
    "print 'pseudo inverse =\\n %s' % str(u*(1/w[0])*u.T)"
   ]
  },
  {
   "cell_type": "markdown",
   "metadata": {
    "nbpresent": {
     "id": "a01e1489-2afa-4bfc-90d9-7e56e983ded8"
    }
   },
   "source": [
    "Suppose $\\un A$ is a $N\\times N$ symmetric matrix. Then its eigenvectors\n",
    "$\\un x_i$, $i=1\\dots N$, are orthogonal and any $N$-component vector\n",
    "$\\un u$ can be expressed as a linear combination of them, \n",
    "\n",
    "$$\\un u = \\sum_{i=1}^N\\beta_i\\un x_i.$$\n",
    "\n",
    "But then we have\n",
    "\n",
    "$$\\un u^\\top\\un A\\un u = \\un u^\\top\\sum_i\\beta_i\\lambda_i\\un x_i\n",
    "=\\sum_i\\beta_i^2\\lambda_i,$$ \n",
    "\n",
    "where $\\lambda_i$, $i=1\\dots N$, are the\n",
    "eigenvalues of $\\un A$. \n",
    "\n",
    "So $\\un A$ is positive definite if and\n",
    "only if all of its eigenvalues are positive."
   ]
  },
  {
   "cell_type": "markdown",
   "metadata": {
    "nbpresent": {
     "id": "f347ffad-7c9e-47fd-8655-80fdcdc957eb"
    }
   },
   "source": [
    "<span>**Lagrange multipliers**</span>\n",
    "\n",
    "A <span>*vector partial derivative*</span> is written in the form\n",
    "${\\partial\\over\\partial\\un x}$. For instance in two dimensions:\n",
    "\n",
    "$${\\partial\\over \\partial\\un x} =\n",
    "\\pmatrix{1\\cr 0}{\\partial\\over \\partial x_1}+\\pmatrix{0\\cr 1}{\\partial\\over \\partial x_2}.$$\n",
    "\n",
    "This operator (also called the <span>*gradient*</span>) arranges the\n",
    "partial derivatives of any scalar function of the vector $\\un x$ with\n",
    "respect to each of its components into a column vector, e.g.,\n",
    "\n",
    "$${\\partial f(\\un x)\\over\\partial\\un x}=\\pmatrix{\\partial f(\\un x)\\over\\partial x_1\\cr\n",
    "                                               {\\partial f(\\un x)\\over\\partial x_2}}.$$"
   ]
  },
  {
   "cell_type": "markdown",
   "metadata": {
    "nbpresent": {
     "id": "a861e329-ea9b-421f-ae9c-9760073f69e5"
    }
   },
   "source": [
    "The operations with vector derivatives correspond closely to operations\n",
    "with ordinary scalar derivatives:\n",
    "\n",
    "$${\\partial \\over \\partial\\un x}(\\un x^\\top \\un y) = \\un y\\quad\\hbox{analogous to}\n",
    "\\quad {\\partial\\over \\partial x}xy=y$$\n",
    "\n",
    "$${\\partial \\over \\partial\\un x}(\\un x^\\top \\un x) = 2\\un x\\quad\\hbox{analogous to}\n",
    "\\quad {\\partial \\over \\partial x}x^2=2x.$$ \n"
   ]
  },
  {
   "cell_type": "markdown",
   "metadata": {
    "nbpresent": {
     "id": "b1d3434d-63a1-49d2-8eb6-0d7ead8e25b1"
    }
   },
   "source": [
    "For quadratic forms we have\n",
    "\n",
    "$$\\eqalign{\n",
    "{\\partial\\over\\partial \\un x}(\\un x^\\top \\un A \\un y)&=\\un A \\un y\\cr\n",
    "{\\partial\\over\\partial \\un y}(\\un x^\\top \\un A \\un y)&=\\un A^\\top \\un x}$$\n",
    "\n",
    "and\n",
    "\n",
    "$${\\partial\\over\\partial \\un x}(\\un x^\\top \\un A \\un x)=\\un A \\un x+\\un A^\\top\\un x.$$"
   ]
  },
  {
   "cell_type": "markdown",
   "metadata": {
    "nbpresent": {
     "id": "dfa09f31-f1f3-4e3a-a2cb-106e09093df4"
    }
   },
   "source": [
    "If $\\un A$ is a symmetric matrix\n",
    "\n",
    "$${\\partial\\over\\partial \\un x}(\\un x^\\top \\un A \\un x)=2\\un A \\un x.$$\n",
    "\n",
    "<span>**Exercise 3:**</span> What is\n",
    "${\\partial\\over\\partial\\un x} {1 \\over \\un x^\\top\\un A \\un y}$?"
   ]
  },
  {
   "cell_type": "markdown",
   "metadata": {
    "nbpresent": {
     "id": "a0ce267c-a8e8-4ae3-ad90-e2957cb52e57"
    }
   },
   "source": [
    "Suppose $x^*$ is a stationary point of the function $f(x)$, by which is meant that its\n",
    "first derivative vanishes at that point:\n",
    "\n",
    "$$\n",
    "{d\\over dx}f(x^*)={d\\over dx}f(x)\\Big|_{x=x^*}= 0;\n",
    "$$\n",
    "\n",
    "Then $f(x^*)$ is a local minimum if the second derivative at\n",
    "$x^*$ is positive,\n",
    "\n",
    "$$\n",
    "{d^2\\over dx^2}f(x^*)>0.\n",
    "$$\n",
    "\n",
    "This is easliy seen from the Taylor expnsion fo $f(x)$ about $x^*$:\n",
    "\n",
    "$$\n",
    "f(x)= f(x^*)+(x-x^*){d\\over dx}f(x^*)+{1\\over 2}(x-x^*)^2{d^2\\over dx^2}f(x^*)+\\dots\\ .\n",
    "$$"
   ]
  },
  {
   "cell_type": "markdown",
   "metadata": {
    "nbpresent": {
     "id": "f741e37d-78d5-40b6-9ae1-5e1c605e7bfc"
    }
   },
   "source": [
    "The Taylor expansion of a scalar function of a vector $\\un x$ about\n",
    "$\\un x^*$ is\n",
    "\n",
    "$$f(\\un x) = f(\\un x^*)+(\\un x-\\un x^*)^\\top{\\partial f(\\un x^*)\\over\\partial\\un x}\n",
    "+{1\\over 2}(\\un x-\\un x^*)^\\top\\un H(\\un x^*)(\\un x-\\un x^*)+\\dots,$$\n",
    "\n",
    "where $\\un H$ is called the <span>*Hessian matrix*</span>. Its\n",
    "elements are given by\n",
    "\n",
    "$$\\left(\\un H(\\un x^*)\\right)_{ij} = {\\partial^2 f(\\un x^*)\\over\\partial x_i\\partial x_j},$$\n",
    "\n",
    "and it is a symmetric matrix. Note that we can write\n",
    "\n",
    "$$\\un H(\\un x^*)= {\\partial\\over\\partial\\un x} {\\partial\\over\\partial\\un x^\\top} f(\\un x^*) =  {\\partial^2 f(\\un x^*)\\over\\partial \\un x\\partial\\un x^\\top}.$$"
   ]
  },
  {
   "cell_type": "markdown",
   "metadata": {
    "nbpresent": {
     "id": "ed75d8a0-c7f7-418a-ba67-cc5adab8d499"
    }
   },
   "source": [
    "At the stationary point the vector derivative with respect to $\\un x$\n",
    "vanishes, \n",
    "\n",
    "$${\\partial f(\\un x^*)\\over\\partial\\un x}=\\un 0,$$ \n",
    "\n",
    "so we have\n",
    "\n",
    "$$f(\\un x) \\approx f(\\un x^*)+{1\\over 2}(\\un x-\\un x^*)^\\top\\un H(\\un x^*)(\\un x-\\un x^*).$$\n",
    "\n",
    "The condition for a local minimum is that the Hessian matrix be positive\n",
    "definite at the point $\\un x^*$.\n"
   ]
  },
  {
   "cell_type": "markdown",
   "metadata": {
    "nbpresent": {
     "id": "b00ca437-8e5b-40b5-aeb3-a11f0905927f"
    }
   },
   "source": [
    "Suppose that we wish to find the position $\\un x^*$ of a minimum (or\n",
    "maximum) of a function $f(\\un x)$. If there are no constraints, then we\n",
    "solve the set of equations\n",
    "\n",
    "$${\\partial f(\\un x)\\over \\partial x_i}= 0,\\quad i=1,2\\dots$$\n",
    "\n",
    "or, in\n",
    "terms of our notation for vector derivatives,\n",
    "\n",
    "$${\\partial f(\\un x)\\over \\partial\\un x}=\\un 0,$$ \n",
    "\n",
    "and examine the\n",
    "Hessian matrix at the solution point."
   ]
  },
  {
   "cell_type": "markdown",
   "metadata": {
    "nbpresent": {
     "id": "402c2f2b-78d0-4689-87fe-4ab4fe3e9e3c"
    }
   },
   "source": [
    "Suppose that $\\un x$ is <span>*constrained*</span> by the condition\n",
    "\n",
    "$$h(\\un x) = 0.$$ \n",
    "\n",
    "For example, in two dimensions we might have the\n",
    "constraint \n",
    "\n",
    "$$h(\\un x)=x_1^2+x_2^2-1=0$$\n",
    "\n",
    "which requires $\\un x$ to lie on\n",
    "a circle of radius 1.\n",
    "\n",
    "A very general way to find an extremum of $f(\\un x)$ subject to\n",
    "$h(\\un x)=0$ is to determine an <span>*unconstrained*</span> minimum or\n",
    "maximum of the <span>*Lagrange function*</span>\n",
    "\n",
    "$$L(\\un x) = f(\\un x)+\\lambda h(\\un x).$$"
   ]
  },
  {
   "cell_type": "markdown",
   "metadata": {
    "nbpresent": {
     "id": "730c59ad-bd44-4261-9e68-44ef5282feab"
    }
   },
   "source": [
    "The quantity $\\lambda$\n",
    "is a <span>*Lagrange multiplier*</span>. To find the extremum, we solve\n",
    "the set of equations $$\\eqalign{\n",
    "{\\partial\\over \\partial \\un  x}(f(\\un x)+\\lambda h(\\un x))&= \\un 0,\\cr\n",
    "{\\partial\\over \\partial \\lambda}(f(\\un x)+\\lambda h(\\un x))&= 0}$$ for\n",
    "$\\un x$ and $\\lambda$.\n",
    "\n",
    "<span>**Exercise 4:**</span> Find the minimum of\n",
    "\n",
    "$$f(\\un x) = ax_1^2 + bx_2^2$$ for $a,b>0$ subject to the constraint\n",
    "\n",
    "$$x_1+x_2=1.$$"
   ]
  },
  {
   "cell_type": "markdown",
   "metadata": {
    "nbpresent": {
     "id": "cbc72205-ff75-459a-beb6-9afe20684bda"
    }
   },
   "source": [
    "<span>**Example:**</span> (PCA) Find the maximum of\n",
    "\n",
    "$$f(\\un x) = \\un x^\\top\\un C\\un x,$$ \n",
    "\n",
    "where $\\un C$ is symmetric positive\n",
    "definite, subject to the constraint\n",
    "$$h(\\un x) = \\un x^\\top\\un x - 1 = 0.$$\n",
    "The Lagrange function is\n",
    "\n",
    "$$L(\\un x) = \\un x^\\top\\un C \\un x - \\lambda(\\un x^\\top \\un x - 1).$$\n",
    "\n",
    "Any extremum of $L$ occurs at a value of $\\un x$ for which\n",
    "\n",
    "$${\\partial L\\over \\partial\\un x}=2\\un C \\un x-2\\lambda\\un x=0,$$\n",
    "\n",
    "which\n",
    "is the eigenvalue problem\n",
    "\n",
    "$$\\un C \\un x = \\lambda\\un x.$$ \n"
   ]
  },
  {
   "cell_type": "markdown",
   "metadata": {
    "collapsed": true,
    "nbpresent": {
     "id": "789bc501-fe79-4c68-8069-6bf7525d8b6f"
    }
   },
   "source": [
    "Let $\\un u$ be\n",
    "an eigenvector with eigenvalue $\\lambda$. Then\n",
    "\n",
    "$$\\un u^\\top\\un C\\un u = \\lambda\\un u^\\top\\un u = \\lambda.$$\n",
    "\n",
    "So to\n",
    "maximize $f(\\un x)$ we must choose the eigenvector of $\\un C$ with\n",
    "maximum eigenvalue."
   ]
  }
 ],
 "metadata": {
  "anaconda-cloud": {},
  "kernelspec": {
   "display_name": "Python [Root]",
   "language": "python",
   "name": "Python [Root]"
  },
  "language_info": {
   "codemirror_mode": {
    "name": "ipython",
    "version": 2
   },
   "file_extension": ".py",
   "mimetype": "text/x-python",
   "name": "python",
   "nbconvert_exporter": "python",
   "pygments_lexer": "ipython2",
   "version": "2.7.12"
  },
  "nbpresent": {
   "slides": {
    "04fcb236-772a-4a02-920d-40d47996f8e6": {
     "id": "04fcb236-772a-4a02-920d-40d47996f8e6",
     "prev": "800d58fc-c008-411e-9810-68962189576d",
     "regions": {
      "7b2a5ff1-99ab-40b7-be20-bed9d0ae2fe6": {
       "attrs": {
        "height": 0.8,
        "width": 0.8,
        "x": 0.1,
        "y": 0.1
       },
       "content": {
        "cell": "789bc501-fe79-4c68-8069-6bf7525d8b6f",
        "part": "whole"
       },
       "id": "7b2a5ff1-99ab-40b7-be20-bed9d0ae2fe6"
      }
     }
    },
    "0b48d9f4-38ec-41a1-9b05-b5c4935d5ebf": {
     "id": "0b48d9f4-38ec-41a1-9b05-b5c4935d5ebf",
     "prev": "8d146a2d-e1c6-4e5b-982f-760b7d1f248d",
     "regions": {
      "a8901061-5ba1-44fe-b7e0-6e2ee235cc9d": {
       "attrs": {
        "height": 0.8,
        "width": 0.8,
        "x": 0.1,
        "y": 0.1
       },
       "content": {
        "cell": "b50cf153-d41c-408c-9381-927375ac3b83",
        "part": "whole"
       },
       "id": "a8901061-5ba1-44fe-b7e0-6e2ee235cc9d"
      }
     }
    },
    "1335580c-4ccb-4cfe-80df-005a90933b80": {
     "id": "1335580c-4ccb-4cfe-80df-005a90933b80",
     "prev": "738fec7a-4278-4a93-8362-1f4b7eeeb586",
     "regions": {
      "d3264741-91a2-4829-973c-f34c26a437b7": {
       "attrs": {
        "height": 0.8,
        "width": 0.8,
        "x": 0.1,
        "y": 0.1
       },
       "content": {
        "cell": "ed75d8a0-c7f7-418a-ba67-cc5adab8d499",
        "part": "whole"
       },
       "id": "d3264741-91a2-4829-973c-f34c26a437b7"
      }
     }
    },
    "14512cc3-7158-46e4-9051-83ac0a906873": {
     "id": "14512cc3-7158-46e4-9051-83ac0a906873",
     "prev": "96ce2397-e812-4d05-8987-8d7adda6df49",
     "regions": {
      "833c2f21-b900-448c-b45a-97442ac5a07c": {
       "attrs": {
        "height": 0.8,
        "width": 0.8,
        "x": 0.1,
        "y": 0.1
       },
       "content": {
        "cell": "dfa09f31-f1f3-4e3a-a2cb-106e09093df4",
        "part": "whole"
       },
       "id": "833c2f21-b900-448c-b45a-97442ac5a07c"
      }
     }
    },
    "1f72228c-922e-43a3-baee-2bc78fe3e771": {
     "id": "1f72228c-922e-43a3-baee-2bc78fe3e771",
     "prev": "6a80ecd7-114e-4ac6-a4fc-631a3e55934e",
     "regions": {
      "677bdca1-f347-445f-8100-5c23815588de": {
       "attrs": {
        "height": 0.8,
        "width": 0.8,
        "x": 0.1,
        "y": 0.1
       },
       "content": {
        "cell": "89e67425-9add-4b86-9b07-b74177becc8b",
        "part": "whole"
       },
       "id": "677bdca1-f347-445f-8100-5c23815588de"
      }
     }
    },
    "209aa75d-7378-4275-b597-2e3b9ea5ffc6": {
     "id": "209aa75d-7378-4275-b597-2e3b9ea5ffc6",
     "prev": "899d454c-9960-4c94-aaec-a5e92f0fe0f2",
     "regions": {
      "80fd7a2d-4e7a-410b-9644-643ec5bdde64": {
       "attrs": {
        "height": 0.8,
        "width": 0.8,
        "x": 0.1,
        "y": 0.1
       },
       "content": {
        "cell": "2b427c90-7c0e-47d4-b83b-036d17c51267",
        "part": "whole"
       },
       "id": "80fd7a2d-4e7a-410b-9644-643ec5bdde64"
      }
     }
    },
    "27e14276-0678-485c-a762-8afaedccd6a2": {
     "id": "27e14276-0678-485c-a762-8afaedccd6a2",
     "prev": "d7805209-a3bd-435b-9331-b6e141542b87",
     "regions": {
      "bc5cc16e-ee26-44bc-8680-ed634e8238f2": {
       "attrs": {
        "height": 0.8,
        "width": 0.8,
        "x": 0.1,
        "y": 0.1
       },
       "content": {
        "cell": "e4a2452e-7528-4e3d-8d1e-1ad3a91d14ee",
        "part": "whole"
       },
       "id": "bc5cc16e-ee26-44bc-8680-ed634e8238f2"
      }
     }
    },
    "2df1cf20-3f7f-4216-930f-760c0f35f8ff": {
     "id": "2df1cf20-3f7f-4216-930f-760c0f35f8ff",
     "prev": null,
     "regions": {
      "3b0a7d35-889f-4d32-8205-953d82199fa7": {
       "attrs": {
        "height": 0.8,
        "width": 0.8,
        "x": 0.1,
        "y": 0.1
       },
       "content": {
        "cell": "5ea15087-2ae9-4c8f-8286-c240a6825ce7",
        "part": "whole"
       },
       "id": "3b0a7d35-889f-4d32-8205-953d82199fa7"
      }
     }
    },
    "317c2abe-c24e-4a72-8711-4c7cc344177b": {
     "id": "317c2abe-c24e-4a72-8711-4c7cc344177b",
     "prev": "d62da2d3-75ce-4485-a878-3cb0a0225892",
     "regions": {
      "fe3a41d3-989a-4f3c-a627-b493b2c94f0f": {
       "attrs": {
        "height": 0.8,
        "width": 0.8,
        "x": 0.1,
        "y": 0.1
       },
       "content": {
        "cell": "f347ffad-7c9e-47fd-8655-80fdcdc957eb",
        "part": "whole"
       },
       "id": "fe3a41d3-989a-4f3c-a627-b493b2c94f0f"
      }
     }
    },
    "541438c7-e094-466e-b4be-1ede21fa17e5": {
     "id": "541438c7-e094-466e-b4be-1ede21fa17e5",
     "prev": "8954b6c1-579e-4f4c-a688-53a48326f756",
     "regions": {
      "cdd1ddfd-a65e-4497-b0da-06b3d89c1edf": {
       "attrs": {
        "height": 0.8,
        "width": 0.8,
        "x": 0.1,
        "y": 0.1
       },
       "content": {
        "cell": "4ac63eb9-d0df-44b0-b1ba-7212d445f262",
        "part": "whole"
       },
       "id": "cdd1ddfd-a65e-4497-b0da-06b3d89c1edf"
      }
     }
    },
    "55982ac5-bc27-4872-8b22-f0297aaa6be9": {
     "id": "55982ac5-bc27-4872-8b22-f0297aaa6be9",
     "prev": "9d0e6055-168d-4302-8c25-a4d63d2263fd",
     "regions": {
      "e773fb5f-fbd2-4249-aea2-1948e0d5352e": {
       "attrs": {
        "height": 0.8,
        "width": 0.8,
        "x": 0.1,
        "y": 0.1
       },
       "content": {
        "cell": "96545b4c-5871-4803-b5bf-0293f45c4e14",
        "part": "whole"
       },
       "id": "e773fb5f-fbd2-4249-aea2-1948e0d5352e"
      }
     }
    },
    "5845c095-4375-412f-9994-5fba478993dd": {
     "id": "5845c095-4375-412f-9994-5fba478993dd",
     "prev": "0b48d9f4-38ec-41a1-9b05-b5c4935d5ebf",
     "regions": {
      "491d9680-f392-432a-b00c-de4c1a71d4d1": {
       "attrs": {
        "height": 0.8,
        "width": 0.8,
        "x": 0.1,
        "y": 0.1
       },
       "content": {
        "cell": "f1cf99e6-9744-4c86-981c-6f787294afff",
        "part": "whole"
       },
       "id": "491d9680-f392-432a-b00c-de4c1a71d4d1"
      }
     }
    },
    "5db3c3ce-a4c3-4298-acdd-f8a409f8b519": {
     "id": "5db3c3ce-a4c3-4298-acdd-f8a409f8b519",
     "prev": "62fb6061-20c7-4dfc-8465-180442092b71",
     "regions": {
      "0be63110-ae23-4562-9204-a83655c19287": {
       "attrs": {
        "height": 0.8,
        "width": 0.8,
        "x": 0.1,
        "y": 0.1
       },
       "content": {
        "cell": "31a21b8f-d34c-4a3d-85fd-5b35528d84f8",
        "part": "whole"
       },
       "id": "0be63110-ae23-4562-9204-a83655c19287"
      }
     }
    },
    "62fb6061-20c7-4dfc-8465-180442092b71": {
     "id": "62fb6061-20c7-4dfc-8465-180442092b71",
     "prev": "fb74c11a-c1b7-431d-8092-5b5cfee76619",
     "regions": {
      "2b1c16e7-acd1-44b7-9e3b-91c42fc016a2": {
       "attrs": {
        "height": 0.8,
        "width": 0.8,
        "x": 0.1,
        "y": 0.1
       },
       "content": {
        "cell": "174d75b4-b7d1-479e-8e64-6e11d20b9812",
        "part": "whole"
       },
       "id": "2b1c16e7-acd1-44b7-9e3b-91c42fc016a2"
      }
     }
    },
    "67375108-dc66-40d1-a7de-b0e7b015f622": {
     "id": "67375108-dc66-40d1-a7de-b0e7b015f622",
     "prev": "27e14276-0678-485c-a762-8afaedccd6a2",
     "regions": {
      "1fb8efed-24ec-48a7-a657-2f78ecdd83e6": {
       "attrs": {
        "height": 0.8,
        "width": 0.8,
        "x": 0.1,
        "y": 0.1
       },
       "content": {
        "cell": "d90f11f6-c837-4d6b-8f00-cfbd9d602694",
        "part": "whole"
       },
       "id": "1fb8efed-24ec-48a7-a657-2f78ecdd83e6"
      }
     }
    },
    "6a80ecd7-114e-4ac6-a4fc-631a3e55934e": {
     "id": "6a80ecd7-114e-4ac6-a4fc-631a3e55934e",
     "prev": "541438c7-e094-466e-b4be-1ede21fa17e5",
     "regions": {
      "08a8ce17-8097-45ff-b035-b8dee024b915": {
       "attrs": {
        "height": 0.8,
        "width": 0.8,
        "x": 0.1,
        "y": 0.1
       },
       "content": {
        "cell": "02abc7ee-a260-4534-9284-fc4f9166f48c",
        "part": "whole"
       },
       "id": "08a8ce17-8097-45ff-b035-b8dee024b915"
      }
     }
    },
    "6c4b1ea2-19a1-482c-99d7-54e585efdd61": {
     "id": "6c4b1ea2-19a1-482c-99d7-54e585efdd61",
     "prev": "fea69757-95fb-46b6-afcf-7db6838185de",
     "regions": {
      "1ea00f42-d0f0-43d1-811a-e2e0697db72a": {
       "attrs": {
        "height": 0.8,
        "width": 0.8,
        "x": 0.1,
        "y": 0.1
       },
       "content": {
        "cell": "9a407fde-3e7c-45db-bbdd-4d613c3b6f31",
        "part": "whole"
       },
       "id": "1ea00f42-d0f0-43d1-811a-e2e0697db72a"
      }
     }
    },
    "6f9bf662-1150-4f08-b2d2-5c931ca6e8fd": {
     "id": "6f9bf662-1150-4f08-b2d2-5c931ca6e8fd",
     "prev": "6c4b1ea2-19a1-482c-99d7-54e585efdd61",
     "regions": {
      "6a6dd8b9-fafe-46e4-bc2d-9f8a8d128a06": {
       "attrs": {
        "height": 0.8,
        "width": 0.8,
        "x": 0.1,
        "y": 0.1
       },
       "content": {
        "cell": "a2ec78e2-ea44-45b2-956e-e993255b83ae",
        "part": "whole"
       },
       "id": "6a6dd8b9-fafe-46e4-bc2d-9f8a8d128a06"
      }
     }
    },
    "738fec7a-4278-4a93-8362-1f4b7eeeb586": {
     "id": "738fec7a-4278-4a93-8362-1f4b7eeeb586",
     "prev": "f9fed66c-cbc8-493a-bde9-a8ad050b8ade",
     "regions": {
      "4e2909ce-a0d0-4252-b12f-35b1769b6ace": {
       "attrs": {
        "height": 0.8,
        "width": 0.8,
        "x": 0.1,
        "y": 0.1
       },
       "content": {
        "cell": "f741e37d-78d5-40b6-9ae1-5e1c605e7bfc",
        "part": "whole"
       },
       "id": "4e2909ce-a0d0-4252-b12f-35b1769b6ace"
      }
     }
    },
    "800d58fc-c008-411e-9810-68962189576d": {
     "id": "800d58fc-c008-411e-9810-68962189576d",
     "prev": "9a593e5a-def7-4e24-b57a-d59cb2cf76bf",
     "regions": {
      "1363f042-20b6-4ffa-ba8f-f155f22a44bd": {
       "attrs": {
        "height": 0.8,
        "width": 0.8,
        "x": 0.1,
        "y": 0.1
       },
       "content": {
        "cell": "cbc72205-ff75-459a-beb6-9afe20684bda",
        "part": "whole"
       },
       "id": "1363f042-20b6-4ffa-ba8f-f155f22a44bd"
      }
     }
    },
    "8954b6c1-579e-4f4c-a688-53a48326f756": {
     "id": "8954b6c1-579e-4f4c-a688-53a48326f756",
     "prev": "bfc812bc-0a6d-48e7-98f0-11f3d40ee8f6",
     "regions": {
      "ff6bed08-f2d0-4124-b55c-cc1975c8bb42": {
       "attrs": {
        "height": 0.8,
        "width": 0.8,
        "x": 0.1,
        "y": 0.1
       },
       "content": {
        "cell": "e3a5eb66-28f0-4bc8-8fe4-666df0c9f085",
        "part": "whole"
       },
       "id": "ff6bed08-f2d0-4124-b55c-cc1975c8bb42"
      }
     }
    },
    "899d454c-9960-4c94-aaec-a5e92f0fe0f2": {
     "id": "899d454c-9960-4c94-aaec-a5e92f0fe0f2",
     "prev": "ebf00c89-5896-42f7-89f2-e6ae644184e8",
     "regions": {
      "90c0aee8-62e3-4d2f-aa17-f58635c48c4e": {
       "attrs": {
        "height": 0.8,
        "width": 0.8,
        "x": 0.1,
        "y": 0.1
       },
       "content": {
        "cell": "2350d87f-b44a-406c-a814-e2b5770bed85",
        "part": "whole"
       },
       "id": "90c0aee8-62e3-4d2f-aa17-f58635c48c4e"
      }
     }
    },
    "8a349ee4-e796-4de1-8725-37680205c34f": {
     "id": "8a349ee4-e796-4de1-8725-37680205c34f",
     "prev": "5845c095-4375-412f-9994-5fba478993dd",
     "regions": {
      "0ae16de5-3318-4b55-824e-6f7ecc226f8d": {
       "attrs": {
        "height": 0.8,
        "width": 0.8,
        "x": 0.1,
        "y": 0.1
       },
       "content": {
        "cell": "8a12b525-f4f0-41f7-93f1-578a89fdcf05",
        "part": "whole"
       },
       "id": "0ae16de5-3318-4b55-824e-6f7ecc226f8d"
      }
     }
    },
    "8d146a2d-e1c6-4e5b-982f-760b7d1f248d": {
     "id": "8d146a2d-e1c6-4e5b-982f-760b7d1f248d",
     "prev": "c6671293-a6bb-4daa-8e5e-6862666fbf61",
     "regions": {
      "0696ce7a-f70e-4dbe-8a9d-7daa372911c4": {
       "attrs": {
        "height": 0.8,
        "width": 0.8,
        "x": 0.1,
        "y": 0.1
       },
       "content": {
        "cell": "3be244e5-df11-4b65-b9b6-62f17f419426",
        "part": "whole"
       },
       "id": "0696ce7a-f70e-4dbe-8a9d-7daa372911c4"
      }
     }
    },
    "917ab5ba-db9c-4adb-ba9c-f5fc3d53c216": {
     "id": "917ab5ba-db9c-4adb-ba9c-f5fc3d53c216",
     "prev": "fe4bfdc7-1685-4435-8e48-80ead9cae1b4",
     "regions": {
      "796f5b78-4dad-4271-8dcb-94ba6684db85": {
       "attrs": {
        "height": 0.8,
        "width": 0.8,
        "x": 0.1,
        "y": 0.1
       },
       "content": {
        "cell": "402c2f2b-78d0-4689-87fe-4ab4fe3e9e3c",
        "part": "whole"
       },
       "id": "796f5b78-4dad-4271-8dcb-94ba6684db85"
      }
     }
    },
    "96ce2397-e812-4d05-8987-8d7adda6df49": {
     "id": "96ce2397-e812-4d05-8987-8d7adda6df49",
     "prev": "9b626e2c-3b4a-4e6c-97a3-c4778f7e7d5c",
     "regions": {
      "fc4f20a1-cd0c-4554-ba0a-e358429ef01e": {
       "attrs": {
        "height": 0.8,
        "width": 0.8,
        "x": 0.1,
        "y": 0.1
       },
       "content": {
        "cell": "b1d3434d-63a1-49d2-8eb6-0d7ead8e25b1",
        "part": "whole"
       },
       "id": "fc4f20a1-cd0c-4554-ba0a-e358429ef01e"
      }
     }
    },
    "9a593e5a-def7-4e24-b57a-d59cb2cf76bf": {
     "id": "9a593e5a-def7-4e24-b57a-d59cb2cf76bf",
     "prev": "917ab5ba-db9c-4adb-ba9c-f5fc3d53c216",
     "regions": {
      "b49b6991-1d53-438a-a1d4-614168dcac9c": {
       "attrs": {
        "height": 0.8,
        "width": 0.8,
        "x": 0.1,
        "y": 0.1
       },
       "content": {
        "cell": "730c59ad-bd44-4261-9e68-44ef5282feab",
        "part": "whole"
       },
       "id": "b49b6991-1d53-438a-a1d4-614168dcac9c"
      }
     }
    },
    "9b626e2c-3b4a-4e6c-97a3-c4778f7e7d5c": {
     "id": "9b626e2c-3b4a-4e6c-97a3-c4778f7e7d5c",
     "prev": "317c2abe-c24e-4a72-8711-4c7cc344177b",
     "regions": {
      "8a4b0d24-11f6-40fa-9cf2-f233a6dffa36": {
       "attrs": {
        "height": 0.8,
        "width": 0.8,
        "x": 0.1,
        "y": 0.1
       },
       "content": {
        "cell": "a861e329-ea9b-421f-ae9c-9760073f69e5",
        "part": "whole"
       },
       "id": "8a4b0d24-11f6-40fa-9cf2-f233a6dffa36"
      }
     }
    },
    "9d0e6055-168d-4302-8c25-a4d63d2263fd": {
     "id": "9d0e6055-168d-4302-8c25-a4d63d2263fd",
     "prev": "df55865b-926a-4072-a9cd-13b1ffe864e0",
     "regions": {
      "58fbb50a-265f-46a2-aff8-30d7bb42af3d": {
       "attrs": {
        "height": 0.8,
        "width": 0.8,
        "x": 0.1,
        "y": 0.1
       },
       "content": {
        "cell": "d98043db-6044-4079-9635-f2fd96e9e302",
        "part": "whole"
       },
       "id": "58fbb50a-265f-46a2-aff8-30d7bb42af3d"
      }
     }
    },
    "a30af4ba-dc6d-466f-bd4d-ffafe268cb1f": {
     "id": "a30af4ba-dc6d-466f-bd4d-ffafe268cb1f",
     "prev": "1f72228c-922e-43a3-baee-2bc78fe3e771",
     "regions": {
      "df1dcaa5-8550-4d85-af2d-1a10533a3720": {
       "attrs": {
        "height": 0.8,
        "width": 0.8,
        "x": 0.1,
        "y": 0.1
       },
       "content": {
        "cell": "c7f3a739-fbe5-4e16-a408-5128d643d22b",
        "part": "whole"
       },
       "id": "df1dcaa5-8550-4d85-af2d-1a10533a3720"
      }
     }
    },
    "a781cae5-baff-4753-8623-7a14836af014": {
     "id": "a781cae5-baff-4753-8623-7a14836af014",
     "prev": "ff034ad2-0204-4620-b720-b00d8d3099b7",
     "regions": {
      "b96563cc-cadf-488c-8c30-6603a5710bbe": {
       "attrs": {
        "height": 0.8,
        "width": 0.8,
        "x": 0.1,
        "y": 0.1
       },
       "content": {
        "cell": "1b536408-d7e2-4a2f-b1ed-bfbb3fee20bd",
        "part": "whole"
       },
       "id": "b96563cc-cadf-488c-8c30-6603a5710bbe"
      }
     }
    },
    "b31d30ab-9adc-4651-af98-de6de46ac795": {
     "id": "b31d30ab-9adc-4651-af98-de6de46ac795",
     "prev": "2df1cf20-3f7f-4216-930f-760c0f35f8ff",
     "regions": {
      "12288b30-3325-40b5-a90f-eec32d8f946f": {
       "attrs": {
        "height": 0.8,
        "width": 0.8,
        "x": 0.1,
        "y": 0.1
       },
       "content": {
        "cell": "0de94609-ff96-4394-a29f-fe1e187e6ec5",
        "part": "whole"
       },
       "id": "12288b30-3325-40b5-a90f-eec32d8f946f"
      }
     }
    },
    "bfc812bc-0a6d-48e7-98f0-11f3d40ee8f6": {
     "id": "bfc812bc-0a6d-48e7-98f0-11f3d40ee8f6",
     "prev": "a781cae5-baff-4753-8623-7a14836af014",
     "regions": {
      "c2839481-5c7c-4cac-a892-ac61f374cbfc": {
       "attrs": {
        "height": 0.8,
        "width": 0.8,
        "x": 0.1,
        "y": 0.1
       },
       "content": {
        "cell": "ae4ba65f-c454-42a3-9c76-5b5609e1d7c8",
        "part": "whole"
       },
       "id": "c2839481-5c7c-4cac-a892-ac61f374cbfc"
      }
     }
    },
    "c6671293-a6bb-4daa-8e5e-6862666fbf61": {
     "id": "c6671293-a6bb-4daa-8e5e-6862666fbf61",
     "prev": "ccb45b13-7a02-4451-addc-73c9fcd97b53",
     "regions": {
      "bf1fa22a-54d4-4334-8502-96298da1469c": {
       "attrs": {
        "height": 0.8,
        "width": 0.8,
        "x": 0.1,
        "y": 0.1
       },
       "content": {
        "cell": "1cbc07a9-b8eb-4ef3-9ffc-51454a5481de",
        "part": "whole"
       },
       "id": "bf1fa22a-54d4-4334-8502-96298da1469c"
      }
     }
    },
    "cc719494-5f9b-410e-a2c7-03308738fca6": {
     "id": "cc719494-5f9b-410e-a2c7-03308738fca6",
     "prev": "a30af4ba-dc6d-466f-bd4d-ffafe268cb1f",
     "regions": {
      "e4e6353a-de72-44ad-a2a3-75f3545d87d1": {
       "attrs": {
        "height": 0.8,
        "width": 0.8,
        "x": 0.1,
        "y": 0.1
       },
       "content": {
        "cell": "a72c8929-e7b4-41ba-8878-2e48593eaffd",
        "part": "whole"
       },
       "id": "e4e6353a-de72-44ad-a2a3-75f3545d87d1"
      }
     }
    },
    "ccb45b13-7a02-4451-addc-73c9fcd97b53": {
     "id": "ccb45b13-7a02-4451-addc-73c9fcd97b53",
     "prev": "fca6c4dd-4814-4bf0-85d8-a79d8fe35437",
     "regions": {
      "c0596f3e-ab78-45c3-8a88-1d866273f9d0": {
       "attrs": {
        "height": 0.8,
        "width": 0.8,
        "x": 0.1,
        "y": 0.1
       },
       "content": {
        "cell": "d42c98fd-9cbb-4121-82b8-ae97bf9006f4",
        "part": "whole"
       },
       "id": "c0596f3e-ab78-45c3-8a88-1d866273f9d0"
      }
     }
    },
    "d3858406-895d-4c79-8515-dc74716cc12f": {
     "id": "d3858406-895d-4c79-8515-dc74716cc12f",
     "prev": "209aa75d-7378-4275-b597-2e3b9ea5ffc6",
     "regions": {
      "38459422-d378-4e7f-9188-387c2695ed91": {
       "attrs": {
        "height": 0.8,
        "width": 0.8,
        "x": 0.1,
        "y": 0.1
       },
       "content": {
        "cell": "4d03c9fd-67a8-4b58-9090-cf970245579d",
        "part": "whole"
       },
       "id": "38459422-d378-4e7f-9188-387c2695ed91"
      }
     }
    },
    "d62da2d3-75ce-4485-a878-3cb0a0225892": {
     "id": "d62da2d3-75ce-4485-a878-3cb0a0225892",
     "prev": "5db3c3ce-a4c3-4298-acdd-f8a409f8b519",
     "regions": {
      "87be1599-3826-46ca-9df2-0fdf0f73df78": {
       "attrs": {
        "height": 0.8,
        "width": 0.8,
        "x": 0.1,
        "y": 0.1
       },
       "content": {
        "cell": "a01e1489-2afa-4bfc-90d9-7e56e983ded8",
        "part": "whole"
       },
       "id": "87be1599-3826-46ca-9df2-0fdf0f73df78"
      }
     }
    },
    "d7805209-a3bd-435b-9331-b6e141542b87": {
     "id": "d7805209-a3bd-435b-9331-b6e141542b87",
     "prev": "d3858406-895d-4c79-8515-dc74716cc12f",
     "regions": {
      "0d3c34e4-e43c-4d12-8ee7-39655d95e097": {
       "attrs": {
        "height": 0.8,
        "width": 0.8,
        "x": 0.1,
        "y": 0.1
       },
       "content": {
        "cell": "a1c4533e-5ff4-4016-9325-f37f22d88a87",
        "part": "whole"
       },
       "id": "0d3c34e4-e43c-4d12-8ee7-39655d95e097"
      }
     }
    },
    "df55865b-926a-4072-a9cd-13b1ffe864e0": {
     "id": "df55865b-926a-4072-a9cd-13b1ffe864e0",
     "prev": "b31d30ab-9adc-4651-af98-de6de46ac795",
     "regions": {
      "c8789d0f-4cd7-4cd7-b248-349db2a1aa69": {
       "attrs": {
        "height": 0.8,
        "width": 0.8,
        "x": 0.1,
        "y": 0.1
       },
       "content": {
        "cell": "5fd864fc-cac9-4341-8fed-53d362562bf5",
        "part": "whole"
       },
       "id": "c8789d0f-4cd7-4cd7-b248-349db2a1aa69"
      }
     }
    },
    "ebf00c89-5896-42f7-89f2-e6ae644184e8": {
     "id": "ebf00c89-5896-42f7-89f2-e6ae644184e8",
     "prev": "6f9bf662-1150-4f08-b2d2-5c931ca6e8fd",
     "regions": {
      "58af0c84-4c23-4c96-b2ef-78b8ea78cd47": {
       "attrs": {
        "height": 0.8,
        "width": 0.8,
        "x": 0.1,
        "y": 0.1
       },
       "content": {
        "cell": "dfa80671-16ae-4193-bc39-92f45580bf0e",
        "part": "whole"
       },
       "id": "58af0c84-4c23-4c96-b2ef-78b8ea78cd47"
      }
     }
    },
    "f9fed66c-cbc8-493a-bde9-a8ad050b8ade": {
     "id": "f9fed66c-cbc8-493a-bde9-a8ad050b8ade",
     "prev": "14512cc3-7158-46e4-9051-83ac0a906873",
     "regions": {
      "e6d64c87-cce3-45e2-9661-e1c95cbadf7a": {
       "attrs": {
        "height": 0.8,
        "width": 0.8,
        "x": 0.1,
        "y": 0.1
       },
       "content": {
        "cell": "a0ce267c-a8e8-4ae3-ad90-e2957cb52e57",
        "part": "whole"
       },
       "id": "e6d64c87-cce3-45e2-9661-e1c95cbadf7a"
      }
     }
    },
    "fb74c11a-c1b7-431d-8092-5b5cfee76619": {
     "id": "fb74c11a-c1b7-431d-8092-5b5cfee76619",
     "prev": "cc719494-5f9b-410e-a2c7-03308738fca6",
     "regions": {
      "093fa35f-ae4d-4650-b043-d4f8d6dd5047": {
       "attrs": {
        "height": 0.8,
        "width": 0.8,
        "x": 0.1,
        "y": 0.1
       },
       "content": {
        "cell": "0d32b035-9ac8-448f-b14e-ab9f9adfaa18",
        "part": "whole"
       },
       "id": "093fa35f-ae4d-4650-b043-d4f8d6dd5047"
      }
     }
    },
    "fca6c4dd-4814-4bf0-85d8-a79d8fe35437": {
     "id": "fca6c4dd-4814-4bf0-85d8-a79d8fe35437",
     "prev": "55982ac5-bc27-4872-8b22-f0297aaa6be9",
     "regions": {
      "6b0b311b-a636-4c8f-aa9a-07f3d7428de9": {
       "attrs": {
        "height": 0.8,
        "width": 0.8,
        "x": 0.1,
        "y": 0.1
       },
       "content": {
        "cell": "fe0289ea-53e6-40a8-9dab-86375d151a02",
        "part": "whole"
       },
       "id": "6b0b311b-a636-4c8f-aa9a-07f3d7428de9"
      }
     }
    },
    "fe4bfdc7-1685-4435-8e48-80ead9cae1b4": {
     "id": "fe4bfdc7-1685-4435-8e48-80ead9cae1b4",
     "prev": "1335580c-4ccb-4cfe-80df-005a90933b80",
     "regions": {
      "cdad9caa-b5d6-407f-a231-abb5246238fe": {
       "attrs": {
        "height": 0.8,
        "width": 0.8,
        "x": 0.1,
        "y": 0.1
       },
       "content": {
        "cell": "b00ca437-8e5b-40b5-aeb3-a11f0905927f",
        "part": "whole"
       },
       "id": "cdad9caa-b5d6-407f-a231-abb5246238fe"
      }
     }
    },
    "fea69757-95fb-46b6-afcf-7db6838185de": {
     "id": "fea69757-95fb-46b6-afcf-7db6838185de",
     "prev": "8a349ee4-e796-4de1-8725-37680205c34f",
     "regions": {
      "d891dbe9-4101-498c-b49d-cb94ba3b6012": {
       "attrs": {
        "height": 0.8,
        "width": 0.8,
        "x": 0.1,
        "y": 0.1
       },
       "content": {
        "cell": "4ca31d12-e0f9-473f-9b96-d8a42a9b3ad9",
        "part": "whole"
       },
       "id": "d891dbe9-4101-498c-b49d-cb94ba3b6012"
      }
     }
    },
    "ff034ad2-0204-4620-b720-b00d8d3099b7": {
     "id": "ff034ad2-0204-4620-b720-b00d8d3099b7",
     "prev": "67375108-dc66-40d1-a7de-b0e7b015f622",
     "regions": {
      "72068f25-f8f2-4a4d-9397-039b800785dc": {
       "attrs": {
        "height": 0.8,
        "width": 0.8,
        "x": 0.1,
        "y": 0.1
       },
       "content": {
        "cell": "43dcf09a-0e14-44fb-9ab0-7b5eff7f553f",
        "part": "whole"
       },
       "id": "72068f25-f8f2-4a4d-9397-039b800785dc"
      }
     }
    }
   },
   "themes": {
    "default": "4b3fd9da-39a2-47bb-8f43-a24ed1c5b69a",
    "theme": {
     "4b3fd9da-39a2-47bb-8f43-a24ed1c5b69a": {
      "id": "4b3fd9da-39a2-47bb-8f43-a24ed1c5b69a",
      "palette": {
       "19cc588f-0593-49c9-9f4b-e4d7cc113b1c": {
        "id": "19cc588f-0593-49c9-9f4b-e4d7cc113b1c",
        "rgb": [
         252,
         252,
         252
        ]
       },
       "31af15d2-7e15-44c5-ab5e-e04b16a89eff": {
        "id": "31af15d2-7e15-44c5-ab5e-e04b16a89eff",
        "rgb": [
         68,
         68,
         68
        ]
       },
       "50f92c45-a630-455b-aec3-788680ec7410": {
        "id": "50f92c45-a630-455b-aec3-788680ec7410",
        "rgb": [
         155,
         177,
         192
        ]
       },
       "c5cc3653-2ee1-402a-aba2-7caae1da4f6c": {
        "id": "c5cc3653-2ee1-402a-aba2-7caae1da4f6c",
        "rgb": [
         43,
         126,
         184
        ]
       },
       "efa7f048-9acb-414c-8b04-a26811511a21": {
        "id": "efa7f048-9acb-414c-8b04-a26811511a21",
        "rgb": [
         25.118061674008803,
         73.60176211453744,
         107.4819383259912
        ]
       }
      },
      "rules": {
       "blockquote": {
        "color": "50f92c45-a630-455b-aec3-788680ec7410"
       },
       "code": {
        "font-family": "Anonymous Pro"
       },
       "h1": {
        "color": "c5cc3653-2ee1-402a-aba2-7caae1da4f6c",
        "font-family": "Lato",
        "font-size": 8
       },
       "h2": {
        "color": "c5cc3653-2ee1-402a-aba2-7caae1da4f6c",
        "font-family": "Lato",
        "font-size": 6
       },
       "h3": {
        "color": "50f92c45-a630-455b-aec3-788680ec7410",
        "font-family": "Lato",
        "font-size": 5.5
       },
       "h4": {
        "color": "c5cc3653-2ee1-402a-aba2-7caae1da4f6c",
        "font-family": "Lato",
        "font-size": 5
       },
       "h5": {
        "font-family": "Lato"
       },
       "h6": {
        "font-family": "Lato"
       },
       "h7": {
        "font-family": "Lato"
       },
       "pre": {
        "font-family": "Anonymous Pro",
        "font-size": 4
       }
      },
      "text-base": {
       "font-family": "Merriweather",
       "font-size": 4
      }
     }
    }
   }
  }
 },
 "nbformat": 4,
 "nbformat_minor": 1
}
