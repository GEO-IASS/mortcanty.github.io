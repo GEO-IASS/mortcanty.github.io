{
 "cells": [
  {
   "cell_type": "markdown",
   "metadata": {
    "nbpresent": {
     "id": "522686ef-b4e1-463d-81dc-c98b167fbc81"
    }
   },
   "source": [
    "## Part 2. Random Variables\n",
    "$$ \\def\\pr{\\hbox{Pr}}\n",
    "\\def\\var{\\hbox{var}}\n",
    "\\def\\cov{\\hbox{cov}}\n",
    "\\def\\corr{\\hbox{corr}}\n",
    "\\def\\dmX{\\un{\\mathcal{X}}}\n",
    "\\def\\dmG{\\un{\\mathcal{G}}}\n",
    "\\def\\dmK{\\un{\\mathcal{K}}}\n",
    "\\def\\dmS{\\un{\\mathcal{S}}}\n",
    "\\def\\dmC{\\un{\\mathcal{C}}}\n",
    "\\def\\dmZ{\\un{\\mathcal{Z}}}\n",
    "\\def\\bma{{\\mbox{\\boldmath $\\alpha$}}}\n",
    "\\def\\bmb{{\\mbox{\\boldmath $\\beta$}}}\n",
    "\\def\\bmu{{\\mbox{\\boldmath $\\mu$}}}\n",
    "\\def\\bme{{\\mbox{\\boldmath $\\epsilon$}}}\n",
    "\\def\\bmS{{\\mbox{\\boldmath $\\Sigma$}}}\n",
    "\\def\\bmL{{\\mbox{\\boldmath $\\Lambda$}}}\n",
    "\\def\\bmd{{\\mbox{\\boldmath $\\delta$}}}\n",
    "\\def\\bmD{{\\mbox{\\boldmath $\\Delta$}}}\n",
    "\\def\\bmG{{\\mbox{\\boldmath $\\Gamma$}}}\n",
    "\\def\\bmphi{{\\mbox{\\boldmath $\\phi$}}}\n",
    "\\def\\bmPhi{{\\mbox{\\boldmath $\\Phi$}}}\n",
    "\\def\\bmpsi{{\\mbox{\\boldmath $\\psi$}}}\n",
    "\\def\\bmtheta{{\\mbox{\\boldmath $\\theta$}}}\n",
    "\\def\\eq{\\begin{equation}}\n",
    "\\def\\eeq{\\end{equation}}\n",
    "\\def\\i{{\\bf i}}\n",
    "\\def\\un#1{{\\bf #1}}$$\n",
    "\n",
    "A measurement is never exactly reproducible. It is the outcome of a\n",
    "complex process influenced by instrument noise, ambient conditions, and\n",
    "so forth. It may be assumed, however, that there is an underlying random\n",
    "process with an associated probability distribution which restricts the\n",
    "possible outcomes in some way. Each time we make an observation we are\n",
    "sampling from that probability distribution. Put another way, we are\n",
    "observing a different possible <span>*realization*</span> of the random\n",
    "process.\n",
    "\n",
    "A <span>*random variable*</span> represents a quantity, which changes in\n",
    "an unpredictable way each time it is observed."
   ]
  },
  {
   "cell_type": "markdown",
   "metadata": {
    "nbpresent": {
     "id": "7648e300-7902-4601-a48f-fb36b5478c87"
    }
   },
   "source": [
    "Let some <span>*random experiment*</span>, e.g., a measurement, have a\n",
    "set $\\Omega$ of possible <span>*outcomes*</span>. This set is referred\n",
    "to as the <span>*sample space*</span> for the experiment. Subsets of\n",
    "$\\Omega$ are called <span>*events*</span>. An event will be said to have\n",
    "occurred whenever the outcome of the random experiment is contained\n",
    "within it.\n",
    "\n",
    "**Example:** The throw of two dice. The sample space:\n",
    "\n",
    "$$\\Omega = \\{(1,1),(1,2),(2,1)\\dots (6,6)\\}.$$ \n",
    "\n",
    "An event: the sum of the\n",
    "points is 7. \n",
    "\n",
    "$$\\{(1,6),(2,5),(3,4),(4,3),(5,2),(6,1)\\}$$ \n",
    "\n",
    "If for instance\n",
    "$(3,4)$ is thrown, then the event has occurred.\n"
   ]
  },
  {
   "cell_type": "markdown",
   "metadata": {
    "nbpresent": {
     "id": "5fc3818b-8a3b-4a11-a4a7-cdfa94800e16"
    }
   },
   "source": [
    "<span>**Definition:**</span> A <span>*random variable*</span>\n",
    "$Z: \\Omega\\mapsto \\Re$ is a function which maps all outcomes onto the\n",
    "set $\\Re$ of real numbers such that the set\n",
    "\n",
    "$$\\{\\omega\\in\\Omega\\mid Z(\\omega)\\le z\\} =: \\{Z\\le z\\}$$ \n",
    "\n",
    "is an event,\n",
    "i.e., a subset of $\\Omega$.\n",
    "\n",
    "Thus for the throw of two dice the sum of points $S$ is a random\n",
    "variable, since it maps all outcomes onto real numbers:\n",
    "\n",
    "$$S(1,1) = 2,\\ S(1,2)=S(2,1) = 3,\\ \\dots\\ S(6,6)=12,$$ \n",
    "\n",
    "and sets such as\n",
    "\n",
    "$$\\{S\\le 4\\} = \\{(1,1),(1,2),(2,1),(1,3),(3,1),(2,2)\\}$$ \n",
    "\n",
    "are subsets of\n",
    "the sample space, that is to say, they are events. The set $\\{S\\le 1\\}$\n",
    "is the empty set, whereas $\\{S\\le 12\\}=\\Omega$, the entire sample space."
   ]
  },
  {
   "cell_type": "markdown",
   "metadata": {
    "collapsed": true,
    "nbpresent": {
     "id": "16f2a4cb-a483-40ce-bf49-a16e651340a5"
    }
   },
   "source": [
    "On the basis of the probabilities for the individual outcomes we can associate a\n",
    "function $P(z)$ with the random variable $Z$ as follows:\n",
    "\n",
    "$$\n",
    "P(z) = \\pr(Z\\le z).\n",
    "$$\n",
    "\n",
    "This is the  probability of observing the event that the random variable $Z$ takes on a\n",
    "value less than or equal to $z$, e.g.,\n",
    "\n",
    "$$\n",
    "P(4) = \\pr(Z\\le 4) = 6/36 = 1/6.\n",
    "$$\n",
    "\n",
    "\n",
    "**Definition:**\n",
    "Given the random variable $Z$, then\n",
    "\n",
    "$$\n",
    "P(z) = {\\rm Pr}(Z\\le z),\\quad -\\infty < z < \\infty\n",
    "$$\n",
    "\n",
    "is called its *distribution function.*"
   ]
  },
  {
   "cell_type": "markdown",
   "metadata": {
    "nbpresent": {
     "id": "0fc1364d-7795-425e-be34-78c280c3f190"
    }
   },
   "source": [
    "When a random variable $Z$ is <span>*discrete*</span> and takes on\n",
    "values $z_1<z_2<z_3<\\dots,$ then the probabilities of the outcomes\n",
    "\n",
    "$$p(z_i) =\\pr(Z=z_i) = P(z_i) - P(z_{i-1}),\\quad i=1,2\\dots$$ \n",
    "\n",
    "constitute\n",
    "the <span>*mass function*</span> for the random variable."
   ]
  },
  {
   "cell_type": "markdown",
   "metadata": {
    "nbpresent": {
     "id": "ee5723a5-dbc3-4a0c-88b5-ed00da28f2e5"
    }
   },
   "source": [
    "**Example:** (Machine learning) The evaluation of a\n",
    "predictive model involves repeated trials with a finite number of\n",
    "independent test observations, keeping track of the number of times the\n",
    "model fails to predict correctly.\n",
    "\n",
    "Let $\\theta$ be the probability of failure in a single trial. The\n",
    "probability of getting $y$ failures (and hence $n-y$ successes) in $n$\n",
    "trials <span>*in a specific sequence*</span> is\n",
    "\n",
    "$$\\theta^y(1-\\theta)^{n-y}.$$ \n",
    "\n",
    "There is a factor $\\theta$ for each of the\n",
    "$y$ failures and a factor $(1-\\theta)$ for each of the $n-y$ successes.\n",
    "<span>*Taking the product is justified by the assumption that the trials\n",
    "are independent of each other.*</span>"
   ]
  },
  {
   "cell_type": "markdown",
   "metadata": {
    "nbpresent": {
     "id": "8c861a8c-df81-4a7e-ab16-e5f722c9436f"
    }
   },
   "source": [
    "The number of such sequences is just the number of ways of selecting $y$\n",
    "trials from $n$ possible ones. This is given by the <span>*binomial\n",
    "coefficient*</span> $n\\choose y$ so that the\n",
    "probability for $y$ failures in $n$ trials is\n",
    "\n",
    "$${n\\choose y}\\theta^y(1-\\theta)^{n-y} = {n!\\over (n-y)!\\ y!}\\theta^y(1-\\theta)^{n-y}.$$ \n",
    "\n",
    "The number of failures is then\n",
    "described by the discrete random variable $Y$ which is said to be\n",
    "<span>*binomially distributed*</span> with mass function given by \n",
    "\n",
    "$$\n",
    "p_{n,\\theta}(y) = \\cases{{n\\choose y}\\theta^y(1-\\theta)^{n-y} & for $y=0,1,2\\dots n$\\cr\n",
    "                        \\ 0 & otherwise.}\n",
    "$$\n",
    "\n",
    "Note that the values of $p_{n,\\theta}(y)$ are the terms in the binomial expansion of\n",
    "\n",
    "$$\n",
    "[\\theta+(1-\\theta)]^n = 1^n = 1,\n",
    "$$\n",
    "\n",
    "so the sum over the probabilities equals 1, as it should.\n"
   ]
  },
  {
   "cell_type": "code",
   "execution_count": 2,
   "metadata": {
    "collapsed": false,
    "nbpresent": {
     "id": "2f6fd263-0243-4c45-a6aa-e9784eeb4eda"
    }
   },
   "outputs": [
    {
     "data": {
      "image/png": "[encoded data removed]",
      "text/plain": [
       "<matplotlib.figure.Figure at 0x7f48b04147d0>"
      ]
     },
     "metadata": {},
     "output_type": "display_data"
    }
   ],
   "source": [
    "%matplotlib inline\n",
    "from numpy import *\n",
    "import matplotlib.pyplot as plt\n",
    "y,x = histogram(random.binomial(1000,0.2, 10000))\n",
    "p = plt.plot(x[:-1],y,marker='o',ls='')"
   ]
  },
  {
   "cell_type": "markdown",
   "metadata": {
    "nbpresent": {
     "id": "6ea8f5b1-70cb-42f1-b4e7-a17aa0c7c2d0"
    }
   },
   "source": [
    "**Continuous random variables**\n",
    "\n",
    "**Definition:** A function with values $p(z)\\ge 0$, defined over the set of all real numbers,\n",
    "is called a *probability density function* of the continuous random variable $Z$\n",
    "if and only if\n",
    "\n",
    "$$\n",
    "\\Pr(a\\le Z \\le b) = \\int_a^b p(z)dz\n",
    "$$\n",
    "\n",
    "for any real numbers $a\\le b$."
   ]
  },
  {
   "cell_type": "markdown",
   "metadata": {
    "nbpresent": {
     "id": "171fc9cd-5d3b-4f58-b696-160f55f9e324"
    }
   },
   "source": [
    "The quantity $p(z)dz$ is\n",
    "the probability that the associated random variable $Z$ lies within the\n",
    "infinitesimal interval $[z,z+dz]$. The integral over all such intervals is one:\n",
    "\n",
    "$$\n",
    "\\int_{-\\infty}^\\infty p(z)dz = 1.\n",
    "$$\n",
    "\n",
    "The distribution function $P(z)$ can be written in terms of the density function and vice-versa as\n",
    "\n",
    "$$\n",
    "P(z) = \\int_{-\\infty}^z p(t)dt,\\quad p(z) = {d\\over dz}P(z).\n",
    "$$"
   ]
  },
  {
   "cell_type": "markdown",
   "metadata": {
    "collapsed": true,
    "nbpresent": {
     "id": "f29d911a-495d-41b5-9b1d-e54a284be711"
    }
   },
   "source": [
    "**Moments of a distribution**\n",
    "\n",
    "The  *mean* or *expected value* of a continuous random variable $Z$ is defined by\n",
    "\n",
    "$$\n",
    "\\langle Z\\rangle = \\int_{-\\infty}^\\infty z\\cdot p(z) dz.\n",
    "$$\n",
    "\n",
    "The  *variance* of $Z$ describes how widely\n",
    "the realizations scatter around the mean:\n",
    "\n",
    "$$\n",
    "\\var(Z) = \\left\\langle(Z-\\langle Z\\rangle)^2\\right\\rangle.\n",
    "$$\n",
    "\n",
    "It is the mean of the random variable $Y=(Z-\\langle Z\\rangle)^2$."
   ]
  },
  {
   "cell_type": "markdown",
   "metadata": {
    "nbpresent": {
     "id": "94bcdd82-182b-40bc-b9f6-4b75646e67a4"
    }
   },
   "source": [
    "In terms of the density function $p_y(y)$ of $Y$, the  variance is given by\n",
    "\n",
    "$$\n",
    "\\var(Z) = \\int_{-\\infty}^\\infty y\\cdot p_y(y) dy,\n",
    "$$\n",
    "\n",
    "but in fact can be written more conveniently  as\n",
    "\n",
    "$$\n",
    "\\var(Z) =  \\int_{-\\infty}^\\infty (z-\\langle Z\\rangle)^2 p_z(z) dz,\n",
    "$$\n",
    "\n",
    "which is also referred to as the *second moment about the mean*.\n",
    "\n",
    "For discrete random variables, the integrals are replaced by summations over the allowed\n",
    "values of $Z$ and the probability density is replaced by the mass function."
   ]
  },
  {
   "cell_type": "markdown",
   "metadata": {
    "nbpresent": {
     "id": "f7cdb032-055e-4d32-a8e4-da40eccba9ed"
    }
   },
   "source": [
    "**Exercise 1:**\n",
    "\n",
    "(a)  Consider a *uniformly distributed* random variable $X$ with\n",
    "density function\n",
    "\n",
    "$$\n",
    "p(x) = \\cases{1 & if $0\\le x \\le 1$\\cr 0 & otherwise.}\n",
    "$$\n",
    "\n",
    "Calculate the mean and variance.\n",
    "\n",
    "\n",
    "(b) Prove the two *very*  useful identities:\n",
    "\n",
    "$$\\eqalign{\n",
    "\\var(Z) &= \\langle Z^2\\rangle - \\langle Z\\rangle^2\\cr\n",
    "\\var(a_0+a_1Z) &= a_1^2\\ \\var(Z)}\n",
    "$$"
   ]
  },
  {
   "cell_type": "markdown",
   "metadata": {
    "nbpresent": {
     "id": "661cc84f-6edd-4bb8-a1bd-a07f5694d8da"
    }
   },
   "source": [
    "It is very often the case that random variables are well-described by the *normal*\n",
    "or *Gaussian* density function\n",
    "\n",
    "$$\n",
    "p(z) = {1\\over \\sqrt{2\\pi}\\sigma}\\exp(-{1\\over 2\\sigma^2}(z-\\mu)^2).\n",
    "$$\n",
    "\n",
    "Its moments are\n",
    "\n",
    "$$\n",
    "\\langle Z\\rangle = \\mu,\\quad \\var(Z) = \\sigma^2,\n",
    "$$\n",
    "\n",
    "This is  abbreviated by writing\n",
    "\n",
    "$$\n",
    "Z \\sim \\mathcal{N}(\\mu,\\sigma^2).\n",
    "$$\n",
    "\n"
   ]
  },
  {
   "cell_type": "markdown",
   "metadata": {
    "nbpresent": {
     "id": "045add28-4e73-4836-81ce-9eacd1b0dfbf"
    }
   },
   "source": [
    "If $Z$ is normally distributed, then the *standardized* random variable\n",
    "$(Z-\\mu)/\\sigma$ has the *standard normal distribution* with zero mean and unit variance\n",
    "\n",
    "$$\n",
    "\\phi(t) ={1\\over \\sqrt{2\\pi}}\\exp(-t^2/2),\n",
    "$$\n",
    "\n",
    "with probability distribution function\n",
    "\n",
    "$$\n",
    "\\Phi(z) = {1\\over \\sqrt{2\\pi}}\\int_{-\\infty}^z \\exp(-t^2/2)dt = \\int_{-\\infty}^z \\phi(t)dt.\n",
    "$$\n",
    "\n",
    "This function has no closed form so its values are tabulated (or nowadays hard wired into some statistical computer routine)."
   ]
  },
  {
   "cell_type": "markdown",
   "metadata": {
    "nbpresent": {
     "id": "0670a897-b98e-4de9-a667-c49c1bf7040a"
    }
   },
   "source": [
    "From the symmetry of the density function it follows that\n",
    "\n",
    "$$\n",
    "\\Phi(-z) = 1-\\Phi(z),\n",
    "$$\n",
    "\n",
    "so it is sufficient to give tables only for $z\\ge 0$. Note that\n",
    "\n",
    "$$\n",
    "P(z) =\\pr(Z\\le z) = \\pr\\left({Z-\\mu\\over\\sigma}\\le {z-\\mu\\over\\sigma}\\right)=\\Phi\\left({z-\\mu\\over\\sigma}\\right),\n",
    "$$\n",
    "\n",
    "so that values for any normally distributed random variable can be read from the table."
   ]
  },
  {
   "cell_type": "markdown",
   "metadata": {
    "nbpresent": {
     "id": "098cc423-4419-491f-b408-1009f3e0190b"
    }
   },
   "source": [
    "The idea of a distribution function is easily extended to more than one\n",
    "random variable.\n",
    "Let \n",
    "\n",
    "$$\\un Z = \\pmatrix{Z_1\\cr Z_2}$$\n",
    "\n",
    "be a *random vector*,\n",
    "i.e., a vector of two random variables. The *joint distribution function*\n",
    "of $\\un Z$ is defined by\n",
    "\n",
    "$$\n",
    "P(\\un z) = P(z_1,z_2) = \\pr(Z_1\\le z_1 \\hbox{ and } Z_2\\le z_2)\n",
    "$$\n",
    "\n",
    "or, in terms of the *joint density function* $p(z_1,z_2)$,\n",
    "\n",
    "$$\n",
    "P(z_1,z_2) = \\int_{-\\infty}^{z_1} \\left[\\int_{-\\infty}^{z_2} p(t_1,t_2)dt_2\\right] dt_1\n",
    "$$\n",
    "\n",
    "Conversely,\n",
    "\n",
    "$$\n",
    "p(z_1,z_1) = {\\partial^2\\over \\partial z_1\\partial z_2}P(z_1,z_2).\n",
    "$$"
   ]
  },
  {
   "cell_type": "markdown",
   "metadata": {
    "nbpresent": {
     "id": "9e5907a0-1054-4859-b640-50b08428b7aa"
    }
   },
   "source": [
    "The *marginal distribution function* for $Z_1$ is given by\n",
    "\n",
    "$$\n",
    "P_1(z_1) = P(z_1,\\infty) =\n",
    " \\int_{-\\infty}^{z_1}\\left[ \\int_{-\\infty}^\\infty p(t_1,t_2)dt_2\\right]dt_1\n",
    "$$\n",
    "\n",
    "and similarly for $Z_2$. The *marginal density* is defined as\n",
    "\n",
    "$$\n",
    "p_1(z_1) = \\int_{-\\infty}^\\infty p(z_1,z_2)dz_2\n",
    "$$\n",
    "\n",
    "with a similar expression for $p_2(z_2)$."
   ]
  },
  {
   "cell_type": "markdown",
   "metadata": {
    "nbpresent": {
     "id": "55b38c7f-a0b4-4fc3-92ba-80343634c643"
    }
   },
   "source": [
    "**Example:**\n",
    "$$\n",
    "p(z_1,z_2) = \\cases{{2\\over3}(z_1+2z_2) & for $0\\le z_1,z_2\\le 1$\\cr 0 & elsewhere}\n",
    "$$\n",
    "\n",
    "Marginal density of $Z_1$:\n",
    "\n",
    "$$\n",
    "p_1(z_1) = \\int_0^1 \\frac{2}{3}(z_1+2z_2) dz_z = {2\\over 3}(z_1z_2 + z_2^2)\\Big|_{z_2=0}^{z_2=1} = {2\\over 3}(z_1+1).\n",
    "$$"
   ]
  },
  {
   "cell_type": "markdown",
   "metadata": {
    "nbpresent": {
     "id": "334eab81-1c02-4aba-9c45-f355b7ce22e0"
    }
   },
   "source": [
    "**Definition:**\n",
    "\n",
    "Two random variables $Z_1$ and $Z_2$ are said to be *independent* when their joint\n",
    "distribution is the product of their marginal distributions:\n",
    "\n",
    "$$\n",
    "P(z_1,z_2) = P_1(z_1)P_2(z_2)\n",
    "$$\n",
    "\n",
    "or, equivalently, when their joint density is the product of their marginal densities:\n",
    "\n",
    "$$\n",
    "p(z_1,z_2) = p_1(z_1)p_2(z_2).\n",
    "$$\n",
    "\n",
    "\n",
    "It follows that\n",
    "\n",
    "$$\n",
    "\\langle Z_1Z_2\\rangle = \\langle Z_1\\rangle\\langle Z_2\\rangle.\n",
    "$$\n",
    "\n",
    "**Exrcise 2.** Show this."
   ]
  },
  {
   "cell_type": "markdown",
   "metadata": {
    "nbpresent": {
     "id": "c7c35d70-9b46-4954-a594-50f5cf4c1a1f"
    }
   },
   "source": [
    "**Theorem:**\n",
    "\n",
    "If the random variables $Z_1,Z_2,\\dots$ are independent and normally distributed,\n",
    "then the linear combination\n",
    "\n",
    "$$\n",
    "a_1 Z_1 + a_2 Z_2 + \\dots\n",
    "$$\n",
    "\n",
    "is normally distributed with moments\n",
    "\n",
    "$$\n",
    "\\mu = a_1\\mu_1 + a_2\\mu_2 + \\dots,\\quad \\sigma^2 = a_1^2\\sigma_1^2+a_2^2\\sigma_2^2+\\dots.\n",
    "$$\n",
    "\n",
    "This theorem implies that, if  $Z_i$, $i=1\\dots n$, are identically distributed with mean $\\mu$ and variance $\\sigma^2$, then\n",
    "\n",
    "$$\n",
    "\\bar Z = {1\\over n}\\sum_{i=1}^n Z_i\n",
    "$$\n",
    "\n",
    "is normally distributed with mean $\\mu$ and variance $\\sigma^2/n$."
   ]
  },
  {
   "cell_type": "markdown",
   "metadata": {
    "nbpresent": {
     "id": "cd21b079-4a2e-40c4-985d-aad03ef73221"
    }
   },
   "source": [
    "That is, we have, with the Theorem,\n",
    "$$\n",
    "\\langle \\bar Z\\rangle = \\left\\langle{1\\over n}\\sum_{i=1}^n Z_i\\right\\rangle = {1\\over n} n \\mu = \\mu,\n",
    "$$\n",
    "and\n",
    "$$\n",
    "\\var(\\bar Z) = \\left({1\\over n}\\right)^2\\var\\left(\\sum_{i=1}^n Z_i\\right) = {1\\over n^2}n\\sigma^2 = {1\\over n}\\sigma^2.\n",
    "$$"
   ]
  },
  {
   "cell_type": "markdown",
   "metadata": {
    "nbpresent": {
     "id": "4e21cb6a-56e0-4b75-b74e-7de412452db4"
    }
   },
   "source": [
    "**Central Limit Theorem:**\n",
    "\n",
    " If random variables $Z_1,Z_2\\dots Z_n$ have\n",
    "equal distributions with mean $\\mu$ and variance $\\sigma^2$, then the random variable\n",
    "\n",
    "$$\n",
    "{1\\over \\sigma\\sqrt{n}}\\sum_{i=1}^n (Z_i-\\mu)\n",
    "$$\n",
    "\n",
    "is standard normally distributed in the limit $n\\to\\infty$.\n",
    "\n",
    "\n",
    "This theorem implies that\n",
    "\n",
    "$$\\bar Z = {1\\over n}\\sum_{i=1}^n Z_i$$\n",
    "\n",
    "is normally distributed with mean $\\mu$ and variance $\\sigma^2/n$ for large enough $n$."
   ]
  },
  {
   "cell_type": "code",
   "execution_count": 2,
   "metadata": {
    "collapsed": false,
    "nbpresent": {
     "id": "b37fe2e2-50aa-4333-8aeb-07d974b713bc"
    }
   },
   "outputs": [
    {
     "data": {
      "image/png": "[encoded data removed]",
      "text/plain": [
       "<matplotlib.figure.Figure at 0x7fa4a0990290>"
      ]
     },
     "metadata": {},
     "output_type": "display_data"
    }
   ],
   "source": [
    "y,x = histogram(sum(random.rand(12,1000),0))\n",
    "p = plt.plot(x[:-1],y,marker='o',ls='')"
   ]
  },
  {
   "cell_type": "markdown",
   "metadata": {
    "nbpresent": {
     "id": "a03292b1-6393-4525-b90d-d6a534a4638a"
    }
   },
   "source": [
    "A random variable $Z$ is said to have a *gamma distribution* if its probability\n",
    "density function is given by\n",
    "\n",
    "$$\n",
    "p_\\gamma(z) = \\cases{{1\\over \\beta^\\alpha\\Gamma(\\alpha)}z^{\\alpha-1}e^{-z/\\beta} & for $z>0$\\cr\n",
    "            0 & elsewhere,}\n",
    "$$\n",
    "\n",
    "where $\\alpha>0$ and $\\beta>0$ and where the *gamma function* $\\Gamma(\\alpha)$ is given by\n",
    "\n",
    "$$\n",
    "\\Gamma(\\alpha) = \\int_0^\\infty z^{\\alpha-1} e^{-z}dz,\\quad \\alpha>0.\n",
    "$$\n",
    "\n",
    "\n",
    "Note:\n",
    "$$\n",
    "\\Gamma(1) = \\int_0^\\infty e^{-z}dz = 1.\n",
    "$$\n",
    "\n",
    "$$\n",
    "\\Gamma(1/2) = \\sqrt{\\pi}.\n",
    "$$"
   ]
  },
  {
   "cell_type": "markdown",
   "metadata": {
    "nbpresent": {
     "id": "4ab24e1d-72c5-4a07-aad1-edf8c411353c"
    }
   },
   "source": [
    "**Exercise: 3**\n",
    "\n",
    "(a) \n",
    "\n",
    "Prove that, for $\\alpha>1$, $$\\Gamma(\\alpha)= (\\alpha-1)\\Gamma(\\alpha-1)$$\n",
    "and hence that, for positive integers $n$,\n",
    "\n",
    "$$\n",
    "\\Gamma(n) = (n-1)!\n",
    "$$\n",
    "\n",
    "(Hint: Use integration by parts)\n",
    "\n",
    "\n",
    "(b) \n",
    "\n",
    "Show that the gamma distribution has mean  and\n",
    "variance\n",
    "\n",
    "$$\n",
    "\\mu = \\langle Z\\rangle = \\alpha\\beta, \\quad \\sigma^2 = \\var(Z) = \\alpha\\beta^2.\n",
    "$$"
   ]
  },
  {
   "cell_type": "markdown",
   "metadata": {
    "nbpresent": {
     "id": "753d93ae-447c-4ba5-914e-981780833b3c"
    }
   },
   "source": [
    "The *chi-square distribution with $n$ degrees of freedom* is a special case of the gamma distribution.\n",
    "We get its density function with $\\beta = 2$ and $\\alpha = n/2$, i.e.,\n",
    "\n",
    "$$\n",
    "p_{\\chi^2;n}(z)=\\cases{{1 \\over 2^{n/2}\\Gamma(n/2)} z^{(n-2)/2} e^{-z/2} & for $z>0$\\cr 0 & otherwise}\n",
    "$$\n",
    "\n",
    "It follows that the chi-square distribution has mean $$\\mu = n$$ and variance\n",
    "$$\\sigma^2 = 2n.$$"
   ]
  },
  {
   "cell_type": "code",
   "execution_count": 3,
   "metadata": {
    "collapsed": false,
    "nbpresent": {
     "id": "30942409-d325-4068-abff-141523bb508d"
    }
   },
   "outputs": [
    {
     "data": {
      "image/png": "[encoded data removed]",
      "text/plain": [
       "<matplotlib.figure.Figure at 0x7fa4a09e7ad0>"
      ]
     },
     "metadata": {},
     "output_type": "display_data"
    }
   ],
   "source": [
    "import scipy.stats as st\n",
    "\n",
    "z = linspace(1,20,200)\n",
    "for i in range(1,6):\n",
    "    plt.plot(z,st.chi2.pdf(z,i))\n",
    "plt.show()"
   ]
  },
  {
   "cell_type": "markdown",
   "metadata": {
    "nbpresent": {
     "id": "ea465b35-6e23-4485-9ee9-efc57f328b5a"
    }
   },
   "source": [
    "**Theorem:** \n",
    "\n",
    "If the random variables $X_i$, $i=1\\dots n$, are independent and standard normally distributed\n",
    "(i.e., with mean $0$ and variance $1$) then the random variable\n",
    "\n",
    "$$\n",
    " Z=\\sum_{i=1}^n X_i^2\n",
    "$$\n",
    "\n",
    "is  chi-square distributed with $n$ degrees of freedom."
   ]
  },
  {
   "cell_type": "code",
   "execution_count": 3,
   "metadata": {
    "collapsed": false,
    "nbpresent": {
     "id": "6816a93b-61fa-4c1d-ab87-5584df17083d"
    }
   },
   "outputs": [
    {
     "data": {
      "image/png": "[encoded data removed]",
      "text/plain": [
       "<matplotlib.figure.Figure at 0x7f488b0b5350>"
      ]
     },
     "metadata": {},
     "output_type": "display_data"
    }
   ],
   "source": [
    "y,x = histogram(sum(random.normal(size=(4,10000))**2,0),bins=50)\n",
    "y = y/float(sum(y))\n",
    "p = plt.plot(x[:-1],y,'bo')"
   ]
  },
  {
   "cell_type": "markdown",
   "metadata": {
    "nbpresent": {
     "id": "d2c1ea7a-4ded-447c-8993-6842af862c12"
    }
   },
   "source": [
    "**Theorem:**\n",
    "\n",
    "Let $p_x(x)$ be the density function for\n",
    "random variable $X$ and \n",
    "\n",
    "$$y=u(x)$$ \n",
    "\n",
    "a monotonic function of $x$ for all\n",
    "values of $x$ for which $p_x(x)\\ne 0$. Then, for the corresponding\n",
    "values of $y$, the density function of the random variable $Y = u(X)$ is\n",
    "given by \n",
    "\n",
    "$$p_y(y) = p_x(w(y))\\left|dx\\over dy\\right|,$$ \n",
    "\n",
    "where\n",
    "$w(y) = u^{-1}(y)$, elsewhere $p_y(y) = 0$."
   ]
  },
  {
   "cell_type": "markdown",
   "metadata": {
    "nbpresent": {
     "id": "0aba02d9-993d-4922-9805-9e13bccf1f32"
    }
   },
   "source": [
    "**Example:** Suppose that a random variable $X$ has the\n",
    "exponential distribution with density function \n",
    "\n",
    "$$ p_x(x) = \\cases{e^{-x} & for $x>0$\\cr 0 & otherwise}$$ \n",
    "\n",
    "and we\n",
    "wish to determine the probability density of the random variable\n",
    "$Y=\\sqrt{X}$. The monotonic function $y=u(x)=\\sqrt{x}$ can be inverted\n",
    "to give \n",
    "\n",
    "$$x = w(y) = u^{-1}(y) = y^2.$$ \n",
    "\n",
    "Thus\n",
    "\n",
    "$$\\left|{dx\\over dy}\\right| = |2y|,\\quad p_x(w(y)) = e^{-y^2},$$ \n",
    "\n",
    "and we\n",
    "obtain $$p_y(y) = 2y e^{-y^2}, \\quad y>0.$$"
   ]
  },
  {
   "cell_type": "markdown",
   "metadata": {
    "nbpresent": {
     "id": "dcd7329d-1bd4-47e8-b4f5-3952ac2f01c6"
    }
   },
   "source": [
    "**Example** Let the random variable $X$ be standard normally distributed with density function\n",
    "\n",
    "$$\n",
    "\\phi(x) = {1\\over\\sqrt{2\\pi}}\\exp(-x^2/2), \\quad -\\infty < x < \\infty.\n",
    "$$\n",
    "\n",
    "Let $Y=|X|$ where $X$ has the distribution $\\Phi(x)$. For $y>0$ we have\n",
    "\n",
    "$$\n",
    "P(y) = \\pr(Y\\le y) = \\pr(|X|\\le y) = \\pr(-y\\le X\\le y) =\\Phi(y)-\\Phi(-y).\n",
    "$$\n",
    "\n",
    "Hence\n",
    "\n",
    "$$\n",
    "p(y) = {d\\over dy}P(y) = \\phi(y)-\\phi(-y) = 2\\phi(y),\n",
    "$$\n",
    "\n",
    "and clearly for $y\\le 0$, $p(y)=0$."
   ]
  },
  {
   "cell_type": "markdown",
   "metadata": {
    "nbpresent": {
     "id": "3138ac7f-a718-423c-a19e-b35d4f189870"
    }
   },
   "source": [
    "**Exercise 4:** Show that the random variable $Y=X^2$,\n",
    "where $X$ is standard normally distributed, has the chi-square density function with $m=1$\n",
    "degree of freedom."
   ]
  },
  {
   "cell_type": "markdown",
   "metadata": {
    "collapsed": true,
    "nbpresent": {
     "id": "7935c6f9-bace-4b1c-8386-7900d5a21527"
    }
   },
   "source": [
    "### Conditional probability\n",
    "\n",
    "If $A$ and $B$ are two events, i.e., two subsets of a sample space $\\Omega$,\n",
    "such that the probability of $A$ and $B$ occurring\n",
    "simultaneously is $\\pr(A,B)$, and if $\\pr(B)\\ne 0$, then the *conditional probability* of $A$ occurring\n",
    "given that $B$ occurs is defined to be\n",
    "\n",
    "$$\n",
    "\\pr(A\\mid B) = {\\pr(A,B)\\over \\pr(B)}.\\tag 1\n",
    "$$"
   ]
  },
  {
   "cell_type": "markdown",
   "metadata": {
    "collapsed": true,
    "nbpresent": {
     "id": "1d2f9570-2c87-4ef9-bee7-f9f1eefbfd03"
    }
   },
   "source": [
    "### Theorem of Total Probability\n",
    "\n",
    "If $A_1,A_2\\dots A_m$ are disjoint events associated with some random experiment\n",
    "and if their union is the set of all possible events, then for any event $B$\n",
    "\n",
    "$$\n",
    "\\pr(B) = \\sum_{i=1}^m \\pr(B\\mid A_i)\\pr(A_i)= \\sum_{i=1}^m\\pr(B,A_i).\\tag 2\n",
    "$$\n",
    "\n",
    "Both Equations (1) and (2) have their\n",
    "counterparts for probability density functions:\n",
    "\n",
    "$$\n",
    "p(x,y) = p(x\\mid y)p(y)\\tag 3\n",
    "$$\n",
    "\n",
    "and\n",
    "\n",
    "$$\n",
    "p(x) = \\int_{-\\infty}^\\infty p(x\\mid y)p(y)dy = \\int_{-\\infty}^\\infty p(x,y)dy.\\tag 4\n",
    "$$"
   ]
  },
  {
   "cell_type": "markdown",
   "metadata": {
    "nbpresent": {
     "id": "cba5b5d3-18c7-478a-90c5-df1ec525a83a"
    }
   },
   "source": [
    "### Bayes' Theorem\n",
    "\n",
    "*Bayes' Theorem* is the basic starting point for inference problems using\n",
    "probability theory as logic.\n",
    "\n",
    "**Motivation**\n",
    "\n",
    "Two measurement frequency distributions for two categories $C_1$ and $C_2$:\n",
    "\n",
    "<img src= 'bayes-1.png'  height='800' width='1200' />\n"
   ]
  },
  {
   "cell_type": "markdown",
   "metadata": {
    "nbpresent": {
     "id": "e1c8be02-8753-4b34-bf17-5e363dbc05b9"
    }
   },
   "source": [
    "1) $\\pr(C_k)$ = prior probability for category $C_k$,  \n",
    "\n",
    "$$\n",
    "\\pr(C_1) = {137\\over 137+63}\\quad \\pr(C_2) = {63\\over 137+63}\n",
    "$$\n",
    "    \n",
    " If we were to decide which category a new measurement will have, without futher information, then we would always say $C_1$."
   ]
  },
  {
   "cell_type": "markdown",
   "metadata": {
    "nbpresent": {
     "id": "163771c6-305c-454a-bf18-d9c0c17e9e08"
    }
   },
   "source": [
    "2) $\\pr(x) =$ probability for measuring a value $x$, e.g., probability for obtaining the value $x=4$:\n",
    "\n",
    "$$\n",
    "\\pr(x=4) = {21+5\\over 137+63}\n",
    "$$"
   ]
  },
  {
   "cell_type": "markdown",
   "metadata": {
    "nbpresent": {
     "id": "0e2b0130-f541-4b17-9c59-49e10a8328c9"
    }
   },
   "source": [
    "3) $\\pr(x\\mid C_k) = $ the conditional probability for measuring $x=4$ if the category is $C_k$, e.g.\n",
    "\n",
    "$$\n",
    "\\pr(x=4\\mid C_1) = {21\\over 137}\\quad \\pr(x=4\\mid C_2) = {5\\over 63}\n",
    "$$\n",
    "\n",
    "Clearly we have\n",
    "\n",
    "$$\n",
    "\\pr(x\\mid C_1)\\pr(C_1) + \\pr(x\\mid C_2)\\pr(C_2) = \\pr(x)\n",
    "$$"
   ]
  },
  {
   "cell_type": "markdown",
   "metadata": {
    "nbpresent": {
     "id": "cd6007b9-e0b4-4d6f-9755-8902f97169cd"
    }
   },
   "source": [
    "4) $\\pr(C_k\\mid x) =$ posterior probability for category $C_k$ given the measurement $x$, e.g.,\n",
    "\n",
    "$$\n",
    "\\pr(C_1\\mid x=4) = {21\\over 21+5}\n",
    "$$\n",
    "   "
   ]
  },
  {
   "cell_type": "markdown",
   "metadata": {
    "nbpresent": {
     "id": "a19de25d-6960-4093-ad08-61b8a8927e1c"
    }
   },
   "source": [
    "5) $\\pr(C_k,x) =$ the joint probability the the measurement will be in category $C_k$ and have value $x$, e.g.\n",
    "\n",
    "$$\n",
    "\\pr(C_1,x=4) = {21\\over 137+63}\n",
    "$$"
   ]
  },
  {
   "cell_type": "markdown",
   "metadata": {
    "nbpresent": {
     "id": "8bed8fd0-19d7-49ab-aab4-4cf522df1724"
    }
   },
   "source": [
    "Now it is easy to verify that\n",
    "\n",
    "$$\n",
    "\\eqalign{ \\pr(C_k,x) &= \\pr(C_k\\mid x)\\pr(x)\\quad\\hbox{and}\\cr\n",
    "\\pr(C_k,x) &= \\pr(x\\mid C_k)\\pr(C_k)}\n",
    "$$\n",
    "\n",
    "so that the posterior probability is given by\n",
    "\n",
    "$$\n",
    "\\pr(C_k\\mid x) = {\\pr(x\\mid C_k)\\pr(C_k)\\over \\pr(x)} = {\\pr(x\\mid C_k)\\pr(C_k)\\over \\pr(x\\mid C_1)\\pr(C_1) + \\pr(x\\mid C_2)\\pr(C_2)}\n",
    "$$\n",
    "    "
   ]
  },
  {
   "cell_type": "markdown",
   "metadata": {
    "nbpresent": {
     "id": "e347a878-e309-4db3-8234-5a9eaa147e56"
    }
   },
   "source": [
    "**Bayes' Theorem** If $A_1,A_2\\dots A_m$ are disjoint events associated with some random experiment,\n",
    "their union is the set of all possible events, and if $\\pr(A_i)\\ne 0$ for\n",
    "$i=1\\dots m$, then for any event $B$ for which $\\pr(B)\\ne 0$\n",
    "\n",
    "$$\n",
    "\\pr(A_k\\mid B) = {\\pr(B\\mid A_k)\\pr(A_k) \\over \\sum_{i=1}^m \\pr(B\\mid A_i)\\pr(A_i)}.\\tag 5\n",
    "$$\n",
    "\n",
    "In terms of probability density functions:\n",
    "\n",
    "$$\n",
    "p(a\\mid b) = {p(a\\mid b) \\over \\int p(b\\mid a)p(a)da}  = {p(b\\mid a)p(a) \\over  p(b)}.\\tag 6\n",
    "$$"
   ]
  },
  {
   "cell_type": "markdown",
   "metadata": {
    "nbpresent": {
     "id": "cdaa53f7-58f7-4b90-9bc1-05f28b16bb90"
    }
   },
   "source": [
    "\n",
    "**Exercise 5:** In the game *Lets Make a Deal!* a contestant is asked to choose between one\n",
    "of three doors. Behind one of the doors the prize is an automobile.\n",
    "After the contestant has chosen, the quizmaster  opens one of the other two doors to show\n",
    "that the automobile is not there. He then asks the contestant if she wishes to change her\n",
    "mind and switch from her original choice to the other unopened door.\n",
    "Use Bayes' Theorem to prove that her correct answer is \"yes.\""
   ]
  },
  {
   "cell_type": "code",
   "execution_count": null,
   "metadata": {
    "collapsed": true,
    "nbpresent": {
     "id": "4636e45b-03b4-45c7-90b1-c3f82eefeaf4"
    }
   },
   "outputs": [],
   "source": []
  }
 ],
 "metadata": {
  "anaconda-cloud": {},
  "kernelspec": {
   "display_name": "Python [conda root]",
   "language": "python",
   "name": "conda-root-py"
  },
  "language_info": {
   "codemirror_mode": {
    "name": "ipython",
    "version": 2
   },
   "file_extension": ".py",
   "mimetype": "text/x-python",
   "name": "python",
   "nbconvert_exporter": "python",
   "pygments_lexer": "ipython2",
   "version": "2.7.12"
  },
  "nbpresent": {
   "slides": {
    "094cc608-4faa-4f37-bba0-e25e3bed19e1": {
     "id": "094cc608-4faa-4f37-bba0-e25e3bed19e1",
     "prev": "e7ccfb76-395f-4b84-861f-9ecfbb291567",
     "regions": {
      "e6386db1-222a-42c6-b265-c7727f162fb6": {
       "attrs": {
        "height": 0.8,
        "width": 0.8,
        "x": 0.1,
        "y": 0.1
       },
       "content": {
        "cell": "1d2f9570-2c87-4ef9-bee7-f9f1eefbfd03",
        "part": "whole"
       },
       "id": "e6386db1-222a-42c6-b265-c7727f162fb6"
      }
     }
    },
    "15d69b40-4822-4164-97fa-12a56f8cb39c": {
     "id": "15d69b40-4822-4164-97fa-12a56f8cb39c",
     "prev": "f088ec73-233d-4a15-9ee2-57ca1d318703",
     "regions": {
      "1f257ebf-14db-4638-999c-c9a1b6105f7f": {
       "attrs": {
        "height": 0.8,
        "width": 0.8,
        "x": 0.1,
        "y": 0.1
       },
       "content": {
        "cell": "4636e45b-03b4-45c7-90b1-c3f82eefeaf4",
        "part": "whole"
       },
       "id": "1f257ebf-14db-4638-999c-c9a1b6105f7f"
      }
     }
    },
    "17b5145b-01c7-4f64-9210-29fb55050be1": {
     "id": "17b5145b-01c7-4f64-9210-29fb55050be1",
     "prev": "df58cbfc-4f86-4db0-a396-878523fda30f",
     "regions": {
      "bce16c62-544d-42a2-8e6e-f7ba104a7c2e": {
       "attrs": {
        "height": 0.8,
        "width": 0.8,
        "x": 0.1,
        "y": 0.1
       },
       "content": {
        "cell": "16f2a4cb-a483-40ce-bf49-a16e651340a5",
        "part": "whole"
       },
       "id": "bce16c62-544d-42a2-8e6e-f7ba104a7c2e"
      }
     }
    },
    "1d152037-8480-442c-8401-f4d1a84f174d": {
     "id": "1d152037-8480-442c-8401-f4d1a84f174d",
     "prev": "2b1f0179-693d-4eea-9769-7997dae1d76b",
     "regions": {
      "c50ff63c-1565-478b-a33b-9ab01a6224a4": {
       "attrs": {
        "height": 0.8,
        "width": 0.8,
        "x": 0.1,
        "y": 0.1
       },
       "content": {
        "cell": "f7cdb032-055e-4d32-a8e4-da40eccba9ed",
        "part": "whole"
       },
       "id": "c50ff63c-1565-478b-a33b-9ab01a6224a4"
      }
     }
    },
    "1ecdf732-2a42-4ca2-8558-68033c51a508": {
     "id": "1ecdf732-2a42-4ca2-8558-68033c51a508",
     "prev": "564f4ffe-5262-41ef-bd94-684e3039715d",
     "regions": {
      "d2c02eba-7ff9-46eb-b772-3b6a54bc5b5a": {
       "attrs": {
        "height": 0.8,
        "width": 0.8,
        "x": 0.1,
        "y": 0.1
       },
       "content": {
        "cell": "a19de25d-6960-4093-ad08-61b8a8927e1c",
        "part": "whole"
       },
       "id": "d2c02eba-7ff9-46eb-b772-3b6a54bc5b5a"
      }
     }
    },
    "2a6e97de-815d-4736-a34d-ed4a7320cd12": {
     "id": "2a6e97de-815d-4736-a34d-ed4a7320cd12",
     "prev": "c8c20b4d-e89c-4af2-850e-d0b41bbae14d",
     "regions": {
      "c51f9329-75f3-4888-9b0b-c26c1f288ef1": {
       "attrs": {
        "height": 0.8,
        "width": 0.8,
        "x": 0.1,
        "y": 0.1
       },
       "content": {
        "cell": "171fc9cd-5d3b-4f58-b696-160f55f9e324",
        "part": "whole"
       },
       "id": "c51f9329-75f3-4888-9b0b-c26c1f288ef1"
      }
     }
    },
    "2b1f0179-693d-4eea-9769-7997dae1d76b": {
     "id": "2b1f0179-693d-4eea-9769-7997dae1d76b",
     "prev": "49dca23f-d885-42fa-8548-dcf542567d02",
     "regions": {
      "f4f249e4-3c78-4abb-85ae-864b2865891b": {
       "attrs": {
        "height": 0.8,
        "width": 0.8,
        "x": 0.1,
        "y": 0.1
       },
       "content": {
        "cell": "94bcdd82-182b-40bc-b9f6-4b75646e67a4",
        "part": "whole"
       },
       "id": "f4f249e4-3c78-4abb-85ae-864b2865891b"
      }
     }
    },
    "2c1877cf-e778-4665-ba26-773669bd02ee": {
     "id": "2c1877cf-e778-4665-ba26-773669bd02ee",
     "prev": "dc2e2773-a614-41aa-9beb-5d1e1685460a",
     "regions": {
      "62297fbc-7886-4d63-a23a-7c9954328c4f": {
       "attrs": {
        "height": 0.8,
        "width": 0.8,
        "x": 0.1,
        "y": 0.1
       },
       "content": {
        "cell": "ee5723a5-dbc3-4a0c-88b5-ed00da28f2e5",
        "part": "whole"
       },
       "id": "62297fbc-7886-4d63-a23a-7c9954328c4f"
      }
     }
    },
    "300398cc-b125-4a42-9abc-182955a0ed00": {
     "id": "300398cc-b125-4a42-9abc-182955a0ed00",
     "prev": "a244fea8-ba5f-4d39-859a-550ced1f50a4",
     "regions": {
      "fc80dddd-0326-46e8-9e5e-2d655d42d7ea": {
       "attrs": {
        "height": 0.8,
        "width": 0.8,
        "x": 0.1,
        "y": 0.1
       },
       "content": {
        "cell": "4ab24e1d-72c5-4a07-aad1-edf8c411353c",
        "part": "whole"
       },
       "id": "fc80dddd-0326-46e8-9e5e-2d655d42d7ea"
      }
     }
    },
    "3b361819-3bec-4307-9701-60346bd888c8": {
     "id": "3b361819-3bec-4307-9701-60346bd888c8",
     "prev": "6e704496-ed61-48af-8767-92c8ae7492a4",
     "regions": {
      "5464ce21-2b97-4c01-8101-483849d82f12": {
       "attrs": {
        "height": 0.8,
        "width": 0.8,
        "x": 0.1,
        "y": 0.1
       },
       "content": {
        "cell": "c7c35d70-9b46-4954-a594-50f5cf4c1a1f",
        "part": "whole"
       },
       "id": "5464ce21-2b97-4c01-8101-483849d82f12"
      }
     }
    },
    "3ffc1045-a0b3-461a-a942-b2d61b69c0b9": {
     "id": "3ffc1045-a0b3-461a-a942-b2d61b69c0b9",
     "prev": "df52d009-35dc-4e28-849e-38a36de17b73",
     "regions": {
      "42275cdb-9874-438b-95bc-ebed7453149f": {
       "attrs": {
        "height": 0.8,
        "width": 0.8,
        "x": 0.1,
        "y": 0.1
       },
       "content": {
        "cell": "55b38c7f-a0b4-4fc3-92ba-80343634c643",
        "part": "whole"
       },
       "id": "42275cdb-9874-438b-95bc-ebed7453149f"
      }
     }
    },
    "49dca23f-d885-42fa-8548-dcf542567d02": {
     "id": "49dca23f-d885-42fa-8548-dcf542567d02",
     "prev": "2a6e97de-815d-4736-a34d-ed4a7320cd12",
     "regions": {
      "6301761e-a88e-4c30-962c-788f6d9a7b59": {
       "attrs": {
        "height": 0.8,
        "width": 0.8,
        "x": 0.1,
        "y": 0.1
       },
       "content": {
        "cell": "f29d911a-495d-41b5-9b1d-e54a284be711",
        "part": "whole"
       },
       "id": "6301761e-a88e-4c30-962c-788f6d9a7b59"
      }
     }
    },
    "4d470a15-9eb5-47fc-b56d-2ff033d18260": {
     "id": "4d470a15-9eb5-47fc-b56d-2ff033d18260",
     "prev": "7cba64ec-eb2a-4c28-b9b2-7d985e7c718d",
     "regions": {
      "3732f497-0131-471c-ad75-dc8be35aeda5": {
       "attrs": {
        "height": 0.8,
        "width": 0.8,
        "x": 0.1,
        "y": 0.1
       },
       "content": {
        "cell": "0aba02d9-993d-4922-9805-9e13bccf1f32",
        "part": "whole"
       },
       "id": "3732f497-0131-471c-ad75-dc8be35aeda5"
      }
     }
    },
    "564f4ffe-5262-41ef-bd94-684e3039715d": {
     "id": "564f4ffe-5262-41ef-bd94-684e3039715d",
     "prev": "f547bd68-9675-4757-a781-7bddd7dd7a6c",
     "regions": {
      "d908befb-8959-47f8-937e-ad6b492a9f43": {
       "attrs": {
        "height": 0.8,
        "width": 0.8,
        "x": 0.1,
        "y": 0.1
       },
       "content": {
        "cell": "cd6007b9-e0b4-4d6f-9755-8902f97169cd",
        "part": "whole"
       },
       "id": "d908befb-8959-47f8-937e-ad6b492a9f43"
      }
     }
    },
    "6038d173-96f4-4830-85c7-7c4b0ed21ba8": {
     "id": "6038d173-96f4-4830-85c7-7c4b0ed21ba8",
     "prev": "094cc608-4faa-4f37-bba0-e25e3bed19e1",
     "regions": {
      "c47600e6-b094-47e1-9e60-a9cceb16248f": {
       "attrs": {
        "height": 0.8,
        "width": 0.8,
        "x": 0.1,
        "y": 0.1
       },
       "content": {
        "cell": "cba5b5d3-18c7-478a-90c5-df1ec525a83a",
        "part": "whole"
       },
       "id": "c47600e6-b094-47e1-9e60-a9cceb16248f"
      }
     }
    },
    "62d98b2a-acfc-4875-884b-9819462a41c1": {
     "id": "62d98b2a-acfc-4875-884b-9819462a41c1",
     "prev": null,
     "regions": {
      "9e15d331-807d-4570-9eb5-880c71ade1c2": {
       "attrs": {
        "height": 0.8,
        "width": 0.8,
        "x": 0.1,
        "y": 0.1
       },
       "content": {
        "cell": "522686ef-b4e1-463d-81dc-c98b167fbc81",
        "part": "whole"
       },
       "id": "9e15d331-807d-4570-9eb5-880c71ade1c2"
      }
     }
    },
    "679c9db3-0085-4d0c-874e-9bbe386f1c33": {
     "id": "679c9db3-0085-4d0c-874e-9bbe386f1c33",
     "prev": "1d152037-8480-442c-8401-f4d1a84f174d",
     "regions": {
      "1bdd5355-b962-4ee1-9bab-4400be5cf3b6": {
       "attrs": {
        "height": 0.8,
        "width": 0.8,
        "x": 0.1,
        "y": 0.1
       },
       "content": {
        "cell": "661cc84f-6edd-4bb8-a1bd-a07f5694d8da",
        "part": "whole"
       },
       "id": "1bdd5355-b962-4ee1-9bab-4400be5cf3b6"
      }
     }
    },
    "691d0752-cca5-4b81-bbb7-3d1bfd51902c": {
     "id": "691d0752-cca5-4b81-bbb7-3d1bfd51902c",
     "prev": "c2ceb0a8-fe63-4f9b-8d52-da399984da57",
     "regions": {
      "cc6f3422-6432-484d-8dcd-58ed1f761c36": {
       "attrs": {
        "height": 0.8,
        "width": 0.8,
        "x": 0.1,
        "y": 0.1
       },
       "content": {
        "cell": "2f6fd263-0243-4c45-a6aa-e9784eeb4eda",
        "part": "whole"
       },
       "id": "cc6f3422-6432-484d-8dcd-58ed1f761c36"
      }
     }
    },
    "6e704496-ed61-48af-8767-92c8ae7492a4": {
     "id": "6e704496-ed61-48af-8767-92c8ae7492a4",
     "prev": "3ffc1045-a0b3-461a-a942-b2d61b69c0b9",
     "regions": {
      "e5899f3d-ff4b-4814-9139-cc50d53d20bd": {
       "attrs": {
        "height": 0.8,
        "width": 0.8,
        "x": 0.1,
        "y": 0.1
       },
       "content": {
        "cell": "334eab81-1c02-4aba-9c45-f355b7ce22e0",
        "part": "whole"
       },
       "id": "e5899f3d-ff4b-4814-9139-cc50d53d20bd"
      }
     }
    },
    "6ec0ed82-9874-4f08-8fbf-d1f629c9a0fb": {
     "id": "6ec0ed82-9874-4f08-8fbf-d1f629c9a0fb",
     "prev": "62d98b2a-acfc-4875-884b-9819462a41c1",
     "regions": {
      "0b503d7c-6182-431a-8beb-fabb2cbce323": {
       "attrs": {
        "height": 0.8,
        "width": 0.8,
        "x": 0.1,
        "y": 0.1
       },
       "content": {
        "cell": "7648e300-7902-4601-a48f-fb36b5478c87",
        "part": "whole"
       },
       "id": "0b503d7c-6182-431a-8beb-fabb2cbce323"
      }
     }
    },
    "6ee2d221-54cc-4537-bb04-7adc7d114784": {
     "id": "6ee2d221-54cc-4537-bb04-7adc7d114784",
     "prev": "7a26ef0a-3163-4d03-80a7-fc2b441e30df",
     "regions": {
      "8a4966a3-f0d5-473d-b8e2-d6d74f85adeb": {
       "attrs": {
        "height": 0.8,
        "width": 0.8,
        "x": 0.1,
        "y": 0.1
       },
       "content": {
        "cell": "0670a897-b98e-4de9-a667-c49c1bf7040a",
        "part": "whole"
       },
       "id": "8a4966a3-f0d5-473d-b8e2-d6d74f85adeb"
      }
     }
    },
    "7a26ef0a-3163-4d03-80a7-fc2b441e30df": {
     "id": "7a26ef0a-3163-4d03-80a7-fc2b441e30df",
     "prev": "679c9db3-0085-4d0c-874e-9bbe386f1c33",
     "regions": {
      "862ffddf-e956-470b-a1e8-310e98c89b22": {
       "attrs": {
        "height": 0.8,
        "width": 0.8,
        "x": 0.1,
        "y": 0.1
       },
       "content": {
        "cell": "045add28-4e73-4836-81ce-9eacd1b0dfbf",
        "part": "whole"
       },
       "id": "862ffddf-e956-470b-a1e8-310e98c89b22"
      }
     }
    },
    "7cba64ec-eb2a-4c28-b9b2-7d985e7c718d": {
     "id": "7cba64ec-eb2a-4c28-b9b2-7d985e7c718d",
     "prev": "ce40632d-3293-4787-978e-6c636eb453b8",
     "regions": {
      "cd822d8e-7d6d-46b5-b36a-b51a3d4334d9": {
       "attrs": {
        "height": 0.8,
        "width": 0.8,
        "x": 0.1,
        "y": 0.1
       },
       "content": {
        "cell": "d2c1ea7a-4ded-447c-8993-6842af862c12",
        "part": "whole"
       },
       "id": "cd822d8e-7d6d-46b5-b36a-b51a3d4334d9"
      }
     }
    },
    "8038c6ea-cf69-494f-ba99-4fd7f2edec4f": {
     "id": "8038c6ea-cf69-494f-ba99-4fd7f2edec4f",
     "prev": "300398cc-b125-4a42-9abc-182955a0ed00",
     "regions": {
      "c650b2d1-f6cf-45a8-b45b-20f8ec1df3b7": {
       "attrs": {
        "height": 0.8,
        "width": 0.8,
        "x": 0.1,
        "y": 0.1
       },
       "content": {
        "cell": "753d93ae-447c-4ba5-914e-981780833b3c",
        "part": "whole"
       },
       "id": "c650b2d1-f6cf-45a8-b45b-20f8ec1df3b7"
      }
     }
    },
    "994cbe03-40cf-48c7-98c2-fe08490f02de": {
     "id": "994cbe03-40cf-48c7-98c2-fe08490f02de",
     "prev": "bb1fa964-be54-48f0-9d96-70b8b1fd515f",
     "regions": {
      "d5ae7b02-8777-4f6f-8e9d-6cd8f814c481": {
       "attrs": {
        "height": 0.8,
        "width": 0.8,
        "x": 0.1,
        "y": 0.1
       },
       "content": {
        "cell": "163771c6-305c-454a-bf18-d9c0c17e9e08",
        "part": "whole"
       },
       "id": "d5ae7b02-8777-4f6f-8e9d-6cd8f814c481"
      }
     }
    },
    "99ef5229-15e5-46aa-9bc7-2ffbd45acfd9": {
     "id": "99ef5229-15e5-46aa-9bc7-2ffbd45acfd9",
     "prev": "6ee2d221-54cc-4537-bb04-7adc7d114784",
     "regions": {
      "0a863175-ab17-4457-8c98-78c0acea14f0": {
       "attrs": {
        "height": 0.8,
        "width": 0.8,
        "x": 0.1,
        "y": 0.1
       },
       "content": {
        "cell": "098cc423-4419-491f-b408-1009f3e0190b",
        "part": "whole"
       },
       "id": "0a863175-ab17-4457-8c98-78c0acea14f0"
      }
     }
    },
    "9e01d63b-6f4b-4b0d-900d-5835dc215f8a": {
     "id": "9e01d63b-6f4b-4b0d-900d-5835dc215f8a",
     "prev": "1ecdf732-2a42-4ca2-8558-68033c51a508",
     "regions": {
      "082f5633-4135-4f19-90bf-22fff9d936b9": {
       "attrs": {
        "height": 0.8,
        "width": 0.8,
        "x": 0.1,
        "y": 0.1
       },
       "content": {
        "cell": "8bed8fd0-19d7-49ab-aab4-4cf522df1724",
        "part": "whole"
       },
       "id": "082f5633-4135-4f19-90bf-22fff9d936b9"
      }
     }
    },
    "a244fea8-ba5f-4d39-859a-550ced1f50a4": {
     "id": "a244fea8-ba5f-4d39-859a-550ced1f50a4",
     "prev": "b7c9986e-557c-40f1-a6bc-2253d5cacb33",
     "regions": {
      "27d7d399-acd7-4593-9e48-156bc1ce1eca": {
       "attrs": {
        "height": 0.8,
        "width": 0.8,
        "x": 0.1,
        "y": 0.1
       },
       "content": {
        "cell": "a03292b1-6393-4525-b90d-d6a534a4638a",
        "part": "whole"
       },
       "id": "27d7d399-acd7-4593-9e48-156bc1ce1eca"
      }
     }
    },
    "a69c08e5-6b8c-4733-83f9-a8238fa9bca3": {
     "id": "a69c08e5-6b8c-4733-83f9-a8238fa9bca3",
     "prev": "e67873c8-864e-461f-8b9d-5c9a6e82c92b",
     "regions": {
      "48f4b6b6-4cf1-46f9-8667-6b5dff76c2c9": {
       "attrs": {
        "height": 0.8,
        "width": 0.8,
        "x": 0.1,
        "y": 0.1
       },
       "content": {
        "cell": "ea465b35-6e23-4485-9ee9-efc57f328b5a",
        "part": "whole"
       },
       "id": "48f4b6b6-4cf1-46f9-8667-6b5dff76c2c9"
      }
     }
    },
    "b7c9986e-557c-40f1-a6bc-2253d5cacb33": {
     "id": "b7c9986e-557c-40f1-a6bc-2253d5cacb33",
     "prev": "d2fce3e0-e049-4119-94d0-1c359930d224",
     "regions": {
      "d4fa578f-f832-435e-b9b4-186b92835c8c": {
       "attrs": {
        "height": 0.8,
        "width": 0.8,
        "x": 0.1,
        "y": 0.1
       },
       "content": {
        "cell": "b37fe2e2-50aa-4333-8aeb-07d974b713bc",
        "part": "whole"
       },
       "id": "d4fa578f-f832-435e-b9b4-186b92835c8c"
      }
     }
    },
    "bb1fa964-be54-48f0-9d96-70b8b1fd515f": {
     "id": "bb1fa964-be54-48f0-9d96-70b8b1fd515f",
     "prev": "6038d173-96f4-4830-85c7-7c4b0ed21ba8",
     "regions": {
      "6a96480c-965b-4c32-a2aa-423ab7775a12": {
       "attrs": {
        "height": 0.8,
        "width": 0.8,
        "x": 0.1,
        "y": 0.1
       },
       "content": {
        "cell": "e1c8be02-8753-4b34-bf17-5e363dbc05b9",
        "part": "whole"
       },
       "id": "6a96480c-965b-4c32-a2aa-423ab7775a12"
      }
     }
    },
    "c2ceb0a8-fe63-4f9b-8d52-da399984da57": {
     "id": "c2ceb0a8-fe63-4f9b-8d52-da399984da57",
     "prev": "2c1877cf-e778-4665-ba26-773669bd02ee",
     "regions": {
      "fe0c29f7-4fe5-4c71-95b4-f95e35dea70e": {
       "attrs": {
        "height": 0.8,
        "width": 0.8,
        "x": 0.1,
        "y": 0.1
       },
       "content": {
        "cell": "8c861a8c-df81-4a7e-ab16-e5f722c9436f",
        "part": "whole"
       },
       "id": "fe0c29f7-4fe5-4c71-95b4-f95e35dea70e"
      }
     }
    },
    "c8c20b4d-e89c-4af2-850e-d0b41bbae14d": {
     "id": "c8c20b4d-e89c-4af2-850e-d0b41bbae14d",
     "prev": "691d0752-cca5-4b81-bbb7-3d1bfd51902c",
     "regions": {
      "4e12393c-aac7-4027-a9e1-be67025e3fc0": {
       "attrs": {
        "height": 0.8,
        "width": 0.8,
        "x": 0.1,
        "y": 0.1
       },
       "content": {
        "cell": "6ea8f5b1-70cb-42f1-b4e7-a17aa0c7c2d0",
        "part": "whole"
       },
       "id": "4e12393c-aac7-4027-a9e1-be67025e3fc0"
      }
     }
    },
    "ce40632d-3293-4787-978e-6c636eb453b8": {
     "id": "ce40632d-3293-4787-978e-6c636eb453b8",
     "prev": "a69c08e5-6b8c-4733-83f9-a8238fa9bca3",
     "regions": {
      "0512fb43-e286-4a65-a3d6-5786b2b04fdf": {
       "attrs": {
        "height": 0.8,
        "width": 0.8,
        "x": 0.1,
        "y": 0.1
       },
       "content": {
        "cell": "6816a93b-61fa-4c1d-ab87-5584df17083d",
        "part": "whole"
       },
       "id": "0512fb43-e286-4a65-a3d6-5786b2b04fdf"
      }
     }
    },
    "d0e7ec68-53a5-4299-9bd3-59e5b540fdf8": {
     "id": "d0e7ec68-53a5-4299-9bd3-59e5b540fdf8",
     "prev": "9e01d63b-6f4b-4b0d-900d-5835dc215f8a",
     "regions": {
      "1dec8d59-ef94-4b7f-b80c-3c8f3fbcda5a": {
       "attrs": {
        "height": 0.8,
        "width": 0.8,
        "x": 0.1,
        "y": 0.1
       },
       "content": {
        "cell": "e347a878-e309-4db3-8234-5a9eaa147e56",
        "part": "whole"
       },
       "id": "1dec8d59-ef94-4b7f-b80c-3c8f3fbcda5a"
      }
     }
    },
    "d2fce3e0-e049-4119-94d0-1c359930d224": {
     "id": "d2fce3e0-e049-4119-94d0-1c359930d224",
     "prev": "ff98c4d3-33b4-47c7-a035-7f48058f6c4c",
     "regions": {
      "c415dc98-b197-4113-8a6e-3ffddd182d25": {
       "attrs": {
        "height": 0.8,
        "width": 0.8,
        "x": 0.1,
        "y": 0.1
       },
       "content": {
        "cell": "4e21cb6a-56e0-4b75-b74e-7de412452db4",
        "part": "whole"
       },
       "id": "c415dc98-b197-4113-8a6e-3ffddd182d25"
      }
     }
    },
    "dc2e2773-a614-41aa-9beb-5d1e1685460a": {
     "id": "dc2e2773-a614-41aa-9beb-5d1e1685460a",
     "prev": "17b5145b-01c7-4f64-9210-29fb55050be1",
     "regions": {
      "02d35fc2-b518-4a13-95cc-5ea5c0f38f59": {
       "attrs": {
        "height": 0.8,
        "width": 0.8,
        "x": 0.1,
        "y": 0.1
       },
       "content": {
        "cell": "0fc1364d-7795-425e-be34-78c280c3f190",
        "part": "whole"
       },
       "id": "02d35fc2-b518-4a13-95cc-5ea5c0f38f59"
      }
     }
    },
    "df52d009-35dc-4e28-849e-38a36de17b73": {
     "id": "df52d009-35dc-4e28-849e-38a36de17b73",
     "prev": "99ef5229-15e5-46aa-9bc7-2ffbd45acfd9",
     "regions": {
      "2aa90b34-4be1-4183-8618-cb5ab3b2a177": {
       "attrs": {
        "height": 0.8,
        "width": 0.8,
        "x": 0.1,
        "y": 0.1
       },
       "content": {
        "cell": "9e5907a0-1054-4859-b640-50b08428b7aa",
        "part": "whole"
       },
       "id": "2aa90b34-4be1-4183-8618-cb5ab3b2a177"
      }
     }
    },
    "df58cbfc-4f86-4db0-a396-878523fda30f": {
     "id": "df58cbfc-4f86-4db0-a396-878523fda30f",
     "prev": "6ec0ed82-9874-4f08-8fbf-d1f629c9a0fb",
     "regions": {
      "d3643f6e-af96-46f7-9de5-56c373a930e7": {
       "attrs": {
        "height": 0.8,
        "width": 0.8,
        "x": 0.1,
        "y": 0.1
       },
       "content": {
        "cell": "5fc3818b-8a3b-4a11-a4a7-cdfa94800e16",
        "part": "whole"
       },
       "id": "d3643f6e-af96-46f7-9de5-56c373a930e7"
      }
     }
    },
    "e67873c8-864e-461f-8b9d-5c9a6e82c92b": {
     "id": "e67873c8-864e-461f-8b9d-5c9a6e82c92b",
     "prev": "8038c6ea-cf69-494f-ba99-4fd7f2edec4f",
     "regions": {
      "032164fc-2456-4001-9449-7fc5e3d323ec": {
       "attrs": {
        "height": 0.8,
        "width": 0.8,
        "x": 0.1,
        "y": 0.1
       },
       "content": {
        "cell": "30942409-d325-4068-abff-141523bb508d",
        "part": "whole"
       },
       "id": "032164fc-2456-4001-9449-7fc5e3d323ec"
      }
     }
    },
    "e792ee91-7277-46d5-b4c3-d2c2790e58ed": {
     "id": "e792ee91-7277-46d5-b4c3-d2c2790e58ed",
     "prev": "eb27d47b-bb3d-491d-ae90-3d4abfc009ae",
     "regions": {
      "dca0f8bf-8f87-495c-9aff-c5e48f6e6c68": {
       "attrs": {
        "height": 0.8,
        "width": 0.8,
        "x": 0.1,
        "y": 0.1
       },
       "content": {
        "cell": "3138ac7f-a718-423c-a19e-b35d4f189870",
        "part": "whole"
       },
       "id": "dca0f8bf-8f87-495c-9aff-c5e48f6e6c68"
      }
     }
    },
    "e7ccfb76-395f-4b84-861f-9ecfbb291567": {
     "id": "e7ccfb76-395f-4b84-861f-9ecfbb291567",
     "prev": "e792ee91-7277-46d5-b4c3-d2c2790e58ed",
     "regions": {
      "914da4f4-9f7d-45b2-bd7a-deb2891c8774": {
       "attrs": {
        "height": 0.8,
        "width": 0.8,
        "x": 0.1,
        "y": 0.1
       },
       "content": {
        "cell": "7935c6f9-bace-4b1c-8386-7900d5a21527",
        "part": "whole"
       },
       "id": "914da4f4-9f7d-45b2-bd7a-deb2891c8774"
      }
     }
    },
    "eb27d47b-bb3d-491d-ae90-3d4abfc009ae": {
     "id": "eb27d47b-bb3d-491d-ae90-3d4abfc009ae",
     "prev": "4d470a15-9eb5-47fc-b56d-2ff033d18260",
     "regions": {
      "aa9000d9-4696-4d12-8ebe-f9ccc09ae7ee": {
       "attrs": {
        "height": 0.8,
        "width": 0.8,
        "x": 0.1,
        "y": 0.1
       },
       "content": {
        "cell": "dcd7329d-1bd4-47e8-b4f5-3952ac2f01c6",
        "part": "whole"
       },
       "id": "aa9000d9-4696-4d12-8ebe-f9ccc09ae7ee"
      }
     }
    },
    "f088ec73-233d-4a15-9ee2-57ca1d318703": {
     "id": "f088ec73-233d-4a15-9ee2-57ca1d318703",
     "prev": "d0e7ec68-53a5-4299-9bd3-59e5b540fdf8",
     "regions": {
      "ad17c734-ffe8-43cd-8e69-c0b6fdcbab06": {
       "attrs": {
        "height": 0.8,
        "width": 0.8,
        "x": 0.1,
        "y": 0.1
       },
       "content": {
        "cell": "cdaa53f7-58f7-4b90-9bc1-05f28b16bb90",
        "part": "whole"
       },
       "id": "ad17c734-ffe8-43cd-8e69-c0b6fdcbab06"
      }
     }
    },
    "f547bd68-9675-4757-a781-7bddd7dd7a6c": {
     "id": "f547bd68-9675-4757-a781-7bddd7dd7a6c",
     "prev": "994cbe03-40cf-48c7-98c2-fe08490f02de",
     "regions": {
      "36d5e75b-3576-4f18-a9b1-9db1795232a8": {
       "attrs": {
        "height": 0.8,
        "width": 0.8,
        "x": 0.1,
        "y": 0.1
       },
       "content": {
        "cell": "0e2b0130-f541-4b17-9c59-49e10a8328c9",
        "part": "whole"
       },
       "id": "36d5e75b-3576-4f18-a9b1-9db1795232a8"
      }
     }
    },
    "ff98c4d3-33b4-47c7-a035-7f48058f6c4c": {
     "id": "ff98c4d3-33b4-47c7-a035-7f48058f6c4c",
     "prev": "3b361819-3bec-4307-9701-60346bd888c8",
     "regions": {
      "4967006c-94b4-4396-83dc-e78dc573c8e8": {
       "attrs": {
        "height": 0.8,
        "width": 0.8,
        "x": 0.1,
        "y": 0.1
       },
       "content": {
        "cell": "cd21b079-4a2e-40c4-985d-aad03ef73221",
        "part": "whole"
       },
       "id": "4967006c-94b4-4396-83dc-e78dc573c8e8"
      }
     }
    }
   },
   "themes": {
    "default": "82bd7934-db3a-41a0-a973-8569f0c6fe97",
    "theme": {
     "82bd7934-db3a-41a0-a973-8569f0c6fe97": {
      "id": "82bd7934-db3a-41a0-a973-8569f0c6fe97",
      "palette": {
       "19cc588f-0593-49c9-9f4b-e4d7cc113b1c": {
        "id": "19cc588f-0593-49c9-9f4b-e4d7cc113b1c",
        "rgb": [
         252,
         252,
         252
        ]
       },
       "31af15d2-7e15-44c5-ab5e-e04b16a89eff": {
        "id": "31af15d2-7e15-44c5-ab5e-e04b16a89eff",
        "rgb": [
         68,
         68,
         68
        ]
       },
       "50f92c45-a630-455b-aec3-788680ec7410": {
        "id": "50f92c45-a630-455b-aec3-788680ec7410",
        "rgb": [
         155,
         177,
         192
        ]
       },
       "c5cc3653-2ee1-402a-aba2-7caae1da4f6c": {
        "id": "c5cc3653-2ee1-402a-aba2-7caae1da4f6c",
        "rgb": [
         43,
         126,
         184
        ]
       },
       "efa7f048-9acb-414c-8b04-a26811511a21": {
        "id": "efa7f048-9acb-414c-8b04-a26811511a21",
        "rgb": [
         25.118061674008803,
         73.60176211453744,
         107.4819383259912
        ]
       }
      },
      "rules": {
       "blockquote": {
        "color": "50f92c45-a630-455b-aec3-788680ec7410"
       },
       "code": {
        "font-family": "Anonymous Pro"
       },
       "h1": {
        "color": "c5cc3653-2ee1-402a-aba2-7caae1da4f6c",
        "font-family": "Lato",
        "font-size": 8
       },
       "h2": {
        "color": "c5cc3653-2ee1-402a-aba2-7caae1da4f6c",
        "font-family": "Lato",
        "font-size": 6
       },
       "h3": {
        "color": "50f92c45-a630-455b-aec3-788680ec7410",
        "font-family": "Lato",
        "font-size": 5.5
       },
       "h4": {
        "color": "c5cc3653-2ee1-402a-aba2-7caae1da4f6c",
        "font-family": "Lato",
        "font-size": 5
       },
       "h5": {
        "font-family": "Lato"
       },
       "h6": {
        "font-family": "Lato"
       },
       "h7": {
        "font-family": "Lato"
       },
       "pre": {
        "font-family": "Anonymous Pro",
        "font-size": 4
       }
      },
      "text-base": {
       "font-family": "Merriweather",
       "font-size": 4
      }
     }
    }
   }
  }
 },
 "nbformat": 4,
 "nbformat_minor": 0
}
