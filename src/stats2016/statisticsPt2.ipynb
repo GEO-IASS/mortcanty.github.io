{
 "cells": [
  {
   "cell_type": "markdown",
   "metadata": {
    "nbpresent": {
     "id": "522686ef-b4e1-463d-81dc-c98b167fbc81"
    }
   },
   "source": [
    "## Part 2. Random Variables\n",
    "$$ \\def\\pr{\\hbox{Pr}}\n",
    "\\def\\var{\\hbox{var}}\n",
    "\\def\\cov{\\hbox{cov}}\n",
    "\\def\\corr{\\hbox{corr}}\n",
    "\\def\\dmX{\\un{\\mathcal{X}}}\n",
    "\\def\\dmG{\\un{\\mathcal{G}}}\n",
    "\\def\\dmK{\\un{\\mathcal{K}}}\n",
    "\\def\\dmS{\\un{\\mathcal{S}}}\n",
    "\\def\\dmC{\\un{\\mathcal{C}}}\n",
    "\\def\\dmZ{\\un{\\mathcal{Z}}}\n",
    "\\def\\bma{{\\mbox{\\boldmath $\\alpha$}}}\n",
    "\\def\\bmb{{\\mbox{\\boldmath $\\beta$}}}\n",
    "\\def\\bmu{{\\mbox{\\boldmath $\\mu$}}}\n",
    "\\def\\bme{{\\mbox{\\boldmath $\\epsilon$}}}\n",
    "\\def\\bmS{{\\mbox{\\boldmath $\\Sigma$}}}\n",
    "\\def\\bmL{{\\mbox{\\boldmath $\\Lambda$}}}\n",
    "\\def\\bmd{{\\mbox{\\boldmath $\\delta$}}}\n",
    "\\def\\bmD{{\\mbox{\\boldmath $\\Delta$}}}\n",
    "\\def\\bmG{{\\mbox{\\boldmath $\\Gamma$}}}\n",
    "\\def\\bmphi{{\\mbox{\\boldmath $\\phi$}}}\n",
    "\\def\\bmPhi{{\\mbox{\\boldmath $\\Phi$}}}\n",
    "\\def\\bmpsi{{\\mbox{\\boldmath $\\psi$}}}\n",
    "\\def\\bmtheta{{\\mbox{\\boldmath $\\theta$}}}\n",
    "\\def\\eq{\\begin{equation}}\n",
    "\\def\\eeq{\\end{equation}}\n",
    "\\def\\i{{\\bf i}}\n",
    "\\def\\un#1{{\\bf #1}}$$\n",
    "\n",
    "A measurement is never exactly reproducible. It is the outcome of a\n",
    "complex process influenced by instrument noise, ambient conditions, and\n",
    "so forth. It may be assumed, however, that there is an underlying random\n",
    "process with an associated probability distribution which restricts the\n",
    "possible outcomes in some way. Each time we make an observation we are\n",
    "sampling from that probability distribution. Put another way, we are\n",
    "observing a different possible <span>*realization*</span> of the random\n",
    "process.\n",
    "\n",
    "A <span>*random variable*</span> represents a quantity, which changes in\n",
    "an unpredictable way each time it is observed."
   ]
  },
  {
   "cell_type": "markdown",
   "metadata": {
    "nbpresent": {
     "id": "7648e300-7902-4601-a48f-fb36b5478c87"
    }
   },
   "source": [
    "Let some <span>*random experiment*</span>, e.g., a measurement, have a\n",
    "set $\\Omega$ of possible <span>*outcomes*</span>. This set is referred\n",
    "to as the <span>*sample space*</span> for the experiment. Subsets of\n",
    "$\\Omega$ are called <span>*events*</span>. An event will be said to have\n",
    "occurred whenever the outcome of the random experiment is contained\n",
    "within it.\n",
    "\n",
    "**Example:** The throw of two dice. The sample space:\n",
    "\n",
    "$$\\Omega = \\{(1,1),(1,2),(2,1)\\dots (6,6)\\}.$$ \n",
    "\n",
    "An event: the sum of the\n",
    "points is 7. $$\\{(1,6),(2,5),(3,4),(4,3),(5,2),(6,1)\\}$$ \n",
    "\n",
    "If for instance\n",
    "$(3,4)$ is thrown, then the event has occurred.\n"
   ]
  },
  {
   "cell_type": "markdown",
   "metadata": {
    "nbpresent": {
     "id": "5fc3818b-8a3b-4a11-a4a7-cdfa94800e16"
    }
   },
   "source": [
    "<span>**Definition:**</span> A <span>*random variable*</span>\n",
    "$Z: \\Omega\\mapsto \\Re$ is a function which maps all outcomes onto the\n",
    "set $\\Re$ of real numbers such that the set\n",
    "\n",
    "$$\\{\\omega\\in\\Omega\\mid Z(\\omega)\\le z\\} =: \\{Z\\le z\\}$$ \n",
    "\n",
    "is an event,\n",
    "i.e., a subset of $\\Omega$.\n",
    "\n",
    "Thus for the throw of two dice the sum of points $S$ is a random\n",
    "variable, since it maps all outcomes onto real numbers:\n",
    "\n",
    "$$S(1,1) = 2,\\ S(1,2)=S(2,1) = 3,\\ \\dots\\ S(6,6)=12,$$ \n",
    "\n",
    "and sets such as\n",
    "\n",
    "$$\\{S\\le 4\\} = \\{(1,1),(1,2),(2,1),(1,3),(3,1),(2,2)\\}$$ \n",
    "\n",
    "are subsets of\n",
    "the sample space, that is to say, they are events. The set $\\{S\\le 1\\}$\n",
    "is the empty set, whereas $\\{S\\le 12\\}=\\Omega$, the entire sample space."
   ]
  },
  {
   "cell_type": "markdown",
   "metadata": {
    "collapsed": true,
    "nbpresent": {
     "id": "16f2a4cb-a483-40ce-bf49-a16e651340a5"
    }
   },
   "source": [
    "On the basis of the probabilities for the individual outcomes we can associate a\n",
    "function $P(z)$ with the random variable $Z$ as follows:\n",
    "$$\n",
    "P(z) = \\pr(Z\\le z).\n",
    "$$\n",
    "This is the  probability of observing the event that the random variable $Z$ takes on a\n",
    "value less than or equal to $z$, e.g.,\n",
    "$$\n",
    "P(4) = \\pr(Z\\le 4) = 6/36 = 1/6.\n",
    "$$\n",
    "\n",
    "\n",
    "**Definition:**\n",
    "Given the random variable $Z$, then\n",
    "\n",
    "$$\n",
    "P(z) = {\\rm Pr}(Z\\le z),\\quad -\\infty < z < \\infty\n",
    "$$\n",
    "\n",
    "is called its *distribution function.*"
   ]
  },
  {
   "cell_type": "markdown",
   "metadata": {
    "nbpresent": {
     "id": "0fc1364d-7795-425e-be34-78c280c3f190"
    }
   },
   "source": [
    "When a random variable $Z$ is <span>*discrete*</span> and takes on\n",
    "values $z_1<z_2<z_3<\\dots,$ then the probabilities of the outcomes\n",
    "\n",
    "$$p(z_i) =\\pr(Z=z_i) = P(z_i) - P(z_{i-1}),\\quad i=1,2\\dots$$ \n",
    "\n",
    "constitute\n",
    "the <span>*mass function*</span> for the random variable."
   ]
  },
  {
   "cell_type": "markdown",
   "metadata": {
    "nbpresent": {
     "id": "ee5723a5-dbc3-4a0c-88b5-ed00da28f2e5"
    }
   },
   "source": [
    "**Example:** (Machine learning) The evaluation of a\n",
    "predictive model involves repeated trials with a finite number of\n",
    "independent test observations, keeping track of the number of times the\n",
    "model fails to predict correctly.\n",
    "\n",
    "Let $\\theta$ be the probability of failure in a single trial. The\n",
    "probability of getting $y$ failures (and hence $n-y$ successes) in $n$\n",
    "trials <span>*in a specific sequence*</span> is\n",
    "\n",
    "$$\\theta^y(1-\\theta)^{n-y}.$$ \n",
    "\n",
    "There is a factor $\\theta$ for each of the\n",
    "$y$ failures and a factor $(1-\\theta)$ for each of the $n-y$ successes.\n",
    "<span>*Taking the product is justified by the assumption that the trials\n",
    "are independent of each other.*</span>"
   ]
  },
  {
   "cell_type": "markdown",
   "metadata": {
    "nbpresent": {
     "id": "8c861a8c-df81-4a7e-ab16-e5f722c9436f"
    }
   },
   "source": [
    "The number of such sequences is just the number of ways of selecting $y$\n",
    "trials from $n$ possible ones. This is given by the <span>*binomial\n",
    "coefficient*</span> \n",
    "\n",
    "$${n\\choose y} = {n!\\over (n-y)!\\ y!},$$ \n",
    "\n",
    "so that the\n",
    "probability for $y$ failures in $n$ trials is\n",
    "\n",
    "$${n\\choose y}\\theta^y(1-\\theta)^{n-y}.$$ \n",
    "\n",
    "The number of failures is then\n",
    "described by the discrete random variable $Y$ which is said to be\n",
    "<span>*binomially distributed*</span> with mass function given by \n",
    "\n",
    "$$\n",
    "p_{n,\\theta}(y) = \\cases{{n\\choose y}\\theta^y(1-\\theta)^{n-y} & for $y=0,1,2\\dots n$\\cr\n",
    "                        \\ 0 & otherwise.}\n",
    "$$"
   ]
  },
  {
   "cell_type": "code",
   "execution_count": 18,
   "metadata": {
    "collapsed": false,
    "nbpresent": {
     "id": "2f6fd263-0243-4c45-a6aa-e9784eeb4eda"
    }
   },
   "outputs": [
    {
     "data": {
      "image/png": "[encoded data removed]",
      "text/plain": [
       "<matplotlib.figure.Figure at 0x7f2afc0b0210>"
      ]
     },
     "metadata": {},
     "output_type": "display_data"
    }
   ],
   "source": [
    "%matplotlib inline\n",
    "from numpy import *\n",
    "import matplotlib.pyplot as plt\n",
    "y,x = histogram(random.binomial(50,0.2, 10000))\n",
    "p = plt.plot(x[:-1],y,marker='o',ls='')"
   ]
  },
  {
   "cell_type": "markdown",
   "metadata": {
    "nbpresent": {
     "id": "6ea8f5b1-70cb-42f1-b4e7-a17aa0c7c2d0"
    }
   },
   "source": [
    "**Continuous random variables**\n",
    "\n",
    "**Definition:** A function with values $p(z)$, defined over the set of all real numbers,\n",
    "is called a *probability density function* of the continuous random variable $Z$\n",
    "if and only if\n",
    "\n",
    "$$\n",
    "\\Pr(a\\le Z \\le b) = \\int_a^b p(z)dz\n",
    "$$\n",
    "\n",
    "for any real numbers $a\\le b$."
   ]
  },
  {
   "cell_type": "markdown",
   "metadata": {
    "nbpresent": {
     "id": "171fc9cd-5d3b-4f58-b696-160f55f9e324"
    }
   },
   "source": [
    "The quantity $p(z)dz$ is\n",
    "the probability that the associated random variable $Z$ lies within the\n",
    "infinitesimal interval $[z,z+dz]$. The integral over all such intervals is one:\n",
    "\n",
    "$$\n",
    "\\int_{-\\infty}^\\infty p(z)dz = 1.\n",
    "$$\n",
    "\n",
    "The distribution function $P(z)$ can be written in terms of the density function and vice-versa as\n",
    "\n",
    "$$\n",
    "P(z) = \\int_{-\\infty}^z p(t)dt,\\quad p(z) = {d\\over dz}P(z).\n",
    "$$"
   ]
  },
  {
   "cell_type": "markdown",
   "metadata": {
    "collapsed": true,
    "nbpresent": {
     "id": "f29d911a-495d-41b5-9b1d-e54a284be711"
    }
   },
   "source": [
    "**Moments of a distribution**\n",
    "\n",
    "The  *mean* or *expected value* of a continuous random variable $Z$ is defined by\n",
    "\n",
    "$$\n",
    "\\langle Z\\rangle = \\int_{-\\infty}^\\infty z\\cdot p(z) dz.\n",
    "$$\n",
    "\n",
    "The  *variance* of $Z$ describes how widely\n",
    "the realizations scatter around the mean:\n",
    "\n",
    "$$\n",
    "\\var(Z) = \\left\\langle(Z-\\langle Z\\rangle)^2\\right\\rangle.\n",
    "$$\n",
    "\n",
    "It is the mean of the random variable $Y=(Z-\\langle Z\\rangle)^2$."
   ]
  },
  {
   "cell_type": "markdown",
   "metadata": {
    "nbpresent": {
     "id": "94bcdd82-182b-40bc-b9f6-4b75646e67a4"
    }
   },
   "source": [
    "In terms of the density function $p_y(y)$ of $Y$, the  variance is given by\n",
    "\n",
    "$$\n",
    "\\var(Z) = \\int_{-\\infty}^\\infty y\\cdot p_y(y) dy,\n",
    "$$\n",
    "\n",
    "but in fact can be written more conveniently  as\n",
    "\n",
    "$$\n",
    "\\var(Z) =  \\int_{-\\infty}^\\infty (z-\\langle Z\\rangle)^2 p_z(z) dz,\n",
    "$$\n",
    "\n",
    "which is also referred to as the *second moment about the mean*.\n",
    "\n",
    "For discrete random variables, the integrals are replaced by summations over the allowed\n",
    "values of $Z$ and the probability density is replaced by the mass function."
   ]
  },
  {
   "cell_type": "markdown",
   "metadata": {
    "nbpresent": {
     "id": "f7cdb032-055e-4d32-a8e4-da40eccba9ed"
    }
   },
   "source": [
    "**Exercise 1:**\n",
    "\n",
    "(a)  Consider a *uniformly distributed* random variable $X$ with\n",
    "density function\n",
    "\n",
    "$$\n",
    "p(x) = \\cases{1 & if $0\\le x \\le 1$\\cr 0 & otherwise.}\n",
    "$$\n",
    "\n",
    "Calculate the mean and variance.\n",
    "\n",
    "\n",
    "(b) Prove the two *very*  useful identities:\n",
    "\n",
    "$$\\eqalign{\n",
    "\\var(Z) &= \\langle Z^2\\rangle - \\langle Z\\rangle^2\\cr\n",
    "\\var(a_0+a_1Z) &= a_1^2\\ \\var(Z)}\n",
    "$$"
   ]
  },
  {
   "cell_type": "markdown",
   "metadata": {
    "nbpresent": {
     "id": "661cc84f-6edd-4bb8-a1bd-a07f5694d8da"
    }
   },
   "source": [
    "It is very often the case that random variables are well-described by the *normal*\n",
    "or *Gaussian* density function\n",
    "\n",
    "$$\n",
    "p(z) = {1\\over \\sqrt{2\\pi}\\sigma}\\exp(-{1\\over 2\\sigma^2}(z-\\mu)^2).\n",
    "$$\n",
    "\n",
    "Its moments are\n",
    "\n",
    "$$\n",
    "\\langle Z\\rangle = \\mu,\\quad \\var(Z) = \\sigma^2,\n",
    "$$\n",
    "\n",
    "This is  abbreviated by writing\n",
    "\n",
    "$$\n",
    "Z \\sim \\mathcal{N}(\\mu,\\sigma^2).\n",
    "$$\n",
    "\n"
   ]
  },
  {
   "cell_type": "markdown",
   "metadata": {
    "nbpresent": {
     "id": "045add28-4e73-4836-81ce-9eacd1b0dfbf"
    }
   },
   "source": [
    "If $Z$ is normally distributed, then the *standardized* random variable\n",
    "$(Z-\\mu)/\\sigma$ has the *standard normal distribution* with zero mean and unit variance\n",
    "\n",
    "$$\n",
    "\\phi(t) ={1\\over \\sqrt{2\\pi}}\\exp(-t^2/2),\n",
    "$$\n",
    "\n",
    "with probability distribution function\n",
    "\n",
    "$$\n",
    "\\Phi(z) = {1\\over \\sqrt{2\\pi}}\\int_{-\\infty}^z \\exp(-t^2/2)dt = \\int_{-\\infty}^z \\phi(t)dt.\n",
    "$$"
   ]
  },
  {
   "cell_type": "markdown",
   "metadata": {
    "nbpresent": {
     "id": "0670a897-b98e-4de9-a667-c49c1bf7040a"
    }
   },
   "source": [
    "From the symmetry of the density function it follows that\n",
    "\n",
    "$$\n",
    "\\Phi(-z) = 1-\\Phi(z),\n",
    "$$\n",
    "\n",
    "so it is sufficient to give tables only for $z\\ge 0$. Note that\n",
    "\n",
    "$$\n",
    "P(z) =\\pr(Z\\le z) = \\pr\\left({Z-\\mu\\over\\sigma}\\le {z-\\mu\\over\\sigma}\\right)=\\Phi\\left({z-\\mu\\over\\sigma}\\right),\n",
    "$$\n",
    "\n",
    "so that values for any normally distributed random variable can be read from the table."
   ]
  },
  {
   "cell_type": "markdown",
   "metadata": {
    "nbpresent": {
     "id": "098cc423-4419-491f-b408-1009f3e0190b"
    }
   },
   "source": [
    "The idea of a distribution function is easily extended to more than one\n",
    "random variable.\n",
    "Let \n",
    "\n",
    "$$\\un Z = \\pmatrix{Z_1\\cr Z_2}$$\n",
    "\n",
    "be a *random vector*,\n",
    "i.e., a vector of two random variables. The *joint distribution function*\n",
    "of $\\un Z$ is defined by\n",
    "\n",
    "$$\n",
    "P(\\un z) = P(z_1,z_2) = \\pr(Z_1\\le z_1 \\hbox{ and } Z_2\\le z_2)\n",
    "$$\n",
    "\n",
    "or, in terms of the *joint density function* $p(z_1,z_2)$,\n",
    "\n",
    "$$\n",
    "P(z_1,z_2) = \\int_{-\\infty}^{z_1} \\left[\\int_{-\\infty}^{z_2} p(t_1,t_2)dt_2\\right] dt_1\n",
    "$$\n",
    "\n",
    "Conversely,\n",
    "\n",
    "$$\n",
    "p(z_1,z_1) = {\\partial^2\\over \\partial z_1\\partial z_2}P(z_1,z_2).\n",
    "$$"
   ]
  },
  {
   "cell_type": "markdown",
   "metadata": {
    "nbpresent": {
     "id": "9e5907a0-1054-4859-b640-50b08428b7aa"
    }
   },
   "source": [
    "The *marginal distribution function* for $Z_1$ is given by\n",
    "\n",
    "$$\n",
    "P_1(z_1) = P(z_1,\\infty) =\n",
    " \\int_{-\\infty}^{z_1}\\left[ \\int_{-\\infty}^\\infty p(t_1,z_2)dz_2\\right]dt_1\n",
    "$$\n",
    "\n",
    "and similarly for $Z_2$. The *marginal density* is defined as\n",
    "\n",
    "$$\n",
    "p_1(z_1) = \\int_{-\\infty}^\\infty p(z_1,z_2)dz_2\n",
    "$$\n",
    "\n",
    "with a similar expression for $p_2(z_2)$."
   ]
  },
  {
   "cell_type": "markdown",
   "metadata": {
    "nbpresent": {
     "id": "334eab81-1c02-4aba-9c45-f355b7ce22e0"
    }
   },
   "source": [
    "**Definition:**\n",
    "\n",
    "Two random variables $Z_1$ and $Z_2$ are said to be *independent* when their joint\n",
    "distribution is the product of their marginal distributions:\n",
    "\n",
    "$$\n",
    "P(z_1,z_2) = P_1(z_1)P_2(z_2)\n",
    "$$\n",
    "\n",
    "or, equivalently, when their joint density is the product of their marginal densities:\n",
    "\n",
    "$$\n",
    "p(z_1,z_2) = p_1(z_1)p_2(z_2).\n",
    "$$\n",
    "\n",
    "\n",
    "It follows that\n",
    "\n",
    "$$\n",
    "\\langle Z_1Z_2\\rangle = \\langle Z_1\\rangle\\langle Z_2\\rangle.\n",
    "$$"
   ]
  },
  {
   "cell_type": "markdown",
   "metadata": {
    "nbpresent": {
     "id": "c7c35d70-9b46-4954-a594-50f5cf4c1a1f"
    }
   },
   "source": [
    "**Theorem:**\n",
    "\n",
    "If the random variables $Z_1,Z_2,\\dots$ are independent and normally distributed,\n",
    "then the linear combination\n",
    "\n",
    "$$\n",
    "a_1 Z_1 + a_2 Z_2 + \\dots\n",
    "$$\n",
    "\n",
    "is normally distributed with moments\n",
    "\n",
    "$$\n",
    "\\mu = a_1\\mu_1 + a_2\\mu_2 + \\dots,\\quad \\sigma^2 = a_1^2\\sigma_1^2+a_2^2\\sigma_2^2+\\dots.\n",
    "$$\n",
    "\n",
    "This theorem implies that, if  $Z_i$, $i=1\\dots n$, are identically distributed with mean $\\mu$ and variance $\\sigma^2$, then\n",
    "\n",
    "$$\n",
    "\\bar Z = {1\\over n}\\sum_{i=1}^n Z_i\n",
    "$$\n",
    "\n",
    "is normally distributed with mean $\\mu$ and variance $\\sigma^2/n$."
   ]
  },
  {
   "cell_type": "markdown",
   "metadata": {
    "nbpresent": {
     "id": "4e21cb6a-56e0-4b75-b74e-7de412452db4"
    }
   },
   "source": [
    "**Central Limit Theorem:**\n",
    "\n",
    " If random variables $Z_1,Z_2\\dots Z_n$ have\n",
    "equal distributions with mean $\\mu$ and variance $\\sigma^2$, then the random variable\n",
    "\n",
    "$$\n",
    "{1\\over \\sigma\\sqrt{n}}\\sum_{i=1}^n (Z_i-\\mu)\n",
    "$$\n",
    "\n",
    "is standard normally distributed in the limit $n\\to\\infty$.\n",
    "\n",
    "\n",
    "This theorem implies that\n",
    "\n",
    "$$\\bar Z = {1\\over n}\\sum_{i=1}^n Z_i$$\n",
    "\n",
    "is normally distributed with mean $\\mu$ and variance $\\sigma^2/n$ for large enough $n$."
   ]
  },
  {
   "cell_type": "code",
   "execution_count": 17,
   "metadata": {
    "collapsed": false,
    "nbpresent": {
     "id": "b37fe2e2-50aa-4333-8aeb-07d974b713bc"
    }
   },
   "outputs": [
    {
     "data": {
      "image/png": "[encoded data removed]",
      "text/plain": [
       "<matplotlib.figure.Figure at 0x7f2afc0b9c90>"
      ]
     },
     "metadata": {},
     "output_type": "display_data"
    }
   ],
   "source": [
    "y,x = histogram(sum(random.rand(12,1000),0))\n",
    "p = plt.plot(x[:-1],y,marker='o',ls='')"
   ]
  },
  {
   "cell_type": "markdown",
   "metadata": {
    "nbpresent": {
     "id": "a03292b1-6393-4525-b90d-d6a534a4638a"
    }
   },
   "source": [
    "A random variable $Z$ is said to have a *gamma distribution* if its probability\n",
    "density function is given by\n",
    "\n",
    "$$\n",
    "p_\\gamma(z) = \\cases{{1\\over \\beta^\\alpha\\Gamma(\\alpha)}z^{\\alpha-1}e^{-z/\\beta} & for $z>0$\\cr\n",
    "            0 & elsewhere,}\n",
    "$$\n",
    "\n",
    "where $\\alpha>0$ and $\\beta>0$ and where the *gamma function* $\\Gamma(\\alpha)$ is given by\n",
    "\n",
    "$$\n",
    "\\Gamma(\\alpha) = \\int_0^\\infty z^{\\alpha-1} e^{-z}dz,\\quad \\alpha>0.\n",
    "$$\n",
    "\n",
    "\n",
    "Note:\n",
    "$$\n",
    "\\Gamma(1) = \\int_0^\\infty e^{-z}dz = 1.\n",
    "$$\n",
    "\n",
    "$$\n",
    "\\Gamma(1/2) = \\sqrt{\\pi}.\n",
    "$$"
   ]
  },
  {
   "cell_type": "markdown",
   "metadata": {
    "nbpresent": {
     "id": "4ab24e1d-72c5-4a07-aad1-edf8c411353c"
    }
   },
   "source": [
    "**Exercise: 2**\n",
    "\n",
    "(a) \n",
    "\n",
    "Prove that, for $\\alpha>1$, $$\\Gamma(\\alpha)= (\\alpha-1)\\Gamma(\\alpha-1)$$\n",
    "and hence that, for positive integers $n$,\n",
    "\n",
    "$$\n",
    "\\Gamma(n) = (n-1)!\n",
    "$$\n",
    "\n",
    "(Hint: Use integration by parts)\n",
    "\n",
    "\n",
    "(b) \n",
    "\n",
    "Show that the gamma distribution has mean  and\n",
    "variance\n",
    "\n",
    "$$\n",
    "\\mu = \\alpha\\beta, \\quad \\sigma^2 = \\alpha\\beta^2.\n",
    "$$"
   ]
  },
  {
   "cell_type": "markdown",
   "metadata": {
    "nbpresent": {
     "id": "753d93ae-447c-4ba5-914e-981780833b3c"
    }
   },
   "source": [
    "The *chi-square distribution with $n$ degrees of freedom* is a special case of the gamma distribution.\n",
    "We get its density function with $\\beta = 2$ and $\\alpha = n/2$, i.e.,\n",
    "\n",
    "$$\n",
    "p_{\\chi^2;n}(z)=\\cases{{1 \\over 2^{n/2}\\Gamma(n/2)} z^{(n-2)/2} e^{-z/2} & for $z>0$\\cr 0 & otherwise}\n",
    "$$\n",
    "\n",
    "It follows that the chi-square distribution has mean $$\\mu = n$$ and variance\n",
    "$$\\sigma^2 = 2n.$$"
   ]
  },
  {
   "cell_type": "code",
   "execution_count": 14,
   "metadata": {
    "collapsed": false,
    "nbpresent": {
     "id": "30942409-d325-4068-abff-141523bb508d"
    }
   },
   "outputs": [
    {
     "data": {
      "image/png": "[encoded data removed]",
      "text/plain": [
       "<matplotlib.figure.Figure at 0x7f2afc315110>"
      ]
     },
     "metadata": {},
     "output_type": "display_data"
    }
   ],
   "source": [
    "import scipy.stats as st\n",
    "\n",
    "z = linspace(1,20,200)\n",
    "for i in range(1,6):\n",
    "    plt.plot(z,st.chi2.pdf(z,i))\n",
    "plt.show()"
   ]
  },
  {
   "cell_type": "markdown",
   "metadata": {
    "nbpresent": {
     "id": "ea465b35-6e23-4485-9ee9-efc57f328b5a"
    }
   },
   "source": [
    "**Theorem:** \n",
    "\n",
    "If the random variables $X_i$, $i=1\\dots n$, are independent and standard normally distributed\n",
    "(i.e., with mean $0$ and variance $1$) then the random variable\n",
    "\n",
    "$$\n",
    " Z=\\sum_{i=1}^n X_i^2\n",
    "$$\n",
    "\n",
    "is  chi-square distributed with $n$ degrees of freedom."
   ]
  },
  {
   "cell_type": "code",
   "execution_count": 15,
   "metadata": {
    "collapsed": false,
    "nbpresent": {
     "id": "6816a93b-61fa-4c1d-ab87-5584df17083d"
    }
   },
   "outputs": [
    {
     "data": {
      "image/png": "[encoded data removed]",
      "text/plain": [
       "<matplotlib.figure.Figure at 0x7f2afc1f27d0>"
      ]
     },
     "metadata": {},
     "output_type": "display_data"
    }
   ],
   "source": [
    "y,x = histogram(sum(random.normal(size=(4,10000))**2,0),bins=50)\n",
    "y = y/float(sum(y))\n",
    "p = plt.plot(x[:-1],y,'bo')"
   ]
  },
  {
   "cell_type": "markdown",
   "metadata": {
    "nbpresent": {
     "id": "d2c1ea7a-4ded-447c-8993-6842af862c12"
    }
   },
   "source": [
    "**Theorem:**\n",
    "\n",
    "Let $p_x(x)$ be the density function for\n",
    "random variable $X$ and \n",
    "\n",
    "$$y=u(x)$$ \n",
    "\n",
    "a monotonic function of $x$ for all\n",
    "values of $x$ for which $p_x(x)\\ne 0$. Then, for the corresponding\n",
    "values of $y$, the density function of the random variable $Y = u(X)$ is\n",
    "given by \n",
    "\n",
    "$$p_y(y) = p_x(w(y))\\left|dx\\over dy\\right|,$$ \n",
    "\n",
    "where\n",
    "$w(y) = u^{-1}(y)$, elsewhere $p_y(y) = 0$."
   ]
  },
  {
   "cell_type": "markdown",
   "metadata": {
    "nbpresent": {
     "id": "0aba02d9-993d-4922-9805-9e13bccf1f32"
    }
   },
   "source": [
    "**Example:** Suppose that a random variable $X$ has the\n",
    "exponential distribution with density function \n",
    "\n",
    "$$ p_x(x) = \\cases{e^{-x} & for $x>0$\\cr 0 & otherwise}$$ \n",
    "\n",
    "and we\n",
    "wish to determine the probability density of the random variable\n",
    "$Y=\\sqrt{X}$. The monotonic function $y=u(x)=\\sqrt{x}$ can be inverted\n",
    "to give \n",
    "\n",
    "$$x = w(y) = u^{-1}(y) = y^2.$$ \n",
    "\n",
    "Thus\n",
    "\n",
    "$$\\left|{dx\\over dy}\\right| = |2y|,\\quad p_x(w(y)) = e^{-y^2},$$ \n",
    "\n",
    "and we\n",
    "obtain $$p_y(y) = 2y e^{-y^2}, \\quad y>0.$$"
   ]
  },
  {
   "cell_type": "markdown",
   "metadata": {
    "nbpresent": {
     "id": "dcd7329d-1bd4-47e8-b4f5-3952ac2f01c6"
    }
   },
   "source": [
    "**Example** Let the random variable $X$ be standard normally distributed with density function\n",
    "\n",
    "$$\n",
    "\\phi(x) = {1\\over\\sqrt{2\\pi}}\\exp(-x^2/2), \\quad -\\infty < x < \\infty.\n",
    "$$\n",
    "\n",
    "Let $Y=|X|$ where $X$ has the distribution $\\Phi(x)$. For $y>0$ we have\n",
    "\n",
    "$$\n",
    "P(y) = \\pr(Y\\le y) = \\pr(|X|\\le y) = \\pr(-y\\le X\\le y) =\\Phi(y)-\\Phi(-y).\n",
    "$$\n",
    "\n",
    "Hence\n",
    "\n",
    "$$\n",
    "p(y) = {d\\over dy}P(y) = \\phi(y)-\\phi(-y) = 2\\phi(y),\n",
    "$$\n",
    "\n",
    "and clearly for $y\\le 0$, $p(y)=0$."
   ]
  },
  {
   "cell_type": "markdown",
   "metadata": {
    "nbpresent": {
     "id": "3138ac7f-a718-423c-a19e-b35d4f189870"
    }
   },
   "source": [
    "**Exercise 3:** Show that the random variable $Y=X^2$,\n",
    "where $X$ is standard normally distributed, has the chi-square density function with $m=1$\n",
    "degree of freedom."
   ]
  },
  {
   "cell_type": "markdown",
   "metadata": {
    "collapsed": true,
    "nbpresent": {
     "id": "7935c6f9-bace-4b1c-8386-7900d5a21527"
    }
   },
   "source": [
    "### Conditional probability\n",
    "\n",
    "If $A$ and $B$ are two events, i.e., two subsets of a sample space $\\Omega$,\n",
    "such that the probability of $A$ and $B$ occurring\n",
    "simultaneously is $\\pr(A,B)$, and if $\\pr(B)\\ne 0$, then the *conditional probability* of $A$ occurring\n",
    "given that $B$ occurs} is defined to be\n",
    "\n",
    "$$\n",
    "\\pr(A\\mid B) = {\\pr(A,B)\\over \\pr(B)}.\\tag 1\n",
    "$$"
   ]
  },
  {
   "cell_type": "markdown",
   "metadata": {
    "collapsed": true,
    "nbpresent": {
     "id": "1d2f9570-2c87-4ef9-bee7-f9f1eefbfd03"
    }
   },
   "source": [
    "### Theorem of Total Probability\n",
    "\n",
    "If $A_1,A_2\\dots A_m$ are disjoint events associated with some random experiment\n",
    "and if their union is the set of all possible events, then for any event $B$\n",
    "\n",
    "$$\n",
    "\\pr(B) = \\sum_{i=1}^m \\pr(B\\mid A_i)\\pr(A_i)= \\sum_{i=1}^m\\pr(B,A_i).\\tag 2\n",
    "$$\n",
    "\n",
    "Both Equations (1) and (2) have their\n",
    "counterparts for probability density functions:\n",
    "\n",
    "$$\n",
    "p(x,y) = p(x\\mid y)p(y)\\tag 3\n",
    "$$\n",
    "\n",
    "and\n",
    "\n",
    "$$\n",
    "p(x) = \\int_{-\\infty}^\\infty p(x\\mid y)p(y)dy = \\int_{-\\infty}^\\infty p(x,y)dy.\\tag 4\n",
    "$$"
   ]
  },
  {
   "cell_type": "markdown",
   "metadata": {
    "nbpresent": {
     "id": "cba5b5d3-18c7-478a-90c5-df1ec525a83a"
    }
   },
   "source": [
    "### Bayes' Theorem\n",
    "\n",
    "*Bayes' Theorem* is the basic starting point for inference problems using\n",
    "probability theory as logic.\n",
    "\n",
    "**Motivation**\n",
    "\n",
    "Two measurement frequency distributions for two categories $C_1$ and $C_2$:\n",
    "\n",
    "<img src= 'bayes-1.png'  height='800' width='1200' />\n"
   ]
  },
  {
   "cell_type": "markdown",
   "metadata": {
    "nbpresent": {
     "id": "e1c8be02-8753-4b34-bf17-5e363dbc05b9"
    }
   },
   "source": [
    "1) $\\pr(C_k)$ = prior probability for category $C_k$,  \n",
    "\n",
    "$$\n",
    "\\pr(C_1) = {137\\over 137+63}\\quad \\pr(C_2) = {63\\over 137+63}\n",
    "$$\n",
    "    \n",
    " If we were to decide which category a new measurement will have, without futher information, then we would always say $C_1$."
   ]
  },
  {
   "cell_type": "markdown",
   "metadata": {
    "nbpresent": {
     "id": "163771c6-305c-454a-bf18-d9c0c17e9e08"
    }
   },
   "source": [
    "2) $\\pr(x) =$ probability for measuring a value $x$, e.g., probability for obtaining the value $x=4$:\n",
    "\n",
    "$$\n",
    "\\pr(x=4) = {21+5\\over 137+63}\n",
    "$$"
   ]
  },
  {
   "cell_type": "markdown",
   "metadata": {
    "nbpresent": {
     "id": "0e2b0130-f541-4b17-9c59-49e10a8328c9"
    }
   },
   "source": [
    "3) $\\pr(x\\mid C_k) = $ the conditional probability for measuring $x=4$ if the category is $C_k$, e.g.\n",
    "\n",
    "$$\n",
    "\\pr(x=4\\mid C_1) = {21\\over 137}\\quad \\pr(x=4\\mid C_2) = {5\\over 63}\n",
    "$$\n",
    "\n",
    "Clearly we have\n",
    "\n",
    "$$\n",
    "\\pr(x\\mid C_1)\\pr(C_1) + \\pr(x\\mid C_2)\\pr(C_2) = \\pr(x)\n",
    "$$"
   ]
  },
  {
   "cell_type": "markdown",
   "metadata": {
    "nbpresent": {
     "id": "cd6007b9-e0b4-4d6f-9755-8902f97169cd"
    }
   },
   "source": [
    "4) $\\pr(C_k\\mid x) =$ posterior probability for category $C_k$ given the measurement $x$, e.g.,\n",
    "\n",
    "$$\n",
    "\\pr(C_1\\mid x=4) = {21\\over 21+5}\n",
    "$$\n",
    "   "
   ]
  },
  {
   "cell_type": "markdown",
   "metadata": {
    "nbpresent": {
     "id": "a19de25d-6960-4093-ad08-61b8a8927e1c"
    }
   },
   "source": [
    "5) $\\pr(C_k,x) =$ the joint probability the the measurement will be in category $C_k$ and have value $x$, e.g.\n",
    "\n",
    "$$\n",
    "\\pr(C_1,x=4) = {21\\over 137+63}\n",
    "$$"
   ]
  },
  {
   "cell_type": "markdown",
   "metadata": {
    "nbpresent": {
     "id": "8bed8fd0-19d7-49ab-aab4-4cf522df1724"
    }
   },
   "source": [
    "Now it is easy to verify that\n",
    "\n",
    "$$\n",
    "\\eqalign{ \\pr(C_k,x) &= \\pr(C_k\\mid x)\\pr(x)\\quad\\hbox{and}\\cr\n",
    "\\pr(C_k,x) &= \\pr(x\\mid C_k)\\pr(C_k)}\n",
    "$$\n",
    "\n",
    "so that the posterior probability is given by\n",
    "\n",
    "$$\n",
    "\\pr(C_k\\mid x) = {\\pr(x\\mid C_k)\\pr(C_k)\\over \\pr(x)} = {\\pr(x\\mid C_k)\\pr(C_k)\\over \\pr(x\\mid C_1)\\pr(C_1) + \\pr(x\\mid C_2)\\pr(C_2)}\n",
    "$$\n",
    "    "
   ]
  },
  {
   "cell_type": "markdown",
   "metadata": {
    "nbpresent": {
     "id": "e347a878-e309-4db3-8234-5a9eaa147e56"
    }
   },
   "source": [
    "**Bayes' Theorem** If $A_1,A_2\\dots A_m$ are disjoint events associated with some random experiment,\n",
    "their union is the set of all possible events, and if $\\pr(A_i)\\ne 0$ for\n",
    "$i=1\\dots m$, then for any event $B$ for which $\\pr(B)\\ne 0$\n",
    "\n",
    "$$\n",
    "\\pr(A_k\\mid B) = {\\pr(B\\mid A_k)\\pr(A_k) \\over \\sum_{i=1}^m \\pr(B\\mid A_i)\\pr(A_i)}.\\tag 5\n",
    "$$\n",
    "\n",
    "In terms of probability density functions:\n",
    "\n",
    "$$\n",
    "p(a\\mid b) = {p(a\\mid b) \\over \\int p(b\\mid a)p(a)da}  = {p(b\\mid a)p(a) \\over  p(b)}.\\tag 6\n",
    "$$"
   ]
  },
  {
   "cell_type": "markdown",
   "metadata": {
    "nbpresent": {
     "id": "cdaa53f7-58f7-4b90-9bc1-05f28b16bb90"
    }
   },
   "source": [
    "\n",
    "**Exercise 4:** In the game *Lets Make a Deal!* a contestant is asked to choose between one\n",
    "of three doors. Behind one of the doors the prize is an automobile.\n",
    "After the contestant has chosen, the quizmaster  opens one of the other two doors to show\n",
    "that the automobile is not there. He then asks the contestant if she wishes to change her\n",
    "mind and switch from her original choice to the other unopened door.\n",
    "Use Bayes' Theorem to prove that her correct answer is \"yes.\""
   ]
  }
 ],
 "metadata": {
  "anaconda-cloud": {},
  "kernelspec": {
   "display_name": "Python [conda root]",
   "language": "python",
   "name": "conda-root-py"
  },
  "language_info": {
   "codemirror_mode": {
    "name": "ipython",
    "version": 2
   },
   "file_extension": ".py",
   "mimetype": "text/x-python",
   "name": "python",
   "nbconvert_exporter": "python",
   "pygments_lexer": "ipython2",
   "version": "2.7.12"
  },
  "nbpresent": {
   "slides": {
    "0437bd94-34cd-48d5-9b36-8512673c7d52": {
     "id": "0437bd94-34cd-48d5-9b36-8512673c7d52",
     "prev": "fd66fe1b-d493-4c3f-b4e3-c7190d85ee56",
     "regions": {
      "721a19f5-6c20-4d9b-b8f9-6f1c2cdcadf8": {
       "attrs": {
        "height": 0.8,
        "width": 0.8,
        "x": 0.1,
        "y": 0.1
       },
       "content": {
        "cell": "4e21cb6a-56e0-4b75-b74e-7de412452db4",
        "part": "whole"
       },
       "id": "721a19f5-6c20-4d9b-b8f9-6f1c2cdcadf8"
      }
     }
    },
    "09ed2f1e-2e0a-432e-98a8-92d8000ea9b3": {
     "id": "09ed2f1e-2e0a-432e-98a8-92d8000ea9b3",
     "prev": "5ea61fc6-7ae3-461d-b88c-ce6b901b6fc2",
     "regions": {
      "650a980d-3ffa-46d6-8e9f-b76842026f07": {
       "attrs": {
        "height": 0.8,
        "width": 0.8,
        "x": 0.1,
        "y": 0.1
       },
       "content": {
        "cell": "163771c6-305c-454a-bf18-d9c0c17e9e08",
        "part": "whole"
       },
       "id": "650a980d-3ffa-46d6-8e9f-b76842026f07"
      }
     }
    },
    "1156fad4-4412-410b-91e2-8d2f2c0e1c2a": {
     "id": "1156fad4-4412-410b-91e2-8d2f2c0e1c2a",
     "prev": "c10bbf55-04cc-4142-8983-bf2c5cfa5515",
     "regions": {
      "3770c744-0d56-4651-ac07-40574a207127": {
       "attrs": {
        "height": 0.8,
        "width": 0.8,
        "x": 0.1,
        "y": 0.1
       },
       "content": {
        "cell": "753d93ae-447c-4ba5-914e-981780833b3c",
        "part": "whole"
       },
       "id": "3770c744-0d56-4651-ac07-40574a207127"
      }
     }
    },
    "12f7eb7d-2d61-489a-a54e-bb8353d0b955": {
     "id": "12f7eb7d-2d61-489a-a54e-bb8353d0b955",
     "prev": "3efaf2d0-8f5d-45c3-8703-1fabe43f1bfb",
     "regions": {
      "2f991314-53e4-48f6-a8df-518ac291a779": {
       "attrs": {
        "height": 0.8,
        "width": 0.8,
        "x": 0.1,
        "y": 0.1
       },
       "content": {
        "cell": "6ea8f5b1-70cb-42f1-b4e7-a17aa0c7c2d0",
        "part": "whole"
       },
       "id": "2f991314-53e4-48f6-a8df-518ac291a779"
      }
     }
    },
    "15df146c-84df-48cd-8874-4fe699236d44": {
     "id": "15df146c-84df-48cd-8874-4fe699236d44",
     "prev": "23faaac6-1812-46ee-ae35-b034cb5aa8aa",
     "regions": {
      "031db6c6-15a5-46eb-91c8-c2b82603bbd9": {
       "attrs": {
        "height": 0.8,
        "width": 0.8,
        "x": 0.1,
        "y": 0.1
       },
       "content": {
        "cell": "7935c6f9-bace-4b1c-8386-7900d5a21527",
        "part": "whole"
       },
       "id": "031db6c6-15a5-46eb-91c8-c2b82603bbd9"
      }
     }
    },
    "17d05652-1941-4b32-a2b5-8e542b893fc6": {
     "id": "17d05652-1941-4b32-a2b5-8e542b893fc6",
     "prev": "e7e490f2-95c1-4f46-b38c-6899b004894d",
     "regions": {
      "cb7cc76c-94f7-43a0-b794-32a039c5a154": {
       "attrs": {
        "height": 0.8,
        "width": 0.8,
        "x": 0.1,
        "y": 0.1
       },
       "content": {
        "cell": "8bed8fd0-19d7-49ab-aab4-4cf522df1724",
        "part": "whole"
       },
       "id": "cb7cc76c-94f7-43a0-b794-32a039c5a154"
      }
     }
    },
    "211979ca-c88b-41ab-bdea-e763c3ee68e7": {
     "id": "211979ca-c88b-41ab-bdea-e763c3ee68e7",
     "prev": "1156fad4-4412-410b-91e2-8d2f2c0e1c2a",
     "regions": {
      "3351196c-2623-4388-9909-a47ec607f1da": {
       "attrs": {
        "height": 0.8,
        "width": 0.8,
        "x": 0.1,
        "y": 0.1
       },
       "content": {
        "cell": "30942409-d325-4068-abff-141523bb508d",
        "part": "whole"
       },
       "id": "3351196c-2623-4388-9909-a47ec607f1da"
      }
     }
    },
    "21460d5e-d155-4657-bc25-f22ded9ffd93": {
     "id": "21460d5e-d155-4657-bc25-f22ded9ffd93",
     "prev": null,
     "regions": {
      "36b3d7b7-a59e-4f8a-9e0b-c73f59da6e70": {
       "attrs": {
        "height": 0.8,
        "width": 0.8,
        "x": 0.1,
        "y": 0.1
       },
       "content": {
        "cell": "522686ef-b4e1-463d-81dc-c98b167fbc81",
        "part": "whole"
       },
       "id": "36b3d7b7-a59e-4f8a-9e0b-c73f59da6e70"
      }
     }
    },
    "22a7ab1f-ff41-42b5-b1ad-5fd5c86a3e8d": {
     "id": "22a7ab1f-ff41-42b5-b1ad-5fd5c86a3e8d",
     "prev": "f0914e6e-60a3-43eb-a20b-0eb9b22caf30",
     "regions": {
      "4ce64e3c-917e-4f0e-98ea-791ebe22a5c5": {
       "attrs": {
        "height": 0.8,
        "width": 0.8,
        "x": 0.1,
        "y": 0.1
       },
       "content": {
        "cell": "5fc3818b-8a3b-4a11-a4a7-cdfa94800e16",
        "part": "whole"
       },
       "id": "4ce64e3c-917e-4f0e-98ea-791ebe22a5c5"
      }
     }
    },
    "23faaac6-1812-46ee-ae35-b034cb5aa8aa": {
     "id": "23faaac6-1812-46ee-ae35-b034cb5aa8aa",
     "prev": "5279db64-bffe-4bbf-b0a6-36c0a67bb33b",
     "regions": {
      "f02b9718-57fe-4bf9-83f8-8570ae84c81a": {
       "attrs": {
        "height": 0.8,
        "width": 0.8,
        "x": 0.1,
        "y": 0.1
       },
       "content": {
        "cell": "3138ac7f-a718-423c-a19e-b35d4f189870",
        "part": "whole"
       },
       "id": "f02b9718-57fe-4bf9-83f8-8570ae84c81a"
      }
     }
    },
    "35556e2b-178e-4e8d-9cec-42924176287f": {
     "id": "35556e2b-178e-4e8d-9cec-42924176287f",
     "prev": "5d6f6d30-3de3-42de-afd8-4e40eec25c99",
     "regions": {
      "4ab609c8-1a9e-4736-85fd-0914307ada70": {
       "attrs": {
        "height": 0.8,
        "width": 0.8,
        "x": 0.1,
        "y": 0.1
       },
       "content": {
        "cell": "098cc423-4419-491f-b408-1009f3e0190b",
        "part": "whole"
       },
       "id": "4ab609c8-1a9e-4736-85fd-0914307ada70"
      }
     }
    },
    "39931212-e3d3-43c4-b07b-47fc5a32f916": {
     "id": "39931212-e3d3-43c4-b07b-47fc5a32f916",
     "prev": "0437bd94-34cd-48d5-9b36-8512673c7d52",
     "regions": {
      "6444e385-34af-412f-aa97-1356193f271a": {
       "attrs": {
        "height": 0.8,
        "width": 0.8,
        "x": 0.1,
        "y": 0.1
       },
       "content": {
        "cell": "b37fe2e2-50aa-4333-8aeb-07d974b713bc",
        "part": "whole"
       },
       "id": "6444e385-34af-412f-aa97-1356193f271a"
      }
     }
    },
    "3efaf2d0-8f5d-45c3-8703-1fabe43f1bfb": {
     "id": "3efaf2d0-8f5d-45c3-8703-1fabe43f1bfb",
     "prev": "462fff20-132e-4f3b-81a2-71f10e81887a",
     "regions": {
      "f4a9d04d-37a4-44b7-94aa-b6c96c2f742a": {
       "attrs": {
        "height": 0.8,
        "width": 0.8,
        "x": 0.1,
        "y": 0.1
       },
       "content": {
        "cell": "2f6fd263-0243-4c45-a6aa-e9784eeb4eda",
        "part": "whole"
       },
       "id": "f4a9d04d-37a4-44b7-94aa-b6c96c2f742a"
      }
     }
    },
    "462fff20-132e-4f3b-81a2-71f10e81887a": {
     "id": "462fff20-132e-4f3b-81a2-71f10e81887a",
     "prev": "fb74e801-4971-43c5-a0cd-b377e23ee343",
     "regions": {
      "4c0c81d0-cec0-416e-9716-87666f0a17cc": {
       "attrs": {
        "height": 0.8,
        "width": 0.8,
        "x": 0.1,
        "y": 0.1
       },
       "content": {
        "cell": "8c861a8c-df81-4a7e-ab16-e5f722c9436f",
        "part": "whole"
       },
       "id": "4c0c81d0-cec0-416e-9716-87666f0a17cc"
      }
     }
    },
    "4726c484-0ecb-4357-923f-c4e34e3716b4": {
     "id": "4726c484-0ecb-4357-923f-c4e34e3716b4",
     "prev": "889c6afd-fc44-45f1-abc2-29c39d90f18a",
     "regions": {
      "422f7038-2a14-4b13-ae41-ed76d62bf2e1": {
       "attrs": {
        "height": 0.8,
        "width": 0.8,
        "x": 0.1,
        "y": 0.1
       },
       "content": {
        "cell": "334eab81-1c02-4aba-9c45-f355b7ce22e0",
        "part": "whole"
       },
       "id": "422f7038-2a14-4b13-ae41-ed76d62bf2e1"
      }
     }
    },
    "48c9b902-501f-49fa-99ca-5f88871aa3c4": {
     "id": "48c9b902-501f-49fa-99ca-5f88871aa3c4",
     "prev": "9e51c8ce-ceed-44fa-aa2a-0395ee05e3c8",
     "regions": {
      "eb442fdb-644a-4b91-a259-3af052f8fe2b": {
       "attrs": {
        "height": 0.8,
        "width": 0.8,
        "x": 0.1,
        "y": 0.1
       },
       "content": {
        "cell": "661cc84f-6edd-4bb8-a1bd-a07f5694d8da",
        "part": "whole"
       },
       "id": "eb442fdb-644a-4b91-a259-3af052f8fe2b"
      }
     }
    },
    "4f0b795e-1ac1-471e-b057-4d765490700f": {
     "id": "4f0b795e-1ac1-471e-b057-4d765490700f",
     "prev": "93daa5f5-9a20-4418-9652-96f10a5af402",
     "regions": {
      "d5734e65-63ec-456a-9117-c11067f92377": {
       "attrs": {
        "height": 0.8,
        "width": 0.8,
        "x": 0.1,
        "y": 0.1
       },
       "content": {
        "cell": "cd6007b9-e0b4-4d6f-9755-8902f97169cd",
        "part": "whole"
       },
       "id": "d5734e65-63ec-456a-9117-c11067f92377"
      }
     }
    },
    "5279db64-bffe-4bbf-b0a6-36c0a67bb33b": {
     "id": "5279db64-bffe-4bbf-b0a6-36c0a67bb33b",
     "prev": "9048ca41-6827-48b2-ac93-10e8c8cf84ea",
     "regions": {
      "2463edc5-f6a9-495c-a050-2da59f36c05a": {
       "attrs": {
        "height": 0.8,
        "width": 0.8,
        "x": 0.1,
        "y": 0.1
       },
       "content": {
        "cell": "dcd7329d-1bd4-47e8-b4f5-3952ac2f01c6",
        "part": "whole"
       },
       "id": "2463edc5-f6a9-495c-a050-2da59f36c05a"
      }
     }
    },
    "558ebf53-da94-4b5e-a369-626b61d8e2de": {
     "id": "558ebf53-da94-4b5e-a369-626b61d8e2de",
     "prev": "d896d619-dca6-44f1-82ca-fb8d95536507",
     "regions": {
      "f98b940f-887f-4354-840d-569a975c190c": {
       "attrs": {
        "height": 0.8,
        "width": 0.8,
        "x": 0.1,
        "y": 0.1
       },
       "content": {
        "cell": "cdaa53f7-58f7-4b90-9bc1-05f28b16bb90",
        "part": "whole"
       },
       "id": "f98b940f-887f-4354-840d-569a975c190c"
      }
     }
    },
    "58d0b2cf-f444-4b8a-99a1-368a3ede6e20": {
     "id": "58d0b2cf-f444-4b8a-99a1-368a3ede6e20",
     "prev": "8ccd7a5c-67d7-477b-ad78-689a703738c3",
     "regions": {
      "348bc97d-0b44-4391-93f0-6bec4d43ba25": {
       "attrs": {
        "height": 0.8,
        "width": 0.8,
        "x": 0.1,
        "y": 0.1
       },
       "content": {
        "cell": "f29d911a-495d-41b5-9b1d-e54a284be711",
        "part": "whole"
       },
       "id": "348bc97d-0b44-4391-93f0-6bec4d43ba25"
      }
     }
    },
    "5d6f6d30-3de3-42de-afd8-4e40eec25c99": {
     "id": "5d6f6d30-3de3-42de-afd8-4e40eec25c99",
     "prev": "9b2a942b-cbf9-4a8a-9b0f-db5e38880eac",
     "regions": {
      "73d5d510-f53f-482b-b002-0ed05c902cf1": {
       "attrs": {
        "height": 0.8,
        "width": 0.8,
        "x": 0.1,
        "y": 0.1
       },
       "content": {
        "cell": "0670a897-b98e-4de9-a667-c49c1bf7040a",
        "part": "whole"
       },
       "id": "73d5d510-f53f-482b-b002-0ed05c902cf1"
      }
     }
    },
    "5ea61fc6-7ae3-461d-b88c-ce6b901b6fc2": {
     "id": "5ea61fc6-7ae3-461d-b88c-ce6b901b6fc2",
     "prev": "c465ffb8-6e95-4b32-ae2e-8d8f3c45440d",
     "regions": {
      "b3c3fa06-289f-4abf-b8b4-7e25253ad27c": {
       "attrs": {
        "height": 0.8,
        "width": 0.8,
        "x": 0.1,
        "y": 0.1
       },
       "content": {
        "cell": "e1c8be02-8753-4b34-bf17-5e363dbc05b9",
        "part": "whole"
       },
       "id": "b3c3fa06-289f-4abf-b8b4-7e25253ad27c"
      }
     }
    },
    "649b1b1e-a3a7-4c32-8df1-3308759b1b44": {
     "id": "649b1b1e-a3a7-4c32-8df1-3308759b1b44",
     "prev": "d356015a-9275-4867-b1f8-54dca2d78489",
     "regions": {
      "44e66e90-6145-4c33-a321-a7c3e95e68ec": {
       "attrs": {
        "height": 0.8,
        "width": 0.8,
        "x": 0.1,
        "y": 0.1
       },
       "content": {
        "cell": "0fc1364d-7795-425e-be34-78c280c3f190",
        "part": "whole"
       },
       "id": "44e66e90-6145-4c33-a321-a7c3e95e68ec"
      }
     }
    },
    "87eb0d52-c845-4ded-b189-bda5e9f9e391": {
     "id": "87eb0d52-c845-4ded-b189-bda5e9f9e391",
     "prev": "d7ba9d15-b071-4f47-943f-fccc429902b0",
     "regions": {
      "8ed01e67-e0d2-49ea-89cb-ecd16e20da59": {
       "attrs": {
        "height": 0.8,
        "width": 0.8,
        "x": 0.1,
        "y": 0.1
       },
       "content": {
        "cell": "d2c1ea7a-4ded-447c-8993-6842af862c12",
        "part": "whole"
       },
       "id": "8ed01e67-e0d2-49ea-89cb-ecd16e20da59"
      }
     }
    },
    "889c6afd-fc44-45f1-abc2-29c39d90f18a": {
     "id": "889c6afd-fc44-45f1-abc2-29c39d90f18a",
     "prev": "35556e2b-178e-4e8d-9cec-42924176287f",
     "regions": {
      "57a2d076-32ee-43ec-b948-d5e111a16f00": {
       "attrs": {
        "height": 0.8,
        "width": 0.8,
        "x": 0.1,
        "y": 0.1
       },
       "content": {
        "cell": "9e5907a0-1054-4859-b640-50b08428b7aa",
        "part": "whole"
       },
       "id": "57a2d076-32ee-43ec-b948-d5e111a16f00"
      }
     }
    },
    "8ccd7a5c-67d7-477b-ad78-689a703738c3": {
     "id": "8ccd7a5c-67d7-477b-ad78-689a703738c3",
     "prev": "12f7eb7d-2d61-489a-a54e-bb8353d0b955",
     "regions": {
      "095922a3-27e6-4ab5-ba53-8bf3665f10ac": {
       "attrs": {
        "height": 0.8,
        "width": 0.8,
        "x": 0.1,
        "y": 0.1
       },
       "content": {
        "cell": "171fc9cd-5d3b-4f58-b696-160f55f9e324",
        "part": "whole"
       },
       "id": "095922a3-27e6-4ab5-ba53-8bf3665f10ac"
      }
     }
    },
    "9048ca41-6827-48b2-ac93-10e8c8cf84ea": {
     "id": "9048ca41-6827-48b2-ac93-10e8c8cf84ea",
     "prev": "87eb0d52-c845-4ded-b189-bda5e9f9e391",
     "regions": {
      "25d2f1bb-e907-42c8-82cc-60945df54381": {
       "attrs": {
        "height": 0.8,
        "width": 0.8,
        "x": 0.1,
        "y": 0.1
       },
       "content": {
        "cell": "0aba02d9-993d-4922-9805-9e13bccf1f32",
        "part": "whole"
       },
       "id": "25d2f1bb-e907-42c8-82cc-60945df54381"
      }
     }
    },
    "9268447b-8286-4ab0-a426-39650b53ef85": {
     "id": "9268447b-8286-4ab0-a426-39650b53ef85",
     "prev": "15df146c-84df-48cd-8874-4fe699236d44",
     "regions": {
      "0cd3e453-0336-4e12-8971-6589a940cd38": {
       "attrs": {
        "height": 0.8,
        "width": 0.8,
        "x": 0.1,
        "y": 0.1
       },
       "content": {
        "cell": "1d2f9570-2c87-4ef9-bee7-f9f1eefbfd03",
        "part": "whole"
       },
       "id": "0cd3e453-0336-4e12-8971-6589a940cd38"
      }
     }
    },
    "93daa5f5-9a20-4418-9652-96f10a5af402": {
     "id": "93daa5f5-9a20-4418-9652-96f10a5af402",
     "prev": "09ed2f1e-2e0a-432e-98a8-92d8000ea9b3",
     "regions": {
      "479fc09b-1aac-4c6a-8146-f5eaf49b14d2": {
       "attrs": {
        "height": 0.8,
        "width": 0.8,
        "x": 0.1,
        "y": 0.1
       },
       "content": {
        "cell": "0e2b0130-f541-4b17-9c59-49e10a8328c9",
        "part": "whole"
       },
       "id": "479fc09b-1aac-4c6a-8146-f5eaf49b14d2"
      }
     }
    },
    "9b2a942b-cbf9-4a8a-9b0f-db5e38880eac": {
     "id": "9b2a942b-cbf9-4a8a-9b0f-db5e38880eac",
     "prev": "48c9b902-501f-49fa-99ca-5f88871aa3c4",
     "regions": {
      "18d7dab1-ab94-4084-bdd1-8dd53fb23476": {
       "attrs": {
        "height": 0.8,
        "width": 0.8,
        "x": 0.1,
        "y": 0.1
       },
       "content": {
        "cell": "045add28-4e73-4836-81ce-9eacd1b0dfbf",
        "part": "whole"
       },
       "id": "18d7dab1-ab94-4084-bdd1-8dd53fb23476"
      }
     }
    },
    "9e51c8ce-ceed-44fa-aa2a-0395ee05e3c8": {
     "id": "9e51c8ce-ceed-44fa-aa2a-0395ee05e3c8",
     "prev": "9ec7e004-5a61-4e63-88c8-223ac5f167fc",
     "regions": {
      "67e4b896-452b-42d0-aa4a-e7f2e8653291": {
       "attrs": {
        "height": 0.8,
        "width": 0.8,
        "x": 0.1,
        "y": 0.1
       },
       "content": {
        "cell": "f7cdb032-055e-4d32-a8e4-da40eccba9ed",
        "part": "whole"
       },
       "id": "67e4b896-452b-42d0-aa4a-e7f2e8653291"
      }
     }
    },
    "9ec7e004-5a61-4e63-88c8-223ac5f167fc": {
     "id": "9ec7e004-5a61-4e63-88c8-223ac5f167fc",
     "prev": "58d0b2cf-f444-4b8a-99a1-368a3ede6e20",
     "regions": {
      "52af7d3a-772d-4d59-88c1-d2310810f8f4": {
       "attrs": {
        "height": 0.8,
        "width": 0.8,
        "x": 0.1,
        "y": 0.1
       },
       "content": {
        "cell": "94bcdd82-182b-40bc-b9f6-4b75646e67a4",
        "part": "whole"
       },
       "id": "52af7d3a-772d-4d59-88c1-d2310810f8f4"
      }
     }
    },
    "b55f390b-d852-4c5b-945d-86fb877a6ee2": {
     "id": "b55f390b-d852-4c5b-945d-86fb877a6ee2",
     "prev": "39931212-e3d3-43c4-b07b-47fc5a32f916",
     "regions": {
      "4a9369da-2178-481f-9205-cbc2a8adc482": {
       "attrs": {
        "height": 0.8,
        "width": 0.8,
        "x": 0.1,
        "y": 0.1
       },
       "content": {
        "cell": "a03292b1-6393-4525-b90d-d6a534a4638a",
        "part": "whole"
       },
       "id": "4a9369da-2178-481f-9205-cbc2a8adc482"
      }
     }
    },
    "c10bbf55-04cc-4142-8983-bf2c5cfa5515": {
     "id": "c10bbf55-04cc-4142-8983-bf2c5cfa5515",
     "prev": "b55f390b-d852-4c5b-945d-86fb877a6ee2",
     "regions": {
      "84e126ec-9c99-47f2-ae70-cd79f01bf6a4": {
       "attrs": {
        "height": 0.8,
        "width": 0.8,
        "x": 0.1,
        "y": 0.1
       },
       "content": {
        "cell": "4ab24e1d-72c5-4a07-aad1-edf8c411353c",
        "part": "whole"
       },
       "id": "84e126ec-9c99-47f2-ae70-cd79f01bf6a4"
      }
     }
    },
    "c465ffb8-6e95-4b32-ae2e-8d8f3c45440d": {
     "id": "c465ffb8-6e95-4b32-ae2e-8d8f3c45440d",
     "prev": "9268447b-8286-4ab0-a426-39650b53ef85",
     "regions": {
      "56fe039c-8737-4280-8abf-cbcc2c7382d3": {
       "attrs": {
        "height": 0.8,
        "width": 0.8,
        "x": 0.1,
        "y": 0.1
       },
       "content": {
        "cell": "cba5b5d3-18c7-478a-90c5-df1ec525a83a",
        "part": "whole"
       },
       "id": "56fe039c-8737-4280-8abf-cbcc2c7382d3"
      }
     }
    },
    "d356015a-9275-4867-b1f8-54dca2d78489": {
     "id": "d356015a-9275-4867-b1f8-54dca2d78489",
     "prev": "22a7ab1f-ff41-42b5-b1ad-5fd5c86a3e8d",
     "regions": {
      "bcba6dfd-8af3-47c9-a02f-b94a990e79f1": {
       "attrs": {
        "height": 0.8,
        "width": 0.8,
        "x": 0.1,
        "y": 0.1
       },
       "content": {
        "cell": "16f2a4cb-a483-40ce-bf49-a16e651340a5",
        "part": "whole"
       },
       "id": "bcba6dfd-8af3-47c9-a02f-b94a990e79f1"
      }
     }
    },
    "d7ba9d15-b071-4f47-943f-fccc429902b0": {
     "id": "d7ba9d15-b071-4f47-943f-fccc429902b0",
     "prev": "ee62190a-aad0-47b3-8c90-24d1cd7b4f4d",
     "regions": {
      "6c61dbda-6e71-4fd6-a5cd-47fa94b0937c": {
       "attrs": {
        "height": 0.8,
        "width": 0.8,
        "x": 0.1,
        "y": 0.1
       },
       "content": {
        "cell": "6816a93b-61fa-4c1d-ab87-5584df17083d",
        "part": "whole"
       },
       "id": "6c61dbda-6e71-4fd6-a5cd-47fa94b0937c"
      }
     }
    },
    "d896d619-dca6-44f1-82ca-fb8d95536507": {
     "id": "d896d619-dca6-44f1-82ca-fb8d95536507",
     "prev": "17d05652-1941-4b32-a2b5-8e542b893fc6",
     "regions": {
      "574af637-d7e0-4280-8492-1f14f2ddf695": {
       "attrs": {
        "height": 0.8,
        "width": 0.8,
        "x": 0.1,
        "y": 0.1
       },
       "content": {
        "cell": "e347a878-e309-4db3-8234-5a9eaa147e56",
        "part": "whole"
       },
       "id": "574af637-d7e0-4280-8492-1f14f2ddf695"
      }
     }
    },
    "e7e490f2-95c1-4f46-b38c-6899b004894d": {
     "id": "e7e490f2-95c1-4f46-b38c-6899b004894d",
     "prev": "4f0b795e-1ac1-471e-b057-4d765490700f",
     "regions": {
      "4f27c5d7-3e1a-4cfe-953e-5ea9b9e66216": {
       "attrs": {
        "height": 0.8,
        "width": 0.8,
        "x": 0.1,
        "y": 0.1
       },
       "content": {
        "cell": "a19de25d-6960-4093-ad08-61b8a8927e1c",
        "part": "whole"
       },
       "id": "4f27c5d7-3e1a-4cfe-953e-5ea9b9e66216"
      }
     }
    },
    "ee62190a-aad0-47b3-8c90-24d1cd7b4f4d": {
     "id": "ee62190a-aad0-47b3-8c90-24d1cd7b4f4d",
     "prev": "211979ca-c88b-41ab-bdea-e763c3ee68e7",
     "regions": {
      "2f5a6386-37f3-43b0-a88f-ad9251a031d3": {
       "attrs": {
        "height": 0.8,
        "width": 0.8,
        "x": 0.1,
        "y": 0.1
       },
       "content": {
        "cell": "ea465b35-6e23-4485-9ee9-efc57f328b5a",
        "part": "whole"
       },
       "id": "2f5a6386-37f3-43b0-a88f-ad9251a031d3"
      }
     }
    },
    "f0914e6e-60a3-43eb-a20b-0eb9b22caf30": {
     "id": "f0914e6e-60a3-43eb-a20b-0eb9b22caf30",
     "prev": "21460d5e-d155-4657-bc25-f22ded9ffd93",
     "regions": {
      "bb23826a-88b0-41dd-a7ab-e826be48501b": {
       "attrs": {
        "height": 0.8,
        "width": 0.8,
        "x": 0.1,
        "y": 0.1
       },
       "content": {
        "cell": "7648e300-7902-4601-a48f-fb36b5478c87",
        "part": "whole"
       },
       "id": "bb23826a-88b0-41dd-a7ab-e826be48501b"
      }
     }
    },
    "fb74e801-4971-43c5-a0cd-b377e23ee343": {
     "id": "fb74e801-4971-43c5-a0cd-b377e23ee343",
     "prev": "649b1b1e-a3a7-4c32-8df1-3308759b1b44",
     "regions": {
      "d430442b-804f-4fce-9ed1-aeded21dbed1": {
       "attrs": {
        "height": 0.8,
        "width": 0.8,
        "x": 0.1,
        "y": 0.1
       },
       "content": {
        "cell": "ee5723a5-dbc3-4a0c-88b5-ed00da28f2e5",
        "part": "whole"
       },
       "id": "d430442b-804f-4fce-9ed1-aeded21dbed1"
      }
     }
    },
    "fd66fe1b-d493-4c3f-b4e3-c7190d85ee56": {
     "id": "fd66fe1b-d493-4c3f-b4e3-c7190d85ee56",
     "prev": "4726c484-0ecb-4357-923f-c4e34e3716b4",
     "regions": {
      "9c67bb08-8656-48f8-ba85-39514830c97c": {
       "attrs": {
        "height": 0.8,
        "width": 0.8,
        "x": 0.1,
        "y": 0.1
       },
       "content": {
        "cell": "c7c35d70-9b46-4954-a594-50f5cf4c1a1f",
        "part": "whole"
       },
       "id": "9c67bb08-8656-48f8-ba85-39514830c97c"
      }
     }
    }
   },
   "themes": {
    "default": "82bd7934-db3a-41a0-a973-8569f0c6fe97",
    "theme": {
     "82bd7934-db3a-41a0-a973-8569f0c6fe97": {
      "id": "82bd7934-db3a-41a0-a973-8569f0c6fe97",
      "palette": {
       "19cc588f-0593-49c9-9f4b-e4d7cc113b1c": {
        "id": "19cc588f-0593-49c9-9f4b-e4d7cc113b1c",
        "rgb": [
         252,
         252,
         252
        ]
       },
       "31af15d2-7e15-44c5-ab5e-e04b16a89eff": {
        "id": "31af15d2-7e15-44c5-ab5e-e04b16a89eff",
        "rgb": [
         68,
         68,
         68
        ]
       },
       "50f92c45-a630-455b-aec3-788680ec7410": {
        "id": "50f92c45-a630-455b-aec3-788680ec7410",
        "rgb": [
         155,
         177,
         192
        ]
       },
       "c5cc3653-2ee1-402a-aba2-7caae1da4f6c": {
        "id": "c5cc3653-2ee1-402a-aba2-7caae1da4f6c",
        "rgb": [
         43,
         126,
         184
        ]
       },
       "efa7f048-9acb-414c-8b04-a26811511a21": {
        "id": "efa7f048-9acb-414c-8b04-a26811511a21",
        "rgb": [
         25.118061674008803,
         73.60176211453744,
         107.4819383259912
        ]
       }
      },
      "rules": {
       "blockquote": {
        "color": "50f92c45-a630-455b-aec3-788680ec7410"
       },
       "code": {
        "font-family": "Anonymous Pro"
       },
       "h1": {
        "color": "c5cc3653-2ee1-402a-aba2-7caae1da4f6c",
        "font-family": "Lato",
        "font-size": 8
       },
       "h2": {
        "color": "c5cc3653-2ee1-402a-aba2-7caae1da4f6c",
        "font-family": "Lato",
        "font-size": 6
       },
       "h3": {
        "color": "50f92c45-a630-455b-aec3-788680ec7410",
        "font-family": "Lato",
        "font-size": 5.5
       },
       "h4": {
        "color": "c5cc3653-2ee1-402a-aba2-7caae1da4f6c",
        "font-family": "Lato",
        "font-size": 5
       },
       "h5": {
        "font-family": "Lato"
       },
       "h6": {
        "font-family": "Lato"
       },
       "h7": {
        "font-family": "Lato"
       },
       "pre": {
        "font-family": "Anonymous Pro",
        "font-size": 4
       }
      },
      "text-base": {
       "font-family": "Merriweather",
       "font-size": 4
      }
     }
    }
   }
  }
 },
 "nbformat": 4,
 "nbformat_minor": 0
}
