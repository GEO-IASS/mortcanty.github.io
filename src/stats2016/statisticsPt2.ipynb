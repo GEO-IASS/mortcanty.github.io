{
 "cells": [
  {
   "cell_type": "markdown",
   "metadata": {
    "nbpresent": {
     "id": "522686ef-b4e1-463d-81dc-c98b167fbc81"
    }
   },
   "source": [
    "## Part 2. Random Variables\n",
    "$$ \\def\\pr{\\hbox{Pr}}\n",
    "\\def\\var{\\hbox{var}}\n",
    "\\def\\cov{\\hbox{cov}}\n",
    "\\def\\corr{\\hbox{corr}}\n",
    "\\def\\dmX{\\un{\\mathcal{X}}}\n",
    "\\def\\dmG{\\un{\\mathcal{G}}}\n",
    "\\def\\dmK{\\un{\\mathcal{K}}}\n",
    "\\def\\dmS{\\un{\\mathcal{S}}}\n",
    "\\def\\dmC{\\un{\\mathcal{C}}}\n",
    "\\def\\dmZ{\\un{\\mathcal{Z}}}\n",
    "\\def\\bma{{\\mbox{\\boldmath $\\alpha$}}}\n",
    "\\def\\bmb{{\\mbox{\\boldmath $\\beta$}}}\n",
    "\\def\\bmu{{\\mbox{\\boldmath $\\mu$}}}\n",
    "\\def\\bme{{\\mbox{\\boldmath $\\epsilon$}}}\n",
    "\\def\\bmS{{\\mbox{\\boldmath $\\Sigma$}}}\n",
    "\\def\\bmL{{\\mbox{\\boldmath $\\Lambda$}}}\n",
    "\\def\\bmd{{\\mbox{\\boldmath $\\delta$}}}\n",
    "\\def\\bmD{{\\mbox{\\boldmath $\\Delta$}}}\n",
    "\\def\\bmG{{\\mbox{\\boldmath $\\Gamma$}}}\n",
    "\\def\\bmphi{{\\mbox{\\boldmath $\\phi$}}}\n",
    "\\def\\bmPhi{{\\mbox{\\boldmath $\\Phi$}}}\n",
    "\\def\\bmpsi{{\\mbox{\\boldmath $\\psi$}}}\n",
    "\\def\\bmtheta{{\\mbox{\\boldmath $\\theta$}}}\n",
    "\\def\\eq{\\begin{equation}}\n",
    "\\def\\eeq{\\end{equation}}\n",
    "\\def\\i{{\\bf i}}\n",
    "\\def\\un#1{{\\bf #1}}$$\n",
    "\n",
    "A measurement is never exactly reproducible. It is the outcome of a\n",
    "complex process influenced by instrument noise, ambient conditions, and\n",
    "so forth. It may be assumed, however, that there is an underlying random\n",
    "process with an associated probability distribution which restricts the\n",
    "possible outcomes in some way. Each time we make an observation we are\n",
    "sampling from that probability distribution. Put another way, we are\n",
    "observing a different possible <span>*realization*</span> of the random\n",
    "process.\n",
    "\n",
    "A <span>*random variable*</span> represents a quantity, which changes in\n",
    "an unpredictable way each time it is observed."
   ]
  },
  {
   "cell_type": "markdown",
   "metadata": {
    "nbpresent": {
     "id": "7648e300-7902-4601-a48f-fb36b5478c87"
    }
   },
   "source": [
    "Let some <span>*random experiment*</span>, e.g., a measurement, have a\n",
    "set $\\Omega$ of possible <span>*outcomes*</span>. This set is referred\n",
    "to as the <span>*sample space*</span> for the experiment. Subsets of\n",
    "$\\Omega$ are called <span>*events*</span>. An event will be said to have\n",
    "occurred whenever the outcome of the random experiment is contained\n",
    "within it.\n",
    "\n",
    "<span>**Example:**</span> The throw of two dice. The sample space:\n",
    "\n",
    "$$\\Omega = \\{(1,1),(1,2),(2,1)\\dots (6,6)\\}.$$ \n",
    "\n",
    "An event: the sum of the\n",
    "points is 7. $$\\{(1,6),(2,5),(3,4),(4,3),(5,2),(6,1)\\}$$ \n",
    "\n",
    "If for instance\n",
    "$(3,4)$ is thrown, then the event has occurred.\n"
   ]
  },
  {
   "cell_type": "markdown",
   "metadata": {
    "nbpresent": {
     "id": "5fc3818b-8a3b-4a11-a4a7-cdfa94800e16"
    }
   },
   "source": [
    "<span>**Definition:**</span> A <span>*random variable*</span>\n",
    "$Z: \\Omega\\mapsto \\Re$ is a function which maps all outcomes onto the\n",
    "set $\\Re$ of real numbers such that the set\n",
    "\n",
    "$$\\{\\omega\\in\\Omega\\mid Z(\\omega)\\le z\\} =: \\{Z\\le z\\}$$ \n",
    "\n",
    "is an event,\n",
    "i.e., a subset of $\\Omega$.\n",
    "\n",
    "Thus for the throw of two dice the sum of points $S$ is a random\n",
    "variable, since it maps all outcomes onto real numbers:\n",
    "\n",
    "$$S(1,1) = 2,\\ S(1,2)=S(2,1) = 3,\\ \\dots\\ S(6,6)=12,$$ \n",
    "\n",
    "and sets such as\n",
    "\n",
    "$$\\{S\\le 4\\} = \\{(1,1),(1,2),(2,1),(1,3),(3,1),(2,2)\\}$$ \n",
    "\n",
    "are subsets of\n",
    "the sample space, that is to say, they are events. The set $\\{S\\le 1\\}$\n",
    "is the empty set, whereas $\\{S\\le 12\\}=\\Omega$, the entire sample space."
   ]
  },
  {
   "cell_type": "markdown",
   "metadata": {
    "collapsed": true,
    "nbpresent": {
     "id": "16f2a4cb-a483-40ce-bf49-a16e651340a5"
    }
   },
   "source": [
    "On the basis of the probabilities for the individual outcomes we can associate a\n",
    "function $P(z)$ with the random variable $Z$ as follows:\n",
    "$$\n",
    "P(z) = \\pr(Z\\le z).\n",
    "$$\n",
    "This is the  probability of observing the event that the random variable $Z$ takes on a\n",
    "value less than or equal to $z$, e.g.,\n",
    "$$\n",
    "P(4) = \\pr(Z\\le 4) = 6/36 = 1/6.\n",
    "$$\n",
    "\n",
    "\n",
    "**Definition:**\n",
    "Given the random variable $Z$, then\n",
    "\n",
    "$$\n",
    "P(z) = {\\rm Pr}(Z\\le z),\\quad -\\infty<z<\\infty$$\n",
    "\n",
    "is called its *distribution function.*"
   ]
  },
  {
   "cell_type": "markdown",
   "metadata": {
    "nbpresent": {
     "id": "0fc1364d-7795-425e-be34-78c280c3f190"
    }
   },
   "source": [
    "When a random variable $Z$ is <span>*discrete*</span> and takes on\n",
    "values $z_1<z_2<z_3<\\dots,$ then the probabilities of the outcomes\n",
    "\n",
    "$$p(z_i) =\\pr(Z=z_i) = P(z_i) - P(z_{i-1}),\\quad i=1,2\\dots$$ \n",
    "\n",
    "constitute\n",
    "the <span>*mass function*</span> for the random variable.\n",
    "\n",
    "<span>**Example:**</span> (Machine learning) The evaluation of a\n",
    "predictive model involves repeated trials with a finite number of\n",
    "independent test observations, keeping track of the number of times the\n",
    "model fails to predict correctly.\n",
    "\n",
    "Let $\\theta$ be the probability of failure in a single trial. The\n",
    "probability of getting $y$ failures (and hence $n-y$ successes) in $n$\n",
    "trials <span>*in a specific sequence*</span> is\n",
    "\n",
    "$$\\theta^y(1-\\theta)^{n-y}.$$ \n",
    "\n",
    "There is a factor $\\theta$ for each of the\n",
    "$y$ failures and a factor $(1-\\theta)$ for each of the $n-y$ successes.\n",
    "<span>*Taking the product is justified by the assumption that the trials\n",
    "are independent of each other.*</span>\n",
    "\n",
    "The number of such sequences is just the number of ways of selecting $y$\n",
    "trials from $n$ possible ones. This is given by the <span>*binomial\n",
    "coefficient*</span> \n",
    "\n",
    "$${n\\choose y} = {n!\\over (n-y)!\\ y!},$$ \n",
    "\n",
    "so that the\n",
    "probability for $y$ failures in $n$ trials is\n",
    "\n",
    "$${n\\choose y}\\theta^y(1-\\theta)^{n-y}.$$ \n",
    "\n",
    "The number of failures is then\n",
    "described by the discrete random variable $Y$ which is said to be\n",
    "<span>*binomially distributed*</span> with mass function given by \n",
    "\n",
    "$$\n",
    "p_{n,\\theta}(y) = \\cases{{n\\choose y}\\theta^y(1-\\theta)^{n-y} & for $y=0,1,2\\dots n$\\cr\n",
    "                        \\ 0 & otherwise.}\n",
    "$$"
   ]
  },
  {
   "cell_type": "code",
   "execution_count": null,
   "metadata": {
    "collapsed": false,
    "nbpresent": {
     "id": "2f6fd263-0243-4c45-a6aa-e9784eeb4eda"
    }
   },
   "outputs": [],
   "source": [
    "%matplotlib inline\n",
    "from numpy import *\n",
    "import matplotlib.pyplot as plt\n",
    "y,x = histogram(random.binomial(50,0.2, 10000))\n",
    "p = plt.plot(x[:-1],y,marker='o',ls='')"
   ]
  },
  {
   "cell_type": "markdown",
   "metadata": {
    "nbpresent": {
     "id": "6ea8f5b1-70cb-42f1-b4e7-a17aa0c7c2d0"
    }
   },
   "source": [
    "**Continuous random variables**\n",
    "\n",
    "**Definition:** A function with values $p(z)$, defined over the set of all real numbers,\n",
    "is called a *probability density function* of the continuous random variable $Z$\n",
    "if and only if\n",
    "\n",
    "$$\n",
    "\\Pr(a\\le Z \\le b) = \\int_a^b p(z)dz\n",
    "$$\n",
    "\n",
    "for any real numbers $a\\le b$.\n",
    "\n",
    "The quantity $p(z)dz$ is\n",
    "the probability that the associated random variable $Z$ lies within the\n",
    "infinitesimal interval $[z,z+dz]$. The integral over all such intervals is one:\n",
    "\n",
    "$$\n",
    "\\int_{-\\infty}^\\infty p(z)dz = 1.\n",
    "$$\n",
    "\n",
    "The distribution function $P(z)$ can be written in terms of the density function and vice-versa as\n",
    "\n",
    "$$\n",
    "P(z) = \\int_{-\\infty}^z p(t)dt,\\quad p(z) = {d\\over dz}P(z).\n",
    "$$"
   ]
  },
  {
   "cell_type": "markdown",
   "metadata": {
    "collapsed": true,
    "nbpresent": {
     "id": "f29d911a-495d-41b5-9b1d-e54a284be711"
    }
   },
   "source": [
    "**Moments of a distribution**\n",
    "\n",
    "The  *mean* or *expected value* of a continuous random variable $Z$ is defined by\n",
    "\n",
    "$$\n",
    "\\langle Z\\rangle = \\int_{-\\infty}^\\infty z\\cdot p(z) dz.\n",
    "$$\n",
    "\n",
    "The  *variance* of $Z$ describes how widely\n",
    "the realizations scatter around the mean:\n",
    "\n",
    "$$\n",
    "\\var(Z) = \\left\\langle(Z-\\langle Z\\rangle)^2\\right\\rangle.\n",
    "$$\n",
    "\n",
    "It is the mean of the random variable $Y=(Z-\\langle Z\\rangle)^2$.\n",
    "In terms of the density function $p_y(y)$ of $Y$, the  variance is given by\n",
    "\n",
    "$$\n",
    "\\var(Z) = \\int_{-\\infty}^\\infty y\\cdot p_y(y) dy,\n",
    "$$\n",
    "\n",
    "but in fact can be written more conveniently  as\n",
    "\n",
    "$$\n",
    "\\var(Z) =  \\int_{-\\infty}^\\infty (z-\\langle Z\\rangle)^2 p_z(z) dz,\n",
    "$$\n",
    "\n",
    "which is also referred to as the *second moment about the mean*.\n",
    "\n",
    "For discrete random variables, the integrals are replaced by summations over the allowed\n",
    "values of $Z$ and the probability density is replaced by the mass function."
   ]
  },
  {
   "cell_type": "markdown",
   "metadata": {
    "nbpresent": {
     "id": "f7cdb032-055e-4d32-a8e4-da40eccba9ed"
    }
   },
   "source": [
    "**Exercise 1:**\n",
    "\n",
    "(a)  Consider a *uniformly distributed* random variable $X$ with\n",
    "density function\n",
    "\n",
    "$$\n",
    "p(x) = \\cases{1 & if $0\\le x \\le 1$\\cr 0 & otherwise.}\n",
    "$$\n",
    "\n",
    "Calculate the mean and variance.\n",
    "\n",
    "\n",
    "(b) Prove the two *very*  useful identities:\n",
    "\n",
    "$$\\eqalign{\n",
    "\\var(Z) &= \\langle Z^2\\rangle - \\langle Z\\rangle^2\\cr\n",
    "\\var(a_0+a_1Z) &= a_1^2\\ \\var(Z)}\n",
    "$$"
   ]
  },
  {
   "cell_type": "markdown",
   "metadata": {
    "nbpresent": {
     "id": "661cc84f-6edd-4bb8-a1bd-a07f5694d8da"
    }
   },
   "source": [
    "It is very often the case that random variables are well-described by the *normal*\n",
    "or *Gaussian* density function\n",
    "\n",
    "$$\n",
    "p(z) = {1\\over \\sqrt{2\\pi}\\sigma}\\exp(-{1\\over 2\\sigma^2}(z-\\mu)^2).\n",
    "$$\n",
    "\n",
    "Its moments are\n",
    "\n",
    "$$\n",
    "\\langle Z\\rangle = \\mu,\\quad \\var(Z) = \\sigma^2,\n",
    "$$\n",
    "\n",
    "This is  abbreviated by writing\n",
    "\n",
    "$$\n",
    "Z \\sim \\mathcal{N}(\\mu,\\sigma^2).\n",
    "$$\n",
    "\n"
   ]
  },
  {
   "cell_type": "markdown",
   "metadata": {
    "nbpresent": {
     "id": "045add28-4e73-4836-81ce-9eacd1b0dfbf"
    }
   },
   "source": [
    "If $Z$ is normally distributed, then the *standardized* random variable\n",
    "$(Z-\\mu)/\\sigma$ has the *standard normal distribution* with zero mean and unit variance\n",
    "\n",
    "$$\n",
    "\\phi(t) ={1\\over \\sqrt{2\\pi}}\\exp(-t^2/2),\n",
    "$$\n",
    "\n",
    "with probability distribution function\n",
    "\n",
    "$$\n",
    "\\Phi(z) = {1\\over \\sqrt{2\\pi}}\\int_{-\\infty}^z \\exp(-t^2/2)dt = \\int_{-\\infty}^z \\phi(t)dt.\n",
    "$$\n",
    "\n",
    "From the symmetry of the density function it follows that\n",
    "\n",
    "$$\n",
    "\\Phi(-z) = 1-\\Phi(z),\n",
    "$$\n",
    "\n",
    "so it is sufficient to give tables only for $z\\ge 0$. Note that\n",
    "\n",
    "$$\n",
    "P(z) =\\pr(Z\\le z) = \\pr\\left({Z-\\mu\\over\\sigma}\\le {z-\\mu\\over\\sigma}\\right)=\\Phi\\left({z-\\mu\\over\\sigma}\\right),\n",
    "$$\n",
    "\n",
    "so that values for any normally distributed random variable can be read from the table.\n",
    "\n"
   ]
  },
  {
   "cell_type": "markdown",
   "metadata": {
    "nbpresent": {
     "id": "098cc423-4419-491f-b408-1009f3e0190b"
    }
   },
   "source": [
    "The idea of a distribution function is easily extended to more than one\n",
    "random variable.\n",
    "Let \n",
    "\n",
    "$$\\un Z = \\pmatrix{Z_1\\cr Z_2}$$\n",
    "\n",
    "be a *random vector*,\n",
    "i.e., a vector of two random variables. The *joint distribution function*\n",
    "of $\\un Z$ is defined by\n",
    "\n",
    "$$\n",
    "P(\\un z) = P(z_1,z_2) = \\pr(Z_1\\le z_1 \\hbox{ and } Z_2\\le z_2)\n",
    "$$\n",
    "\n",
    "or, in terms of the {\\it joint density function} $p(z_1,z_2)$,\n",
    "\n",
    "$$\n",
    "P(z_1,z_2) = \\int_{-\\infty}^{z_1} \\left[\\int_{-\\infty}^{z_2} p(t_1,t_2)dt_2\\right] dt_1\n",
    "$$\n",
    "\n",
    "Conversely,\n",
    "\n",
    "$$\n",
    "p(z_1,z_1) = {\\partial^2\\over \\partial z_1\\partial z_2}P(z_1,z_2).\n",
    "$$"
   ]
  },
  {
   "cell_type": "markdown",
   "metadata": {
    "nbpresent": {
     "id": "9e5907a0-1054-4859-b640-50b08428b7aa"
    }
   },
   "source": [
    "The *marginal distribution function* for $Z_1$ is given by\n",
    "\n",
    "$$\n",
    "P_1(z_1) = P(z_1,\\infty) =\n",
    " \\int_{-\\infty}^{z_1}\\left[ \\int_{-\\infty}^\\infty p(t_1,z_2)dz_2\\right]dt_1\n",
    "$$\n",
    "\n",
    "and similarly for $Z_2$. The *marginal density* is defined as\n",
    "\n",
    "$$\n",
    "p_1(z_1) = \\int_{-\\infty}^\\infty p(z_1,z_2)dz_2\n",
    "$$\n",
    "\n",
    "with a similar expression for $p_2(z_2)$."
   ]
  },
  {
   "cell_type": "markdown",
   "metadata": {
    "nbpresent": {
     "id": "334eab81-1c02-4aba-9c45-f355b7ce22e0"
    }
   },
   "source": [
    "**Definition:**\n",
    "\n",
    "Two random variables $Z_1$ and $Z_2$ are said to be *independent* when their joint\n",
    "distribution is the product of their marginal distributions:\n",
    "\n",
    "$$\n",
    "P(z_1,z_2) = P_1(z_1)P_2(z_2)\n",
    "$$\n",
    "\n",
    "or, equivalently, when their joint density is the product of their marginal densities:\n",
    "\n",
    "$$\n",
    "p(z_1,z_2) = p_1(z_1)p_2(z_2).\n",
    "$$\n",
    "\n",
    "\n",
    "It follows that\n",
    "\n",
    "$$\n",
    "\\langle Z_1Z_2\\rangle = \\langle Z_1\\rangle\\langle Z_2\\rangle.\n",
    "$$"
   ]
  },
  {
   "cell_type": "markdown",
   "metadata": {
    "nbpresent": {
     "id": "c7c35d70-9b46-4954-a594-50f5cf4c1a1f"
    }
   },
   "source": [
    "**Theorem:**\n",
    "\n",
    "If the random variables $Z_1,Z_2,\\dots$ are independent and normally distributed,\n",
    "then the linear combination\n",
    "\n",
    "$$\n",
    "a_1 Z_1 + a_2 Z_2 + \\dots\n",
    "$$\n",
    "\n",
    "is normally distributed with moments\n",
    "\n",
    "$$\n",
    "\\mu = a_1\\mu_1 + a_2\\mu_2 + \\dots,\\quad \\sigma^2 = a_1^2\\sigma_1^2+a_2^2\\sigma_2^2+\\dots.\n",
    "$$\n",
    "\n",
    "This theorem implies that, if  $Z_i$, $i=1\\dots n$, are identically distributed with mean $\\mu$ and variance $\\sigma^2$, then\n",
    "\n",
    "$$\n",
    "\\bar Z = {1\\over n}\\sum_{i=1}^n Z_i\n",
    "$$\n",
    "\n",
    "is normally distributed with mean $\\mu$ and variance $\\sigma^2/n$."
   ]
  },
  {
   "cell_type": "markdown",
   "metadata": {
    "nbpresent": {
     "id": "4e21cb6a-56e0-4b75-b74e-7de412452db4"
    }
   },
   "source": [
    "**Central Limit Theorem:**\n",
    "\n",
    " If random variables $Z_1,Z_2\\dots Z_n$ have\n",
    "equal distributions with mean $\\mu$ and variance $\\sigma^2$, then the random variable\n",
    "\n",
    "$$\n",
    "{1\\over \\sigma\\sqrt{n}}\\sum_{i=1}^n (Z_i-\\mu)\n",
    "$$\n",
    "\n",
    "is standard normally distributed in the limit $n\\to\\infty$.\n",
    "\n",
    "\n",
    "This theorem implies that\n",
    "\n",
    "$$\\bar Z = {1\\over n}\\sum_{i=1}^n Z_i$$\n",
    "\n",
    "is normally distributed with mean $\\mu$ and variance $\\sigma^2/n$ for large enough $n$."
   ]
  },
  {
   "cell_type": "code",
   "execution_count": null,
   "metadata": {
    "collapsed": false,
    "nbpresent": {
     "id": "b37fe2e2-50aa-4333-8aeb-07d974b713bc"
    }
   },
   "outputs": [],
   "source": [
    "y,x = histogram(sum(random.rand(12,1000),0))\n",
    "p = plt.plot(x[:-1],y,marker='o',ls='')"
   ]
  },
  {
   "cell_type": "markdown",
   "metadata": {
    "nbpresent": {
     "id": "a03292b1-6393-4525-b90d-d6a534a4638a"
    }
   },
   "source": [
    "A random variable $Z$ is said to have a *gamma distribution* if its probability\n",
    "density function is given by\n",
    "\n",
    "$$\n",
    "p_\\gamma(z) = \\cases{{1\\over \\beta^\\alpha\\Gamma(\\alpha)}z^{\\alpha-1}e^{-z/\\beta} & for $z>0$\\cr\n",
    "            0 & elsewhere,}\n",
    "$$\n",
    "\n",
    "where $\\alpha>0$ and $\\beta>0$ and where the *gamma function* $\\Gamma(\\alpha)$ is given by\n",
    "\n",
    "$$\n",
    "\\Gamma(\\alpha) = \\int_0^\\infty z^{\\alpha-1} e^{-z}dz,\\quad \\alpha>0.\n",
    "$$\n",
    "\n",
    "\n",
    "Note:\n",
    "$$\n",
    "\\Gamma(1) = \\int_0^\\infty e^{-z}dz = 1.\n",
    "$$\n",
    "\n",
    "$$\n",
    "\\Gamma(1/2) = \\sqrt{\\pi}.\n",
    "$$"
   ]
  },
  {
   "cell_type": "markdown",
   "metadata": {
    "nbpresent": {
     "id": "4ab24e1d-72c5-4a07-aad1-edf8c411353c"
    }
   },
   "source": [
    "**Exercise: 2**\n",
    "\n",
    "(a) \n",
    "\n",
    "Prove that, for $\\alpha>1$, $$\\Gamma(\\alpha)= (\\alpha-1)\\Gamma(\\alpha-1)$$\n",
    "and hence that, for positive integers $n$,\n",
    "\n",
    "$$\n",
    "\\Gamma(n) = (n-1)!\n",
    "$$\n",
    "\n",
    "(Hint: Use integration by parts)\n",
    "\n",
    "\n",
    "(b) \n",
    "\n",
    "Show that the gamma distribution has mean  and\n",
    "variance\n",
    "\n",
    "$$\n",
    "\\mu = \\alpha\\beta, \\quad \\sigma^2 = \\alpha\\beta^2.\n",
    "$$"
   ]
  },
  {
   "cell_type": "markdown",
   "metadata": {
    "nbpresent": {
     "id": "753d93ae-447c-4ba5-914e-981780833b3c"
    }
   },
   "source": [
    "The *chi-square distribution with $n$ degrees of freedom* is a special case of the gamma distribution.\n",
    "We get its density function with $\\beta = 2$ and $\\alpha = n/2$, i.e.,\n",
    "\n",
    "$$\n",
    "p_{\\chi^2;n}(z)=\\cases{{1 \\over 2^{n/2}\\Gamma(n/2)} z^{(n-2)/2} e^{-z/2} & for $z>0$\\cr 0 & otherwise}\n",
    "$$\n",
    "\n",
    "It follows that the chi-square distribution has mean $$\\mu = n$$ and variance\n",
    "$$\\sigma^2 = 2n.$$"
   ]
  },
  {
   "cell_type": "code",
   "execution_count": null,
   "metadata": {
    "collapsed": false,
    "nbpresent": {
     "id": "30942409-d325-4068-abff-141523bb508d"
    }
   },
   "outputs": [],
   "source": [
    "import scipy.stats as st\n",
    "\n",
    "z = linspace(1,20,200)\n",
    "for i in range(1,6):\n",
    "    plt.plot(z,st.chi2.pdf(z,i))\n",
    "plt.show()"
   ]
  },
  {
   "cell_type": "markdown",
   "metadata": {
    "nbpresent": {
     "id": "ea465b35-6e23-4485-9ee9-efc57f328b5a"
    }
   },
   "source": [
    "**Theorem:** \n",
    "\n",
    "If the random variables $X_i$, $i=1\\dots n$, are independent and standard normally distributed\n",
    "(i.e., with mean $0$ and variance $1$) then the random variable\n",
    "\n",
    "$$\n",
    " Z=\\sum_{i=1}^n X_i^2\n",
    "$$\n",
    "\n",
    "is  chi-square distributed with $n$ degrees of freedom."
   ]
  },
  {
   "cell_type": "markdown",
   "metadata": {
    "nbpresent": {
     "id": "d2c1ea7a-4ded-447c-8993-6842af862c12"
    }
   },
   "source": [
    "<span>**Theorem:**</span> \n",
    "\n",
    "Let $p_x(x)$ be the density function for\n",
    "random variable $X$ and \n",
    "\n",
    "$$y=u(x)$$ \n",
    "\n",
    "a monotonic function of $x$ for all\n",
    "values of $x$ for which $p_x(x)\\ne 0$. Then, for the corresponding\n",
    "values of $y$, the density function of the random variable $Y = u(X)$ is\n",
    "given by \n",
    "\n",
    "$$p_y(y) = p_x(w(y))\\left|dx\\over dy\\right|,$$ \n",
    "\n",
    "where\n",
    "$w(y) = u^{-1}(y)$, elsewhere $p_y(y) = 0$."
   ]
  },
  {
   "cell_type": "markdown",
   "metadata": {
    "nbpresent": {
     "id": "0aba02d9-993d-4922-9805-9e13bccf1f32"
    }
   },
   "source": [
    "<span>**Example:**</span> Suppose that a random variable $X$ has the\n",
    "exponential distribution with density function \n",
    "\n",
    "$$ p_x(x) = \\cases{e^{-x} & for $x>0$\\cr 0 & otherwise}$$ \n",
    "\n",
    "and we\n",
    "wish to determine the probability density of the random variable\n",
    "$Y=\\sqrt{X}$. The monotonic function $y=u(x)=\\sqrt{x}$ can be inverted\n",
    "to give \n",
    "\n",
    "$$x = w(y) = u^{-1}(y) = y^2.$$ \n",
    "\n",
    "Thus\n",
    "\n",
    "$$\\left|{dx\\over dy}\\right| = |2y|,\\quad p_x(w(y)) = e^{-y^2},$$ \n",
    "\n",
    "and we\n",
    "obtain $$p_y(y) = 2y e^{-y^2}, \\quad y>0.$$"
   ]
  },
  {
   "cell_type": "code",
   "execution_count": null,
   "metadata": {
    "collapsed": true,
    "nbpresent": {
     "id": "7a1f62d7-0d1a-42d0-832a-4f0279ed3ebe"
    }
   },
   "outputs": [],
   "source": []
  }
 ],
 "metadata": {
  "anaconda-cloud": {},
  "kernelspec": {
   "display_name": "Python [Root]",
   "language": "python",
   "name": "Python [Root]"
  },
  "language_info": {
   "codemirror_mode": {
    "name": "ipython",
    "version": 2
   },
   "file_extension": ".py",
   "mimetype": "text/x-python",
   "name": "python",
   "nbconvert_exporter": "python",
   "pygments_lexer": "ipython2",
   "version": "2.7.12"
  },
  "nbpresent": {
   "slides": {
    "0a6b17d1-99a7-4f46-8d60-cfc30ced0658": {
     "id": "0a6b17d1-99a7-4f46-8d60-cfc30ced0658",
     "prev": "9ff1ad57-2a24-4581-8c8b-fcc1bdcdf99a",
     "regions": {
      "7c6d4b8a-6437-45c5-8504-ffed54638d0f": {
       "attrs": {
        "height": 0.8,
        "width": 0.8,
        "x": 0.1,
        "y": 0.1
       },
       "content": {
        "cell": "30942409-d325-4068-abff-141523bb508d",
        "part": "whole"
       },
       "id": "7c6d4b8a-6437-45c5-8504-ffed54638d0f"
      }
     }
    },
    "0c180d8d-3df8-49bf-96e2-f3cf3db38ead": {
     "id": "0c180d8d-3df8-49bf-96e2-f3cf3db38ead",
     "prev": "6c288869-b80d-44d1-a965-7b7dd8ef9ed4",
     "regions": {
      "0ace9769-ddba-417f-b85e-51015cd48cc7": {
       "attrs": {
        "height": 0.8,
        "width": 0.8,
        "x": 0.1,
        "y": 0.1
       },
       "content": {
        "cell": "16f2a4cb-a483-40ce-bf49-a16e651340a5",
        "part": "whole"
       },
       "id": "0ace9769-ddba-417f-b85e-51015cd48cc7"
      }
     }
    },
    "10cceafe-5997-4569-8f81-d3e04964efe0": {
     "id": "10cceafe-5997-4569-8f81-d3e04964efe0",
     "prev": "d962a594-b411-4c96-8e48-839a7b6e9059",
     "regions": {
      "1e34b690-215e-4792-985d-417d2bf2df42": {
       "attrs": {
        "height": 0.8,
        "width": 0.8,
        "x": 0.1,
        "y": 0.1
       },
       "content": {
        "cell": "7a1f62d7-0d1a-42d0-832a-4f0279ed3ebe",
        "part": "whole"
       },
       "id": "1e34b690-215e-4792-985d-417d2bf2df42"
      }
     }
    },
    "11a6463e-e413-43a9-a6a6-856af8b9a387": {
     "id": "11a6463e-e413-43a9-a6a6-856af8b9a387",
     "prev": "4f87b294-4b50-4826-bf33-8229840f814b",
     "regions": {
      "09c8e176-ea08-4230-b4a2-cc5688935722": {
       "attrs": {
        "height": 0.8,
        "width": 0.8,
        "x": 0.1,
        "y": 0.1
       },
       "content": {
        "cell": "b37fe2e2-50aa-4333-8aeb-07d974b713bc",
        "part": "whole"
       },
       "id": "09c8e176-ea08-4230-b4a2-cc5688935722"
      }
     }
    },
    "15ce6da5-4f09-4207-802b-d63d5c9f8a91": {
     "id": "15ce6da5-4f09-4207-802b-d63d5c9f8a91",
     "prev": "a591bf97-6033-4561-a0ed-63239e4b61b1",
     "regions": {
      "3849ec24-0c6b-4bfc-b3da-ea2895cf4899": {
       "attrs": {
        "height": 0.8,
        "width": 0.8,
        "x": 0.1,
        "y": 0.1
       },
       "content": {
        "cell": "d2c1ea7a-4ded-447c-8993-6842af862c12",
        "part": "whole"
       },
       "id": "3849ec24-0c6b-4bfc-b3da-ea2895cf4899"
      }
     }
    },
    "2038a8d0-e32a-49f2-bc43-bc9093372a55": {
     "id": "2038a8d0-e32a-49f2-bc43-bc9093372a55",
     "prev": "bcb4ecdd-e747-4c2c-a711-2beaef9e85d0",
     "regions": {
      "5adea535-67b5-48a8-aee4-0654c35f487c": {
       "attrs": {
        "height": 0.8,
        "width": 0.8,
        "x": 0.1,
        "y": 0.1
       },
       "content": {
        "cell": "c7c35d70-9b46-4954-a594-50f5cf4c1a1f",
        "part": "whole"
       },
       "id": "5adea535-67b5-48a8-aee4-0654c35f487c"
      }
     }
    },
    "225bd39a-9376-4498-8dd8-1c13df64fdca": {
     "id": "225bd39a-9376-4498-8dd8-1c13df64fdca",
     "prev": "11a6463e-e413-43a9-a6a6-856af8b9a387",
     "regions": {
      "c47fd3a2-4a10-4d02-a98b-af2c90fafa4d": {
       "attrs": {
        "height": 0.8,
        "width": 0.8,
        "x": 0.1,
        "y": 0.1
       },
       "content": {
        "cell": "a03292b1-6393-4525-b90d-d6a534a4638a",
        "part": "whole"
       },
       "id": "c47fd3a2-4a10-4d02-a98b-af2c90fafa4d"
      }
     }
    },
    "30b6ab93-4f7c-49aa-bd93-743c6972c6e8": {
     "id": "30b6ab93-4f7c-49aa-bd93-743c6972c6e8",
     "prev": "70f4580d-721f-4b8d-92cb-0690e3206507",
     "regions": {
      "969d9a27-9df3-48bd-b5cc-2d59dc508799": {
       "attrs": {
        "height": 0.8,
        "width": 0.8,
        "x": 0.1,
        "y": 0.1
       },
       "content": {
        "cell": "098cc423-4419-491f-b408-1009f3e0190b",
        "part": "whole"
       },
       "id": "969d9a27-9df3-48bd-b5cc-2d59dc508799"
      }
     }
    },
    "4f87b294-4b50-4826-bf33-8229840f814b": {
     "id": "4f87b294-4b50-4826-bf33-8229840f814b",
     "prev": "2038a8d0-e32a-49f2-bc43-bc9093372a55",
     "regions": {
      "1caa8146-d726-4413-b2e5-ac982eaddad0": {
       "attrs": {
        "height": 0.8,
        "width": 0.8,
        "x": 0.1,
        "y": 0.1
       },
       "content": {
        "cell": "4e21cb6a-56e0-4b75-b74e-7de412452db4",
        "part": "whole"
       },
       "id": "1caa8146-d726-4413-b2e5-ac982eaddad0"
      }
     }
    },
    "54db6840-498a-4021-aed6-45de3a455120": {
     "id": "54db6840-498a-4021-aed6-45de3a455120",
     "prev": "e8dbd543-1712-40c0-a20d-6301b1c8ed91",
     "regions": {
      "22153e0e-bb0b-442d-ac35-497a3bd32258": {
       "attrs": {
        "height": 0.8,
        "width": 0.8,
        "x": 0.1,
        "y": 0.1
       },
       "content": {
        "cell": "f29d911a-495d-41b5-9b1d-e54a284be711",
        "part": "whole"
       },
       "id": "22153e0e-bb0b-442d-ac35-497a3bd32258"
      }
     }
    },
    "6c288869-b80d-44d1-a965-7b7dd8ef9ed4": {
     "id": "6c288869-b80d-44d1-a965-7b7dd8ef9ed4",
     "prev": "abb516b1-0ec6-48ff-9d60-d8d1b1fa0a21",
     "regions": {
      "c6cd2ecc-97a0-470f-84ac-3f6ce34c1108": {
       "attrs": {
        "height": 0.8,
        "width": 0.8,
        "x": 0.1,
        "y": 0.1
       },
       "content": {
        "cell": "5fc3818b-8a3b-4a11-a4a7-cdfa94800e16",
        "part": "whole"
       },
       "id": "c6cd2ecc-97a0-470f-84ac-3f6ce34c1108"
      }
     }
    },
    "70f4580d-721f-4b8d-92cb-0690e3206507": {
     "id": "70f4580d-721f-4b8d-92cb-0690e3206507",
     "prev": "adeee3a2-395f-48d0-9cde-d986845058e2",
     "regions": {
      "82f94ac9-450e-4786-a904-b154d1ac2556": {
       "attrs": {
        "height": 0.8,
        "width": 0.8,
        "x": 0.1,
        "y": 0.1
       },
       "content": {
        "cell": "045add28-4e73-4836-81ce-9eacd1b0dfbf",
        "part": "whole"
       },
       "id": "82f94ac9-450e-4786-a904-b154d1ac2556"
      }
     }
    },
    "809235b2-b3bf-4ede-9e26-b8284cbe966b": {
     "id": "809235b2-b3bf-4ede-9e26-b8284cbe966b",
     "prev": null,
     "regions": {
      "a331ffaa-5f5d-4f34-9499-e3f45e75edb6": {
       "attrs": {
        "height": 0.8,
        "width": 0.8,
        "x": 0.1,
        "y": 0.1
       },
       "content": {
        "cell": "522686ef-b4e1-463d-81dc-c98b167fbc81",
        "part": "whole"
       },
       "id": "a331ffaa-5f5d-4f34-9499-e3f45e75edb6"
      }
     }
    },
    "9ff1ad57-2a24-4581-8c8b-fcc1bdcdf99a": {
     "id": "9ff1ad57-2a24-4581-8c8b-fcc1bdcdf99a",
     "prev": "cac23865-ed38-4ea6-ad5e-601d7fccd7c8",
     "regions": {
      "91b4add2-bc12-4718-9372-e82d3bf2b12f": {
       "attrs": {
        "height": 0.8,
        "width": 0.8,
        "x": 0.1,
        "y": 0.1
       },
       "content": {
        "cell": "753d93ae-447c-4ba5-914e-981780833b3c",
        "part": "whole"
       },
       "id": "91b4add2-bc12-4718-9372-e82d3bf2b12f"
      }
     }
    },
    "a591bf97-6033-4561-a0ed-63239e4b61b1": {
     "id": "a591bf97-6033-4561-a0ed-63239e4b61b1",
     "prev": "0a6b17d1-99a7-4f46-8d60-cfc30ced0658",
     "regions": {
      "214ce5d8-ae25-4c65-80bd-1c971fb62d07": {
       "attrs": {
        "height": 0.8,
        "width": 0.8,
        "x": 0.1,
        "y": 0.1
       },
       "content": {
        "cell": "ea465b35-6e23-4485-9ee9-efc57f328b5a",
        "part": "whole"
       },
       "id": "214ce5d8-ae25-4c65-80bd-1c971fb62d07"
      }
     }
    },
    "abb516b1-0ec6-48ff-9d60-d8d1b1fa0a21": {
     "id": "abb516b1-0ec6-48ff-9d60-d8d1b1fa0a21",
     "prev": "809235b2-b3bf-4ede-9e26-b8284cbe966b",
     "regions": {
      "e5e63dbb-e865-4eb3-9e71-f1d6646dd8a9": {
       "attrs": {
        "height": 0.8,
        "width": 0.8,
        "x": 0.1,
        "y": 0.1
       },
       "content": {
        "cell": "7648e300-7902-4601-a48f-fb36b5478c87",
        "part": "whole"
       },
       "id": "e5e63dbb-e865-4eb3-9e71-f1d6646dd8a9"
      }
     }
    },
    "adeee3a2-395f-48d0-9cde-d986845058e2": {
     "id": "adeee3a2-395f-48d0-9cde-d986845058e2",
     "prev": "d946b9a2-d117-4c2f-a0e6-6a941f7b6c89",
     "regions": {
      "825a6618-a7c4-4443-83d5-4ab3681e177a": {
       "attrs": {
        "height": 0.8,
        "width": 0.8,
        "x": 0.1,
        "y": 0.1
       },
       "content": {
        "cell": "661cc84f-6edd-4bb8-a1bd-a07f5694d8da",
        "part": "whole"
       },
       "id": "825a6618-a7c4-4443-83d5-4ab3681e177a"
      }
     }
    },
    "bcb4ecdd-e747-4c2c-a711-2beaef9e85d0": {
     "id": "bcb4ecdd-e747-4c2c-a711-2beaef9e85d0",
     "prev": "f5dd7620-5555-4fe0-bc81-7a2c8b344595",
     "regions": {
      "a12a3e01-e3af-4b80-8301-d5f09aba87a2": {
       "attrs": {
        "height": 0.8,
        "width": 0.8,
        "x": 0.1,
        "y": 0.1
       },
       "content": {
        "cell": "334eab81-1c02-4aba-9c45-f355b7ce22e0",
        "part": "whole"
       },
       "id": "a12a3e01-e3af-4b80-8301-d5f09aba87a2"
      }
     }
    },
    "cac23865-ed38-4ea6-ad5e-601d7fccd7c8": {
     "id": "cac23865-ed38-4ea6-ad5e-601d7fccd7c8",
     "prev": "225bd39a-9376-4498-8dd8-1c13df64fdca",
     "regions": {
      "da6f8fab-64e8-48bf-a15f-72be829163c6": {
       "attrs": {
        "height": 0.8,
        "width": 0.8,
        "x": 0.1,
        "y": 0.1
       },
       "content": {
        "cell": "4ab24e1d-72c5-4a07-aad1-edf8c411353c",
        "part": "whole"
       },
       "id": "da6f8fab-64e8-48bf-a15f-72be829163c6"
      }
     }
    },
    "d24ec774-3cfe-4d1d-8951-99873e1b479d": {
     "id": "d24ec774-3cfe-4d1d-8951-99873e1b479d",
     "prev": "0c180d8d-3df8-49bf-96e2-f3cf3db38ead",
     "regions": {
      "0090db57-3791-44de-a1c3-9c023c9f4b2a": {
       "attrs": {
        "height": 0.8,
        "width": 0.8,
        "x": 0.1,
        "y": 0.1
       },
       "content": {
        "cell": "0fc1364d-7795-425e-be34-78c280c3f190",
        "part": "whole"
       },
       "id": "0090db57-3791-44de-a1c3-9c023c9f4b2a"
      }
     }
    },
    "d946b9a2-d117-4c2f-a0e6-6a941f7b6c89": {
     "id": "d946b9a2-d117-4c2f-a0e6-6a941f7b6c89",
     "prev": "54db6840-498a-4021-aed6-45de3a455120",
     "regions": {
      "2171c468-33c7-4f3e-bea4-ee3b1bfc66b0": {
       "attrs": {
        "height": 0.8,
        "width": 0.8,
        "x": 0.1,
        "y": 0.1
       },
       "content": {
        "cell": "f7cdb032-055e-4d32-a8e4-da40eccba9ed",
        "part": "whole"
       },
       "id": "2171c468-33c7-4f3e-bea4-ee3b1bfc66b0"
      }
     }
    },
    "d962a594-b411-4c96-8e48-839a7b6e9059": {
     "id": "d962a594-b411-4c96-8e48-839a7b6e9059",
     "prev": "15ce6da5-4f09-4207-802b-d63d5c9f8a91",
     "regions": {
      "d7509c5b-dead-49d2-8071-7c1277e34dfa": {
       "attrs": {
        "height": 0.8,
        "width": 0.8,
        "x": 0.1,
        "y": 0.1
       },
       "content": {
        "cell": "0aba02d9-993d-4922-9805-9e13bccf1f32",
        "part": "whole"
       },
       "id": "d7509c5b-dead-49d2-8071-7c1277e34dfa"
      }
     }
    },
    "da1a1ca2-3dc5-427a-9666-424daa8cec79": {
     "id": "da1a1ca2-3dc5-427a-9666-424daa8cec79",
     "prev": "d24ec774-3cfe-4d1d-8951-99873e1b479d",
     "regions": {
      "424dcf32-9223-4779-a68f-2e3b07b8c987": {
       "attrs": {
        "height": 0.8,
        "width": 0.8,
        "x": 0.1,
        "y": 0.1
       },
       "content": {
        "cell": "2f6fd263-0243-4c45-a6aa-e9784eeb4eda",
        "part": "whole"
       },
       "id": "424dcf32-9223-4779-a68f-2e3b07b8c987"
      }
     }
    },
    "e8dbd543-1712-40c0-a20d-6301b1c8ed91": {
     "id": "e8dbd543-1712-40c0-a20d-6301b1c8ed91",
     "prev": "da1a1ca2-3dc5-427a-9666-424daa8cec79",
     "regions": {
      "01cf39d5-25d0-4a6b-be52-40c77a234c14": {
       "attrs": {
        "height": 0.8,
        "width": 0.8,
        "x": 0.1,
        "y": 0.1
       },
       "content": {
        "cell": "6ea8f5b1-70cb-42f1-b4e7-a17aa0c7c2d0",
        "part": "whole"
       },
       "id": "01cf39d5-25d0-4a6b-be52-40c77a234c14"
      }
     }
    },
    "f5dd7620-5555-4fe0-bc81-7a2c8b344595": {
     "id": "f5dd7620-5555-4fe0-bc81-7a2c8b344595",
     "prev": "30b6ab93-4f7c-49aa-bd93-743c6972c6e8",
     "regions": {
      "419d0a44-2b37-44bb-9f67-ce9f70b3034f": {
       "attrs": {
        "height": 0.8,
        "width": 0.8,
        "x": 0.1,
        "y": 0.1
       },
       "content": {
        "cell": "9e5907a0-1054-4859-b640-50b08428b7aa",
        "part": "whole"
       },
       "id": "419d0a44-2b37-44bb-9f67-ce9f70b3034f"
      }
     }
    }
   },
   "themes": {}
  }
 },
 "nbformat": 4,
 "nbformat_minor": 0
}
