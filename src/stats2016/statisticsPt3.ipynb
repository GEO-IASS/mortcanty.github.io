{
 "cells": [
  {
   "cell_type": "markdown",
   "metadata": {
    "nbpresent": {
     "id": "4a0dfedf-e85f-4ae0-935c-efdb93e58578"
    }
   },
   "source": [
    "** Summary**\n",
    "\n",
    "We introduced the notion of a random variable and associated probabilty distribution and density functions\n",
    "\n",
    "Then we defined the first two moments of those functions,  mean and variance\n",
    "\n",
    "Considering two random variables, we defined joint and marginal distributions and the idea of statistical independence\n",
    "\n",
    "Two important distributions are normal and chi-square: \n",
    "\n",
    "    normally distributed random variables sum to normal distributions \n",
    "    \n",
    "    squares of equally distributed random variables sum to chi-square distributions\n",
    "    \n",
    "We saw some ways of calcuating the distributions of functions of a random variable with a known distribution\n",
    "\n",
    "Finally we defined conditional probability and discussed Bayes' theorem, which allows us to correct our prior information on the basis of new observations"
   ]
  },
  {
   "cell_type": "markdown",
   "metadata": {
    "nbpresent": {
     "id": "cbe1b825-2a00-4a95-8d0d-08fa58a8de1f"
    }
   },
   "source": [
    "## Part 3. Parameter Estimation\n",
    "$$ \\def\\pr{\\hbox{Pr}}\n",
    "\\def\\var{\\hbox{var}}\n",
    "\\def\\cov{\\hbox{cov}}\n",
    "\\def\\corr{\\hbox{corr}}\n",
    "\\def\\dmX{\\un{\\mathcal{X}}}\n",
    "\\def\\dmG{\\un{\\mathcal{G}}}\n",
    "\\def\\dmK{\\un{\\mathcal{K}}}\n",
    "\\def\\dmS{\\un{\\mathcal{S}}}\n",
    "\\def\\dmC{\\un{\\mathcal{C}}}\n",
    "\\def\\dmZ{\\un{\\mathcal{Z}}}\n",
    "\\def\\bma{{\\mbox{\\boldmath $\\alpha$}}}\n",
    "\\def\\bmb{{\\mbox{\\boldmath $\\beta$}}}\n",
    "\\def\\bmu{{\\mbox{\\boldmath $\\mu$}}}\n",
    "\\def\\bme{{\\mbox{\\boldmath $\\epsilon$}}}\n",
    "\\def\\bmS{{\\mbox{\\boldmath $\\Sigma$}}}\n",
    "\\def\\bmL{{\\mbox{\\boldmath $\\Lambda$}}}\n",
    "\\def\\bmd{{\\mbox{\\boldmath $\\delta$}}}\n",
    "\\def\\bmD{{\\mbox{\\boldmath $\\Delta$}}}\n",
    "\\def\\bmG{{\\mbox{\\boldmath $\\Gamma$}}}\n",
    "\\def\\bmphi{{\\mbox{\\boldmath $\\phi$}}}\n",
    "\\def\\bmPhi{{\\mbox{\\boldmath $\\Phi$}}}\n",
    "\\def\\bmpsi{{\\mbox{\\boldmath $\\psi$}}}\n",
    "\\def\\bmtheta{{\\mbox{\\boldmath $\\theta$}}}\n",
    "\\def\\eq{\\begin{equation}}\n",
    "\\def\\eeq{\\end{equation}}\n",
    "\\def\\i{{\\bf i}}\n",
    "\\def\\un#1{{\\bf #1}}$$\n",
    "\n",
    "We have defined some distribution functions for random  variables along\n",
    "with their moments or *parameters* (mean and variance).\n",
    "Since continuous distributions describe infinite populations, the *true* values\n",
    "of the parameters are inaccessible.\n",
    "\n",
    "So the question arises:\n",
    "\n",
    "\n",
    "*How do we estimate a distribution's parameters from observations?*\n",
    "\n",
    "\n"
   ]
  },
  {
   "cell_type": "markdown",
   "metadata": {
    "nbpresent": {
     "id": "4b356a51-001a-439f-a231-2e853273c454"
    }
   },
   "source": [
    "### Sample functions\n",
    "\n",
    "Let $Z_1, Z_2\\dots  Z_n$ be independent\n",
    "random vectors which all have the same distribution function\n",
    "$P(z)$ with  mean $\\langle  Z\\rangle$ and variance $\\var(Z)$.\n",
    "These random variables are referred to as a *sample of the\n",
    "distribution* and are said to be *independent and identically distributed* (i.i.d.).\n",
    "Any function of them is called a *sample\n",
    "function* and is itself a random variable.\n",
    "\n",
    "The sample functions of interest are those which can be used\n",
    "to estimate the mean and variance of the distribution\n",
    "$P(z)$. These are the *sample mean*\n",
    "\n",
    "$$\n",
    "\\bar{Z} = {1\\over n}\\sum_{i=1}^n Z_i\n",
    "$$\n",
    "\n",
    "and the *sample variance*\n",
    "\n",
    "$$\n",
    " S = {1\\over n-1}\\sum_{i=1}^n(Z_i - \\bar Z )^2\n",
    "$$"
   ]
  },
  {
   "cell_type": "markdown",
   "metadata": {
    "nbpresent": {
     "id": "fdc22664-a6f9-4747-a60e-aa5695155b25"
    }
   },
   "source": [
    "The sample functions are called *unbiased estimators* because\n",
    "their means are equal to the corresponding moments of $P(z)$, that is,\n",
    "\n",
    "$$\n",
    "\\langle\\bar{ Z}\\rangle = {1\\over n}\\sum_i\\langle Z_i\\rangle =\n",
    " {1\\over n}n\\langle Z\\rangle = \\langle Z\\rangle\n",
    "$$\n",
    "\n",
    "and (next slide) \n",
    "\n",
    "$$\n",
    "\\langle  S \\rangle = \\var(Z).\n",
    "$$\n",
    "\n",
    "Particular realizations $\\bar{z}$ and $ s$ of the sample functions \n",
    "are called *unbiased estimates*."
   ]
  },
  {
   "cell_type": "markdown",
   "metadata": {
    "nbpresent": {
     "id": "a2460078-8bdf-494b-917e-28aa469802b5"
    }
   },
   "source": [
    "**Proof:**\n",
    "\n",
    "$$\\eqalign{\n",
    "(n-1)S &= \\sum_i (Z_i-\\bar Z)^2 \\cr\n",
    "& = \\sum_i \\Big(Z_i^2 - 2Z_i\\bar Z - \\bar Z^2\\Big)\\cr\n",
    "& = \\sum_i Z_i^2 -2n\\bar Z^2 + n\\bar Z^2.}\n",
    "$$\n",
    "Therefore\n",
    "$$\\eqalign{\n",
    "(n-1)S &= \\sum_i Z_i^2 - n\\bar Z^2\\cr\n",
    "&= \\sum_i Z_i^2 - n{1\\over n^2}\\left(\\sum_i Z_i\\right)\\left(\\sum_i Z_i\\right).}\n",
    "$$"
   ]
  },
  {
   "cell_type": "markdown",
   "metadata": {
    "nbpresent": {
     "id": "33c07b47-2c58-4b3d-87d8-fbeb7aeb3e17"
    }
   },
   "source": [
    "\n",
    "Expanding the product of sums yields\n",
    "$$\n",
    "(n-1)S = \\sum_i Z_i^2 - {1\\over n}\\sum_i Z_i^2 - {1\\over n}\\sum_{i\\ne i'}Z_i Z_{i'}.\n",
    "$$\n",
    "But $Z_i$ and $Z_{i'}$ are independent random variables so that\n",
    "$$\n",
    "\\langle Z_i Z_{i'}\\rangle = \\langle Z\\rangle^2,\n",
    "$$\n",
    "Therefore, since the double sum above has $n(n-1)$ terms,\n",
    "$$\n",
    "(n-1)\\langle S\\rangle = n\\langle Z^2\\rangle - {1\\over n}\\ n\\langle Z^2\\rangle -{1\\over n}\\ n(n-1)\\langle Z\\rangle^2\n",
    "$$\n",
    "or\n",
    "$$\n",
    "\\langle S\\rangle = \\langle Z^2\\rangle -\\langle Z\\rangle^2 = \\var(Z).\n",
    "$$\n"
   ]
  },
  {
   "cell_type": "markdown",
   "metadata": {
    "nbpresent": {
     "id": "053a018b-f5de-4fec-9ab4-ef102f25b382"
    }
   },
   "source": [
    "\n",
    "The denominator $(m-1)$ in the definition of the sample covariance\n",
    "matrix is thus seen to be required for unbiased estimation of the\n",
    "covariance matrix and to be due to the appearance of the sample mean\n",
    "$\\un{\\bar Z}$ rather than the distribution mean $\\langle\\un Z\\rangle$ in\n",
    "the definition."
   ]
  },
  {
   "cell_type": "markdown",
   "metadata": {
    "nbpresent": {
     "id": "958d59f2-dcab-4e17-8544-3bb358b4127d"
    }
   },
   "source": [
    "We already know that the mean $\\bar Z$ of i.i.d. samples from\n",
    "a normal distribution $\\mathcal{N}(\\mu,\\sigma^2)$ (the sample mean)  is itself normally distributed  with mean $\\mu$ and\n",
    "variance $\\sigma^2/n$. What about the sample variance?\n",
    "\n",
    "**Theorem:**\n",
    "\n",
    "If $S$ is the sample variance of an independent random sample of size $n$ drawn\n",
    " from a normally distributed population with mean $\\mu$ and variance $\\sigma^2$, then the\n",
    " random variable\n",
    " \n",
    " $$\n",
    " (n-1)S/\\sigma^2\n",
    " $$\n",
    " \n",
    " is independent of $\\bar Z$ and has the chi-square distribution with $n-1$ degrees of freedom."
   ]
  },
  {
   "cell_type": "code",
   "execution_count": 1,
   "metadata": {
    "collapsed": false,
    "nbpresent": {
     "id": "009e50f8-ff50-4d96-9df0-d6a29aed077d"
    }
   },
   "outputs": [
    {
     "name": "stdout",
     "output_type": "stream",
     "text": [
      "estimated mean: 0.035112 (true mean: 0.0)\n",
      "estimated variance: 0.991388 (true variance: 1.0)\n",
      "boostrap estimated variance of mean: 0.010095 (true variance of mean: 0.010000)\n"
     ]
    },
    {
     "data": {
      "image/png": "[encoded data removed]",
      "text/plain": [
       "<matplotlib.figure.Figure at 0x7fd7bc65b190>"
      ]
     },
     "metadata": {},
     "output_type": "display_data"
    }
   ],
   "source": [
    "%matplotlib inline\n",
    "import numpy as np\n",
    "import matplotlib.pyplot as plt \n",
    "import scipy.stats as st\n",
    "\n",
    "np.random.seed(1234)\n",
    "n = 100\n",
    "observations = np.random.normal(size=n)\n",
    "\n",
    "print 'estimated mean: %f (true mean: 0.0)' % np.mean(observations) \n",
    "print 'estimated variance: %f (true variance: 1.0)' % np.var(observations)\n",
    "\n",
    "# 1000 boostrap samples\n",
    "samples = np.array([np.random.choice(observations,n) for i in range(1000)])\n",
    "bsmeans = np.mean(samples,1)\n",
    "print 'boostrap estimated variance of mean: %f (true variance of mean: %f)' % (np.var(bsmeans), 1.0/n)\n",
    "\n",
    "bsvars = np.var(samples,1)\n",
    "y,x = np.histogram((n-1)*bsvars)\n",
    "y = y/float(np.sum(y))\n",
    "c = st.chi2.pdf(x[:-1],n-1)\n",
    "c = c/np.sum(c)\n",
    "plt.plot(x[:-1],y,'bo',x[:-1],c)\n",
    "plt.title('Boostrap distribution of the variace of the mean')\n",
    "plt.show()"
   ]
  },
  {
   "cell_type": "markdown",
   "metadata": {
    "nbpresent": {
     "id": "214c3767-0598-48c7-ac2b-d4405419d8dd"
    }
   },
   "source": [
    "### Interval estimation\n",
    "\n",
    "The estimators we have seen so far are referred to as point estimators because\n",
    "they are real numbers. The estimated value of any distribution parameter will of course\n",
    "differ from the true value. Generally one prefers to quote an\n",
    "interval within which, to some specified degree of confidence, the true value will lie."
   ]
  },
  {
   "cell_type": "markdown",
   "metadata": {
    "nbpresent": {
     "id": "4583ecb6-052b-4ace-8174-e1861a262903"
    }
   },
   "source": [
    "The sample mean for a random variable $Z$ is normally distributed with variance $\\sigma^2/n$,\n",
    "\n",
    "$$\n",
    "\\bar Z \\sim \\mathcal{N}(\\mu,\\sigma^2/n).\n",
    "$$\n",
    "\n",
    "and therefore $(\\bar Z-\\mu)/(\\sigma/\\sqrt{n})$ is standard normally distributed. Hence, for any $t$,\n",
    "\n",
    "$$\n",
    "\\pr\\left(-t<{\\bar Z-\\mu\\over\\sigma/\\sqrt{n}}\\le t\\right)=\\Phi(t)-\\Phi(-t)=2\\Phi(t)-1.\n",
    "$$\n",
    "\n",
    "This may be written in the form\n",
    "\n",
    "$$\n",
    "\\pr\\left(\\bar Z -t\\ {\\sigma\\over\\sqrt{n}} \\le \\mu < \\bar Z + t\\ {\\sigma\\over\\sqrt{n}}\\right)=2\\Phi(t)-1.\n",
    "$$"
   ]
  },
  {
   "cell_type": "markdown",
   "metadata": {
    "nbpresent": {
     "id": "b7ad393d-73bb-4e64-bd38-3c789d2917b6"
    }
   },
   "source": [
    "Thus we can say that the probability that the *random interval*\n",
    "\n",
    "$$\n",
    "\\left(\\bar Z -t\\ {\\sigma\\over\\sqrt{n}},\\bar Z +t\\ {\\sigma\\over\\sqrt{n}}\\right)\n",
    "$$\n",
    "\n",
    "covers the unknown mean value $\\mu$ is $2\\Phi(t)-1$.\n",
    "\n",
    "Once a realization of the random interval has\n",
    "been obtained and reported, i.e., by plugging a realization of $\\bar Z$ into the above equation, then\n",
    "$\\mu$ either lies within it or it doesn't. A *degree of confidence* for the reported interval is\n",
    "conventionally given and expressed in terms of a (usually small) quantity $\\alpha$ defined by\n",
    "\n",
    "$$\n",
    "1-\\alpha = 2\\Phi(t)-1.\n",
    "$$\n"
   ]
  },
  {
   "cell_type": "markdown",
   "metadata": {
    "nbpresent": {
     "id": "2e049203-ae46-454a-9223-f427bacce921"
    }
   },
   "source": [
    "This determines $t$ in  according to\n",
    "\n",
    "$$\n",
    " \\Phi(t)=1-\\alpha/2.\n",
    "$$\n",
    "\n",
    "For given $\\alpha$, $t$ can be read from the table of the normal distribution.\n",
    "One then says that the interval\n",
    "\n",
    "$$\n",
    "\\left(\\bar z -t\\ {\\sigma\\over\\sqrt{n}},\\bar z +t\\ {\\sigma\\over\\sqrt{n}}\\right)\n",
    "$$\n",
    "\n",
    "covers the unknown parameter $\\mu$ with confidence $1-\\alpha$.\n",
    "\n",
    "For $n > 30$ it is *safe* to plug in $\\sqrt{s}$ for $\\sigma$. Otherwise the \n",
    "*Student t distribution* must be used.\n",
    "\n"
   ]
  },
  {
   "cell_type": "markdown",
   "metadata": {
    "nbpresent": {
     "id": "7d2810dd-0fd7-48f5-9186-18eed521b280"
    }
   },
   "source": [
    "We can similarly derive a confidence interval for the estimated variance. Define $\\chi^2_{\\alpha;n}$ by\n",
    "\n",
    "$$\n",
    "{\\rm Pr}(Z\\ge \\chi^2_{\\alpha;n}) = \\alpha\n",
    "$$\n",
    "\n",
    "for a random variable $Z$ having the chi-square distribution with $n$ degrees of freedom. Then\n",
    "\n",
    "$$\n",
    "{\\rm Pr}\\left( \\chi^2_{1-\\alpha/2;n-1} < {(n-1)S\\over \\sigma^2} < \\chi^2_{\\alpha/2;n-1}\\right) = 1-\\alpha\n",
    "$$\n",
    "\n",
    "or\n",
    "\n",
    "$$\n",
    "{\\rm Pr}\\left( {(n-1)S\\over\\chi^2_{\\alpha/2;n-1}} < \\sigma^2 < {(n-1)S\\over\\chi^2_{1-\\alpha/2n-1}}\\right) = 1 - \\alpha.\n",
    "$$"
   ]
  },
  {
   "cell_type": "markdown",
   "metadata": {
    "nbpresent": {
     "id": "7add49ea-011d-4985-a8eb-9e7e84cfa694"
    }
   },
   "source": [
    "So we can say that, if $s$ is the estimated variance \n",
    "of a random sample of size $n$ from a normal\n",
    "population, then\n",
    "\n",
    "$$\n",
    "{(n-1)s\\over\\chi^2_{\\alpha/2;n-1}} < \\sigma^2 < {(n-1)s\\over\\chi^2_{1-\\alpha/2;n-1}}\n",
    "$$\n",
    "\n",
    "is a $1-\\alpha$ confidence interval for $\\sigma^2$."
   ]
  },
  {
   "cell_type": "code",
   "execution_count": 2,
   "metadata": {
    "collapsed": false,
    "nbpresent": {
     "id": "ec079a87-b4c8-4980-a852-60d5d07174e6"
    }
   },
   "outputs": [
    {
     "name": "stdout",
     "output_type": "stream",
     "text": [
      "sample variance: 0.083475\n",
      "95 percent confidence interval: (0.076613, 0.091308)\n",
      "sample mean: 0.509381\n",
      "95 percent confidence interval: (0.491474, 0.527288)\n"
     ]
    }
   ],
   "source": [
    "from math import sqrt\n",
    "from scipy.stats import norm,chi2\n",
    "import numpy as np\n",
    "\n",
    "def x2(a,n):\n",
    "    return chi2.ppf(1-a,n)\n",
    "\n",
    "n = 1000\n",
    "a= 0.05\n",
    "z = np.random.random(n)\n",
    "zbar = np.sum(z)/n\n",
    "s = np.sum((z-zbar)**2)/(n-1)\n",
    "print 'sample variance: %f'%s\n",
    "lower = (n-1)*s/x2(a/2,n-1)\n",
    "upper = (n-1)*s/x2(1-a/2,n-1)\n",
    "print '%i percent confidence interval: (%f, %f)'\\\n",
    "               %(int((1-a)*100),lower,upper)\n",
    "print 'sample mean: %f'%zbar\n",
    "t = norm.ppf(1-a/2)\n",
    "sigma = sqrt(s)\n",
    "lower = zbar-t*sigma/sqrt(n)\n",
    "upper = zbar+t*sigma/sqrt(n)\n",
    "print '%i percent confidence interval: (%f, %f)'\\\n",
    "               %(int((1-a)*100),lower,upper)"
   ]
  },
  {
   "cell_type": "code",
   "execution_count": null,
   "metadata": {
    "collapsed": true,
    "nbpresent": {
     "id": "eff2d136-5291-4f54-9569-26fa3e087a50"
    }
   },
   "outputs": [],
   "source": []
  }
 ],
 "metadata": {
  "anaconda-cloud": {},
  "kernelspec": {
   "display_name": "Python [Root]",
   "language": "python",
   "name": "Python [Root]"
  },
  "language_info": {
   "codemirror_mode": {
    "name": "ipython",
    "version": 2
   },
   "file_extension": ".py",
   "mimetype": "text/x-python",
   "name": "python",
   "nbconvert_exporter": "python",
   "pygments_lexer": "ipython2",
   "version": "2.7.12"
  },
  "nbpresent": {
   "slides": {
    "03d99fa4-62b4-4140-be50-27adc73e8836": {
     "id": "03d99fa4-62b4-4140-be50-27adc73e8836",
     "prev": "df56744d-67dc-4fe9-b9af-bed82d842624",
     "regions": {
      "1e145875-25cf-4189-84d9-0cec1d3264f1": {
       "attrs": {
        "height": 0.8,
        "width": 0.8,
        "x": 0.1,
        "y": 0.1
       },
       "content": {
        "cell": "eff2d136-5291-4f54-9569-26fa3e087a50",
        "part": "whole"
       },
       "id": "1e145875-25cf-4189-84d9-0cec1d3264f1"
      }
     }
    },
    "0b34edf3-c652-4b61-b1c9-eca2c0166849": {
     "id": "0b34edf3-c652-4b61-b1c9-eca2c0166849",
     "prev": "804f008b-be1f-495d-aee9-63d3dafdb1e3",
     "regions": {
      "d9b6b077-ea7e-46f2-b745-ed23b946414a": {
       "attrs": {
        "height": 0.8,
        "width": 0.8,
        "x": 0.1,
        "y": 0.1
       },
       "content": {
        "cell": "cbe1b825-2a00-4a95-8d0d-08fa58a8de1f",
        "part": "whole"
       },
       "id": "d9b6b077-ea7e-46f2-b745-ed23b946414a"
      }
     }
    },
    "1e861a1d-cb11-42c8-98ad-cb232e86a4e5": {
     "id": "1e861a1d-cb11-42c8-98ad-cb232e86a4e5",
     "prev": "206b1acc-6eed-431e-8ecd-37c460473cd5",
     "regions": {
      "b8f72a33-aa60-46bf-bf62-dd29bfb3c2ed": {
       "attrs": {
        "height": 0.8,
        "width": 0.8,
        "x": 0.1,
        "y": 0.1
       },
       "content": {
        "cell": "2e049203-ae46-454a-9223-f427bacce921",
        "part": "whole"
       },
       "id": "b8f72a33-aa60-46bf-bf62-dd29bfb3c2ed"
      }
     }
    },
    "206b1acc-6eed-431e-8ecd-37c460473cd5": {
     "id": "206b1acc-6eed-431e-8ecd-37c460473cd5",
     "prev": "e072f199-acb0-442d-adb0-bdde070a7b5e",
     "regions": {
      "5f71888f-2e4c-47dc-8e3b-a3cad6d47065": {
       "attrs": {
        "height": 0.8,
        "width": 0.8,
        "x": 0.1,
        "y": 0.1
       },
       "content": {
        "cell": "b7ad393d-73bb-4e64-bd38-3c789d2917b6",
        "part": "whole"
       },
       "id": "5f71888f-2e4c-47dc-8e3b-a3cad6d47065"
      }
     }
    },
    "4d2052cb-5c07-49ea-b846-f7f9094c1f56": {
     "id": "4d2052cb-5c07-49ea-b846-f7f9094c1f56",
     "prev": "8f118b3d-7c70-4517-8bf9-f0505dd6eef8",
     "regions": {
      "bad4ff8c-e6f1-44d3-a0bf-bb0ecfc1b2f4": {
       "attrs": {
        "height": 0.8,
        "width": 0.8,
        "x": 0.1,
        "y": 0.1
       },
       "content": {
        "cell": "053a018b-f5de-4fec-9ab4-ef102f25b382",
        "part": "whole"
       },
       "id": "bad4ff8c-e6f1-44d3-a0bf-bb0ecfc1b2f4"
      }
     }
    },
    "5b6ce5f5-dfb7-41b9-acf3-5e016d567fb1": {
     "id": "5b6ce5f5-dfb7-41b9-acf3-5e016d567fb1",
     "prev": "68ebed84-a3b4-4a99-8a4e-d3d1b5b4d2a5",
     "regions": {
      "dfc0ea4b-641d-483b-a8e6-c3c55e0c6ace": {
       "attrs": {
        "height": 0.8,
        "width": 0.8,
        "x": 0.1,
        "y": 0.1
       },
       "content": {
        "cell": "009e50f8-ff50-4d96-9df0-d6a29aed077d",
        "part": "whole"
       },
       "id": "dfc0ea4b-641d-483b-a8e6-c3c55e0c6ace"
      }
     }
    },
    "5da399fe-dc45-45c7-9126-08c8d7b27bd9": {
     "id": "5da399fe-dc45-45c7-9126-08c8d7b27bd9",
     "prev": "a8bcbc3a-5502-489a-a068-24123f7a9634",
     "regions": {
      "a0903366-7ff5-4996-81ab-2abf26243c5b": {
       "attrs": {
        "height": 0.8,
        "width": 0.8,
        "x": 0.1,
        "y": 0.1
       },
       "content": {
        "cell": "fdc22664-a6f9-4747-a60e-aa5695155b25",
        "part": "whole"
       },
       "id": "a0903366-7ff5-4996-81ab-2abf26243c5b"
      }
     }
    },
    "68ebed84-a3b4-4a99-8a4e-d3d1b5b4d2a5": {
     "id": "68ebed84-a3b4-4a99-8a4e-d3d1b5b4d2a5",
     "prev": "4d2052cb-5c07-49ea-b846-f7f9094c1f56",
     "regions": {
      "8411d021-e147-4ba2-ae74-3fe10f85c7fe": {
       "attrs": {
        "height": 0.8,
        "width": 0.8,
        "x": 0.1,
        "y": 0.1
       },
       "content": {
        "cell": "958d59f2-dcab-4e17-8544-3bb358b4127d",
        "part": "whole"
       },
       "id": "8411d021-e147-4ba2-ae74-3fe10f85c7fe"
      }
     }
    },
    "7282cd79-4811-4aa5-84a8-752233554f42": {
     "id": "7282cd79-4811-4aa5-84a8-752233554f42",
     "prev": "1e861a1d-cb11-42c8-98ad-cb232e86a4e5",
     "regions": {
      "f1c90277-2875-4185-bb84-57e8f74cc843": {
       "attrs": {
        "height": 0.8,
        "width": 0.8,
        "x": 0.1,
        "y": 0.1
       },
       "content": {
        "cell": "7d2810dd-0fd7-48f5-9186-18eed521b280",
        "part": "whole"
       },
       "id": "f1c90277-2875-4185-bb84-57e8f74cc843"
      }
     }
    },
    "7506c2db-65eb-4ce0-810e-2bbf7c185d64": {
     "id": "7506c2db-65eb-4ce0-810e-2bbf7c185d64",
     "prev": "7282cd79-4811-4aa5-84a8-752233554f42",
     "regions": {
      "07cebf95-dcf5-4c69-b97b-2ce81417f6e8": {
       "attrs": {
        "height": 0.8,
        "width": 0.8,
        "x": 0.1,
        "y": 0.1
       },
       "content": {
        "cell": "7add49ea-011d-4985-a8eb-9e7e84cfa694",
        "part": "whole"
       },
       "id": "07cebf95-dcf5-4c69-b97b-2ce81417f6e8"
      }
     }
    },
    "804f008b-be1f-495d-aee9-63d3dafdb1e3": {
     "id": "804f008b-be1f-495d-aee9-63d3dafdb1e3",
     "prev": null,
     "regions": {
      "7e091d8a-f2f2-43e7-8454-6f7153429960": {
       "attrs": {
        "height": 0.8,
        "width": 0.8,
        "x": 0.1,
        "y": 0.1
       },
       "content": {
        "cell": "4a0dfedf-e85f-4ae0-935c-efdb93e58578",
        "part": "whole"
       },
       "id": "7e091d8a-f2f2-43e7-8454-6f7153429960"
      }
     }
    },
    "8f118b3d-7c70-4517-8bf9-f0505dd6eef8": {
     "id": "8f118b3d-7c70-4517-8bf9-f0505dd6eef8",
     "prev": "a51c55b6-f372-44cb-b620-ed3231d7805b",
     "regions": {
      "27fbedf3-00f8-4cd5-b5fa-cba76da8ea02": {
       "attrs": {
        "height": 0.8,
        "width": 0.8,
        "x": 0.1,
        "y": 0.1
       },
       "content": {
        "cell": "33c07b47-2c58-4b3d-87d8-fbeb7aeb3e17",
        "part": "whole"
       },
       "id": "27fbedf3-00f8-4cd5-b5fa-cba76da8ea02"
      }
     }
    },
    "a51c55b6-f372-44cb-b620-ed3231d7805b": {
     "id": "a51c55b6-f372-44cb-b620-ed3231d7805b",
     "prev": "5da399fe-dc45-45c7-9126-08c8d7b27bd9",
     "regions": {
      "0cc14728-6f7d-45ad-8c70-60278c170e14": {
       "attrs": {
        "height": 0.8,
        "width": 0.8,
        "x": 0.1,
        "y": 0.1
       },
       "content": {
        "cell": "a2460078-8bdf-494b-917e-28aa469802b5",
        "part": "whole"
       },
       "id": "0cc14728-6f7d-45ad-8c70-60278c170e14"
      }
     }
    },
    "a8bcbc3a-5502-489a-a068-24123f7a9634": {
     "id": "a8bcbc3a-5502-489a-a068-24123f7a9634",
     "prev": "0b34edf3-c652-4b61-b1c9-eca2c0166849",
     "regions": {
      "46077f2a-1cbe-4e17-a219-ca2509bee27a": {
       "attrs": {
        "height": 0.8,
        "width": 0.8,
        "x": 0.1,
        "y": 0.1
       },
       "content": {
        "cell": "4b356a51-001a-439f-a231-2e853273c454",
        "part": "whole"
       },
       "id": "46077f2a-1cbe-4e17-a219-ca2509bee27a"
      }
     }
    },
    "cc4995cc-9085-4926-9e0d-ad87dcbb9533": {
     "id": "cc4995cc-9085-4926-9e0d-ad87dcbb9533",
     "prev": "5b6ce5f5-dfb7-41b9-acf3-5e016d567fb1",
     "regions": {
      "9c01fdac-c82a-4ede-9f0f-742cc955ac05": {
       "attrs": {
        "height": 0.8,
        "width": 0.8,
        "x": 0.1,
        "y": 0.1
       },
       "content": {
        "cell": "214c3767-0598-48c7-ac2b-d4405419d8dd",
        "part": "whole"
       },
       "id": "9c01fdac-c82a-4ede-9f0f-742cc955ac05"
      }
     }
    },
    "df56744d-67dc-4fe9-b9af-bed82d842624": {
     "id": "df56744d-67dc-4fe9-b9af-bed82d842624",
     "prev": "7506c2db-65eb-4ce0-810e-2bbf7c185d64",
     "regions": {
      "4e1b5d97-5dc5-442d-9ae2-c6e9217e9e4b": {
       "attrs": {
        "height": 0.8,
        "width": 0.8,
        "x": 0.1,
        "y": 0.1
       },
       "content": {
        "cell": "ec079a87-b4c8-4980-a852-60d5d07174e6",
        "part": "whole"
       },
       "id": "4e1b5d97-5dc5-442d-9ae2-c6e9217e9e4b"
      }
     }
    },
    "e072f199-acb0-442d-adb0-bdde070a7b5e": {
     "id": "e072f199-acb0-442d-adb0-bdde070a7b5e",
     "prev": "cc4995cc-9085-4926-9e0d-ad87dcbb9533",
     "regions": {
      "33b6928b-17e4-4382-a626-85a16b9e34dd": {
       "attrs": {
        "height": 0.8,
        "width": 0.8,
        "x": 0.1,
        "y": 0.1
       },
       "content": {
        "cell": "4583ecb6-052b-4ace-8174-e1861a262903",
        "part": "whole"
       },
       "id": "33b6928b-17e4-4382-a626-85a16b9e34dd"
      }
     }
    }
   },
   "themes": {
    "default": "afe9b238-36d7-4381-9e13-72773f498b71",
    "theme": {
     "afe9b238-36d7-4381-9e13-72773f498b71": {
      "id": "afe9b238-36d7-4381-9e13-72773f498b71",
      "palette": {
       "19cc588f-0593-49c9-9f4b-e4d7cc113b1c": {
        "id": "19cc588f-0593-49c9-9f4b-e4d7cc113b1c",
        "rgb": [
         252,
         252,
         252
        ]
       },
       "31af15d2-7e15-44c5-ab5e-e04b16a89eff": {
        "id": "31af15d2-7e15-44c5-ab5e-e04b16a89eff",
        "rgb": [
         68,
         68,
         68
        ]
       },
       "50f92c45-a630-455b-aec3-788680ec7410": {
        "id": "50f92c45-a630-455b-aec3-788680ec7410",
        "rgb": [
         155,
         177,
         192
        ]
       },
       "c5cc3653-2ee1-402a-aba2-7caae1da4f6c": {
        "id": "c5cc3653-2ee1-402a-aba2-7caae1da4f6c",
        "rgb": [
         43,
         126,
         184
        ]
       },
       "efa7f048-9acb-414c-8b04-a26811511a21": {
        "id": "efa7f048-9acb-414c-8b04-a26811511a21",
        "rgb": [
         25.118061674008803,
         73.60176211453744,
         107.4819383259912
        ]
       }
      },
      "rules": {
       "blockquote": {
        "color": "50f92c45-a630-455b-aec3-788680ec7410"
       },
       "code": {
        "font-family": "Anonymous Pro"
       },
       "h1": {
        "color": "c5cc3653-2ee1-402a-aba2-7caae1da4f6c",
        "font-family": "Lato",
        "font-size": 8
       },
       "h2": {
        "color": "c5cc3653-2ee1-402a-aba2-7caae1da4f6c",
        "font-family": "Lato",
        "font-size": 6
       },
       "h3": {
        "color": "50f92c45-a630-455b-aec3-788680ec7410",
        "font-family": "Lato",
        "font-size": 5.5
       },
       "h4": {
        "color": "c5cc3653-2ee1-402a-aba2-7caae1da4f6c",
        "font-family": "Lato",
        "font-size": 5
       },
       "h5": {
        "font-family": "Lato"
       },
       "h6": {
        "font-family": "Lato"
       },
       "h7": {
        "font-family": "Lato"
       },
       "pre": {
        "font-family": "Anonymous Pro",
        "font-size": 4
       }
      },
      "text-base": {
       "font-family": "Merriweather",
       "font-size": 4
      }
     }
    }
   }
  }
 },
 "nbformat": 4,
 "nbformat_minor": 0
}
