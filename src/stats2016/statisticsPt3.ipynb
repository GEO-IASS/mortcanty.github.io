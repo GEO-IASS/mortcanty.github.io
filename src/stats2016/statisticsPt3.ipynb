{
 "cells": [
  {
   "cell_type": "markdown",
   "metadata": {
    "nbpresent": {
     "id": "cbe1b825-2a00-4a95-8d0d-08fa58a8de1f"
    }
   },
   "source": [
    "## Part 3. Parameter Estimation\n",
    "$$ \\def\\pr{\\hbox{Pr}}\n",
    "\\def\\var{\\hbox{var}}\n",
    "\\def\\cov{\\hbox{cov}}\n",
    "\\def\\corr{\\hbox{corr}}\n",
    "\\def\\dmX{\\un{\\mathcal{X}}}\n",
    "\\def\\dmG{\\un{\\mathcal{G}}}\n",
    "\\def\\dmK{\\un{\\mathcal{K}}}\n",
    "\\def\\dmS{\\un{\\mathcal{S}}}\n",
    "\\def\\dmC{\\un{\\mathcal{C}}}\n",
    "\\def\\dmZ{\\un{\\mathcal{Z}}}\n",
    "\\def\\bma{{\\mbox{\\boldmath $\\alpha$}}}\n",
    "\\def\\bmb{{\\mbox{\\boldmath $\\beta$}}}\n",
    "\\def\\bmu{{\\mbox{\\boldmath $\\mu$}}}\n",
    "\\def\\bme{{\\mbox{\\boldmath $\\epsilon$}}}\n",
    "\\def\\bmS{{\\mbox{\\boldmath $\\Sigma$}}}\n",
    "\\def\\bmL{{\\mbox{\\boldmath $\\Lambda$}}}\n",
    "\\def\\bmd{{\\mbox{\\boldmath $\\delta$}}}\n",
    "\\def\\bmD{{\\mbox{\\boldmath $\\Delta$}}}\n",
    "\\def\\bmG{{\\mbox{\\boldmath $\\Gamma$}}}\n",
    "\\def\\bmphi{{\\mbox{\\boldmath $\\phi$}}}\n",
    "\\def\\bmPhi{{\\mbox{\\boldmath $\\Phi$}}}\n",
    "\\def\\bmpsi{{\\mbox{\\boldmath $\\psi$}}}\n",
    "\\def\\bmtheta{{\\mbox{\\boldmath $\\theta$}}}\n",
    "\\def\\eq{\\begin{equation}}\n",
    "\\def\\eeq{\\end{equation}}\n",
    "\\def\\i{{\\bf i}}\n",
    "\\def\\un#1{{\\bf #1}}$$\n",
    "\n",
    "We have defined some distribution functions for random  variables along\n",
    "with their moments or *parameters* (mean and variance).\n",
    "Since continuous distributions describe infinite populations, the *true* values\n",
    "of the parameters are inaccessible.\n",
    "\n",
    "So the question arises:\n",
    "\n",
    "\n",
    "*How do we estimate a distribution's parameters from observations?*\n",
    "\n",
    "\n"
   ]
  },
  {
   "cell_type": "markdown",
   "metadata": {
    "nbpresent": {
     "id": "4b356a51-001a-439f-a231-2e853273c454"
    }
   },
   "source": [
    "### Sample functions\n",
    "\n",
    "Let $Z_1, Z_2\\dots  Z_n$ be independent\n",
    "random vectors which all have the same distribution function\n",
    "$P(z)$ with  mean $\\langle  Z\\rangle$ and variance $\\var(Z)$.\n",
    "These random variables are referred to as a *sample of the\n",
    "distribution* and are said to be *independent and identically distributed* (i.i.d.).\n",
    "Any function of them is called a *sample\n",
    "function* and is itself a random variable.\n",
    "\n",
    "The sample functions of interest are those which can be used\n",
    "to estimate the mean and variance of the distribution\n",
    "$P(z)$. These are the *sample mean*\n",
    "\n",
    "$$\n",
    "\\bar{Z} = {1\\over n}\\sum_{i=1}^n Z_i\n",
    "$$\n",
    "\n",
    "and the *sample variance*\n",
    "\n",
    "$$\n",
    " S = {1\\over n-1}\\sum_{i=1}^n(Z_i - \\bar Z )^2\n",
    "$$"
   ]
  },
  {
   "cell_type": "markdown",
   "metadata": {
    "nbpresent": {
     "id": "fdc22664-a6f9-4747-a60e-aa5695155b25"
    }
   },
   "source": [
    "The sample functions are called *unbiased estimators* because\n",
    "their means are equal to the corresponding moments of $P(z)$, that is,\n",
    "\n",
    "$$\n",
    "\\langle\\bar{ Z}\\rangle = {1\\over n}\\sum_i\\langle Z_i\\rangle =\n",
    " {1\\over n}n\\langle Z\\rangle = \\langle Z\\rangle\n",
    "$$\n",
    "\n",
    "and (next slide) \n",
    "\n",
    "$$\n",
    "\\langle  S \\rangle = \\var(Z).\n",
    "$$\n",
    "\n",
    "Particular realizations $\\bar{z}$ and $ s$ of the sample functions \n",
    "are called *unbiased estimates*."
   ]
  },
  {
   "cell_type": "markdown",
   "metadata": {
    "nbpresent": {
     "id": "053a018b-f5de-4fec-9ab4-ef102f25b382"
    }
   },
   "source": [
    "**Proof:**\n",
    "\n",
    "$$\\eqalign{\n",
    "(n-1)S &= \\sum_i (Z_i-\\bar Z)^2 \\cr\n",
    "& = \\sum_i \\Big(Z_i^2 - 2Z_i\\bar Z - \\bar Z^2\\Big)\\cr\n",
    "& = \\sum_i Z_i^2 -2n\\bar Z^2 + n\\bar Z^2.}\n",
    "$$\n",
    "Therefore\n",
    "$$\\eqalign{\n",
    "(n-1)S &= \\sum_i Z_i^2 - n\\bar Z^2\\cr\n",
    "&= \\sum_i Z_i^2 - n{1\\over n^2}\\left(\\sum_i Z_i\\right)\\left(\\sum_i Z_i\\right).}\n",
    "$$\n",
    "Expanding the product of sums yields\n",
    "$$\n",
    "(n-1)S = \\sum_i Z_i^2 - {1\\over n}\\sum_i Z_i^2 - {1\\over n}\\sum_{i\\ne i'}Z_i Z_{i'}.\n",
    "$$\n",
    "But $Z_i$ and $Z_{i'}$ are independent random variables so that\n",
    "$$\n",
    "\\langle Z_i Z_{i'}\\rangle = \\langle Z\\rangle^2,\n",
    "$$\n",
    "Therefore, since the double sum above has $n(n-1)$ terms,\n",
    "$$\n",
    "(n-1)\\langle S\\rangle = n\\langle Z^2\\rangle - {1\\over n}\\ n\\langle Z^2\\rangle -{1\\over n}\\ n(n-1)\\langle Z\\rangle^2\n",
    "$$\n",
    "or\n",
    "$$\n",
    "\\langle S\\rangle = \\langle Z^2\\rangle -\\langle Z\\rangle^2 = \\var(Z).\n",
    "$$\n",
    "\n",
    "The denominator $(m-1)$ in the definition of the sample covariance\n",
    "matrix is thus seen to be required for unbiased estimation of the\n",
    "covariance matrix and to be due to the appearance of the sample mean\n",
    "$\\un{\\bar Z}$ rather than the distribution mean $\\langle\\un Z\\rangle$ in\n",
    "the definition."
   ]
  },
  {
   "cell_type": "markdown",
   "metadata": {
    "nbpresent": {
     "id": "958d59f2-dcab-4e17-8544-3bb358b4127d"
    }
   },
   "source": [
    "We already know that the mean $\\bar Z$ of i.i.d. samples from\n",
    "a normal distribution $\\mathcal{N}(\\mu,\\sigma^2)$ (the sample mean)  is itself normally distributed  with mean $\\mu$ and\n",
    "variance $\\sigma^2/n$. What about the sample variance?\n",
    "\n",
    "**Theorem:**\n",
    "\n",
    "If $S$ is the sample variance of an independent random sample of size $n$ drawn\n",
    " from a normally distributed population with mean $\\mu$ and variance $\\sigma^2$, then the\n",
    " random variable\n",
    " \n",
    " $$\n",
    " (n-1)S/\\sigma^2\n",
    " $$\n",
    " \n",
    " is independent of $\\bar Z$ and has the chi-square distribution with $n-1$ degrees of freedom."
   ]
  },
  {
   "cell_type": "code",
   "execution_count": 1,
   "metadata": {
    "collapsed": false,
    "nbpresent": {
     "id": "009e50f8-ff50-4d96-9df0-d6a29aed077d"
    }
   },
   "outputs": [
    {
     "name": "stdout",
     "output_type": "stream",
     "text": [
      "estimated mean: 0.035112 (true mean: 0.0)\n",
      "estimated variance: 0.991388 (true variance: 1.0)\n",
      "boostrap estimated variance of mean: 0.010095 (true variance of mean: 0.010000)\n"
     ]
    },
    {
     "data": {
      "image/png": "[encoded data removed]",
      "text/plain": [
       "<matplotlib.figure.Figure at 0x7f182806b110>"
      ]
     },
     "metadata": {},
     "output_type": "display_data"
    }
   ],
   "source": [
    "%matplotlib inline\n",
    "import numpy as np\n",
    "import matplotlib.pyplot as plt \n",
    "import scipy.stats as st\n",
    "\n",
    "np.random.seed(1234)\n",
    "n = 100\n",
    "observations = np.random.normal(size=n)\n",
    "\n",
    "print 'estimated mean: %f (true mean: 0.0)' % np.mean(observations) \n",
    "print 'estimated variance: %f (true variance: 1.0)' % np.var(observations)\n",
    "\n",
    "# 1000 boostrap samples\n",
    "samples = np.array([np.random.choice(observations,n) for i in range(1000)])\n",
    "bsmeans = np.mean(samples,1)\n",
    "print 'boostrap estimated variance of mean: %f (true variance of mean: %f)' % (np.var(bsmeans), 1.0/n)\n",
    "\n",
    "bsvars = np.var(samples,1)\n",
    "y,x = np.histogram((n-1)*bsvars)\n",
    "y = y/float(np.sum(y))\n",
    "c = st.chi2.pdf(x[:-1],n-1)\n",
    "c = c/np.sum(c)\n",
    "plt.plot(x[:-1],y,'bo',x[:-1],c)\n",
    "plt.title('Boostrap distribution of the variace of the mean')\n",
    "plt.show()"
   ]
  },
  {
   "cell_type": "markdown",
   "metadata": {
    "nbpresent": {
     "id": "214c3767-0598-48c7-ac2b-d4405419d8dd"
    }
   },
   "source": [
    "### Interval estimation\n",
    "\n",
    "The estimators we have seen so far are referred to as point estimators because\n",
    "they are real numbers. The estimated value of any distribution parameter will of course\n",
    "differ from the true value. Generally one prefers to quote an\n",
    "interval within which, to some specified degree of confidence, the true value will lie."
   ]
  },
  {
   "cell_type": "markdown",
   "metadata": {
    "nbpresent": {
     "id": "4583ecb6-052b-4ace-8174-e1861a262903"
    }
   },
   "source": [
    "The sample mean for a random variable $Z$ is normally distributed with variance $\\sigma^2/n$,\n",
    "\n",
    "$$\n",
    "\\bar Z \\sim \\mathcal{N}(\\mu,\\sigma^2/n).\n",
    "$$\n",
    "\n",
    "and therefore $(\\bar Z-\\mu)/(\\sigma/\\sqrt{n})$ is standard normally distributed. Hence, for any $t$,\n",
    "\n",
    "$$\n",
    "\\pr\\left(-t<{\\bar Z-\\mu\\over\\sigma/\\sqrt{n}}\\le t\\right)=\\Phi(t)-\\Phi(-t)=2\\Phi(t)-1.\n",
    "$$\n",
    "\n",
    "This may be written in the form\n",
    "\n",
    "$$\n",
    "\\pr\\left(\\bar Z -t\\ {\\sigma\\over\\sqrt{n}} \\le \\mu < \\bar Z + t\\ {\\sigma\\over\\sqrt{n}}\\right)=2\\Phi(t)-1.\n",
    "$$"
   ]
  },
  {
   "cell_type": "markdown",
   "metadata": {
    "nbpresent": {
     "id": "b7ad393d-73bb-4e64-bd38-3c789d2917b6"
    }
   },
   "source": [
    "Thus we can say that the probability that the *random interval*\n",
    "\n",
    "$$\n",
    "\\left(\\bar Z -t\\ {\\sigma\\over\\sqrt{n}},\\bar Z +t\\ {\\sigma\\over\\sqrt{n}}\\right)\n",
    "$$\n",
    "\n",
    "covers the unknown mean value $\\mu$ is $2\\Phi(t)-1$.\n",
    "\n",
    "Once a realization of the random interval has\n",
    "been obtained and reported, i.e., by plugging a realization of $\\bar Z$ into the above equation, then\n",
    "$\\mu$ either lies within it or it doesn't. A *degree of confidence* for the reported interval is\n",
    "conventionally given and expressed in terms of a (usually small) quantity $\\alpha$ defined by\n",
    "\n",
    "$$\n",
    "1-\\alpha = 2\\Phi(t)-1.\n",
    "$$\n"
   ]
  },
  {
   "cell_type": "markdown",
   "metadata": {
    "nbpresent": {
     "id": "2e049203-ae46-454a-9223-f427bacce921"
    }
   },
   "source": [
    "This determines $t$ in  according to\n",
    "\n",
    "$$\n",
    " \\Phi(t)=1-\\alpha/2.\n",
    "$$\n",
    "\n",
    "For given $\\alpha$, $t$ can be read from the table of the normal distribution.\n",
    "One then says that the interval\n",
    "\n",
    "$$\n",
    "\\left(\\bar z -t\\ {\\sigma\\over\\sqrt{n}},\\bar z +t\\ {\\sigma\\over\\sqrt{n}}\\right)\n",
    "$$\n",
    "\n",
    "covers the unknown parameter $\\mu$ with confidence $1-\\alpha$.\n",
    "\n",
    "For $n > 30$ it is *safe* to plug in $\\sqrt{s}$ for $\\sigma$. Otherwise the \n",
    "*Student t distribution* must be used.\n",
    "\n"
   ]
  },
  {
   "cell_type": "markdown",
   "metadata": {
    "nbpresent": {
     "id": "7d2810dd-0fd7-48f5-9186-18eed521b280"
    }
   },
   "source": [
    "We can similarly derive a confidence interval for the estimated variance. Define $\\chi^2_{\\alpha;n}$ by\n",
    "\n",
    "$$\n",
    "{\\rm Pr}(Z\\ge \\chi^2_{\\alpha;n}) = \\alpha\n",
    "$$\n",
    "\n",
    "for a random variable $Z$ having the chi-square distribution with $n$ degrees of freedom. Then\n",
    "\n",
    "$$\n",
    "{\\rm Pr}\\left( \\chi^2_{1-\\alpha/2;n-1} < {(n-1)S\\over \\sigma^2} < \\chi^2_{\\alpha/2;n-1}\\right) = 1-\\alpha\n",
    "$$\n",
    "\n",
    "or\n",
    "\n",
    "$$\n",
    "{\\rm Pr}\\left( {(n-1)S\\over\\chi^2_{\\alpha/2;n-1}} < \\sigma^2 < {(n-1)S\\over\\chi^2_{1-\\alpha/2n-1}}\\right) = 1 - \\alpha.\n",
    "$$"
   ]
  },
  {
   "cell_type": "markdown",
   "metadata": {
    "nbpresent": {
     "id": "7add49ea-011d-4985-a8eb-9e7e84cfa694"
    }
   },
   "source": [
    "So we can say that, if $s$ is the estimated variance \n",
    "of a random sample of size $n$ from a normal\n",
    "population, then\n",
    "\n",
    "$$\n",
    "{(n-1)s\\over\\chi^2_{\\alpha/2;n-1}} < \\sigma^2 < {(n-1)s\\over\\chi^2_{1-\\alpha/2;n-1}}\n",
    "$$\n",
    "\n",
    "is a $1-\\alpha$ confidence interval for $\\sigma^2$."
   ]
  },
  {
   "cell_type": "code",
   "execution_count": 2,
   "metadata": {
    "collapsed": false,
    "nbpresent": {
     "id": "ec079a87-b4c8-4980-a852-60d5d07174e6"
    }
   },
   "outputs": [
    {
     "name": "stdout",
     "output_type": "stream",
     "text": [
      "sample variance: 0.083475\n",
      "95 percent confidence interval: (0.076613, 0.091308)\n",
      "sample mean: 0.509381\n",
      "95 percent confidence interval: (0.491474, 0.527288)\n"
     ]
    }
   ],
   "source": [
    "from math import sqrt\n",
    "from scipy.stats import norm,chi2\n",
    "import numpy as np\n",
    "\n",
    "def x2(a,n):\n",
    "    return chi2.ppf(1-a,n)\n",
    "\n",
    "n = 1000\n",
    "a= 0.05\n",
    "z = np.random.random(n)\n",
    "zbar = np.sum(z)/n\n",
    "s = np.sum((z-zbar)**2)/(n-1)\n",
    "print 'sample variance: %f'%s\n",
    "lower = (n-1)*s/x2(a/2,n-1)\n",
    "upper = (n-1)*s/x2(1-a/2,n-1)\n",
    "print '%i percent confidence interval: (%f, %f)'\\\n",
    "               %(int((1-a)*100),lower,upper)\n",
    "print 'sample mean: %f'%zbar\n",
    "t = norm.ppf(1-a/2)\n",
    "sigma = sqrt(s)\n",
    "lower = zbar-t*sigma/sqrt(n)\n",
    "upper = zbar+t*sigma/sqrt(n)\n",
    "print '%i percent confidence interval: (%f, %f)'\\\n",
    "               %(int((1-a)*100),lower,upper)"
   ]
  },
  {
   "cell_type": "code",
   "execution_count": null,
   "metadata": {
    "collapsed": true,
    "nbpresent": {
     "id": "eff2d136-5291-4f54-9569-26fa3e087a50"
    }
   },
   "outputs": [],
   "source": []
  }
 ],
 "metadata": {
  "anaconda-cloud": {},
  "kernelspec": {
   "display_name": "Python [Root]",
   "language": "python",
   "name": "Python [Root]"
  },
  "language_info": {
   "codemirror_mode": {
    "name": "ipython",
    "version": 2
   },
   "file_extension": ".py",
   "mimetype": "text/x-python",
   "name": "python",
   "nbconvert_exporter": "python",
   "pygments_lexer": "ipython2",
   "version": "2.7.12"
  },
  "nbpresent": {
   "slides": {
    "141af8ec-5298-43e9-b7bb-91e975875832": {
     "id": "141af8ec-5298-43e9-b7bb-91e975875832",
     "prev": "1755e745-06dd-437e-ba9f-41029d534060",
     "regions": {
      "bdda5c29-d730-4d9e-ad36-199f174b5944": {
       "attrs": {
        "height": 0.8,
        "width": 0.8,
        "x": 0.1,
        "y": 0.1
       },
       "content": {
        "cell": "fdc22664-a6f9-4747-a60e-aa5695155b25",
        "part": "whole"
       },
       "id": "bdda5c29-d730-4d9e-ad36-199f174b5944"
      }
     }
    },
    "1755e745-06dd-437e-ba9f-41029d534060": {
     "id": "1755e745-06dd-437e-ba9f-41029d534060",
     "prev": "a38340f6-8e94-497f-a957-9834550227be",
     "regions": {
      "334d30e4-7166-4756-afa6-03ee0f75dd1a": {
       "attrs": {
        "height": 0.8,
        "width": 0.8,
        "x": 0.1,
        "y": 0.1
       },
       "content": {
        "cell": "4b356a51-001a-439f-a231-2e853273c454",
        "part": "whole"
       },
       "id": "334d30e4-7166-4756-afa6-03ee0f75dd1a"
      }
     }
    },
    "18ffc2f0-a03e-4f73-92f9-52540b7a066b": {
     "id": "18ffc2f0-a03e-4f73-92f9-52540b7a066b",
     "prev": "310ac2e8-73bf-4e55-a5c8-ec874df107da",
     "regions": {
      "cbb8800e-7a90-4e4b-a269-5a8bb74dc3d7": {
       "attrs": {
        "height": 0.8,
        "width": 0.8,
        "x": 0.1,
        "y": 0.1
       },
       "content": {
        "cell": "ec079a87-b4c8-4980-a852-60d5d07174e6",
        "part": "whole"
       },
       "id": "cbb8800e-7a90-4e4b-a269-5a8bb74dc3d7"
      }
     }
    },
    "1b35a228-f7df-430d-ab20-2715cb48c88b": {
     "id": "1b35a228-f7df-430d-ab20-2715cb48c88b",
     "prev": "18ffc2f0-a03e-4f73-92f9-52540b7a066b",
     "regions": {
      "728df303-86b9-4bba-893f-e05632d5d9ca": {
       "attrs": {
        "height": 0.8,
        "width": 0.8,
        "x": 0.1,
        "y": 0.1
       },
       "content": {
        "cell": "eff2d136-5291-4f54-9569-26fa3e087a50",
        "part": "whole"
       },
       "id": "728df303-86b9-4bba-893f-e05632d5d9ca"
      }
     }
    },
    "231dd51f-4eb6-4cf1-8dfb-8c3a57b6c089": {
     "id": "231dd51f-4eb6-4cf1-8dfb-8c3a57b6c089",
     "prev": "141af8ec-5298-43e9-b7bb-91e975875832",
     "regions": {
      "e12e56bf-5011-4145-b551-558afc6fd58e": {
       "attrs": {
        "height": 0.8,
        "width": 0.8,
        "x": 0.1,
        "y": 0.1
       },
       "content": {
        "cell": "053a018b-f5de-4fec-9ab4-ef102f25b382",
        "part": "whole"
       },
       "id": "e12e56bf-5011-4145-b551-558afc6fd58e"
      }
     }
    },
    "310ac2e8-73bf-4e55-a5c8-ec874df107da": {
     "id": "310ac2e8-73bf-4e55-a5c8-ec874df107da",
     "prev": "d41b5f11-af93-4ba9-933d-225aae66a15e",
     "regions": {
      "884449ba-18c4-40bf-b107-0014788ae895": {
       "attrs": {
        "height": 0.8,
        "width": 0.8,
        "x": 0.1,
        "y": 0.1
       },
       "content": {
        "cell": "7add49ea-011d-4985-a8eb-9e7e84cfa694",
        "part": "whole"
       },
       "id": "884449ba-18c4-40bf-b107-0014788ae895"
      }
     }
    },
    "8bddea9b-0c23-4418-89ed-7cf51724fc9b": {
     "id": "8bddea9b-0c23-4418-89ed-7cf51724fc9b",
     "prev": "b02e8ba8-bba1-4253-9f7c-8d4eefd67a55",
     "regions": {
      "de188d68-302e-45b5-8791-c49f1ed83d39": {
       "attrs": {
        "height": 0.8,
        "width": 0.8,
        "x": 0.1,
        "y": 0.1
       },
       "content": {
        "cell": "4583ecb6-052b-4ace-8174-e1861a262903",
        "part": "whole"
       },
       "id": "de188d68-302e-45b5-8791-c49f1ed83d39"
      }
     }
    },
    "950d3647-24bc-4e15-afcf-ca5ed51dfb5b": {
     "id": "950d3647-24bc-4e15-afcf-ca5ed51dfb5b",
     "prev": "231dd51f-4eb6-4cf1-8dfb-8c3a57b6c089",
     "regions": {
      "502a02ad-ac12-457b-9b7c-1455b9650d2c": {
       "attrs": {
        "height": 0.8,
        "width": 0.8,
        "x": 0.1,
        "y": 0.1
       },
       "content": {
        "cell": "958d59f2-dcab-4e17-8544-3bb358b4127d",
        "part": "whole"
       },
       "id": "502a02ad-ac12-457b-9b7c-1455b9650d2c"
      }
     }
    },
    "a38340f6-8e94-497f-a957-9834550227be": {
     "id": "a38340f6-8e94-497f-a957-9834550227be",
     "prev": null,
     "regions": {
      "320cff38-f3a0-49b2-a5a4-a1f8186a10af": {
       "attrs": {
        "height": 0.8,
        "width": 0.8,
        "x": 0.1,
        "y": 0.1
       },
       "content": {
        "cell": "cbe1b825-2a00-4a95-8d0d-08fa58a8de1f",
        "part": "whole"
       },
       "id": "320cff38-f3a0-49b2-a5a4-a1f8186a10af"
      }
     }
    },
    "af8f320f-86ba-4812-a971-f398b594cf57": {
     "id": "af8f320f-86ba-4812-a971-f398b594cf57",
     "prev": "8bddea9b-0c23-4418-89ed-7cf51724fc9b",
     "regions": {
      "464ada10-1f02-43bf-958a-3e542a9685ef": {
       "attrs": {
        "height": 0.8,
        "width": 0.8,
        "x": 0.1,
        "y": 0.1
       },
       "content": {
        "cell": "b7ad393d-73bb-4e64-bd38-3c789d2917b6",
        "part": "whole"
       },
       "id": "464ada10-1f02-43bf-958a-3e542a9685ef"
      }
     }
    },
    "b02e8ba8-bba1-4253-9f7c-8d4eefd67a55": {
     "id": "b02e8ba8-bba1-4253-9f7c-8d4eefd67a55",
     "prev": "ec67f34b-2d57-413e-9868-67a2dceeec7a",
     "regions": {
      "d45d0119-d1dd-4377-b308-38585042cbfc": {
       "attrs": {
        "height": 0.8,
        "width": 0.8,
        "x": 0.1,
        "y": 0.1
       },
       "content": {
        "cell": "214c3767-0598-48c7-ac2b-d4405419d8dd",
        "part": "whole"
       },
       "id": "d45d0119-d1dd-4377-b308-38585042cbfc"
      }
     }
    },
    "d41b5f11-af93-4ba9-933d-225aae66a15e": {
     "id": "d41b5f11-af93-4ba9-933d-225aae66a15e",
     "prev": "f3ac431a-c029-43e1-bf15-e9363af430d3",
     "regions": {
      "cdb76833-883f-4973-bc4e-20074795872e": {
       "attrs": {
        "height": 0.8,
        "width": 0.8,
        "x": 0.1,
        "y": 0.1
       },
       "content": {
        "cell": "7d2810dd-0fd7-48f5-9186-18eed521b280",
        "part": "whole"
       },
       "id": "cdb76833-883f-4973-bc4e-20074795872e"
      }
     }
    },
    "ec67f34b-2d57-413e-9868-67a2dceeec7a": {
     "id": "ec67f34b-2d57-413e-9868-67a2dceeec7a",
     "prev": "950d3647-24bc-4e15-afcf-ca5ed51dfb5b",
     "regions": {
      "a3c07d72-dd68-48c3-b5dd-76765f67404e": {
       "attrs": {
        "height": 0.8,
        "width": 0.8,
        "x": 0.1,
        "y": 0.1
       },
       "content": {
        "cell": "009e50f8-ff50-4d96-9df0-d6a29aed077d",
        "part": "whole"
       },
       "id": "a3c07d72-dd68-48c3-b5dd-76765f67404e"
      }
     }
    },
    "f3ac431a-c029-43e1-bf15-e9363af430d3": {
     "id": "f3ac431a-c029-43e1-bf15-e9363af430d3",
     "prev": "af8f320f-86ba-4812-a971-f398b594cf57",
     "regions": {
      "5224e3bc-db73-48b0-963d-1116c8f01ec1": {
       "attrs": {
        "height": 0.8,
        "width": 0.8,
        "x": 0.1,
        "y": 0.1
       },
       "content": {
        "cell": "2e049203-ae46-454a-9223-f427bacce921",
        "part": "whole"
       },
       "id": "5224e3bc-db73-48b0-963d-1116c8f01ec1"
      }
     }
    }
   },
   "themes": {}
  }
 },
 "nbformat": 4,
 "nbformat_minor": 0
}
