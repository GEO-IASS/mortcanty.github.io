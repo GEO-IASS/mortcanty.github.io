{
 "cells": [
  {
   "cell_type": "markdown",
   "metadata": {},
   "source": [
    "## Part 5. Linear Regression\n",
    "$$ \\def\\pr{\\hbox{Pr}}\n",
    "\\def\\var{\\hbox{var}}\n",
    "\\def\\cov{\\hbox{cov}}\n",
    "\\def\\corr{\\hbox{corr}}\n",
    "\\def\\dmX{\\un{\\mathcal{X}}}\n",
    "\\def\\dmG{\\un{\\mathcal{G}}}\n",
    "\\def\\dmK{\\un{\\mathcal{K}}}\n",
    "\\def\\dmS{\\un{\\mathcal{S}}}\n",
    "\\def\\dmC{\\un{\\mathcal{C}}}\n",
    "\\def\\dmZ{\\un{\\mathcal{Z}}}\n",
    "\\def\\bma{{\\mbox{\\boldmath $\\alpha$}}}\n",
    "\\def\\bmb{{\\mbox{\\boldmath $\\beta$}}}\n",
    "\\def\\bmu{{\\mbox{\\boldmath $\\mu$}}}\n",
    "\\def\\bme{{\\mbox{\\boldmath $\\epsilon$}}}\n",
    "\\def\\bmS{{\\mbox{\\boldmath $\\Sigma$}}}\n",
    "\\def\\bmL{{\\mbox{\\boldmath $\\Lambda$}}}\n",
    "\\def\\bmd{{\\mbox{\\boldmath $\\delta$}}}\n",
    "\\def\\bmD{{\\mbox{\\boldmath $\\Delta$}}}\n",
    "\\def\\bmG{{\\mbox{\\boldmath $\\Gamma$}}}\n",
    "\\def\\bmphi{{\\mbox{\\boldmath $\\phi$}}}\n",
    "\\def\\bmPhi{{\\mbox{\\boldmath $\\Phi$}}}\n",
    "\\def\\bmpsi{{\\mbox{\\boldmath $\\psi$}}}\n",
    "\\def\\bmtheta{{\\mbox{\\boldmath $\\theta$}}}\n",
    "\\def\\eq{\\begin{equation}}\n",
    "\\def\\eeq{\\end{equation}}\n",
    "\\def\\i{{\\bf i}}\n",
    "\\def\\un#1{{\\bf #1}}$$\n",
    "\n",
    "\n",
    "Consider a dataset consisting of $n$ pairs\n",
    "\n",
    "$$\\{x(i),y(i)\\mid i=1\\dots n\\}.$$\n",
    "\n",
    "The statistical model for linear regression is\n",
    "\n",
    "$$\n",
    "Y(i)=a + bx(i)+R(i),\\quad i=1\\dots n.\n",
    "$$\n",
    "\n",
    "$Y(i)$ is a random variable representing the $i$th measurement of the dependent\n",
    "variable and $R(i)$, referred to as the {\\it residual error},\n",
    "is a random variable representing the measurement uncertainty.\n",
    "The $x(i)$ are exact.\n",
    "\n",
    "We will assume that the individual measurements are uncorrelated, are normally distributed\n",
    "and that they all have the same variance:\n",
    "\n",
    "$$\n",
    "\\cov(R(i),R(i')) = \\cases{ \\sigma^2 & for $i=i'$\\cr 0 & otherwise.}\n",
    "$$\n",
    "\n",
    "For the more general case\n",
    "\n",
    "$$\n",
    "\\var(R(i)) =  \\sigma_i^2,\n",
    "$$\n",
    "\n",
    "the development is similar, see, e.g., {\\it Numerical Recipes}."
   ]
  },
  {
   "cell_type": "markdown",
   "metadata": {},
   "source": [
    "The realizations of $R(i)$ are\n",
    "\n",
    "$$\n",
    "y(i) - a - bx(i),\\quad i=1\\dots n,\n",
    "$$\n",
    "\n",
    "from which we define a least squares *goodness of fit* function\n",
    "\n",
    "$$\n",
    "z(a,b)=\\sum_{i=1}^n \\left({y(i)-a-bx(i)\\over\\sigma}\\right)^2.\n",
    "$$\n",
    "\n",
    "If the residuals $R(i)$ are  normally distributed then $z(a,b)$ is a realization\n",
    "of a chi-square distributed random variable."
   ]
  },
  {
   "cell_type": "markdown",
   "metadata": {},
   "source": [
    "The best values, in the least squares sense, for the parameters $a$ and $b$ are obtained by minimizing $z(a,b)$,\n",
    "that is, by solving the equations\n",
    "\n",
    "$$\n",
    "{\\partial z\\over\\partial a}={\\partial z\\over\\partial b}=0\n",
    "$$\n",
    "\n",
    "for $a$ and $b$. The solution is\n",
    "\n",
    "$$\n",
    "\\hat b = {s_{xy}\\over s_{xx}},\\quad \\hat a=\\bar y-\\hat b\\bar x,\n",
    "$$\n",
    "\n",
    "where\n",
    "\n",
    "$$\\eqalign{\n",
    "s_{xy}&={1\\over n}\\sum_{i=1}^n (x(i)-\\bar x)(y(i)-\\bar y)\\cr\n",
    "s_{xx}&={1\\over n}\\sum_{i=1}^n (x(i)-\\bar x)^2\\cr\n",
    "\\bar x&={1\\over n}\\sum_{i=1}^n x(i),\\quad \\bar y={1\\over n}\\sum_{i=1}^n y(i).}\n",
    "$$"
   ]
  },
  {
   "cell_type": "markdown",
   "metadata": {},
   "source": [
    "\n",
    "The fitted or predicted values are thus\n",
    "\n",
    "$$\n",
    "\\hat y(i) = \\hat a + \\hat b x(i).\n",
    "$$\n",
    "\n",
    "From the formula for error propagation for uncorrelated errors\n",
    "\n",
    "$$\n",
    "\\sigma_a^2 = \\sum_{i=1}^n \\sigma^2\\left({\\partial a\\over \\partial y(i)}\\right)^2.\n",
    "$$\n",
    "\n",
    "the uncertainties in the estimates $\\hat a$ and $\\hat b$\n",
    "are given by (next two slides)\n",
    "\n",
    "$$\\eqalign{\n",
    "\\sigma_a^2 &= {\\sigma^2\\sum x(i)^2\\over n\\sum x(i)^2-(\\sum x(i))^2}\\cr\n",
    "\\sigma_b^2 &= {n\\sigma^2 \\over n\\sum x(i)^2-(\\sum x(i))^2}\\ .}\n",
    "$$\n"
   ]
  },
  {
   "cell_type": "markdown",
   "metadata": {},
   "source": [
    "The formula for error propagation\n",
    "for uncorrelated errors is\n",
    "\n",
    "$$\n",
    "\\sigma_a^2 = \\sum_{i=1}^n \\sigma^2\\left({\\partial a\\over \\partial y(i)}\\right)^2.\n",
    "$$\n",
    "\n",
    "We require the derivative of $a$ with respect to $y(i)$, where\n",
    "\n",
    "$$\n",
    "a = \\bar y - b\\bar x = {1\\over n}\\sum_i y(i) - {s_{xy}\\over s_{xx}}\\bar x.\n",
    "$$\n",
    "\n",
    "We have\n",
    "\n",
    "$$\n",
    "{\\partial a\\over\\partial y(i)} = {1\\over n}- {\\bar x\\over s_{xx}}{\\partial s_{xy}\\over\\partial y(i)}\n",
    "$$\n",
    "\n",
    "and\n",
    "\n",
    "$$\\eqalign{\n",
    "{\\partial s_{xy}\\over\\partial y(i)}&={1\\over n}\\left(x(i)-\\bar x - \\sum_j(x(j)-\\bar x){\\partial \\bar y\\over\\partial y(i)}\\right)\\cr\n",
    "&={1\\over n}(x(i)-\\bar x).}\n",
    "$$\n",
    "\n",
    "Hence\n",
    "\n",
    "$$\n",
    "{\\partial a\\over\\partial y(i)}={1\\over n}\\left(1-{\\bar x\\over  s_{xx}}(x(i)-\\bar x)\\right)\n",
    "$$\n",
    "\n",
    "and\n",
    "\n",
    "$$\n",
    "\\left({\\partial a\\over\\partial y(i)}\\right)^2 ={1\\over n^2}\\left(1-{2\\bar x\\over  s_{xx}}(x_i-\\bar x)+\n",
    "{\\bar x^2\\over  s_{xx}^2}(x(i)-\\bar x)^2\\right).\n",
    "$$\n"
   ]
  },
  {
   "cell_type": "markdown",
   "metadata": {},
   "source": [
    "Summing over $i$ gives\n",
    "\n",
    "$$\\eqalign{\n",
    "\\sum_i\\left({\\partial a\\over\\partial y_i}\\right)^2&={1\\over n^2}\\left(n + 0 \n",
    "+{\\bar x^2\\over  s_{xx}^2}n s_{xx}\\right)\\cr\n",
    "&= {1\\over n}\\left({s_{xx}+\\bar x^2\\over s_{xx}}\\right)\n",
    "={\\sum_i x(i)^2\\over n^2s_{xx}},}\n",
    "$$\n",
    "\n",
    "from which the expression for $\\sigma_a^2$ readily follows."
   ]
  },
  {
   "cell_type": "markdown",
   "metadata": {},
   "source": [
    "The goodness of fit can be determined by substituting the estimates\n",
    "$\\hat a$ and $\\hat b$ into the criterion function, which will then be chi-square\n",
    "distributed with $n-2$ degrees of freedom. The probability of finding a value\n",
    "$z=z(\\hat a,\\hat b)$ {\\it or higher} by chance is\n",
    "\n",
    "$$\n",
    "Q = 1-P_{\\chi^2;n-2}(z).\n",
    "$$\n",
    "\n",
    "If $Q<0.001$, one would typically reject the fit as being unsatisfactory."
   ]
  },
  {
   "cell_type": "markdown",
   "metadata": {},
   "source": [
    "### Coefficient of determination ($R^2$)\n",
    "\n",
    "Consider the total variation of the observed variable $y(i)$ about its mean $\\bar y$,\n",
    "\n",
    "$$\\eqalign{\n",
    "\\sum_i &(y(i)-\\bar y)^2 = \\sum_i (y(i)-\\hat y(i)+\\hat y(i)-\\bar y)^2\\cr\n",
    "&= \\sum_i(y(i)-\\hat y(i))^2 + (\\hat y(i)-\\bar y)^2 + 2(y(i)-\\hat y(i))(\\hat y(i)-\\bar y)\n",
    "}\n",
    "$$\n",
    "\n",
    "The last term in the summation is\n",
    "\n",
    "$$\n",
    "\\sum_i 2 r(i)(\\hat y(i)-\\bar y) = 2\\sum_i r(i)\\hat y(i) -2\\bar y\\sum_i r(i) = 0\n",
    "$$\n",
    "\n",
    "since the errors are uncorrelated with the predicted values $\\hat y(i)$ ( so $\\langle r \\hat y\\rangle = \\langle r\n",
    "\\rangle\\langle\\hat y\\rangle$) and have mean 0 (so $\\langle r\\rangle = 0$)."
   ]
  },
  {
   "cell_type": "markdown",
   "metadata": {},
   "source": [
    "So we have\n",
    "\n",
    "$$\n",
    "\\sum_i (y(i)-\\bar y)^2 = \\sum_i(y(i)-\\hat y(i))^2 + \\sum_i(\\hat y(i)-\\bar y)^2\n",
    "$$\n",
    "\n",
    "or\n",
    "\n",
    "$$\n",
    "1 = {\\sum_i(y(i)-\\hat y(i))^2\\over\\sum_i (y(i)-\\bar y)^2 } + {\\sum_i(\\hat y(i)-\\bar y)^2\\over\\sum_i (y(i)-\\bar y)^2}\n",
    "$$\n",
    "\n",
    "or\n",
    "\n",
    "$$\n",
    "1 = {\\sum_i(y(i)-\\hat y(i))^2\\over\\sum_i (y(i)-\\bar y)^2 } + R^2,\n",
    "$$\n",
    "\n",
    "where the *coefficient of determination* $R^2$,\n",
    "\n",
    "$$\n",
    "R^2 = {\\sum_i(\\hat y(i)-\\bar y)^2\\over\\sum_i (y(i)-\\bar y)^2}, \\quad 0\\le R^2\\le 1,\n",
    "$$\n",
    "\n",
    "is the fraction of the variance in $Y$ that is explained by the regression model."
   ]
  },
  {
   "cell_type": "markdown",
   "metadata": {},
   "source": [
    "It is easy to show that\n",
    "\n",
    "$$\n",
    "\\corr(y,\\hat y) = {\\sum_i(y(i)-\\bar y)(\\hat y(i)-\\bar y)\\over\\sqrt{\\sum_i(y(i)-\\bar y)^2\\sum_i(\\hat y(i)-\\bar y)^2}} = R.\n",
    "$$\n",
    "\n",
    "In words: The coefficient of determination is the square of the sample correlation between the observed and predicted values of $y$.\n",
    "\n",
    "**Exercise 1:** \n",
    "\n",
    "Prove this by replacing $(y(i)-\\bar y)$ in the numerator by\n",
    "$(y(i)+\\hat y(i)-\\hat y(i) +\\bar y)$ and expanding."
   ]
  },
  {
   "cell_type": "code",
   "execution_count": 1,
   "metadata": {
    "collapsed": false
   },
   "outputs": [
    {
     "name": "stdout",
     "output_type": "stream",
     "text": [
      "a = 1.015450, b = 1.968911, R = 0.945603\n",
      "corr(y,yy) = 0.945603\n"
     ]
    },
    {
     "data": {
      "image/png": "[encoded data removed]",
      "text/plain": [
       "<matplotlib.figure.Figure at 0x7f1fe9fd79d0>"
      ]
     },
     "metadata": {},
     "output_type": "display_data"
    }
   ],
   "source": [
    "%matplotlib inline\n",
    "import numpy as np\n",
    "import matplotlib.pyplot as plt\n",
    "from scipy.stats import linregress, pearsonr\n",
    "\n",
    "a = 1.0\n",
    "b = 2.0\n",
    "n = 200\n",
    "x = np.linspace(0,1,n)\n",
    "y = a + b*x + np.random.normal(size = n)*0.2\n",
    "\n",
    "bb,aa,R,_,_ = linregress(x,y)\n",
    "\n",
    "yy = aa+bb*x\n",
    "plt.plot (x,y,'o',x,yy)\n",
    "\n",
    "print 'a = %f, b = %f, R = %f' % (aa,bb,R)\n",
    "\n",
    "print 'corr(y,yy) = %f' %pearsonr(y,yy)[0]"
   ]
  },
  {
   "cell_type": "code",
   "execution_count": null,
   "metadata": {
    "collapsed": true
   },
   "outputs": [],
   "source": []
  }
 ],
 "metadata": {
  "anaconda-cloud": {},
  "kernelspec": {
   "display_name": "Python [Root]",
   "language": "python",
   "name": "Python [Root]"
  },
  "language_info": {
   "codemirror_mode": {
    "name": "ipython",
    "version": 2
   },
   "file_extension": ".py",
   "mimetype": "text/x-python",
   "name": "python",
   "nbconvert_exporter": "python",
   "pygments_lexer": "ipython2",
   "version": "2.7.12"
  }
 },
 "nbformat": 4,
 "nbformat_minor": 0
}
