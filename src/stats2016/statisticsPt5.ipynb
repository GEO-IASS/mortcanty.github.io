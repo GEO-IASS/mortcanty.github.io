{
 "cells": [
  {
   "cell_type": "markdown",
   "metadata": {
    "nbpresent": {
     "id": "bc046510-c988-4b1e-af4b-4e6a16f732a7"
    }
   },
   "source": [
    "## Part 5. Linear Regression\n",
    "$$ \\def\\pr{\\hbox{Pr}}\n",
    "\\def\\var{\\hbox{var}}\n",
    "\\def\\cov{\\hbox{cov}}\n",
    "\\def\\corr{\\hbox{corr}}\n",
    "\\def\\dmX{\\un{\\mathcal{X}}}\n",
    "\\def\\dmG{\\un{\\mathcal{G}}}\n",
    "\\def\\dmK{\\un{\\mathcal{K}}}\n",
    "\\def\\dmS{\\un{\\mathcal{S}}}\n",
    "\\def\\dmC{\\un{\\mathcal{C}}}\n",
    "\\def\\dmZ{\\un{\\mathcal{Z}}}\n",
    "\\def\\bma{{\\mbox{\\boldmath $\\alpha$}}}\n",
    "\\def\\bmb{{\\mbox{\\boldmath $\\beta$}}}\n",
    "\\def\\bmu{{\\mbox{\\boldmath $\\mu$}}}\n",
    "\\def\\bme{{\\mbox{\\boldmath $\\epsilon$}}}\n",
    "\\def\\bmS{{\\mbox{\\boldmath $\\Sigma$}}}\n",
    "\\def\\bmL{{\\mbox{\\boldmath $\\Lambda$}}}\n",
    "\\def\\bmd{{\\mbox{\\boldmath $\\delta$}}}\n",
    "\\def\\bmD{{\\mbox{\\boldmath $\\Delta$}}}\n",
    "\\def\\bmG{{\\mbox{\\boldmath $\\Gamma$}}}\n",
    "\\def\\bmphi{{\\mbox{\\boldmath $\\phi$}}}\n",
    "\\def\\bmPhi{{\\mbox{\\boldmath $\\Phi$}}}\n",
    "\\def\\bmpsi{{\\mbox{\\boldmath $\\psi$}}}\n",
    "\\def\\bmtheta{{\\mbox{\\boldmath $\\theta$}}}\n",
    "\\def\\eq{\\begin{equation}}\n",
    "\\def\\eeq{\\end{equation}}\n",
    "\\def\\i{{\\bf i}}\n",
    "\\def\\un#1{{\\bf #1}}$$\n",
    "\n",
    "\n",
    "Consider a dataset consisting of $n$ pairs\n",
    "\n",
    "$$\\{x(i),y(i)\\mid i=1\\dots n\\}.$$\n",
    "\n",
    "The statistical model for linear regression is\n",
    "\n",
    "$$\n",
    "Y(i)=a + bx(i)+R(i),\\quad i=1\\dots n.\n",
    "$$\n",
    "\n",
    "$Y(i)$ is a random variable representing the $i$th measurement of the dependent\n",
    "variable and $R(i)$, referred to as the *residual error*,\n",
    "is a random variable representing the measurement uncertainty.\n",
    "The $x(i)$ are exact.\n",
    "\n"
   ]
  },
  {
   "cell_type": "markdown",
   "metadata": {
    "nbpresent": {
     "id": "5ece535f-c4cc-44a8-9a72-805078b191a8"
    }
   },
   "source": [
    "We will assume that the individual measurements are uncorrelated, are normally distributed\n",
    "and that they all have the same variance:\n",
    "\n",
    "$$\n",
    "\\cov(R(i),R(i')) = \\cases{ \\sigma^2 & for $i=i'$\\cr 0 & otherwise.}\n",
    "$$\n",
    "\n",
    "For the more general case\n",
    "\n",
    "$$\n",
    "\\var(R(i)) =  \\sigma_i^2,\n",
    "$$\n",
    "\n",
    "the development is similar, see, e.g., <a href = \"https://www.amazon.de/Numerical-Recipes-3rd-Scientific-Computing/dp/0521880688/ref=sr_1_1_twi_har_1?ie=UTF8&qid=1478771567&sr=8-1&keywords=numerical+recipes\">Numerical Recipes</a>"
   ]
  },
  {
   "cell_type": "markdown",
   "metadata": {
    "nbpresent": {
     "id": "da2d46a6-faa5-4b2f-81c2-5439b1aed499"
    }
   },
   "source": [
    "The realizations of $R(i)$ are\n",
    "\n",
    "$$\n",
    "y(i) - a - bx(i),\\quad i=1\\dots n,\n",
    "$$\n",
    "\n",
    "from which we define a least squares *goodness of fit* function\n",
    "\n",
    "$$\n",
    "z(a,b)=\\sum_{i=1}^n \\left({y(i)-a-bx(i)\\over\\sigma}\\right)^2.\n",
    "$$\n",
    "\n",
    "If the residuals $R(i)$ are  normally distributed then $z(a,b)$ is a realization\n",
    "of a chi-square distributed random variable."
   ]
  },
  {
   "cell_type": "markdown",
   "metadata": {
    "nbpresent": {
     "id": "404091d4-f8d3-43f4-99c0-633d0305b7c4"
    }
   },
   "source": [
    "The best values, in the least squares sense, for the parameters $a$ and $b$ are obtained by minimizing $z(a,b)$,\n",
    "that is, by solving the equations\n",
    "\n",
    "$$\n",
    "{\\partial z\\over\\partial a}={\\partial z\\over\\partial b}=0\n",
    "$$\n",
    "\n",
    "for $a$ and $b$. The solution is\n",
    "\n",
    "$$\n",
    "\\hat b = {s_{xy}\\over s_{xx}},\\quad \\hat a=\\bar y-\\hat b\\bar x,\n",
    "$$\n",
    "\n",
    "where\n",
    "\n",
    "$$\\eqalign{\n",
    "s_{xy}&={1\\over n}\\sum_{i=1}^n (x(i)-\\bar x)(y(i)-\\bar y)\\cr\n",
    "s_{xx}&={1\\over n}\\sum_{i=1}^n (x(i)-\\bar x)^2\\cr\n",
    "\\bar x&={1\\over n}\\sum_{i=1}^n x(i),\\quad \\bar y={1\\over n}\\sum_{i=1}^n y(i).}\n",
    "$$"
   ]
  },
  {
   "cell_type": "markdown",
   "metadata": {
    "nbpresent": {
     "id": "5e33b5d1-3754-4b0c-ae2e-5d564900ae92"
    }
   },
   "source": [
    "\n",
    "The fitted or predicted values are thus\n",
    "\n",
    "$$\n",
    "\\hat y(i) = \\hat a + \\hat b x(i).\n",
    "$$\n",
    "\n",
    "From the formula for error propagation for uncorrelated errors\n",
    "\n",
    "$$\n",
    "\\sigma_a^2 = \\sum_{i=1}^n \\sigma^2\\left({\\partial a\\over \\partial y(i)}\\right)^2.\n",
    "$$\n",
    "\n",
    "the uncertainties in the estimates $\\hat a$ and $\\hat b$\n",
    "are given by (see below)\n",
    "\n",
    "$$\\eqalign{\n",
    "\\sigma_a^2 &= {\\sigma^2\\sum x(i)^2\\over n\\sum x(i)^2-(\\sum x(i))^2} = {\\sigma^2\\sum_i x(i)^2\\over n^2 S_{xx}} \\cr\n",
    "\\sigma_b^2 &= {n\\sigma^2 \\over n\\sum x(i)^2-(\\sum x(i))^2} = {\\sigma^2\\over nS_{xx}} \\ .}\n",
    "$$\n"
   ]
  },
  {
   "cell_type": "markdown",
   "metadata": {
    "nbpresent": {
     "id": "692f080a-1532-4e65-a4f7-78c8bf2ba242"
    }
   },
   "source": [
    "The formula for error propagation\n",
    "for uncorrelated errors is\n",
    "\n",
    "$$\n",
    "\\sigma_a^2 = \\sum_{i=1}^n \\sigma^2\\left({\\partial a\\over \\partial y(i)}\\right)^2.\n",
    "$$\n",
    "\n",
    "We require the derivative of $a$ with respect to $y(i)$, where\n",
    "\n",
    "$$\n",
    "a = \\bar y - b\\bar x = {1\\over n}\\sum_i y(i) - {s_{xy}\\over s_{xx}}\\bar x.\n",
    "$$\n",
    "\n",
    "We have\n",
    "\n",
    "$$\n",
    "{\\partial a\\over\\partial y(i)} = {1\\over n}- {\\bar x\\over s_{xx}}{\\partial s_{xy}\\over\\partial y(i)}\n",
    "$$\n",
    "\n",
    "and\n",
    "\n",
    "$$\\eqalign{\n",
    "{\\partial s_{xy}\\over\\partial y(i)}&={1\\over n}\\left(x(i)-\\bar x - \\sum_j(x(j)-\\bar x){\\partial \\bar y\\over\\partial y(i)}\\right)\\cr\n",
    "&={1\\over n}(x(i)-\\bar x).}\n",
    "$$\n",
    "\n",
    "Hence\n",
    "\n",
    "$$\n",
    "{\\partial a\\over\\partial y(i)}={1\\over n}\\left(1-{\\bar x\\over  s_{xx}}(x(i)-\\bar x)\\right)\n",
    "$$\n",
    "\n",
    "and\n",
    "\n",
    "$$\n",
    "\\left({\\partial a\\over\\partial y(i)}\\right)^2 ={1\\over n^2}\\left(1-{2\\bar x\\over  s_{xx}}(x_i-\\bar x)+\n",
    "{\\bar x^2\\over  s_{xx}^2}(x(i)-\\bar x)^2\\right).\n",
    "$$\n",
    "\n",
    "Summing over $i$ gives\n",
    "\n",
    "$$\\eqalign{\n",
    "\\sum_i\\left({\\partial a\\over\\partial y(i)}\\right)^2&={1\\over n^2}\\left(n + 0 \n",
    "+{\\bar x^2\\over  s_{xx}^2}n s_{xx}\\right)\\cr\n",
    "&= {1\\over n}\\left({s_{xx}+\\bar x^2\\over s_{xx}}\\right)\n",
    "={\\sum_i x(i)^2\\over n^2s_{xx}},}\n",
    "$$\n",
    "\n",
    "as required.\n"
   ]
  },
  {
   "cell_type": "markdown",
   "metadata": {
    "nbpresent": {
     "id": "7b06f12f-7619-47e9-998f-7fa5e827da1c"
    }
   },
   "source": [
    "The goodness of fit can be determined by substituting the estimates\n",
    "$\\hat a$ and $\\hat b$ into the criterion function, which will then be chi-square\n",
    "distributed with $n-2$ degrees of freedom. The probability of finding a value\n",
    "$z=z(\\hat a,\\hat b)$ or higher by chance is\n",
    "\n",
    "$$\n",
    "Q = 1-P_{\\chi^2;n-2}(z).\n",
    "$$\n",
    "\n",
    "If $Q<0.001$, one would typically reject the fit as being unsatisfactory."
   ]
  },
  {
   "cell_type": "markdown",
   "metadata": {
    "nbpresent": {
     "id": "45e20a9b-cc1f-4273-b489-01f58d6ec126"
    }
   },
   "source": [
    "### Coefficient of determination ($R^2$)\n",
    "\n",
    "Consider the total variation of the observed variable $y(i)$ about its mean $\\bar y$,\n",
    "\n",
    "$$\\eqalign{\n",
    "\\sum_i &(y(i)-\\bar y)^2 = \\sum_i (y(i)-\\hat y(i)+\\hat y(i)-\\bar y)^2\\cr\n",
    "&= \\sum_i(y(i)-\\hat y(i))^2 + (\\hat y(i)-\\bar y)^2 + 2(y(i)-\\hat y(i))(\\hat y(i)-\\bar y)\n",
    "}\n",
    "$$\n",
    "\n",
    "The last term in the summation is\n",
    "\n",
    "$$\n",
    "\\sum_i 2 r(i)(\\hat y(i)-\\bar y) = 2\\sum_i r(i)\\hat y(i) -2\\bar y\\sum_i r(i) = 0\n",
    "$$\n",
    "\n",
    "since the errors are uncorrelated with the predicted values $\\hat y(i)$ ( so $\\langle r \\hat y\\rangle = \\langle r\n",
    "\\rangle\\langle\\hat y\\rangle$) and have mean 0 (so $\\langle r\\rangle = 0$)."
   ]
  },
  {
   "cell_type": "markdown",
   "metadata": {
    "nbpresent": {
     "id": "c032a06a-5ea5-4079-ada5-4377f2892fb9"
    }
   },
   "source": [
    "So we have\n",
    "\n",
    "$$\n",
    "\\sum_i (y(i)-\\bar y)^2 = \\sum_i(y(i)-\\hat y(i))^2 + \\sum_i(\\hat y(i)-\\bar y)^2\n",
    "$$\n",
    "\n",
    "or\n",
    "\n",
    "$$\n",
    "1 = {\\sum_i(y(i)-\\hat y(i))^2\\over\\sum_i (y(i)-\\bar y)^2 } + {\\sum_i(\\hat y(i)-\\bar y)^2\\over\\sum_i (y(i)-\\bar y)^2}\n",
    "$$\n",
    "\n",
    "or\n",
    "\n",
    "$$\n",
    "1 = {\\sum_i(y(i)-\\hat y(i))^2\\over\\sum_i (y(i)-\\bar y)^2 } + R^2,\n",
    "$$\n",
    "\n",
    "where the *coefficient of determination* $R^2$,\n",
    "\n",
    "$$\n",
    "R^2 = {\\sum_i(\\hat y(i)-\\bar y)^2\\over\\sum_i (y(i)-\\bar y)^2}, \\quad 0\\le R^2\\le 1,\n",
    "$$\n",
    "\n",
    "is the fraction of the variance in $Y$ that is explained by the regression model."
   ]
  },
  {
   "cell_type": "markdown",
   "metadata": {
    "nbpresent": {
     "id": "c8a33a3f-6039-41c9-84db-8f3523eaab63"
    }
   },
   "source": [
    "It is easy to show that\n",
    "\n",
    "$$\n",
    "\\corr(y,\\hat y) = {\\sum_i(y(i)-\\bar y)(\\hat y(i)-\\bar y)\\over\\sqrt{\\sum_i(y(i)-\\bar y)^2\\sum_i(\\hat y(i)-\\bar y)^2}} = R.\n",
    "$$\n",
    "\n",
    "In words: The coefficient of determination is the square of the sample correlation between the observed and predicted values of $y$."
   ]
  },
  {
   "cell_type": "markdown",
   "metadata": {
    "nbpresent": {
     "id": "7bb932ee-b811-491a-918a-ba539e427f57"
    }
   },
   "source": [
    "\n",
    "We can prove this by replacing $(y(i)-\\bar y)$ in the numerator by\n",
    "$(y(i)+\\hat y(i)-\\hat y(i) +\\bar y)$ and expanding.\n",
    "\n",
    "The numerator of right hand side  becomes\n",
    "\n",
    "$$\\eqalign{\n",
    "&\\sum_i (y(i) + \\hat y(i) - \\hat y(i) -\\bar y)(\\hat y(i)-\\bar y)\\cr\n",
    "&=\\sum_i (y(i)-\\hat y(i))(\\hat y(i)-\\bar y) + \\sum_i (\\hat y(i)-\\bar y)^2\\cr\n",
    "&=  \\sum_i (\\hat y(i)-\\bar y)^2,\n",
    "}\n",
    "$$\n",
    "\n",
    "since the term $\\sum_i (y(i)-\\hat y(i))(\\hat y(i)-\\bar y)= \\sum_i r(i)(\\hat y(i)-\\bar y)= 0$. Including the denominator then gives\n",
    "the desired result."
   ]
  },
  {
   "cell_type": "code",
   "execution_count": null,
   "metadata": {
    "collapsed": false,
    "nbpresent": {
     "id": "9e4d0f6a-1493-4fa4-8c0c-1b828de6b206"
    }
   },
   "outputs": [],
   "source": [
    "%matplotlib inline\n",
    "import numpy as np\n",
    "import matplotlib.pyplot as plt\n",
    "from scipy.stats import linregress, pearsonr\n",
    "\n",
    "a = 1.0\n",
    "b = 2.0\n",
    "n = 200\n",
    "x = np.linspace(0,1,n)\n",
    "y = a + b*x + np.random.normal(size = n)*0.2\n",
    "\n",
    "bb,aa,R,_,_ = linregress(x,y)\n",
    "\n",
    "yy = aa+bb*x\n",
    "plt.plot (x,y,'o',x,yy)\n",
    "\n",
    "print 'a = %f, b = %f, R = %f' % (aa,bb,R)\n",
    "\n",
    "print 'corr(y,yy) = %f' %pearsonr(y,yy)[0]"
   ]
  },
  {
   "cell_type": "code",
   "execution_count": null,
   "metadata": {
    "collapsed": true,
    "nbpresent": {
     "id": "b4c63f8f-4b21-49cb-80a2-9900bd20f077"
    }
   },
   "outputs": [],
   "source": []
  }
 ],
 "metadata": {
  "anaconda-cloud": {},
  "kernelspec": {
   "display_name": "Python [Root]",
   "language": "python",
   "name": "Python [Root]"
  },
  "language_info": {
   "codemirror_mode": {
    "name": "ipython",
    "version": 2
   },
   "file_extension": ".py",
   "mimetype": "text/x-python",
   "name": "python",
   "nbconvert_exporter": "python",
   "pygments_lexer": "ipython2",
   "version": "2.7.12"
  },
  "nbpresent": {
   "slides": {
    "02685afc-e2fe-485e-85d1-6d5f632a441a": {
     "id": "02685afc-e2fe-485e-85d1-6d5f632a441a",
     "prev": "dd4f660e-a025-4e98-bc3e-4093cb893e4d",
     "regions": {
      "38aeb06a-f647-4d4d-b481-2d92459ffcf4": {
       "attrs": {
        "height": 0.8,
        "width": 0.8,
        "x": 0.1,
        "y": 0.1
       },
       "content": {
        "cell": "5ece535f-c4cc-44a8-9a72-805078b191a8",
        "part": "whole"
       },
       "id": "38aeb06a-f647-4d4d-b481-2d92459ffcf4"
      }
     }
    },
    "02b4688a-5f81-4090-83c6-9185082bd37a": {
     "id": "02b4688a-5f81-4090-83c6-9185082bd37a",
     "prev": "a1c63370-8c75-46d9-9d35-520af7e6bc8d",
     "regions": {
      "a769b95e-fc39-497c-818a-8a7698104b1f": {
       "attrs": {
        "height": 0.8,
        "width": 0.8,
        "x": 0.1,
        "y": 0.1
       },
       "content": {
        "cell": "5e33b5d1-3754-4b0c-ae2e-5d564900ae92",
        "part": "whole"
       },
       "id": "a769b95e-fc39-497c-818a-8a7698104b1f"
      }
     }
    },
    "1d398a30-b5fb-4283-9ad7-a6622aed2fba": {
     "id": "1d398a30-b5fb-4283-9ad7-a6622aed2fba",
     "prev": "c4d69e91-2bf4-491d-837d-7b6afa031136",
     "regions": {
      "7750f8ed-2ed3-4481-b7e9-f5af85911d8c": {
       "attrs": {
        "height": 0.8,
        "width": 0.8,
        "x": 0.1,
        "y": 0.1
       },
       "content": {
        "cell": "c032a06a-5ea5-4079-ada5-4377f2892fb9",
        "part": "whole"
       },
       "id": "7750f8ed-2ed3-4481-b7e9-f5af85911d8c"
      }
     }
    },
    "1eb7a355-6daf-48b5-9db5-0f0e3a76cab9": {
     "id": "1eb7a355-6daf-48b5-9db5-0f0e3a76cab9",
     "prev": "02685afc-e2fe-485e-85d1-6d5f632a441a",
     "regions": {
      "4d77cb7c-3949-4b8b-b6d7-396b0acc22af": {
       "attrs": {
        "height": 0.8,
        "width": 0.8,
        "x": 0.1,
        "y": 0.1
       },
       "content": {
        "cell": "da2d46a6-faa5-4b2f-81c2-5439b1aed499",
        "part": "whole"
       },
       "id": "4d77cb7c-3949-4b8b-b6d7-396b0acc22af"
      }
     }
    },
    "21ff0c24-1720-4fc5-bdee-81ce9e149c53": {
     "id": "21ff0c24-1720-4fc5-bdee-81ce9e149c53",
     "prev": "fb6df507-ca91-4e04-9b7f-64973d3d687e",
     "regions": {
      "e1975664-7320-45d5-9000-cd29b40050a1": {
       "attrs": {
        "height": 0.8,
        "width": 0.8,
        "x": 0.1,
        "y": 0.1
       },
       "content": {
        "cell": "b4c63f8f-4b21-49cb-80a2-9900bd20f077",
        "part": "whole"
       },
       "id": "e1975664-7320-45d5-9000-cd29b40050a1"
      }
     }
    },
    "65b4c93e-355d-443d-a0fe-4a5e24237ea3": {
     "id": "65b4c93e-355d-443d-a0fe-4a5e24237ea3",
     "prev": "1d398a30-b5fb-4283-9ad7-a6622aed2fba",
     "regions": {
      "bf537d2a-794b-474f-92f3-5aaf275994e0": {
       "attrs": {
        "height": 0.8,
        "width": 0.8,
        "x": 0.1,
        "y": 0.1
       },
       "content": {
        "cell": "c8a33a3f-6039-41c9-84db-8f3523eaab63",
        "part": "whole"
       },
       "id": "bf537d2a-794b-474f-92f3-5aaf275994e0"
      }
     }
    },
    "7e5c6cba-7e18-48c1-a6d2-a9d9097a1de9": {
     "id": "7e5c6cba-7e18-48c1-a6d2-a9d9097a1de9",
     "prev": "b2ef17bf-8241-41b9-9697-b7e126e20c69",
     "regions": {
      "a207543d-3d8e-453b-ac79-bf2754243f4b": {
       "attrs": {
        "height": 0.8,
        "width": 0.8,
        "x": 0.1,
        "y": 0.1
       },
       "content": {
        "cell": "7b06f12f-7619-47e9-998f-7fa5e827da1c",
        "part": "whole"
       },
       "id": "a207543d-3d8e-453b-ac79-bf2754243f4b"
      }
     }
    },
    "a1c63370-8c75-46d9-9d35-520af7e6bc8d": {
     "id": "a1c63370-8c75-46d9-9d35-520af7e6bc8d",
     "prev": "1eb7a355-6daf-48b5-9db5-0f0e3a76cab9",
     "regions": {
      "1d501142-2bda-4f44-8ef0-8db1028a8f05": {
       "attrs": {
        "height": 0.8,
        "width": 0.8,
        "x": 0.1,
        "y": 0.1
       },
       "content": {
        "cell": "404091d4-f8d3-43f4-99c0-633d0305b7c4",
        "part": "whole"
       },
       "id": "1d501142-2bda-4f44-8ef0-8db1028a8f05"
      }
     }
    },
    "b2ef17bf-8241-41b9-9697-b7e126e20c69": {
     "id": "b2ef17bf-8241-41b9-9697-b7e126e20c69",
     "prev": "02b4688a-5f81-4090-83c6-9185082bd37a",
     "regions": {
      "ff68dedb-0a9c-4141-96f7-0bc1f6db9b68": {
       "attrs": {
        "height": 0.8,
        "width": 0.8,
        "x": 0.1,
        "y": 0.1
       },
       "content": {
        "cell": "692f080a-1532-4e65-a4f7-78c8bf2ba242",
        "part": "whole"
       },
       "id": "ff68dedb-0a9c-4141-96f7-0bc1f6db9b68"
      }
     }
    },
    "c4d69e91-2bf4-491d-837d-7b6afa031136": {
     "id": "c4d69e91-2bf4-491d-837d-7b6afa031136",
     "prev": "7e5c6cba-7e18-48c1-a6d2-a9d9097a1de9",
     "regions": {
      "fe107395-1bf8-4335-b96e-d873d9c53511": {
       "attrs": {
        "height": 0.8,
        "width": 0.8,
        "x": 0.1,
        "y": 0.1
       },
       "content": {
        "cell": "45e20a9b-cc1f-4273-b489-01f58d6ec126",
        "part": "whole"
       },
       "id": "fe107395-1bf8-4335-b96e-d873d9c53511"
      }
     }
    },
    "dd4f660e-a025-4e98-bc3e-4093cb893e4d": {
     "id": "dd4f660e-a025-4e98-bc3e-4093cb893e4d",
     "prev": null,
     "regions": {
      "147f091d-750e-4a1d-b197-c4692d6bbe15": {
       "attrs": {
        "height": 0.8,
        "width": 0.8,
        "x": 0.1,
        "y": 0.1
       },
       "content": {
        "cell": "bc046510-c988-4b1e-af4b-4e6a16f732a7",
        "part": "whole"
       },
       "id": "147f091d-750e-4a1d-b197-c4692d6bbe15"
      }
     }
    },
    "f063fa39-b9bf-4389-a85f-222d9d12cc24": {
     "id": "f063fa39-b9bf-4389-a85f-222d9d12cc24",
     "prev": "65b4c93e-355d-443d-a0fe-4a5e24237ea3",
     "regions": {
      "2592b2c6-77d6-45bc-9886-2f364df00284": {
       "attrs": {
        "height": 0.8,
        "width": 0.8,
        "x": 0.1,
        "y": 0.1
       },
       "content": {
        "cell": "7bb932ee-b811-491a-918a-ba539e427f57",
        "part": "whole"
       },
       "id": "2592b2c6-77d6-45bc-9886-2f364df00284"
      }
     }
    },
    "fb6df507-ca91-4e04-9b7f-64973d3d687e": {
     "id": "fb6df507-ca91-4e04-9b7f-64973d3d687e",
     "prev": "f063fa39-b9bf-4389-a85f-222d9d12cc24",
     "regions": {
      "b03e7b80-77b7-4c61-a3fc-e2f972123bfe": {
       "attrs": {
        "height": 0.8,
        "width": 0.8,
        "x": 0.1,
        "y": 0.1
       },
       "content": {
        "cell": "9e4d0f6a-1493-4fa4-8c0c-1b828de6b206",
        "part": "whole"
       },
       "id": "b03e7b80-77b7-4c61-a3fc-e2f972123bfe"
      }
     }
    }
   },
   "themes": {
    "default": "95177ea9-3156-46f9-ab26-0ed70c5fa21e",
    "theme": {
     "95177ea9-3156-46f9-ab26-0ed70c5fa21e": {
      "id": "95177ea9-3156-46f9-ab26-0ed70c5fa21e",
      "palette": {
       "19cc588f-0593-49c9-9f4b-e4d7cc113b1c": {
        "id": "19cc588f-0593-49c9-9f4b-e4d7cc113b1c",
        "rgb": [
         252,
         252,
         252
        ]
       },
       "31af15d2-7e15-44c5-ab5e-e04b16a89eff": {
        "id": "31af15d2-7e15-44c5-ab5e-e04b16a89eff",
        "rgb": [
         68,
         68,
         68
        ]
       },
       "50f92c45-a630-455b-aec3-788680ec7410": {
        "id": "50f92c45-a630-455b-aec3-788680ec7410",
        "rgb": [
         155,
         177,
         192
        ]
       },
       "c5cc3653-2ee1-402a-aba2-7caae1da4f6c": {
        "id": "c5cc3653-2ee1-402a-aba2-7caae1da4f6c",
        "rgb": [
         43,
         126,
         184
        ]
       },
       "efa7f048-9acb-414c-8b04-a26811511a21": {
        "id": "efa7f048-9acb-414c-8b04-a26811511a21",
        "rgb": [
         25.118061674008803,
         73.60176211453744,
         107.4819383259912
        ]
       }
      },
      "rules": {
       "blockquote": {
        "color": "50f92c45-a630-455b-aec3-788680ec7410"
       },
       "code": {
        "font-family": "Anonymous Pro"
       },
       "h1": {
        "color": "c5cc3653-2ee1-402a-aba2-7caae1da4f6c",
        "font-family": "Lato",
        "font-size": 8
       },
       "h2": {
        "color": "c5cc3653-2ee1-402a-aba2-7caae1da4f6c",
        "font-family": "Lato",
        "font-size": 6
       },
       "h3": {
        "color": "50f92c45-a630-455b-aec3-788680ec7410",
        "font-family": "Lato",
        "font-size": 5.5
       },
       "h4": {
        "color": "c5cc3653-2ee1-402a-aba2-7caae1da4f6c",
        "font-family": "Lato",
        "font-size": 5
       },
       "h5": {
        "font-family": "Lato"
       },
       "h6": {
        "font-family": "Lato"
       },
       "h7": {
        "font-family": "Lato"
       },
       "pre": {
        "font-family": "Anonymous Pro",
        "font-size": 4
       }
      },
      "text-base": {
       "font-family": "Merriweather",
       "font-size": 4
      }
     }
    }
   }
  }
 },
 "nbformat": 4,
 "nbformat_minor": 0
}
