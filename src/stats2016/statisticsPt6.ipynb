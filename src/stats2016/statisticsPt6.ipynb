{
 "cells": [
  {
   "cell_type": "markdown",
   "metadata": {
    "nbpresent": {
     "id": "706013c7-3f3f-45bd-a3a4-ee157b101678"
    }
   },
   "source": [
    "## Part 6. Multiple Linear Regression\n",
    "$$ \\def\\pr{\\hbox{Pr}}\n",
    "\\def\\var{\\hbox{var}}\n",
    "\\def\\cov{\\hbox{cov}}\n",
    "\\def\\corr{\\hbox{corr}}\n",
    "\\def\\dmX{\\un{\\mathcal{X}}}\n",
    "\\def\\dmG{\\un{\\mathcal{G}}}\n",
    "\\def\\dmK{\\un{\\mathcal{K}}}\n",
    "\\def\\dmS{\\un{\\mathcal{S}}}\n",
    "\\def\\dmC{\\un{\\mathcal{C}}}\n",
    "\\def\\dmZ{\\un{\\mathcal{Z}}}\n",
    "\\def\\bma{{\\mbox{\\boldmath $\\alpha$}}}\n",
    "\\def\\bmb{{\\mbox{\\boldmath $\\beta$}}}\n",
    "\\def\\bmu{{\\mbox{\\boldmath $\\mu$}}}\n",
    "\\def\\bme{{\\mbox{\\boldmath $\\epsilon$}}}\n",
    "\\def\\bmS{{\\mbox{\\boldmath $\\Sigma$}}}\n",
    "\\def\\bmL{{\\mbox{\\boldmath $\\Lambda$}}}\n",
    "\\def\\bmd{{\\mbox{\\boldmath $\\delta$}}}\n",
    "\\def\\bmD{{\\mbox{\\boldmath $\\Delta$}}}\n",
    "\\def\\bmG{{\\mbox{\\boldmath $\\Gamma$}}}\n",
    "\\def\\bmphi{{\\mbox{\\boldmath $\\phi$}}}\n",
    "\\def\\bmPhi{{\\mbox{\\boldmath $\\Phi$}}}\n",
    "\\def\\bmpsi{{\\mbox{\\boldmath $\\psi$}}}\n",
    "\\def\\bmtheta{{\\mbox{\\boldmath $\\theta$}}}\n",
    "\\def\\eq{\\begin{equation}}\n",
    "\\def\\eeq{\\end{equation}}\n",
    "\\def\\i{{\\bf i}}\n",
    "\\def\\un#1{{\\bf #1}}$$\n",
    "\n",
    "The statistical model for linear regression may be written more\n",
    "generally in the form\n",
    "\n",
    "$$Y(i) = w_o + \\sum_{j=1}^{N} w_jx_j(i) + R(i),\\quad i=1\\dots n,\\tag 1$$\n",
    "\n",
    "relating $n$ measurements of the $N$ independent variables\n",
    "$x_1\\dots x_N$ to a measured dependent variable $Y$ via the parameters\n",
    "$w_0,w_1\\dots w_N$. \n",
    "\n",
    "Equivalently, in vector notation we can write\n",
    "\n",
    "$$Y(i) = \\un w^\\top\\un x(i) + R(i),\\quad i=1\\dots n,$$ \n",
    "\n",
    "where\n",
    "$\\un x=(x_0=1,x_1\\dots x_N)^\\top$ and $\\un w=(w_0,w_1\\dots w_N)^\\top$.\n",
    "\n",
    "The random variables $R(i)$ represent the measurement uncertainty in the\n",
    "realizations $y(i)$ of $Y(i)$. We again assume that they are\n",
    "uncorrelated and normally distributed with zero mean and variance\n",
    "$\\sigma^2$, whereas the values $\\un x(i)$ are, as before, assumed to be\n",
    "exact. Now we wish to determine the best value for the parameter vector\n",
    "$\\un w$."
   ]
  },
  {
   "cell_type": "markdown",
   "metadata": {
    "nbpresent": {
     "id": "95380649-be71-4a61-b128-ae6ccdc20ddd"
    }
   },
   "source": [
    "Introducing the $n\\times (N+1)$ data matrix\n",
    "\n",
    "$$\\dmX = \\pmatrix{\\un x(1)^\\top\\cr\\vdots\\cr \\un x(n)^\\top},$$ \n",
    "\n",
    "we can write \n",
    "\n",
    "$$\\un Y = \\dmX \\un w + \\un R,$$ \n",
    "\n",
    "where\n",
    "$\\un Y = (Y(1)\\dots Y(n))^\\top$, $\\un R=(R(1)\\dots R(n))^\\top$ and, by\n",
    "assumption, \n",
    "\n",
    "$$\\bf\\Sigma_R = \\langle\\un R \\un R^\\top\\rangle = \\sigma^2\\un I.$$\n",
    "\n",
    "The identity matrix $\\un I$ is $n\\times n$."
   ]
  },
  {
   "cell_type": "markdown",
   "metadata": {
    "nbpresent": {
     "id": "24bdf264-4fc1-4b90-96d8-f7db2a7403f6"
    }
   },
   "source": [
    "The goodness of fit function is\n",
    "\n",
    "$$z(\\un w) =\\sum_{i=1}^n\\left[{y(i)-\\un w^\\top\\un x(i)\\over \\sigma}\\right]^2\n",
    "={1\\over\\sigma^2}(\\un y-\\dmX\\un w)^\\top(\\un y-\\dmX\\un w).$$\n",
    "\n",
    "The goodness of fit function is minimized by solving the equations\n",
    "\n",
    "$${\\partial z(\\un w)\\over\\partial w_k}=0,\\quad k=0\\dots N.$$ \n",
    "\n",
    "Using the\n",
    "rules for vector differentiation we obtain the so-called <span>*normal\n",
    "equation*</span>,\n",
    "\n",
    "$$\\dmX^\\top \\un y = (\\dmX^\\top \\dmX) \\un w\\ .$$\n",
    "\n",
    "**Exercise 1:** Show this."
   ]
  },
  {
   "cell_type": "markdown",
   "metadata": {
    "nbpresent": {
     "id": "c3a60782-cccf-4654-b5fb-cdc005f5e0f4"
    }
   },
   "source": [
    "The estimated parameters of the model are obtained by solving for $\\un w$,\n",
    "\n",
    "$$\n",
    "\\hat{\\un w}=(\\un{\\mathcal{X}}^\\top \\un{\\mathcal{X}})^{-1} \\un{\\mathcal{X}}^\\top \\un y =: \\dmX^+ \\un y.\n",
    "$$\n",
    "\n",
    "The matrix\n",
    "\n",
    "$$\n",
    "\\dmX^+ =(\\dmX^\\top \\dmX)^{-1} \\dmX^\\top\\tag 1\n",
    "$$\n",
    "\n",
    "is  the pseudoinverse of the data matrix $\\dmX$.\n",
    "\n",
    "In terms of the singular value decomposition (SVD) of $\\dmX$, namely $\\dmX = \\un U\\bf\\Lambda\\un V^\\top$,\n",
    "the pseudoinverse is $\\dmX^+ = \\un V\\bf\\Lambda^{-1}\\un U^\\top$, generalizing the definition for a symmetric square matrix given in Part 1.\n",
    "\n",
    "**Exercise 2:** Show this.\n"
   ]
  },
  {
   "cell_type": "markdown",
   "metadata": {
    "nbpresent": {
     "id": "f8ad9b22-8a19-4626-a36a-b17e14f4ca73"
    }
   },
   "source": [
    "In order to obtain the uncertainty in the estimate $\\hat{\\un w}$,\n",
    "we can think of  $\\un w$ as a random vector with\n",
    "mean value $\\langle\\un w\\rangle$. Its covariance matrix is then given by\n",
    "\n",
    "$$\\eqalign{\n",
    "\\bf\\Sigma_w &= \\big\\langle(\\un w-\\langle\\un w\\rangle) (\\un w-\\langle\\un w\\rangle)^\\top\\big\\rangle\\cr\n",
    "&\\approx \\big\\langle(\\un w-\\hat{\\un w}) (\\un w-\\hat{\\un w})^\\top\\big\\rangle\\cr\n",
    "&= \\big\\langle(\\un w-\\dmX^+ \\un y) (\\un w-\\dmX^+ \\un y)^\\top\\big\\rangle\\cr\n",
    "&= \\big\\langle(\\un w-\\dmX^+ (\\dmX \\un w+\\un r)) (\\un w-\\dmX^+ (\\dmX \\un w+\\un r))^\\top\\big\\rangle.}\n",
    "$$\n",
    "\n",
    "But from Equation (1) we see that $\\dmX^+ \\dmX=\\un I$, so\n",
    "\n",
    "$$\\eqalign{\n",
    "\\bf\\Sigma_w &\\approx \\langle(-\\dmX^+ \\un r) (-\\dmX^+ \\un r)^\\top\\rangle = \\dmX^+ \\langle\\un r \\un r^\\top\\rangle {\\dmX^+}^\\top\\cr\n",
    "&= \\sigma^2\\dmX^+ {\\dmX^+}^\\top. }\n",
    "$$\n",
    "\n",
    "Again with Equation (1) we have finally\n",
    "\n",
    "$$\n",
    "\\bf\\Sigma_w \\approx \\sigma^2(\\dmX^\\top \\dmX)^{-1}.\n",
    "$$\n"
   ]
  },
  {
   "cell_type": "code",
   "execution_count": 9,
   "metadata": {
    "collapsed": false,
    "nbpresent": {
     "id": "52490837-b07e-4cb4-bc51-3b0d2f2b61d0"
    }
   },
   "outputs": [
    {
     "name": "stdout",
     "output_type": "stream",
     "text": [
      "a = 0.977698, b = 2.066675, s2 = 0.002261\n",
      "\n",
      "[[ 0.97769847  2.06667543]]\n",
      "\n",
      "[[ 0.00079403 -0.00118806]\n",
      " [-0.00118806  0.00237612]]\n"
     ]
    }
   ],
   "source": [
    "%matplotlib inline\n",
    "import numpy as np\n",
    "import matplotlib.pyplot as plt\n",
    "from scipy.stats import linregress, pearsonr\n",
    "\n",
    "a = 1.0\n",
    "b = 2.0\n",
    "n = 200\n",
    "sigma = 0.2\n",
    "x = np.linspace(0,1,n)\n",
    "y = (a + b*x + np.random.normal(scale = sigma, size = n))\n",
    "\n",
    "bb,aa,_,_,s = linregress(x,y)\n",
    "\n",
    "print 'a = %f, b = %f, s2 = %f' % (aa,bb,s**2)\n",
    "print\n",
    "# data matrix\n",
    "X = np.mat(np.zeros((n,2)))\n",
    "X[:,0] = 1\n",
    "X[:,1] = np.mat(x).T\n",
    "# pseudo inverse\n",
    "Xp = (X.T*X).I*X.T\n",
    "# solution\n",
    "y = np.mat(y).T\n",
    "w = Xp*y\n",
    "print w.ravel()\n",
    "print\n",
    "# covariance matrix\n",
    "print (sigma**2)*(X.T*X).I\n"
   ]
  },
  {
   "cell_type": "markdown",
   "metadata": {
    "collapsed": true,
    "nbpresent": {
     "id": "e6942ef2-dc35-4a5c-8a87-4ec1b4749f44"
    }
   },
   "source": [
    "### The Kalman filter\n",
    "\n",
    "Consider the statistical model given by Equation (1):\n",
    "\n",
    "$$\n",
    "Y(i) = \\sum_{j=0}^N w_j x_j(i) + R(i),\\quad i=1\\dots \\nu.\\tag 2\n",
    "$$\n",
    "\n",
    "This model relates the independent variables $\\un x(i) = (1,x_1(i)\\dots x_N(i))^\\top$ to a measured quantity\n",
    "$Y(i)$ via the parameters $\\un w= (w_0,w_1\\dots w_N)^\\top$.\n",
    "The index $\\nu$ is now intended to represent the number of measurements that have been made *so far*.\n",
    "The random variables $R(i)$ represent the measurement uncertainty in the realizations $y(i)$ of $Y(i)$. We again assume\n",
    "that they are uncorrelated and normally distributed with zero mean and unit variance ($\\sigma^2=1$),\n",
    "whereas the values $\\un x(i)$ are exact."
   ]
  },
  {
   "cell_type": "markdown",
   "metadata": {
    "nbpresent": {
     "id": "38061c1d-ece6-4076-bffb-d26fa9de90a8"
    }
   },
   "source": [
    "We wish to determine the best values for parameters $\\un w$.\n",
    "Equation (1) can be written in the terms of a data matrix $\\un{\\mathcal{X}}_\\nu$ as\n",
    "\n",
    "$$\n",
    "\\un Y_\\nu = \\un{\\mathcal{X}}_\\nu \\un w + \\un R_\\nu,\n",
    "$$\n",
    "\n",
    "where\n",
    "\n",
    "$$\n",
    "\\un{\\mathcal{X}}_\\nu = \\pmatrix{\\un x(1)^\\top\\cr\\vdots\\cr\\un x(\\nu)^\\top},\n",
    "$$\n",
    "\n",
    "$\\un Y_\\nu = (Y(1)\\dots Y(\\nu))^\\top$ and $\\un R_\\nu = (R(1)\\dots R(\\nu))^\\top$."
   ]
  },
  {
   "cell_type": "markdown",
   "metadata": {
    "nbpresent": {
     "id": "f5c6323f-88d0-4016-a007-5c8e020d9a53"
    }
   },
   "source": [
    "As was shown above, the best solution in the least squares sense for the parameter vector\n",
    "$\\un w$ is given by\n",
    "\n",
    "$$\n",
    "\\un w(\\nu)=[(\\un{\\mathcal{X}}_\\nu^\\top \\un{\\mathcal{X}}_\\nu)^{-1} \\un{\\mathcal{X}}_\\nu^\\top] \\un y_\\nu  = \\bf\\Sigma(\\nu) \\un{\\mathcal{X}}_\\nu^\\top \\un y_\\nu,\\tag 3\n",
    "$$\n",
    "\n",
    "where the expression in square brackets is the  pseudoinverse of $\\un{\\mathcal{X}}_\\nu$ and where $\\bf\\Sigma(\\nu)$\n",
    "is an estimate of the covariance matrix of $\\un w$,\n",
    "\n",
    "$$\n",
    "\\bf\\Sigma(\\nu) =  (\\un{\\mathcal{X}}_\\nu^\\top \\un{\\mathcal{X}}_\\nu)^{-1}.\\tag 4\n",
    "$$"
   ]
  },
  {
   "cell_type": "markdown",
   "metadata": {
    "nbpresent": {
     "id": "4fd00906-7648-41f1-a81a-e0374fca07a2"
    }
   },
   "source": [
    "Suppose a new observation $(\\un x(\\nu+1),$ $y(\\nu+1))$ becomes available.\n",
    "Now we must solve the least squares problem\n",
    "\n",
    "$$\n",
    "\\pmatrix{\\un Y_\\nu\\cr Y(\\nu+1)} = \\pmatrix{\\un{\\mathcal{X}}_\\nu \\cr \\un x(\\nu+1)^\\top}\\un w +\\un R_{\\nu+1}.\\tag 5\n",
    "$$\n",
    "\n",
    "With Equation (3), the solution is\n",
    "\n",
    "$$\n",
    "\\un w(\\nu+1) = \\bf\\Sigma(\\nu+1)\\pmatrix{\\un{\\mathcal{X}}_\\nu \\cr \\un x(\\nu+1)^\\top}^\\top\\pmatrix{\\un y_\\nu\\cr y(\\nu+1)}.\\tag 6\n",
    "$$\n",
    "\n",
    "Inverting Equation (4) with $\\nu\\to \\nu+1$,  we  obtain a recursive\n",
    "formula for the new covariance matrix $\\bf\\Sigma(\\nu+1)$:\n",
    "\n",
    "$$\n",
    "\\bf\\Sigma(\\nu+1)^{-1} = \\pmatrix{\\un{\\mathcal{X}}_\\nu \\cr \\un x(\\nu+1)^\\top}^\\top\\pmatrix{\\un{\\mathcal{X}}_\\nu \\cr \\un x(\\nu+1)^\\top}\n",
    "=\\un{\\mathcal{X}}_\\nu^\\top\\un{\\mathcal{X}}_\\nu + \\un x(\\nu+1)\\un x(\\nu+1^\\top)\n",
    "$$\n",
    "\n",
    "or\n",
    "\n",
    "$$\n",
    "\\bf\\Sigma(\\nu+1)^{-1} = \\bf\\Sigma(\\nu)^{-1} + \\un x(\\nu+1)\\un x(\\nu+1)^\\top.\\tag 7\n",
    "$$"
   ]
  },
  {
   "cell_type": "markdown",
   "metadata": {
    "nbpresent": {
     "id": "e0e5a3d2-b9a7-4f35-ba49-1509a435c6f3"
    }
   },
   "source": [
    "To obtain a similar recursive formula for $\\un w(\\nu+1)$ we multiply Equation (6) out, giving\n",
    "\n",
    "$$\n",
    "\\un w(\\nu+1) = \\bf\\Sigma(\\nu+1)(\\un{\\mathcal{X}}_\\nu^\\top\\un y_\\nu + \\un x(\\nu+1) y(\\nu+1)),\n",
    "$$\n",
    "\n",
    "and replace $\\un y_\\nu$ with $\\un{\\mathcal{X}}_\\nu\\un w(\\nu)$ to obtain\n",
    "\n",
    "$$\n",
    "\\un w(\\nu+1) = \\bf\\Sigma(\\nu+1)\\Big(\\un{\\mathcal{X}}_\\nu^\\top\\un{\\mathcal{X}}_\\nu\\un w(\\nu) + \\un x(\\nu+1) y(\\nu+1)\\Big).\n",
    "$$\n",
    "\n",
    "Using Equations (4) and (7),\n",
    "\n",
    "$$\\eqalign{\n",
    "&\\un w(\\nu+1)  = \\bf\\Sigma(\\nu+1)\\Big(\\bf\\Sigma(\\nu)^{-1}\\un w(\\nu) + \\un x(\\nu+1) y(\\nu+1)\\Big)\\cr\n",
    "& = \\bf\\Sigma(\\nu+1)\\Big[\\bf\\Sigma(\\nu+1)^{-1}\\un w(\\nu)-\\un x(\\nu+1)\\un x(\\nu+1)^\\top\\un w(\\nu)\n",
    "+ \\un x(\\nu+1) y(\\nu+1)\\Big].}\n",
    "$$\n",
    "\n",
    "This simplifies to\n",
    "\n",
    "$$\n",
    "\\un w(\\nu+1) = \\un w(\\nu) + \\un K(\\nu+1)\\Big[y(\\nu+1)-\\un x(\\nu+1)^\\top\\un w(\\nu)\\Big],\\tag 8\n",
    "$$\n",
    "\n",
    "where the *Kalman gain* $\\un K(\\nu+1)$ is given by\n",
    "\n",
    "$$\n",
    "\\un K(\\nu+1) = \\bf\\Sigma(\\nu+1)\\un x(\\nu+1).\\tag 9\n",
    "$$"
   ]
  },
  {
   "cell_type": "markdown",
   "metadata": {
    "nbpresent": {
     "id": "6292d5ca-4c3e-4914-9ff7-7d319fad35f5"
    }
   },
   "source": [
    "Equations (7)--(9) define a so-called *Kalman\n",
    "filter* for the least squares problem of Equation (1). For observations\n",
    "\n",
    "$$\n",
    "\\un x(\\nu+1)\\quad \\hbox{and}\\quad y(\\nu+1)\n",
    "$$\n",
    "\n",
    "the *system response* $\\un x(\\nu+1)^\\top\\un w(\\nu)$ is calculated  and compared in Equation (8)\n",
    "with the measurement $y(\\nu+1)$. Then the *innovation*, that\n",
    "is to say the difference between the measurement and system\n",
    "response, is multiplied by the Kalman gain $\\un K(\\nu+1)$ determined by Equations\n",
    "(9) and (7) and the old estimate  $\\un w(\\nu)$\n",
    "for the parameter vector $\\un w$ is corrected to the new value $\\un w(\\nu+1)$.\n"
   ]
  },
  {
   "cell_type": "code",
   "execution_count": null,
   "metadata": {
    "collapsed": true,
    "nbpresent": {
     "id": "3b504654-e835-438b-84dd-109f9595050a"
    }
   },
   "outputs": [],
   "source": []
  }
 ],
 "metadata": {
  "anaconda-cloud": {},
  "kernelspec": {
   "display_name": "Python [Root]",
   "language": "python",
   "name": "Python [Root]"
  },
  "language_info": {
   "codemirror_mode": {
    "name": "ipython",
    "version": 2
   },
   "file_extension": ".py",
   "mimetype": "text/x-python",
   "name": "python",
   "nbconvert_exporter": "python",
   "pygments_lexer": "ipython2",
   "version": "2.7.12"
  },
  "nbpresent": {
   "slides": {
    "0251288a-57df-4aee-9474-394675668bdb": {
     "id": "0251288a-57df-4aee-9474-394675668bdb",
     "prev": "73535fca-4e0f-4f64-8235-dd83e24556ad",
     "regions": {
      "8e11e60c-24f4-4f39-bee4-e0ef1e59e941": {
       "attrs": {
        "height": 0.8,
        "width": 0.8,
        "x": 0.1,
        "y": 0.1
       },
       "content": {
        "cell": "52490837-b07e-4cb4-bc51-3b0d2f2b61d0",
        "part": "whole"
       },
       "id": "8e11e60c-24f4-4f39-bee4-e0ef1e59e941"
      }
     }
    },
    "11ea5875-6184-446c-90aa-b0fe6961c65b": {
     "id": "11ea5875-6184-446c-90aa-b0fe6961c65b",
     "prev": "f52b0c03-aa3d-45e3-b50d-f8ceb79d60b7",
     "regions": {
      "45ea74a9-4ef6-4e26-be96-6e91d5b00589": {
       "attrs": {
        "height": 0.8,
        "width": 0.8,
        "x": 0.1,
        "y": 0.1
       },
       "content": {
        "cell": "e6942ef2-dc35-4a5c-8a87-4ec1b4749f44",
        "part": "whole"
       },
       "id": "45ea74a9-4ef6-4e26-be96-6e91d5b00589"
      }
     }
    },
    "36bb24f4-970c-4259-8265-6a4b682ed13a": {
     "id": "36bb24f4-970c-4259-8265-6a4b682ed13a",
     "prev": "70b9f4c8-16f1-4553-bde2-d8acd334476f",
     "regions": {
      "5bac8cfc-8852-4e83-894c-8f7fa4985cb3": {
       "attrs": {
        "height": 0.8,
        "width": 0.8,
        "x": 0.1,
        "y": 0.1
       },
       "content": {
        "cell": "95380649-be71-4a61-b128-ae6ccdc20ddd",
        "part": "whole"
       },
       "id": "5bac8cfc-8852-4e83-894c-8f7fa4985cb3"
      }
     }
    },
    "4b096997-f0a3-42dc-b728-0778acbd37eb": {
     "id": "4b096997-f0a3-42dc-b728-0778acbd37eb",
     "prev": "6ff9e696-3df8-4bf3-b8a2-43b159284a47",
     "regions": {
      "88a63078-0d02-4381-b700-d9ab21fd9564": {
       "attrs": {
        "height": 0.8,
        "width": 0.8,
        "x": 0.1,
        "y": 0.1
       },
       "content": {
        "cell": "6292d5ca-4c3e-4914-9ff7-7d319fad35f5",
        "part": "whole"
       },
       "id": "88a63078-0d02-4381-b700-d9ab21fd9564"
      }
     }
    },
    "55f663ab-d4bf-4358-8730-9c64f35888b7": {
     "id": "55f663ab-d4bf-4358-8730-9c64f35888b7",
     "prev": "36bb24f4-970c-4259-8265-6a4b682ed13a",
     "regions": {
      "241d5775-ba17-477e-8c48-ae359e20bc85": {
       "attrs": {
        "height": 0.8,
        "width": 0.8,
        "x": 0.1,
        "y": 0.1
       },
       "content": {
        "cell": "24bdf264-4fc1-4b90-96d8-f7db2a7403f6",
        "part": "whole"
       },
       "id": "241d5775-ba17-477e-8c48-ae359e20bc85"
      }
     }
    },
    "6ff9e696-3df8-4bf3-b8a2-43b159284a47": {
     "id": "6ff9e696-3df8-4bf3-b8a2-43b159284a47",
     "prev": "d95faef7-83b8-45da-8c74-8c0bef43cc59",
     "regions": {
      "a4403932-e5bd-48ad-80e7-1ab60bbe098c": {
       "attrs": {
        "height": 0.8,
        "width": 0.8,
        "x": 0.1,
        "y": 0.1
       },
       "content": {
        "cell": "e0e5a3d2-b9a7-4f35-ba49-1509a435c6f3",
        "part": "whole"
       },
       "id": "a4403932-e5bd-48ad-80e7-1ab60bbe098c"
      }
     }
    },
    "70b9f4c8-16f1-4553-bde2-d8acd334476f": {
     "id": "70b9f4c8-16f1-4553-bde2-d8acd334476f",
     "prev": null,
     "regions": {
      "e18042e1-1eb3-472d-8228-18aa1e73847f": {
       "attrs": {
        "height": 0.8,
        "width": 0.8,
        "x": 0.1,
        "y": 0.1
       },
       "content": {
        "cell": "706013c7-3f3f-45bd-a3a4-ee157b101678",
        "part": "whole"
       },
       "id": "e18042e1-1eb3-472d-8228-18aa1e73847f"
      }
     }
    },
    "73535fca-4e0f-4f64-8235-dd83e24556ad": {
     "id": "73535fca-4e0f-4f64-8235-dd83e24556ad",
     "prev": "cd72facc-1f1f-4e11-a522-e5e5fcbeab6d",
     "regions": {
      "94f0cf41-f382-4227-b724-8484bc016ac1": {
       "attrs": {
        "height": 0.8,
        "width": 0.8,
        "x": 0.1,
        "y": 0.1
       },
       "content": {
        "cell": "f8ad9b22-8a19-4626-a36a-b17e14f4ca73",
        "part": "whole"
       },
       "id": "94f0cf41-f382-4227-b724-8484bc016ac1"
      }
     }
    },
    "93a9792e-c5fa-4520-b9cf-a7a3005f0989": {
     "id": "93a9792e-c5fa-4520-b9cf-a7a3005f0989",
     "prev": "4b096997-f0a3-42dc-b728-0778acbd37eb",
     "regions": {
      "2ed123b8-54c6-4e05-82b2-6f36ecc9620e": {
       "attrs": {
        "height": 0.8,
        "width": 0.8,
        "x": 0.1,
        "y": 0.1
       },
       "content": {
        "cell": "3b504654-e835-438b-84dd-109f9595050a",
        "part": "whole"
       },
       "id": "2ed123b8-54c6-4e05-82b2-6f36ecc9620e"
      }
     }
    },
    "a7f42047-0859-4e90-aa72-d1a0bbc0a6d6": {
     "id": "a7f42047-0859-4e90-aa72-d1a0bbc0a6d6",
     "prev": "e5384bed-a74d-4666-bbbb-a06e1ea925a1",
     "regions": {
      "8f69a1e3-1c0c-412f-837d-8de6ec2681a4": {
       "attrs": {
        "height": 0.8,
        "width": 0.8,
        "x": 0.1,
        "y": 0.1
       },
       "content": {
        "cell": "f5c6323f-88d0-4016-a007-5c8e020d9a53",
        "part": "whole"
       },
       "id": "8f69a1e3-1c0c-412f-837d-8de6ec2681a4"
      }
     }
    },
    "cd72facc-1f1f-4e11-a522-e5e5fcbeab6d": {
     "id": "cd72facc-1f1f-4e11-a522-e5e5fcbeab6d",
     "prev": "55f663ab-d4bf-4358-8730-9c64f35888b7",
     "regions": {
      "bf1a2840-bd51-4b66-9d82-e53afc0c88a9": {
       "attrs": {
        "height": 0.8,
        "width": 0.8,
        "x": 0.1,
        "y": 0.1
       },
       "content": {
        "cell": "c3a60782-cccf-4654-b5fb-cdc005f5e0f4",
        "part": "whole"
       },
       "id": "bf1a2840-bd51-4b66-9d82-e53afc0c88a9"
      }
     }
    },
    "d95faef7-83b8-45da-8c74-8c0bef43cc59": {
     "id": "d95faef7-83b8-45da-8c74-8c0bef43cc59",
     "prev": "a7f42047-0859-4e90-aa72-d1a0bbc0a6d6",
     "regions": {
      "ca44eb2c-a412-458b-b2a9-1137255a7f6c": {
       "attrs": {
        "height": 0.8,
        "width": 0.8,
        "x": 0.1,
        "y": 0.1
       },
       "content": {
        "cell": "4fd00906-7648-41f1-a81a-e0374fca07a2",
        "part": "whole"
       },
       "id": "ca44eb2c-a412-458b-b2a9-1137255a7f6c"
      }
     }
    },
    "e5384bed-a74d-4666-bbbb-a06e1ea925a1": {
     "id": "e5384bed-a74d-4666-bbbb-a06e1ea925a1",
     "prev": "11ea5875-6184-446c-90aa-b0fe6961c65b",
     "regions": {
      "0b79e24e-c165-470b-944f-54adccd27d64": {
       "attrs": {
        "height": 0.8,
        "width": 0.8,
        "x": 0.1,
        "y": 0.1
       },
       "content": {
        "cell": "38061c1d-ece6-4076-bffb-d26fa9de90a8",
        "part": "whole"
       },
       "id": "0b79e24e-c165-470b-944f-54adccd27d64"
      }
     }
    },
    "f52b0c03-aa3d-45e3-b50d-f8ceb79d60b7": {
     "id": "f52b0c03-aa3d-45e3-b50d-f8ceb79d60b7",
     "prev": "0251288a-57df-4aee-9474-394675668bdb",
     "regions": {
      "52a7dbad-1eab-4060-bec0-d692d7bcbb0e": {
       "attrs": {
        "height": 0.8,
        "width": 0.8,
        "x": 0.1,
        "y": 0.1
       },
       "content": {
        "cell": "6688cd07-7e2f-44d1-a77a-94f3e5408b01",
        "part": "whole"
       },
       "id": "52a7dbad-1eab-4060-bec0-d692d7bcbb0e"
      }
     }
    }
   },
   "themes": {}
  }
 },
 "nbformat": 4,
 "nbformat_minor": 0
}
