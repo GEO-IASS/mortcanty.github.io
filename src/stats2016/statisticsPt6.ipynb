{
 "cells": [
  {
   "cell_type": "markdown",
   "metadata": {
    "nbpresent": {
     "id": "706013c7-3f3f-45bd-a3a4-ee157b101678"
    }
   },
   "source": [
    "## Part 6. Multiple Linear Regression\n",
    "$$ \\def\\pr{\\hbox{Pr}}\n",
    "\\def\\var{\\hbox{var}}\n",
    "\\def\\cov{\\hbox{cov}}\n",
    "\\def\\corr{\\hbox{corr}}\n",
    "\\def\\dmX{\\un{\\mathcal{X}}}\n",
    "\\def\\dmG{\\un{\\mathcal{G}}}\n",
    "\\def\\dmK{\\un{\\mathcal{K}}}\n",
    "\\def\\dmS{\\un{\\mathcal{S}}}\n",
    "\\def\\dmC{\\un{\\mathcal{C}}}\n",
    "\\def\\dmZ{\\un{\\mathcal{Z}}}\n",
    "\\def\\bma{{\\mbox{\\boldmath $\\alpha$}}}\n",
    "\\def\\bmb{{\\mbox{\\boldmath $\\beta$}}}\n",
    "\\def\\bmu{{\\mbox{\\boldmath $\\mu$}}}\n",
    "\\def\\bme{{\\mbox{\\boldmath $\\epsilon$}}}\n",
    "\\def\\bmS{{\\mbox{\\boldmath $\\Sigma$}}}\n",
    "\\def\\bmL{{\\mbox{\\boldmath $\\Lambda$}}}\n",
    "\\def\\bmd{{\\mbox{\\boldmath $\\delta$}}}\n",
    "\\def\\bmD{{\\mbox{\\boldmath $\\Delta$}}}\n",
    "\\def\\bmG{{\\mbox{\\boldmath $\\Gamma$}}}\n",
    "\\def\\bmphi{{\\mbox{\\boldmath $\\phi$}}}\n",
    "\\def\\bmPhi{{\\mbox{\\boldmath $\\Phi$}}}\n",
    "\\def\\bmpsi{{\\mbox{\\boldmath $\\psi$}}}\n",
    "\\def\\bmtheta{{\\mbox{\\boldmath $\\theta$}}}\n",
    "\\def\\eq{\\begin{equation}}\n",
    "\\def\\eeq{\\end{equation}}\n",
    "\\def\\i{{\\bf i}}\n",
    "\\def\\un#1{{\\bf #1}}$$\n",
    "\n",
    "The statistical model for linear regression may be written more\n",
    "generally in the form\n",
    "\n",
    "$$Y(i) = w_o + \\sum_{j=1}^{N} w_jx_j(i) + R(i),\\quad i=1\\dots n,\\tag 1$$\n",
    "\n",
    "relating $n$ measurements of the $N$ independent variables\n",
    "$x_1\\dots x_N$ to a measured dependent variable $Y$ via the parameters\n",
    "$w_0,w_1\\dots w_N$. \n",
    "\n"
   ]
  },
  {
   "cell_type": "markdown",
   "metadata": {
    "nbpresent": {
     "id": "36eeee84-673e-48c8-b67b-bbc6311e10b8"
    }
   },
   "source": [
    "Equivalently, in vector notation we can write\n",
    "\n",
    "$$Y(i) = \\un w^\\top\\un x(i) + R(i),\\quad i=1\\dots n,$$ \n",
    "\n",
    "where\n",
    "$\\un x=(x_0=1,x_1\\dots x_N)^\\top$ and $\\un w=(w_0,w_1\\dots w_N)^\\top$.\n",
    "\n",
    "The random variables $R(i)$ represent the measurement uncertainty in the\n",
    "realizations $y(i)$ of $Y(i)$. We again assume that they are\n",
    "uncorrelated and normally distributed with zero mean and variance\n",
    "$\\sigma^2$, whereas the values $\\un x(i)$ are, as before, assumed to be\n",
    "exact. Now we wish to determine the best value for the parameter vector\n",
    "$\\un w$."
   ]
  },
  {
   "cell_type": "markdown",
   "metadata": {
    "nbpresent": {
     "id": "95380649-be71-4a61-b128-ae6ccdc20ddd"
    }
   },
   "source": [
    "Introducing the $n\\times (N+1)$ data matrix\n",
    "\n",
    "$$\\dmX = \\pmatrix{\\un x(1)^\\top\\cr\\vdots\\cr \\un x(n)^\\top},$$ \n",
    "\n",
    "we can write \n",
    "\n",
    "$$\\un Y = \\dmX \\un w + \\un R,$$ \n",
    "\n",
    "where\n",
    "$\\un Y = (Y(1)\\dots Y(n))^\\top$, $\\un R=(R(1)\\dots R(n))^\\top$ and, by\n",
    "assumption, \n",
    "\n",
    "$$\\bf\\Sigma_R = \\langle\\un R \\un R^\\top\\rangle = \\sigma^2\\un I.$$\n",
    "\n",
    "The identity matrix $\\un I$ is $n\\times n$."
   ]
  },
  {
   "cell_type": "markdown",
   "metadata": {
    "nbpresent": {
     "id": "24bdf264-4fc1-4b90-96d8-f7db2a7403f6"
    }
   },
   "source": [
    "The goodness of fit function is\n",
    "\n",
    "$$z(\\un w) =\\sum_{i=1}^n\\left[{y(i)-\\un w^\\top\\un x(i)\\over \\sigma}\\right]^2\n",
    "={1\\over\\sigma^2}(\\un y-\\dmX\\un w)^\\top(\\un y-\\dmX\\un w).$$\n",
    "\n",
    "The goodness of fit function is minimized by solving the equations\n",
    "\n",
    "$${\\partial z(\\un w)\\over\\partial w_k}=0,\\quad k=0\\dots N.$$ \n",
    "\n",
    "Expanding:\n",
    "\n",
    "$$\n",
    "z(\\un w) = {1\\over\\sigma^2}(\\un y^\\top\\un y-\\un y^\\top\\dmX\\un w-\\un w^\\top\\dmX\\un y+\\un w^\\top\\dmX^\\top\\dmX\\un w),\n",
    "$$\n",
    "\n",
    "so that, using the\n",
    "rules for vector differentiation, \n",
    "\n",
    "$$\n",
    "{\\partial z(\\un w)\\over \\partial\\un w} = 0 =\n",
    "{1\\over\\sigma^2}(-\\dmX^\\top\\un y -\\dmX^\\top \\un y + 2\\dmX^\\top\\dmX\\un w)\n",
    "$$\n",
    "\n",
    "from which we obtain the so-called <span>*normal\n",
    "equation*</span>,\n",
    "\n",
    "$$\\dmX^\\top \\un y = (\\dmX^\\top \\dmX) \\un w\\ .$$\n"
   ]
  },
  {
   "cell_type": "markdown",
   "metadata": {
    "nbpresent": {
     "id": "c3a60782-cccf-4654-b5fb-cdc005f5e0f4"
    }
   },
   "source": [
    "The estimated parameters of the model are obtained by solving for $\\un w$,\n",
    "\n",
    "$$\n",
    "\\hat{\\un w}=(\\un{\\mathcal{X}}^\\top \\un{\\mathcal{X}})^{-1} \\un{\\mathcal{X}}^\\top \\un y =: \\dmX^+ \\un y.\n",
    "$$\n",
    "\n",
    "The matrix\n",
    "\n",
    "$$\n",
    "\\dmX^+ =(\\dmX^\\top \\dmX)^{-1} \\dmX^\\top\\tag 1\n",
    "$$\n",
    "\n",
    "is  the pseudoinverse of the data matrix $\\dmX$.\n"
   ]
  },
  {
   "cell_type": "markdown",
   "metadata": {
    "nbpresent": {
     "id": "f8ad9b22-8a19-4626-a36a-b17e14f4ca73"
    }
   },
   "source": [
    "In order to obtain the uncertainty in the estimate $\\hat{\\un w}$,\n",
    "we can think of  $\\un w$ as a random vector with\n",
    "mean value $\\langle\\un w\\rangle$. Its covariance matrix is then given by\n",
    "\n",
    "$$\\eqalign{\n",
    "\\bf\\Sigma_w &= \\big\\langle(\\un w-\\langle\\un w\\rangle) (\\un w-\\langle\\un w\\rangle)^\\top\\big\\rangle\\cr\n",
    "&\\approx \\big\\langle(\\un w-\\hat{\\un w}) (\\un w-\\hat{\\un w})^\\top\\big\\rangle\\cr\n",
    "&= \\big\\langle(\\un w-\\dmX^+ \\un y) (\\un w-\\dmX^+ \\un y)^\\top\\big\\rangle\\cr\n",
    "&= \\big\\langle(\\un w-\\dmX^+ (\\dmX \\un w+\\un r)) (\\un w-\\dmX^+ (\\dmX \\un w+\\un r))^\\top\\big\\rangle.}\n",
    "$$\n",
    "\n",
    "But from Equation (1) we see that $\\dmX^+ \\dmX=\\un I$, so\n",
    "\n",
    "$$\\eqalign{\n",
    "\\bf\\Sigma_w &\\approx \\langle(-\\dmX^+ \\un r) (-\\dmX^+ \\un r)^\\top\\rangle = \\dmX^+ \\langle\\un r \\un r^\\top\\rangle {\\dmX^+}^\\top\\cr\n",
    "&= \\sigma^2\\dmX^+ {\\dmX^+}^\\top. }\n",
    "$$\n",
    "\n",
    "Again with Equation (1) we have finally\n",
    "\n",
    "$$\n",
    "\\bf\\Sigma_w \\approx \\sigma^2(\\dmX^\\top \\dmX)^{-1} \\dmX^\\top \\dmX((\\dmX^\\top\\dmX)^{-1})^\\top =    \\sigma^2(\\dmX^\\top \\dmX)^{-1}.\n",
    "$$\n"
   ]
  },
  {
   "cell_type": "code",
   "execution_count": null,
   "metadata": {
    "collapsed": false,
    "nbpresent": {
     "id": "52490837-b07e-4cb4-bc51-3b0d2f2b61d0"
    }
   },
   "outputs": [],
   "source": [
    "%matplotlib inline\n",
    "import numpy as np\n",
    "import matplotlib.pyplot as plt\n",
    "from scipy.stats import linregress, pearsonr\n",
    "\n",
    "a = 1.0\n",
    "b = 2.0\n",
    "n = 200\n",
    "sigma = 0.2\n",
    "x = np.linspace(0,1,n)\n",
    "y = (a + b*x + np.random.normal(scale = sigma, size = n))\n",
    "\n",
    "bb,aa,_,_,s = linregress(x,y)\n",
    "\n",
    "print 'a = %f, b = %f, s2 = %f' % (aa,bb,s**2)\n",
    "print\n",
    "# data matrix\n",
    "X = np.mat(np.zeros((n,2)))\n",
    "X[:,0] = 1\n",
    "X[:,1] = np.mat(x).T\n",
    "# pseudo inverse\n",
    "Xp = (X.T*X).I*X.T\n",
    "# solution\n",
    "y = np.mat(y).T\n",
    "w = Xp*y\n",
    "print w.ravel()\n",
    "print\n",
    "# covariance matrix\n",
    "print (sigma**2)*(X.T*X).I\n"
   ]
  },
  {
   "cell_type": "markdown",
   "metadata": {
    "collapsed": true,
    "nbpresent": {
     "id": "e6942ef2-dc35-4a5c-8a87-4ec1b4749f44"
    }
   },
   "source": [
    "### The Kalman filter\n",
    "\n",
    "Consider the statistical model given by Equation (1):\n",
    "\n",
    "$$\n",
    "Y(i) = \\sum_{j=0}^N w_j x_j(i) + R(i),\\quad i=1\\dots \\nu.\\tag 2\n",
    "$$\n",
    "\n",
    "This model relates the independent variables $\\un x(i) = (1,x_1(i)\\dots x_N(i))^\\top$ to a measured quantity\n",
    "$Y(i)$ via the parameters $\\un w= (w_0,w_1\\dots w_N)^\\top$.\n",
    "The index $\\nu$ is now intended to represent the number of measurements that have been made *so far*.\n",
    "The random variables $R(i)$ represent the measurement uncertainty in the realizations $y(i)$ of $Y(i)$. We again assume\n",
    "that they are uncorrelated and normally distributed with zero mean and unit variance ($\\sigma^2=1$),\n",
    "whereas the values $\\un x(i)$ are exact."
   ]
  },
  {
   "cell_type": "markdown",
   "metadata": {
    "nbpresent": {
     "id": "38061c1d-ece6-4076-bffb-d26fa9de90a8"
    }
   },
   "source": [
    "We wish to determine the best values for parameters $\\un w$.\n",
    "Equation (1) can be written in the terms of a data matrix $\\un{\\mathcal{X}}_\\nu$ as\n",
    "\n",
    "$$\n",
    "\\un Y_\\nu = \\un{\\mathcal{X}}_\\nu \\un w + \\un R_\\nu,\n",
    "$$\n",
    "\n",
    "where\n",
    "\n",
    "$$\n",
    "\\un{\\mathcal{X}}_\\nu = \\pmatrix{\\un x(1)^\\top\\cr\\vdots\\cr\\un x(\\nu)^\\top},\n",
    "$$\n",
    "\n",
    "$\\un Y_\\nu = (Y(1)\\dots Y(\\nu))^\\top$ and $\\un R_\\nu = (R(1)\\dots R(\\nu))^\\top$."
   ]
  },
  {
   "cell_type": "markdown",
   "metadata": {
    "nbpresent": {
     "id": "f5c6323f-88d0-4016-a007-5c8e020d9a53"
    }
   },
   "source": [
    "As was shown above, the best solution in the least squares sense for the parameter vector\n",
    "$\\un w$ is given by\n",
    "\n",
    "$$\n",
    "\\un w(\\nu)=[(\\un{\\mathcal{X}}_\\nu^\\top \\un{\\mathcal{X}}_\\nu)^{-1} \\un{\\mathcal{X}}_\\nu^\\top] \\un y_\\nu  = \\bf\\Sigma(\\nu) \\un{\\mathcal{X}}_\\nu^\\top \\un y_\\nu,\\tag 3\n",
    "$$\n",
    "\n",
    "where the expression in square brackets is the  pseudoinverse of $\\un{\\mathcal{X}}_\\nu$ and where $\\bf\\Sigma(\\nu)$\n",
    "is an estimate of the covariance matrix of $\\un w$,\n",
    "\n",
    "$$\n",
    "\\bf\\Sigma(\\nu) =  (\\un{\\mathcal{X}}_\\nu^\\top \\un{\\mathcal{X}}_\\nu)^{-1}.\\tag 4\n",
    "$$"
   ]
  },
  {
   "cell_type": "markdown",
   "metadata": {
    "nbpresent": {
     "id": "4fd00906-7648-41f1-a81a-e0374fca07a2"
    }
   },
   "source": [
    "Suppose a new observation $(\\un x(\\nu+1),$ $y(\\nu+1))$ becomes available.\n",
    "Now we must solve the least squares problem\n",
    "\n",
    "$$\n",
    "\\pmatrix{\\un Y_\\nu\\cr Y(\\nu+1)} = \\pmatrix{\\un{\\mathcal{X}}_\\nu \\cr \\un x(\\nu+1)^\\top}\\un w +\\un R_{\\nu+1}.\\tag 5\n",
    "$$\n",
    "\n",
    "With Equation (3), the solution is\n",
    "\n",
    "$$\n",
    "\\un w(\\nu+1) = \\bf\\Sigma(\\nu+1)\\pmatrix{\\un{\\mathcal{X}}_\\nu \\cr \\un x(\\nu+1)^\\top}^\\top\\pmatrix{\\un y_\\nu\\cr y(\\nu+1)}.\\tag 6\n",
    "$$\n",
    "\n",
    "Inverting Equation (4) with $\\nu\\to \\nu+1$,  we  obtain a recursive\n",
    "formula for the new covariance matrix $\\bf\\Sigma(\\nu+1)$:\n",
    "\n",
    "$$\n",
    "\\bf\\Sigma(\\nu+1)^{-1} = \\pmatrix{\\un{\\mathcal{X}}_\\nu \\cr \\un x(\\nu+1)^\\top}^\\top\\pmatrix{\\un{\\mathcal{X}}_\\nu \\cr \\un x(\\nu+1)^\\top}\n",
    "=\\un{\\mathcal{X}}_\\nu^\\top\\un{\\mathcal{X}}_\\nu + \\un x(\\nu+1)\\un x(\\nu+1^\\top)\n",
    "$$\n",
    "\n",
    "or\n",
    "\n",
    "$$\n",
    "\\bf\\Sigma(\\nu+1)^{-1} = \\bf\\Sigma(\\nu)^{-1} + \\un x(\\nu+1)\\un x(\\nu+1)^\\top.\\tag 7\n",
    "$$"
   ]
  },
  {
   "cell_type": "markdown",
   "metadata": {
    "nbpresent": {
     "id": "e0e5a3d2-b9a7-4f35-ba49-1509a435c6f3"
    }
   },
   "source": [
    "To obtain a similar recursive formula for $\\un w(\\nu+1)$ we multiply Equation (6) out, giving\n",
    "\n",
    "$$\n",
    "\\un w(\\nu+1) = \\bf\\Sigma(\\nu+1)(\\un{\\mathcal{X}}_\\nu^\\top\\un y_\\nu + \\un x(\\nu+1) y(\\nu+1)),\n",
    "$$\n",
    "\n",
    "and replace $\\un y_\\nu$ with $\\un{\\mathcal{X}}_\\nu\\un w(\\nu)$ to obtain\n",
    "\n",
    "$$\n",
    "\\un w(\\nu+1) = \\bf\\Sigma(\\nu+1)\\Big(\\un{\\mathcal{X}}_\\nu^\\top\\un{\\mathcal{X}}_\\nu\\un w(\\nu) + \\un x(\\nu+1) y(\\nu+1)\\Big).\n",
    "$$\n",
    "\n",
    "Using Equations (4) and (7),\n",
    "\n",
    "$$\\eqalign{\n",
    "&\\un w(\\nu+1)  = \\bf\\Sigma(\\nu+1)\\Big(\\bf\\Sigma(\\nu)^{-1}\\un w(\\nu) + \\un x(\\nu+1) y(\\nu+1)\\Big)\\cr\n",
    "& = \\bf\\Sigma(\\nu+1)\\Big[\\bf\\Sigma(\\nu+1)^{-1}\\un w(\\nu)-\\un x(\\nu+1)\\un x(\\nu+1)^\\top\\un w(\\nu)\n",
    "+ \\un x(\\nu+1) y(\\nu+1)\\Big].}\n",
    "$$\n",
    "\n",
    "This simplifies to\n",
    "\n",
    "$$\n",
    "\\un w(\\nu+1) = \\un w(\\nu) + \\un K(\\nu+1)\\Big[y(\\nu+1)-\\un x(\\nu+1)^\\top\\un w(\\nu)\\Big],\\tag 8\n",
    "$$\n",
    "\n",
    "where the *Kalman gain* $\\un K(\\nu+1)$ is given by\n",
    "\n",
    "$$\n",
    "\\un K(\\nu+1) = \\bf\\Sigma(\\nu+1)\\un x(\\nu+1).\\tag 9\n",
    "$$"
   ]
  },
  {
   "cell_type": "markdown",
   "metadata": {
    "nbpresent": {
     "id": "6292d5ca-4c3e-4914-9ff7-7d319fad35f5"
    }
   },
   "source": [
    "Equations (7)--(9) define a so-called *Kalman\n",
    "filter* for the least squares problem of Equation (1). For observations\n",
    "\n",
    "$$\n",
    "\\un x(\\nu+1)\\quad \\hbox{and}\\quad y(\\nu+1)\n",
    "$$\n",
    "\n",
    "the *system response* $\\un x(\\nu+1)^\\top\\un w(\\nu)$ is calculated  and compared in Equation (8)\n",
    "with the measurement $y(\\nu+1)$. Then the *innovation*, that\n",
    "is to say the difference between the measurement and system\n",
    "response, is multiplied by the Kalman gain $\\un K(\\nu+1)$ determined by Equations\n",
    "(9) and (7) and the old estimate  $\\un w(\\nu)$\n",
    "for the parameter vector $\\un w$ is corrected to the new value $\\un w(\\nu+1)$.\n"
   ]
  },
  {
   "cell_type": "code",
   "execution_count": null,
   "metadata": {
    "collapsed": true,
    "nbpresent": {
     "id": "3b504654-e835-438b-84dd-109f9595050a"
    }
   },
   "outputs": [],
   "source": []
  }
 ],
 "metadata": {
  "anaconda-cloud": {},
  "kernelspec": {
   "display_name": "Python [Root]",
   "language": "python",
   "name": "Python [Root]"
  },
  "language_info": {
   "codemirror_mode": {
    "name": "ipython",
    "version": 2
   },
   "file_extension": ".py",
   "mimetype": "text/x-python",
   "name": "python",
   "nbconvert_exporter": "python",
   "pygments_lexer": "ipython2",
   "version": "2.7.12"
  },
  "nbpresent": {
   "slides": {
    "1adcde45-8bdb-438c-8ed3-caca9aff75d8": {
     "id": "1adcde45-8bdb-438c-8ed3-caca9aff75d8",
     "prev": "39ee2134-49f2-45fd-91b2-64fdaa799ca2",
     "regions": {
      "99a5847c-e726-4eb9-aea6-5ec048fdec93": {
       "attrs": {
        "height": 0.8,
        "width": 0.8,
        "x": 0.1,
        "y": 0.1
       },
       "content": {
        "cell": "36eeee84-673e-48c8-b67b-bbc6311e10b8",
        "part": "whole"
       },
       "id": "99a5847c-e726-4eb9-aea6-5ec048fdec93"
      }
     }
    },
    "269cdd1d-e90f-4861-9596-bb32d304f754": {
     "id": "269cdd1d-e90f-4861-9596-bb32d304f754",
     "prev": "65cfe47c-8a45-480b-8f99-46423b5141fa",
     "regions": {
      "4155a1d9-e606-4751-ac37-f9064de77e89": {
       "attrs": {
        "height": 0.8,
        "width": 0.8,
        "x": 0.1,
        "y": 0.1
       },
       "content": {
        "cell": "24bdf264-4fc1-4b90-96d8-f7db2a7403f6",
        "part": "whole"
       },
       "id": "4155a1d9-e606-4751-ac37-f9064de77e89"
      }
     }
    },
    "28abf762-35fe-4135-bfdc-b0e07015a95a": {
     "id": "28abf762-35fe-4135-bfdc-b0e07015a95a",
     "prev": "f1f04b5a-622e-4d8a-82bb-38d5a481ef47",
     "regions": {
      "b54885d7-23ec-4a9b-9b84-b1bf63d193a3": {
       "attrs": {
        "height": 0.8,
        "width": 0.8,
        "x": 0.1,
        "y": 0.1
       },
       "content": {
        "cell": "e6942ef2-dc35-4a5c-8a87-4ec1b4749f44",
        "part": "whole"
       },
       "id": "b54885d7-23ec-4a9b-9b84-b1bf63d193a3"
      }
     }
    },
    "2e7cb0a0-813b-4173-8767-af2a2546458d": {
     "id": "2e7cb0a0-813b-4173-8767-af2a2546458d",
     "prev": "3ffa1eaf-655c-4afa-b4dc-8bd1d894bc98",
     "regions": {
      "88510e1f-9094-43e0-8e72-3ca4b86b484f": {
       "attrs": {
        "height": 0.8,
        "width": 0.8,
        "x": 0.1,
        "y": 0.1
       },
       "content": {
        "cell": "e0e5a3d2-b9a7-4f35-ba49-1509a435c6f3",
        "part": "whole"
       },
       "id": "88510e1f-9094-43e0-8e72-3ca4b86b484f"
      }
     }
    },
    "39ee2134-49f2-45fd-91b2-64fdaa799ca2": {
     "id": "39ee2134-49f2-45fd-91b2-64fdaa799ca2",
     "prev": null,
     "regions": {
      "13763e00-36ac-42a3-be3d-8cc8c4929fab": {
       "attrs": {
        "height": 0.8,
        "width": 0.8,
        "x": 0.1,
        "y": 0.1
       },
       "content": {
        "cell": "706013c7-3f3f-45bd-a3a4-ee157b101678",
        "part": "whole"
       },
       "id": "13763e00-36ac-42a3-be3d-8cc8c4929fab"
      }
     }
    },
    "3ffa1eaf-655c-4afa-b4dc-8bd1d894bc98": {
     "id": "3ffa1eaf-655c-4afa-b4dc-8bd1d894bc98",
     "prev": "7a598999-711d-46da-b478-4a13ea42bb15",
     "regions": {
      "9bfe3c61-8716-4045-a7dd-f51029865564": {
       "attrs": {
        "height": 0.8,
        "width": 0.8,
        "x": 0.1,
        "y": 0.1
       },
       "content": {
        "cell": "4fd00906-7648-41f1-a81a-e0374fca07a2",
        "part": "whole"
       },
       "id": "9bfe3c61-8716-4045-a7dd-f51029865564"
      }
     }
    },
    "65cfe47c-8a45-480b-8f99-46423b5141fa": {
     "id": "65cfe47c-8a45-480b-8f99-46423b5141fa",
     "prev": "1adcde45-8bdb-438c-8ed3-caca9aff75d8",
     "regions": {
      "5e2292aa-405c-44fd-9cd7-795cd048bc9c": {
       "attrs": {
        "height": 0.8,
        "width": 0.8,
        "x": 0.1,
        "y": 0.1
       },
       "content": {
        "cell": "95380649-be71-4a61-b128-ae6ccdc20ddd",
        "part": "whole"
       },
       "id": "5e2292aa-405c-44fd-9cd7-795cd048bc9c"
      }
     }
    },
    "7a598999-711d-46da-b478-4a13ea42bb15": {
     "id": "7a598999-711d-46da-b478-4a13ea42bb15",
     "prev": "ec90702f-1bb3-4b97-883c-ec40184cf6da",
     "regions": {
      "a021c124-0d2a-4326-8bf1-a8d35ed10404": {
       "attrs": {
        "height": 0.8,
        "width": 0.8,
        "x": 0.1,
        "y": 0.1
       },
       "content": {
        "cell": "f5c6323f-88d0-4016-a007-5c8e020d9a53",
        "part": "whole"
       },
       "id": "a021c124-0d2a-4326-8bf1-a8d35ed10404"
      }
     }
    },
    "993e5f91-93b8-4863-92ec-5c46cc94cd73": {
     "id": "993e5f91-93b8-4863-92ec-5c46cc94cd73",
     "prev": "a08ed5fd-19b7-4337-8214-66791bef4d28",
     "regions": {
      "50c0b8f9-7867-40d6-90da-469e7ecbd164": {
       "attrs": {
        "height": 0.8,
        "width": 0.8,
        "x": 0.1,
        "y": 0.1
       },
       "content": {
        "cell": "f8ad9b22-8a19-4626-a36a-b17e14f4ca73",
        "part": "whole"
       },
       "id": "50c0b8f9-7867-40d6-90da-469e7ecbd164"
      }
     }
    },
    "a08ed5fd-19b7-4337-8214-66791bef4d28": {
     "id": "a08ed5fd-19b7-4337-8214-66791bef4d28",
     "prev": "269cdd1d-e90f-4861-9596-bb32d304f754",
     "regions": {
      "c8ba7ea9-c209-4765-b8e6-a8768e3b2563": {
       "attrs": {
        "height": 0.8,
        "width": 0.8,
        "x": 0.1,
        "y": 0.1
       },
       "content": {
        "cell": "c3a60782-cccf-4654-b5fb-cdc005f5e0f4",
        "part": "whole"
       },
       "id": "c8ba7ea9-c209-4765-b8e6-a8768e3b2563"
      }
     }
    },
    "c1c74aef-7e00-45fa-88ba-a264ab87c843": {
     "id": "c1c74aef-7e00-45fa-88ba-a264ab87c843",
     "prev": "2e7cb0a0-813b-4173-8767-af2a2546458d",
     "regions": {
      "3cf4e1e7-d6df-4874-a016-9d6794235ad1": {
       "attrs": {
        "height": 0.8,
        "width": 0.8,
        "x": 0.1,
        "y": 0.1
       },
       "content": {
        "cell": "6292d5ca-4c3e-4914-9ff7-7d319fad35f5",
        "part": "whole"
       },
       "id": "3cf4e1e7-d6df-4874-a016-9d6794235ad1"
      }
     }
    },
    "d2b8cf4f-e446-4047-b7af-0927726ac041": {
     "id": "d2b8cf4f-e446-4047-b7af-0927726ac041",
     "prev": "c1c74aef-7e00-45fa-88ba-a264ab87c843",
     "regions": {
      "21d2dd8a-2a3a-4971-8059-c040da42ae70": {
       "attrs": {
        "height": 0.8,
        "width": 0.8,
        "x": 0.1,
        "y": 0.1
       },
       "content": {
        "cell": "3b504654-e835-438b-84dd-109f9595050a",
        "part": "whole"
       },
       "id": "21d2dd8a-2a3a-4971-8059-c040da42ae70"
      }
     }
    },
    "ec90702f-1bb3-4b97-883c-ec40184cf6da": {
     "id": "ec90702f-1bb3-4b97-883c-ec40184cf6da",
     "prev": "28abf762-35fe-4135-bfdc-b0e07015a95a",
     "regions": {
      "57fd83f4-f15e-4a47-b395-0d5af6ccd21f": {
       "attrs": {
        "height": 0.8,
        "width": 0.8,
        "x": 0.1,
        "y": 0.1
       },
       "content": {
        "cell": "38061c1d-ece6-4076-bffb-d26fa9de90a8",
        "part": "whole"
       },
       "id": "57fd83f4-f15e-4a47-b395-0d5af6ccd21f"
      }
     }
    },
    "f1f04b5a-622e-4d8a-82bb-38d5a481ef47": {
     "id": "f1f04b5a-622e-4d8a-82bb-38d5a481ef47",
     "prev": "993e5f91-93b8-4863-92ec-5c46cc94cd73",
     "regions": {
      "73abb1fe-bbe2-4c60-bbbf-7650c337dfc6": {
       "attrs": {
        "height": 0.8,
        "width": 0.8,
        "x": 0.1,
        "y": 0.1
       },
       "content": {
        "cell": "52490837-b07e-4cb4-bc51-3b0d2f2b61d0",
        "part": "whole"
       },
       "id": "73abb1fe-bbe2-4c60-bbbf-7650c337dfc6"
      }
     }
    }
   },
   "themes": {
    "default": "9e511b29-1d7a-4c9d-9a68-13737e767d8e",
    "theme": {
     "9e511b29-1d7a-4c9d-9a68-13737e767d8e": {
      "id": "9e511b29-1d7a-4c9d-9a68-13737e767d8e",
      "palette": {
       "19cc588f-0593-49c9-9f4b-e4d7cc113b1c": {
        "id": "19cc588f-0593-49c9-9f4b-e4d7cc113b1c",
        "rgb": [
         252,
         252,
         252
        ]
       },
       "31af15d2-7e15-44c5-ab5e-e04b16a89eff": {
        "id": "31af15d2-7e15-44c5-ab5e-e04b16a89eff",
        "rgb": [
         68,
         68,
         68
        ]
       },
       "50f92c45-a630-455b-aec3-788680ec7410": {
        "id": "50f92c45-a630-455b-aec3-788680ec7410",
        "rgb": [
         155,
         177,
         192
        ]
       },
       "c5cc3653-2ee1-402a-aba2-7caae1da4f6c": {
        "id": "c5cc3653-2ee1-402a-aba2-7caae1da4f6c",
        "rgb": [
         43,
         126,
         184
        ]
       },
       "efa7f048-9acb-414c-8b04-a26811511a21": {
        "id": "efa7f048-9acb-414c-8b04-a26811511a21",
        "rgb": [
         25.118061674008803,
         73.60176211453744,
         107.4819383259912
        ]
       }
      },
      "rules": {
       "blockquote": {
        "color": "50f92c45-a630-455b-aec3-788680ec7410"
       },
       "code": {
        "font-family": "Anonymous Pro"
       },
       "h1": {
        "color": "c5cc3653-2ee1-402a-aba2-7caae1da4f6c",
        "font-family": "Lato",
        "font-size": 8
       },
       "h2": {
        "color": "c5cc3653-2ee1-402a-aba2-7caae1da4f6c",
        "font-family": "Lato",
        "font-size": 6
       },
       "h3": {
        "color": "50f92c45-a630-455b-aec3-788680ec7410",
        "font-family": "Lato",
        "font-size": 5.5
       },
       "h4": {
        "color": "c5cc3653-2ee1-402a-aba2-7caae1da4f6c",
        "font-family": "Lato",
        "font-size": 5
       },
       "h5": {
        "font-family": "Lato"
       },
       "h6": {
        "font-family": "Lato"
       },
       "h7": {
        "font-family": "Lato"
       },
       "pre": {
        "font-family": "Anonymous Pro",
        "font-size": 4
       }
      },
      "text-base": {
       "font-family": "Merriweather",
       "font-size": 4
      }
     }
    }
   }
  }
 },
 "nbformat": 4,
 "nbformat_minor": 0
}
