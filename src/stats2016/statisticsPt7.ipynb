{
 "cells": [
  {
   "cell_type": "markdown",
   "metadata": {
    "nbpresent": {
     "id": "5f314f94-8a03-4773-88a6-56d76571d56b"
    }
   },
   "source": [
    "** Summary**\n",
    "\n",
    "We introduced the notion of a random variable and associated probabilty distribution and density functions\n",
    "\n",
    "Then we defined the first two moments of those functions,  mean and variance\n",
    "\n",
    "Considering two random variables, we defined joint and marginal distributions and the idea of statistical independence\n",
    "\n",
    "Two important distributions are normal and chi-square: \n",
    "\n",
    "    normally distributed random variables sum to normal distributions \n",
    "    \n",
    "    squares of normally and equally distributed random variables sum to chi-square distributions\n",
    "    \n",
    "We saw some ways of calcuating the distributions of functions of a random variable with a known distribution\n",
    "\n",
    "We defined conditional probability and discussed Bayes' theorem, which allows us to correct our prior assumptions on the basis of new observations\n",
    "\n",
    "We introduced samples and sample functions for estimating mean and variance of probability distributions and discussed the probability distributions of these point estimators\n",
    "\n",
    "We gave some examples of interval estimation for mean and vaiance of normall distributions\n",
    "\n",
    "We extended the concept of random variable to random vector and defined the variance covariance matrix of a multivariate distribution\n",
    "\n",
    "We also extended the idea of a point estimator to the mutivariate case and gave expressions for estimating the vector mean and the covariance matrix\n",
    "\n",
    "As an example we considered the principal components transformation which makes use of the estimated covariance matrix to find new random vectors which maximize variance.\n",
    "\n",
    "Then we looked at the theory of linear regression, first of all for one independent variable, and derived expressions for the slope and intercept parameters, their uncertainties and goodness of fit. We also explained the coefficient of determination.\n",
    "\n",
    "We generalized to multiple linear regression, derived the normal equation and pseudoinverse, also giving a formula for the error covariance matrix. We looked at the Kalman filter for multiple linear regression on sequential measurement data. "
   ]
  },
  {
   "cell_type": "markdown",
   "metadata": {
    "nbpresent": {
     "id": "56d7bd62-983a-4a1e-8c87-2ed7ad544528"
    }
   },
   "source": [
    "## Part 7. Hypothesis Testing\n",
    "$$ \\def\\pr{\\hbox{Pr}}\n",
    "\\def\\var{\\hbox{var}}\n",
    "\\def\\cov{\\hbox{cov}}\n",
    "\\def\\tr{\\hbox{tr}}\n",
    "\\def\\corr{\\hbox{corr}}\n",
    "\\def\\dmX{\\un{\\mathcal{X}}}\n",
    "\\def\\dmG{\\un{\\mathcal{G}}}\n",
    "\\def\\dmK{\\un{\\mathcal{K}}}\n",
    "\\def\\dmS{\\un{\\mathcal{S}}}\n",
    "\\def\\dmC{\\un{\\mathcal{C}}}\n",
    "\\def\\dmZ{\\un{\\mathcal{Z}}}\n",
    "\\def\\bma{{\\mbox{\\boldmath $\\alpha$}}}\n",
    "\\def\\bmb{{\\mbox{\\boldmath $\\beta$}}}\n",
    "\\def\\bmu{{\\mbox{\\boldmath $\\mu$}}}\n",
    "\\def\\bme{{\\mbox{\\boldmath $\\epsilon$}}}\n",
    "\\def\\bmS{{\\mbox{\\boldmath $\\Sigma$}}}\n",
    "\\def\\bmL{{\\mbox{\\boldmath $\\Lambda$}}}\n",
    "\\def\\bmd{{\\mbox{\\boldmath $\\delta$}}}\n",
    "\\def\\bmD{{\\mbox{\\boldmath $\\Delta$}}}\n",
    "\\def\\bmG{{\\mbox{\\boldmath $\\Gamma$}}}\n",
    "\\def\\bmphi{{\\mbox{\\boldmath $\\phi$}}}\n",
    "\\def\\bmPhi{{\\mbox{\\boldmath $\\Phi$}}}\n",
    "\\def\\bmpsi{{\\mbox{\\boldmath $\\psi$}}}\n",
    "\\def\\bmtheta{{\\mbox{\\boldmath $\\theta$}}}\n",
    "\\def\\eq{\\begin{equation}}\n",
    "\\def\\eeq{\\end{equation}}\n",
    "\\def\\i{{\\bf i}}\n",
    "\\def\\un#1{{\\bf #1}}$$\n",
    "\n"
   ]
  },
  {
   "cell_type": "markdown",
   "metadata": {
    "nbpresent": {
     "id": "9f507ba7-bebe-4d20-ba33-2a83967af249"
    }
   },
   "source": [
    "### Maximum likelihood\n",
    "\n",
    "Consider a random sample $\\un z(i)$, $i=1\\dots m$, from a population\n",
    "whose density function is $p(\\un z\\mid \\theta)$. The <span>*likelihood\n",
    "function*</span> for the sample is\n",
    "\n",
    "$$L(\\theta) = \\prod_{i=1}^m p(\\un z(i)\\mid \\theta).$$\n",
    "\n",
    "Its logarithm\n",
    "\n",
    "$$\\mathcal{L}(\\theta) = \\sum_{i=1}^{m} \\log p(\\un z(i)\\mid \\theta),$$ \n",
    "\n",
    "is called the <span>*log-likelihood*</span>. Taking products is justified\n",
    "when the $\\un z(i)$ are realizations of independent random vectors. The\n",
    "parameter set $\\hat\\theta$ which maximizes the likelihood function or\n",
    "its logarithm, i.e., which gives the largest value for all of the\n",
    "realizations, is called the <span>*maximum likelihood estimate*</span>\n",
    "of $\\theta$."
   ]
  },
  {
   "cell_type": "markdown",
   "metadata": {
    "nbpresent": {
     "id": "15f352b2-7b98-47b7-ad4b-f7a0a4733ce0"
    }
   },
   "source": [
    "For $m$ samples from the multivariate normal distribution:\n",
    "\n",
    "$$\n",
    "p(\\un z) = {1\\over (2\\pi)^{N/2}\\sqrt{|\\bf\\Sigma|}}\n",
    "\\exp\\left(-{1\\over 2}(\\un z-\\bf\\mu)^\\top \\bf\\Sigma^{-1} (\\un z-\\bf\\mu)\\right),\n",
    "$$\n",
    "\n",
    "we get\n",
    "\n",
    "$$\\mathcal{L}(\\mu,{\\bf\\Sigma}) =  \\sum_{i=1}^{m} \\log p(\\un z(i)\\mid {\\bf\\mu},{\\bf\\Sigma}) = m{N\\over 2}\\log 2\\pi-m{1\\over 2}\\log|{\\bf\\Sigma}|-{1\\over 2}\n",
    "\\sum_{i=1}^{m} (\\un z(i)-\\mu)^\\top\\bf\\Sigma^{-1}(\\un z(i)-\\mu).$$\n",
    "\n",
    "To maximize with respect to $\\mu$ we set\n",
    "\n",
    "$${\\partial\\mathcal{L}(\\mu,{\\bf\\Sigma})\\over\\partial\\mu}= \\sum_{i=1}^{m} {\\bf\\Sigma}^{-1}(\\un z(i)-\\mu) =\\un 0,$$\n",
    "\n",
    "giving $$\\hat\\mu = {1\\over m}\\sum_{i=1}^{m} \\un z(i),$$ which is the\n",
    "realization $ \\bar{\\un z}$ of the unbiased estimator for the sample mean.\n",
    "\n"
   ]
  },
  {
   "cell_type": "markdown",
   "metadata": {
    "nbpresent": {
     "id": "7d02359e-c981-42a6-a6b1-302b0513a0b3"
    }
   },
   "source": [
    "In a similar way one can show that\n",
    "\n",
    "$$\\hat{\\bf\\Sigma}  = {1\\over m}\\sum_{i=1}^{m}(\\un z(i)-\\mu)(\\un z(i)-\\mu)^\\top,$$\n",
    "\n",
    "which is (almost) the realization $\\un s$ of the unbiased sample\n",
    "covariance matrix estimator, except that the denominator $m-1$ is\n",
    "replaced by $m$, a fact which can often be ignored."
   ]
  },
  {
   "cell_type": "markdown",
   "metadata": {
    "nbpresent": {
     "id": "946cc548-401f-4e9b-b804-47e7574fc77d"
    }
   },
   "source": [
    "### Some terminology\n",
    "\n",
    "A <span>*statistical hypothesis*</span> is a conjecture about the\n",
    "distributions of one or more random variables. It might, for instance,\n",
    "be an assertion about the mean of a distribution, or about the\n",
    "equivalence of the variances of two different distributions.\n",
    "\n",
    "We distinguishe between <span>*simple*</span> hypotheses, for which the\n",
    "distributions are completely specified, for example: <span>*the mean of\n",
    "a normal distribution with variance $\\sigma^2$ is $\\mu=0$*</span>, and\n",
    "<span>*composite*</span> hypotheses, for which this is not the case,\n",
    "e.g., <span>*the mean is $\\mu\\ge 0$*</span>.\n",
    "\n",
    "In order to test such assertions on the basis of samples of the\n",
    "distributions involved, it is also necessary to formulate\n",
    "<span>*alternative*</span> hypotheses. To distinguish these from the\n",
    "original assertions, the latter are called <span>*null*</span>\n",
    "hypotheses.\n",
    "\n",
    "Thus we might be interested in testing the simple null hypothesis\n",
    "$\\mu = 0$ against the composite alternative hypothesis $\\mu\\ne 0$."
   ]
  },
  {
   "cell_type": "markdown",
   "metadata": {
    "collapsed": true,
    "nbpresent": {
     "id": "ffb64db1-1f28-4113-bf99-431c056adbbb"
    }
   },
   "source": [
    "An appropriate sample function for deciding whether or not to reject the\n",
    "null hypothesis in favor of its alternative is referred to as a\n",
    "<span>*test statistic*</span>.\n",
    "\n",
    "An appropriate <span>*test procedure*</span> will partition the possible\n",
    "realizations of the test statistic into two subsets: an acceptance\n",
    "region for the null hypothesis and a rejection region. The latter is\n",
    "referred to as the <span>*critical region*</span>."
   ]
  },
  {
   "cell_type": "markdown",
   "metadata": {
    "nbpresent": {
     "id": "abe39e63-fad0-445a-8ab0-a14bf9e81fa5"
    }
   },
   "source": [
    "<span>**Definition:**</span> Referring to the null hypothesis as $H_0$,\n",
    "there are two kinds of errors which can arise from any test procedure:\n",
    "\n",
    "1.  $H_0$ may be rejected when in fact it is true. This is called an\n",
    "    <span>*error of the first kind*</span> and the probability that it\n",
    "    will occur is denoted $\\alpha$.\n",
    "\n",
    "2.  $H_0$ may be accepted when in fact it is false, which is called an\n",
    "    <span>*error of the second kind*</span> with probability of\n",
    "    occurrence $\\beta$.\n",
    "\n",
    "The probability of obtaining a value of the test statistic within the\n",
    "critical region when $H_0$ is true is thus $\\alpha$. The probability\n",
    "$\\alpha$ is also referred to as the <span>*level of significance*</span>\n",
    "of the test.\n"
   ]
  },
  {
   "cell_type": "markdown",
   "metadata": {
    "nbpresent": {
     "id": "4c913aeb-3c86-4b3d-bdc0-1f9deb07eb49"
    }
   },
   "source": [
    "It is generally the case that the lower the value of $\\alpha$, the\n",
    "higher is the probability $\\beta$ of making a second kind error.\n",
    "Traditionally significance levels of 0.01 or 0.05 are used.\n",
    "\n",
    "Such values are obviously arbitrary, and for exploratory data analysis\n",
    "it is common to avoid specifying them altogether. Instead the\n",
    "<span>*$P$-value*</span> for the test is stated:\n",
    "\n",
    "<span>**Definition:**</span> Given the observed value of a test\n",
    "statistic, the <span>*$P$-value*</span> is the lowest level of\n",
    "significance at which the null hypothesis could have been rejected.\n",
    "\n",
    "High $P$-values provide evidence in favor of accepting the null\n",
    "hypothesis, without actually forcing one to commit to a decision.\n"
   ]
  },
  {
   "cell_type": "markdown",
   "metadata": {
    "nbpresent": {
     "id": "d13910ea-8e7b-468d-af84-09a111c863ab"
    }
   },
   "source": [
    "**Example: IAEA Nuclear material accontancy**\n",
    "\n",
    "$H_0:$ No material is missing (simple hypothesis)\n",
    "\n",
    "$H_1:$ One \"sgnificant quantity\"is missing (simple hypothesis).\n",
    "\n",
    "Test statistic:\n",
    "\n",
    "$$\n",
    "MUF = Inventory_0 + Input - Output - Inventory_1\n",
    "$$\n",
    "\n",
    "which might be assumed to be normally distibuted with mean 0 under $H_0$.\n",
    "\n",
    "$\\alpha$ is the *false alarm probability*.\n",
    "\n",
    "$1-\\beta$ is the *detection probability*."
   ]
  },
  {
   "cell_type": "markdown",
   "metadata": {
    "nbpresent": {
     "id": "ac7e823e-f2db-47cb-a0f8-0f3769bf9338"
    }
   },
   "source": [
    "**Likelihood ratio test**\n",
    "\n",
    "Consider a random sample $\\un z(i)$, $i=1\\dots m$, from a population\n",
    "whose density function is $p(\\un z\\mid \\theta)$. Here $\\theta$ is the\n",
    "parameter set of the density function, e.g.,\n",
    "$\\theta = \\{\\mu,\\sigma^2\\}$. The likelihood function for the sample is\n",
    "$$L(\\theta) = \\prod_{i=1}^m p(\\un z(i)\\mid \\theta).$$\n",
    "\n",
    "<span>**Definition:**</span> Let $\\omega$ be space of all possible\n",
    "values of the parameters $\\theta$ and $\\omega_0$ be a subset of that\n",
    "space. The <span>likelihood ratio test</span> for the null hypothesis\n",
    "$\\theta\\in\\omega_0$ against the alternative $\\theta\\in\\omega-\\omega_0$\n",
    "has the critical region\n",
    "\n",
    "$$Q = {\\max_{\\theta\\in \\omega_0} L(\\theta) \\over \\max_{\\theta\\in\\omega} L(\\theta)} \\le k.$$"
   ]
  },
  {
   "cell_type": "markdown",
   "metadata": {
    "nbpresent": {
     "id": "d887ec6f-60c1-4a40-90ef-5605ce5a6d92"
    }
   },
   "source": [
    "This definition simply reflects the fact that, if $H_0$ is true, the\n",
    "maximum likelihood for $\\theta$ when restricted to $\\omega_0$ should be\n",
    "close to the the maximum likelihood for $\\theta$ without that\n",
    "restriction. Therefore, if the likelihood ratio is small, (less than or\n",
    "equal to some small value $k$), then $H_0$ should be rejected.\n",
    "\n",
    "In many cases the likelihood ratio test will lead to a test statistic whose distribution is unknown.\n",
    "The LRT has, however, an important asymptotic property:\n",
    "\n",
    "**Theorem 1**\n",
    "\n",
    "If $\\omega$ is a region of $R^q$ and $\\omega_0$ is an\n",
    "$r$-dimensional subregion, then for each $\\theta\\in\\omega_0$, $-2\\log Q$ has an asymptotic\n",
    "chi-square distribution with $q-r$ degrees of freedom as $n\\to\\infty$.\n",
    "\n",
    "\n"
   ]
  },
  {
   "cell_type": "markdown",
   "metadata": {
    "nbpresent": {
     "id": "388c8377-f5c2-48df-afc8-763929561788"
    }
   },
   "source": [
    "<span>**Example:**</span> Given random samples $z_1,z_2\\dots z_m$ from a\n",
    "normal distribution with mean $\\mu$ and known variance $\\sigma^2$. The\n",
    "likelihood ratio test at significance level $\\alpha$ for the simple\n",
    "hypothesis $\n",
    "H_0:\\ \\mu = \\mu_0\n",
    "$ against the alternative composite hypothesis $\n",
    "H_1:\\ \\mu \\ne \\mu_0\n",
    "$ has the critical region \n",
    "\n",
    "$${L(\\mu_0)\\over L(\\hat\\mu)}\\le k,$$ \n",
    "\n",
    "where\n",
    "$\\hat\\mu$ is the maximizes the likelihood function for all possible\n",
    "values of $\\mu$, \n",
    "\n",
    "$$\\hat\\mu = \\bar z = {1\\over m}\\sum_{i=1}^m z_i.$$ "
   ]
  },
  {
   "cell_type": "markdown",
   "metadata": {
    "nbpresent": {
     "id": "d81f19f3-f23f-4e3b-89ac-05c7a6d048d1"
    }
   },
   "source": [
    "The critical region is then \n",
    "\n",
    "$$\\eqalign{\n",
    "Q = {L(\\mu_0)\\over L(\\hat\\mu)} &= \\exp\\left(-\\sum_\\nu(z(\\nu)-\\mu_0)^2/2\\sigma^2\\right)\\Bigg/\\exp\\left(-\\sum_\\nu(z(\\nu)-\\bar z)^2/2\\sigma^2\\right)\\cr\n",
    "&=\\exp\\left(-{1\\over 2\\sigma^2}\\sum_\\nu(z(\\nu)-\\mu_0)^2+(z(\\nu)-\\bar z)^2\\right)\\cr\n",
    "&= \\exp\\left(-{1\\over 2\\sigma^2/m}(\\bar z - \\mu_0)^2\\right) \\le k}\n",
    "$$"
   ]
  },
  {
   "cell_type": "markdown",
   "metadata": {
    "nbpresent": {
     "id": "710a04ae-2589-4d0f-8535-d89cfa2005d6"
    }
   },
   "source": [
    "Equivalently, \n",
    "\n",
    "$$\n",
    "e^{-x^2} \\le k,\\quad\\hbox{or}\\quad  |x^2| > k\n",
    "$$ \n",
    "\n",
    "where\n",
    "\n",
    "$$\n",
    "x = {\\bar z - \\mu_0 \\over \\sigma/\\sqrt{m}}\n",
    "$$ \n",
    "\n",
    "So the critical region\n",
    "can be written in the form\n",
    "\n",
    "$$\\left|{\\bar z - \\mu_0 \\over \\sigma/\\sqrt{m}}\\right| > k_\\alpha.$$"
   ]
  },
  {
   "cell_type": "markdown",
   "metadata": {
    "collapsed": true,
    "nbpresent": {
     "id": "1df3f130-4fee-4cc3-a22b-29866c0fa8a3"
    }
   },
   "source": [
    "But we know that $\\bar z$ is normally distributed with mean $\\mu_0$ and\n",
    "variance $\\sigma^2/m$. Therefore $x$ has the standard normal\n",
    "distribution $\\Phi(x)$ and $k_\\alpha$ is determined by\n",
    "\n",
    "$$\\Phi(-k_\\alpha) + 1- \\Phi(k_\\alpha) = \\alpha,$$ \n",
    "\n",
    "or\n",
    "\n",
    "$$1- \\Phi(k_\\alpha) = \\alpha/2.$$\n",
    "\n",
    "<img src= 'fig2_4.png' height='600' width='600' />\n"
   ]
  },
  {
   "cell_type": "markdown",
   "metadata": {
    "nbpresent": {
     "id": "449796ce-3fe9-4c9d-9c4d-64bd875c3425"
    }
   },
   "source": [
    "Note that the above likelihood ratio test statistic $Q$ satisfies Theorem 1:\n",
    "\n",
    "$$\n",
    "-2\\log Q = -2\\cdot\\left(-{1\\over 2\\sigma^2/m}(\\bar z - \\mu_0)^2\\right)= {(\\bar z - \\mu_0)^2\\over\\sigma^2/m},\n",
    "$$\n",
    "\n",
    "which is chi-square distributed with one degree of freedom. Since $\\omega_0$ consists of\n",
    "the single point $\\mu_0$, its dimension is $r=0$, whereas $\\omega$ is all real values of $\\mu$, so $q=1$.\n",
    "Hence $q-r=1$. In this simple case, Theorem 1 holds for all values of $m$."
   ]
  },
  {
   "cell_type": "markdown",
   "metadata": {
    "nbpresent": {
     "id": "3c120f63-6f09-4bbb-8125-19d8bbef561f"
    }
   },
   "source": [
    "### T and F tests\n",
    "\n",
    "Suppose however that the variance $\\sigma^2$ is unknown and that we wish\n",
    "nevertheless to make a statement about $\\mu$ in terms of some\n",
    "realization of an appropriate statistic. To treat this and similar\n",
    "problems it is first necessary to define some additional distribution\n",
    "functions.\n",
    "\n",
    "**Theorem 2** If the random variable $Z$ is standard normally distributed and $Y$ is chi-square distributed\n",
    "with $m$ degrees of feedom, then the random variable\n",
    "\n",
    "$$\n",
    "T = { Z\\over \\sqrt{Y / m}}\\tag 7\n",
    "$$\n",
    "\n",
    "is  *Student-t distributed with $m$ degrees of freedom*. The corresponding\n",
    "density is given by\n",
    "\n",
    "$$\n",
    "p_{t;m}(z) = d_m\\left( 1 + {z^2\\over m}\\right)^{-(m+1)/2},\\quad -\\infty<z<\\infty, \\tag 8\n",
    "$$\n",
    "\n",
    "with $d_m$ being a normalization factor. The Student-t distribution converges\n",
    "to the standard normal distribution for $m\\to\\infty$."
   ]
  },
  {
   "cell_type": "code",
   "execution_count": null,
   "metadata": {
    "collapsed": false,
    "nbpresent": {
     "id": "44996587-a69d-42a8-83ee-1b956cdbac1c"
    }
   },
   "outputs": [],
   "source": [
    "# The t-distribution is symmetric about 0 and for m > 30 \n",
    "# almost identical to the normal distribution:\n",
    "%matplotlib inline\n",
    "import numpy as np\n",
    "import matplotlib.pyplot as plt\n",
    "import scipy.stats as st\n",
    "\n",
    "z = np.linspace(-5,5,200)\n",
    "plt.plot(z,st.t.pdf(z,5),z,st.norm.pdf(z))\n",
    "plt.show()"
   ]
  },
  {
   "cell_type": "markdown",
   "metadata": {
    "nbpresent": {
     "id": "6c3fd567-c1f1-4cff-ae3a-8f1a2768db6d"
    }
   },
   "source": [
    "\n",
    "\n",
    "The Student-t distribution is used to make statements regarding the mean\n",
    "when the variance is unknown. Thus if $Z_i$, $i=1\\dots m$, is a sample\n",
    "from a normal distribution with mean $\\mu_0$ and unknown variance, and\n",
    "\n",
    "$$\\bar Z = {1\\over m}\\sum_{i=1}^m Z_i,\\quad S = {1\\over m}\\sum_i^m (Z_i-\\bar Z)^2,$$\n",
    "\n",
    "then the random variable\n",
    "\n",
    "$$T = {\\bar Z - \\mu_0 \\over \\sqrt{S/m} }\\tag 9$$\n",
    "\n",
    "is\n",
    "Student-t distributed with $m-1$ degrees of freedom and is a likelihood\n",
    "ratio test for $H_0: \\mu=\\mu_0$, $H_1: \\mu\\ne\\mu_0$.\n"
   ]
  },
  {
   "cell_type": "markdown",
   "metadata": {
    "nbpresent": {
     "id": "2340fd3a-6149-4eea-80d6-75cfb112c347"
    }
   },
   "source": [
    "** proof:**\n",
    "\n",
    "In (7) set $Z_0 = {\\bar Z - \\mu_0 \\over \\sigma/\\sqrt{m}}$ where $\\sigma$ is the true (unknown) variance of $Z$. This has\n",
    "a standard normal distribition. Set the denominator replace $Y$ by $(m-1)S/\\sigma^2$. This has the chi-square distribution with $\\nu = m-1$ degrees of freedom.\n",
    "\n",
    "\n",
    "$$\n",
    "T = { Z\\over \\sqrt{Y / m}} = { {\\bar Z - \\mu_0 \\over \\sigma/\\sqrt{m}} \\over \\sqrt{(m-1)S \\over \\sigma^2}/(m-1)}\n",
    "$$\n",
    "\n",
    "\n",
    "\n",
    "\n",
    "The ratio is the $T$ statistic (9) and by definition it satisfies Theorem 2 with $m-1$ degrees of freedom. "
   ]
  },
  {
   "cell_type": "markdown",
   "metadata": {
    "nbpresent": {
     "id": "25fd53d9-052d-47df-a38b-f8f0dbb5cc84"
    }
   },
   "source": [
    "**Example:**\n",
    "\n",
    "In 16 one-hour tests, the gasoline consumption of an engine averaged 8.5 liters per 100 km with a standard deviation of 2.0 liters. Test the null hypothesis that the manufacturer's claim that the average consumption is 7 liters is true.\n",
    "\n",
    "In (9), $m = 16, \\mu_0 = 7.0, \\bar z = 8.5, s = 2.0^2$\n",
    "\n",
    "$$\n",
    "t = {8.5 - 7.0 \\over 2.0\\big/\\sqrt{16}} = 3.0\n",
    "$$\n",
    "\n",
    "We can reject the null hypothesis:"
   ]
  },
  {
   "cell_type": "code",
   "execution_count": null,
   "metadata": {
    "collapsed": false,
    "nbpresent": {
     "id": "f0c3ba0d-ec87-4b88-90ab-231144a58827"
    }
   },
   "outputs": [],
   "source": [
    "print 'p-value = %f' % (1-st.t.cdf(3.0,15))"
   ]
  },
  {
   "cell_type": "markdown",
   "metadata": {
    "nbpresent": {
     "id": "24e4e8bd-b5df-4744-b6ac-0ed44c8331c3"
    }
   },
   "source": [
    "If $Z_i$, $i=1\\dots n$, and $Y_i$, $i=1\\dots m$, are samples from normal\n",
    "distributions with equal variance, then the random variable\n",
    "\n",
    "$$T_d = {\\bar Z-\\bar Y - (\\mu_Z-\\mu_Y)\\over\n",
    "\\sqrt{\\left({1\\over n}+{1\\over m}\\right){(n-1)S_Z+(m-1)S_Y\\over n+m-2}}}\\tag 9$$\n",
    "\n",
    "is Student-t distributed with $n+m-2$ degrees of freedom. It may be used\n",
    "to test the hypothesis $\\mu_Z=\\mu_Y$. For instance, if $n=m$, under the null hypothesis the test statistic becomes\n",
    "\n",
    "$$\n",
    "T_d = {\\bar Z - \\bar Y \\over \\sqrt{(S_z +S_y)/m}}.\n",
    "$$"
   ]
  },
  {
   "cell_type": "markdown",
   "metadata": {
    "nbpresent": {
     "id": "d96a4b9e-ee99-4fab-88a6-213f24d8c6b5"
    }
   },
   "source": [
    "<span>**Definition:**</span> The <span>*F-probability density\n",
    "function*</span> with $m$ and $n$ degrees of freedom is given by \n",
    "\n",
    "$$\n",
    "p_{f;m,n}(z) = \\cases{ c_{mn} z^{(m-2)/2}\\left(1+{m\\over n}\\ z\\right)^{-(m+n)/2} & for $z>0$\\cr\n",
    "0 & otherwise,}\n",
    "$$\n",
    "\n",
    "with normalization factor $c_{mn}$.\n",
    "\n",
    "<span>**Theorem 3:**</span> If $Y$ and $Z$ are chi-square distributed with $m$ and $n$ degrees of freedom, respctively, then \n",
    "\n",
    "\n",
    "$$F = {{1\\over m}Y \\over {1\\over n}Z }\\tag{10}$$\n",
    "\n",
    "is $F$-distributed with $m$ and $n$ degrees of freedom.\n"
   ]
  },
  {
   "cell_type": "code",
   "execution_count": null,
   "metadata": {
    "collapsed": false,
    "nbpresent": {
     "id": "94ea87ef-d5ee-4648-97f2-0ee1bc9bed70"
    }
   },
   "outputs": [],
   "source": [
    "z = np.linspace(0,5,200)\n",
    "plt.plot(z,st.f.pdf(z,10,12))\n",
    "plt.show()"
   ]
  },
  {
   "cell_type": "markdown",
   "metadata": {
    "nbpresent": {
     "id": "77afc68f-8835-4e48-babc-3e0e41abd98e"
    }
   },
   "source": [
    "The $F$-distribution can be used for hypothesis tests regarding two\n",
    "variances. If $S_Z$ and $S_Y$ are sample variances for samples of size\n",
    "$n$ respectively $m$ drawn from normally distributed populations with\n",
    "variances $\\sigma_Z^2$ and $\\sigma_Y^2$, then\n",
    "$$F = {\\sigma_Y^2S_Z\\over \\sigma_Z^2S_Y}$$ is a random variable having\n",
    "an $F$-distribution with $n-1$ and $m-1$ degrees of freedom. It is a\n",
    "likelihood ratio test for\n",
    "\n",
    "$$H_0:\\sigma_Z^2 = \\sigma_Y^2, \\quad H_1: \\sigma_Z^2 \\ne \\sigma_Y^2.$$"
   ]
  },
  {
   "cell_type": "markdown",
   "metadata": {
    "nbpresent": {
     "id": "69afd515-9600-4e26-9310-2205062f705e"
    }
   },
   "source": [
    "### Example: Automatic radiometric normalization of satellite imagery"
   ]
  },
  {
   "cell_type": "code",
   "execution_count": null,
   "metadata": {
    "collapsed": false,
    "nbpresent": {
     "id": "0d618934-cb6b-4931-9eff-4d16d62ad179"
    }
   },
   "outputs": [],
   "source": [
    "ls"
   ]
  },
  {
   "cell_type": "code",
   "execution_count": null,
   "metadata": {
    "collapsed": false,
    "nbpresent": {
     "id": "1322ae67-a11a-4b61-bcb7-963b802bf2cf"
    }
   },
   "outputs": [],
   "source": [
    "%matplotlib inline\n",
    "%run dispms -f /home/mort/stats2016/20010626 -e 1 -p [4,5,6] \\\n",
    "-F /home/mort/stats2016/20010829 -E 1 -P [4,5,6]"
   ]
  },
  {
   "cell_type": "code",
   "execution_count": null,
   "metadata": {
    "collapsed": false,
    "nbpresent": {
     "id": "5896b541-46b3-48e5-b5df-86397d68cd82"
    }
   },
   "outputs": [],
   "source": [
    "%run iMad /home/mort/stats2016/20010626 /home/mort/stats2016/20010829"
   ]
  },
  {
   "cell_type": "code",
   "execution_count": null,
   "metadata": {
    "collapsed": false,
    "nbpresent": {
     "id": "0000d4ea-3309-4df7-911a-14435fd5550f"
    }
   },
   "outputs": [],
   "source": [
    "run dispms -f /home/mort/stats2016/MAD(20010626-20010829) -e 3 -p [7,7,7] \\\n",
    "-F /home/mort/stats2016/MAD(20010626-20010829) -E 3 -P [4,5,6] "
   ]
  },
  {
   "cell_type": "code",
   "execution_count": null,
   "metadata": {
    "collapsed": false,
    "nbpresent": {
     "id": "ae86d8ef-64c5-41c0-8088-2a3907e7f18b"
    }
   },
   "outputs": [],
   "source": [
    "run radcal /home/mort/stats2016/MAD(20010525-20010829)"
   ]
  },
  {
   "cell_type": "code",
   "execution_count": null,
   "metadata": {
    "collapsed": false,
    "nbpresent": {
     "id": "8fe982e4-f7c2-4197-9b3e-31a53eaaf7b5"
    }
   },
   "outputs": [],
   "source": [
    "run dispms -f /home/mort/stats2016/20010829 -e 1 -p [4,5,6] \\\n",
    "-F /home/mort/stats2016/20010829_norm -E 1 -P [4,5,6]"
   ]
  },
  {
   "cell_type": "markdown",
   "metadata": {
    "nbpresent": {
     "id": "e6203571-8bcd-4d43-88d7-d0caf894485c"
    }
   },
   "source": [
    "### ANOVA: More than two populations\n",
    "\n",
    "The case often arises when one wants to compare the mean values of several random variables, for instance if several medications are equally effective. \n",
    "\n",
    "<a href = \"anova.html\">Wikipedia</a>"
   ]
  },
  {
   "cell_type": "markdown",
   "metadata": {
    "nbpresent": {
     "id": "d80fd259-da12-444a-b678-26ead4fad6c6"
    }
   },
   "source": [
    "Suppose that $X_1, X_2,\\dots, X_k$ are normally distributed random variables with means $\\mu_1,\\mu_2,\\dots,\\mu_k$ and variance $\\sigma^2$. We want to test the null hypothesis\n",
    "\n",
    "$$\n",
    "H_0: \\quad \\mu_1 = \\mu_2 = \\dots = \\mu_k.\n",
    "$$\n",
    "\n",
    "Let \n",
    "\n",
    "$$\n",
    "X_{11},X_{12},\\dots,X_{1n_1},\\quad X_{21},X_{22},\\dots,X_{2n_2},\\quad\\dots\\quad X_{k1},X_{k2},\\dots,X_{kn_k}\n",
    "$$\n",
    "\n",
    "be independent samples drawn from the $k$ distributions. Call this the *overall* sample, consisting of $k$ *partial samples*. The total number of samples is\n",
    "\n",
    "$$\n",
    "n = \\sum_1^k n_i.\n",
    "$$\n",
    "\n",
    "The overall sample mean and variance are then\n",
    "\n",
    "$$\n",
    "\\bar X = {1\\over n}\\sum_{i=1}^k\\sum_{j=1}^{n_i} X_{ij},\\quad S = {1\\over n-1}\\sum_{i=1}^k\\sum_{j=1}^{n_i}(X_{ij}-\\bar X)^2.\n",
    "$$\n",
    "\n",
    "Similarly for the partial samples,\n",
    "\n",
    "$$\n",
    "\\bar X_i = {1\\over n_i}\\sum_{j=1}^{n_i}X_{ij}, \\quad S_i= {1\\over n_i-1}\\sum_{j=1}^{n_i}(X_{ij}-\\bar X_i)^2.\n",
    "$$\n",
    "\n",
    "Now consider\n",
    "\n",
    "$$\\eqalign{\n",
    "\\sum_{j=1}^{n_i}(X_{ij}-\\bar X)^2 &= \\sum_{j=1}^{n_i}(X_{ij}-\\bar X_i + \\bar X_i-\\bar X)^2 = \\sum_{j=1}^{n_i}((X_{ij}-\\bar X_i) + (\\bar X_i-\\bar X))^2  \\cr\n",
    "&= \\sum_{j=1}^{n_i}(X_{ij}-\\bar X_i)^2 + 2(X_i-\\bar X)\\sum_{j=1}^{n_i}(X_{ij}-\\bar X_i) + n_i(\\bar X_i-\\bar X)^2  \\cr\n",
    "&= (n_i-1)S_i +  n_i(\\bar X_i-\\bar X)^2,\n",
    "}\n",
    "$$\n",
    "\n",
    "since the second term vanishes. Therefore\n",
    "\n",
    "$$\n",
    "(n-1)S = \\sum_{i=1}^k\\sum_{j=1}^{n_i}(X_{ij}-\\bar X)^2 = \\sum_{i=1}^k (n_i-1)S_i + \\sum_{i=1}^k n_i(\\bar X_i-\\bar X)^2.\\tag{11}\n",
    "$$\n",
    "\n",
    "Thus the overall sample variance can be split into a component that only depends upon the partial sample variances and a component that depends on the square of the distances between the partial sample means and the overall sample mean.\n",
    "\n",
    "Only the second term in (11) depends upon the partial sample means. So if we consider the ratio\n",
    "\n",
    "$$\n",
    "{\\sum_i n_i(\\bar X_i-\\bar X)^2\\over \\sum_i (n_i-1)S_i} = {\\sum_i n_i(\\bar X_i-\\bar X)^2\\over \\sum_i\\sum_j (X_{ij}-\\bar X_i)^2 }\n",
    "$$\n",
    "\n",
    "large values will indicate that the means are different. So this appears to be a good test statistic, but what is its probability distribution?\n",
    "\n",
    "Under the null hypothesis all the $X_{ij}$ have the same (unknown) variance $\\sigma^2$ and $\\bar X_i$ has variance\n",
    "$\\sigma^2/n_i$. Rewriting the above ratio as\n",
    "\n",
    "$$\n",
    "{\\sum_i {(\\bar X_i-\\bar X)^2\\over \\sigma^2/n_i} \\over \\sum_i\\sum_j {(X_{ij}-\\bar X_i)^2 \\over \\sigma^2}}\n",
    "$$\n",
    "\n",
    "The numerator has the chi-square distrinution with $k-1$ degrees of freedom, the denominator has the chi-square distribution with $n-k$ degrees of freedom.\n",
    "So if we construct the ratio\n",
    "\n",
    "$$\n",
    "{{1\\over k-1}\\sum_i n_i(\\bar X_i-\\bar X)^2\\over {1\\over n-k}\\sum_i\\sum_j (X_{ij}-\\bar X_i)^2 } = {(n-k)\\sum_i n_i(\\bar X_i-\\bar X)^2\\over (k-1)\\sum_i\\sum_j (X_{ij}-\\bar X_i)^2 }\n",
    "$$\n",
    "\n",
    "and compare with (10) we seem to have a test statistic with the F-distribution with $k-1$ and $n-k$ degrees of freedom."
   ]
  },
  {
   "cell_type": "code",
   "execution_count": null,
   "metadata": {
    "collapsed": false,
    "nbpresent": {
     "id": "a61392b1-9f4c-4985-8d2d-f36b00a8ce5b"
    }
   },
   "outputs": [],
   "source": [
    "import numpy as np\n",
    "from scipy.stats import f\n",
    "X1 = [21,22,26]\n",
    "X2 = [30,29,28]\n",
    "X3 = [25,27]\n",
    "X = X1+X2+X3\n",
    "X1bar = np.mean(X1)\n",
    "X2bar = np.mean(X2)\n",
    "X3bar = np.mean(X3)\n",
    "Xbar = np.mean(X)\n",
    "\n",
    "num = (8-3)*(3*(X1bar-Xbar)**2+3*(X2bar-Xbar)**2+2*(X3bar-Xbar)**2)\n",
    "\n",
    "den = (3-1)*(3*np.var(X1)+3*np.var(X2)+2*np.var(X3) )\n",
    "\n",
    "test = num/den\n",
    "\n",
    "print 'test statistic = %f' %test\n",
    "\n",
    "print 'rejection threshold = %f' %f.ppf(1-0.05,2,5)\n",
    "\n",
    "# P-value\n",
    "\n",
    "print 'p-value = %f' %(1-f.cdf(7.5,2,5))\n"
   ]
  },
  {
   "cell_type": "markdown",
   "metadata": {
    "nbpresent": {
     "id": "48d65c06-b1f8-4b79-b6cc-4608be0e23eb"
    }
   },
   "source": [
    "So, at a significance of $0.05$\n",
    "we can reject the hypothesis that the means are all the same."
   ]
  },
  {
   "cell_type": "markdown",
   "metadata": {
    "nbpresent": {
     "id": "863eb1fa-1025-4d3d-aac4-effdc7099646"
    }
   },
   "source": [
    "\n",
    "### Example: Wishart test (polarimetric SAR change detection)\n",
    "\n",
    "<img src= 'sar.jpg' height='600' width='600' />\n",
    "\n",
    "The power received by a radar transmitting/receiving antenna reflected from a\n",
    "distributed (as opposed to point) target a distance $D$ from the  antenna is given by\n",
    "\n",
    "$$\n",
    "P_R = {P_TG_TG_R\\lambda^2\\sigma^o\\Delta_a\\Delta_r\\over (4\\pi)^3D^4}\\ [W],\n",
    "$$\n",
    "\n",
    "where $P_T$ is the transmitted power $[W\\cdot m^{-2}]$, $\\lambda$ is the operating wavelength~$[m]$,\n",
    "$G_T(G_R)$ is the transmitting(receiving) antenna gain, $\\Delta_a(\\Delta_r)$ is the azimuth(ground range)\n",
    "resolution $[m]$ and $\\sigma^o$ is the unitless scattering coefficient (referred to as the {\\it radar cross section})\n",
    "of the target surface.\n"
   ]
  },
  {
   "cell_type": "markdown",
   "metadata": {
    "nbpresent": {
     "id": "5dba6815-8651-4901-8022-757c415c3d7e"
    }
   },
   "source": [
    "A fully polarimetric SAR measures a\n",
    "$2\\times 2$ *scattering matrix* $\\un S$  at each resolution cell on the ground.\n",
    "The scattering matrix relates the incident and the backscattered\n",
    "electric fields $\\un E^i$ and $\\un E^b$ according to\n",
    "\n",
    "$$\n",
    "\\un E^b = \\un S\\un E^i \\quad\\hbox{or}\\quad \\pmatrix{E_h^b \\cr E_v^b}\n",
    "=\\pmatrix{S_{hh} & S_{hv}\\cr S_{vh} & S_{vv}}\\pmatrix{E_h^i \\cr E_v^i}.\n",
    "$$\n",
    "\n",
    "The per-pixel polarimetric information in the scattering matrix $\\un S$, under the assumption\n",
    "of reciprocity ($S_{hv} = S_{vh}$), can be expressed as a three-component complex vector\n",
    "\n",
    "$$\n",
    "\\un s = \\pmatrix{S_{hh}\\cr \\sqrt{2}S_{hv}\\cr S_{vv}},\n",
    "$$\n",
    "\n",
    "where the $\\sqrt{2}$ ensures that the total intensity (received signal power) is consistent."
   ]
  },
  {
   "cell_type": "markdown",
   "metadata": {
    "nbpresent": {
     "id": "813a59ac-5d46-4bcd-b11f-e68b067c756a"
    }
   },
   "source": [
    "The total intensity is referred to as the *span*,\n",
    "\n",
    "$$\n",
    "{\\rm span} = \\un s^+\\un s = |S_{hh}|^2 + 2|S_{hv}|^2 + |S_{vv}|^2,\n",
    "$$\n",
    "\n",
    "and the corresponding gray-scale image as the {\\it span image}.\n",
    "\n",
    "\n",
    "Another representation of the polarimetric signal is the {\\it complex covariance matrix} $\\un C$, obtained by taking\n",
    "the complex outer product of $\\un s$ with itself:\n",
    "\n",
    "$$\n",
    "\\un C = \\un s\\un s^+ = \\pmatrix{ |S_{hh}|^2 & \\sqrt{2}S_{hh}S_{hv}^* & S_{hh}S_{vv}^* \\cr\n",
    "                                     \\sqrt{2}S_{hv}S_{hh}^* & 2|S_{hv}|^2 & \\sqrt{2}S_{hv}S_{vv}^* \\cr\n",
    "                                     S_{vv}S_{hh}^* & \\sqrt{2}S_{vv}S_{hv}^* & |S_{vv}|^2 }.\n",
    "$$\n",
    "\n",
    "The diagonal elements of $\\un C$ are real numbers, with span $= {\\rm Tr}(\\un C)$, and the off-diagonal\n",
    "elements are complex. The covariance matrix representation contains all of the information in the polarized signal.\n"
   ]
  },
  {
   "cell_type": "markdown",
   "metadata": {
    "nbpresent": {
     "id": "dd779261-d89a-4be9-b09b-801efeabdb27"
    }
   },
   "source": [
    "*Multi-look processing* essentially corresponds to the averaging of neighborhood pixels, with the objective\n",
    "of reducing speckle and compressing the data. In practice the averaging is often not performed in the\n",
    "spatial domain, but rather in the frequency domain during range/azimuth compression of the received signal.\n",
    "The covariance matrix representation contains all of the information in the polarized signal.\n",
    "It can be averaged over the number of looks to give\n",
    "\n",
    "$$\\eqalign{\n",
    "\\bar{\\un C} & ={1\\over m}\\sum_{\\nu=1}^m \\un s(\\nu)\\un s(\\nu)^+ = \\langle \\un s\\un s^+ \\rangle \\cr\n",
    "& = \\pmatrix{ \\langle |S_{hh}|^2\\rangle & \\langle\\sqrt{2}S_{hh}S_{hv}^*\\rangle & \\langle S_{hh}S_{vv}^*\\rangle \\cr\n",
    "\\langle\\sqrt{2} S_{hv}S_{hh}^*\\rangle & \\langle 2|S_{hv}|^2\\rangle & \\langle\\sqrt{2}S_{hv}S_{vv}^*\\rangle \\cr\n",
    "\\langle S_{vv}S_{hh}^*\\rangle & \\langle\\sqrt{2}S_{vv}S_{hv}^*\\rangle & \\langle |S_{vv}|^2\\rangle }.}\n",
    "$$"
   ]
  },
  {
   "cell_type": "markdown",
   "metadata": {
    "nbpresent": {
     "id": "977a64ec-5bce-45f7-8fed-504472f7d303"
    }
   },
   "source": [
    "The quantity\n",
    "\n",
    "$$\n",
    "m\\bar{\\un C} = \\sum_{\\nu=1}^m \\un s(\\nu)\\un s(\\nu)^+ =: \\un x.\n",
    "$$\n",
    "\n",
    "is a realization of a complex sample matrix which is known to have\n",
    "a {\\it complex Wishart distribution} with $N\\times N$ covariance matrix $\\bmS$ (here $N=3$) and $m$ degrees of freedom\n",
    "\n",
    "$$\n",
    "p_{W_c}(\\un x) ={|\\un x|^{(m-N)}\\exp(-{\\rm tr}({\\bf\\Sigma}^{-1}\\un x)) \\over\n",
    "\\pi^{N(N-1)/2}|{\\bf\\Sigma}|^{m}\\prod_{i=1}^N\\Gamma(m+1-i)},\\quad m \\ge N,\n",
    "$$\n",
    "\n",
    "provided that the vectors $\\un s(\\nu)$ are independent and drawn from a complex multivariate normal\n",
    "distribution."
   ]
  },
  {
   "cell_type": "markdown",
   "metadata": {
    "nbpresent": {
     "id": "c706176c-fe97-41dd-8470-38daf1135f56"
    }
   },
   "source": [
    "We represent a pixel vector in an $m$ look-averaged\n",
    "polarimetric SAR image in covariance matrix format by $\\bar{\\un C}$, where\n",
    "\n",
    "$$\n",
    "m\\bar{\\un C} = \\un x = \\sum_{\\nu=1}^m \\un s(\\nu)\\un s(\\nu)^+\n",
    "$$\n",
    "\n",
    "is a realization of a random matrix $\\un X$ with a complex Wishart distribution.\n",
    "If\n",
    "\n",
    "$$\n",
    "\\un X = \\sum_{\\nu=1}^m\\un Z(\\nu)\\un Z(\\nu)^+,\\quad \\un Z(\\nu) \\sim \\mathcal{N}_C(\\un 0,\\bf\\Sigma),\\ \\nu=1\\dots m,\n",
    "$$\n",
    "\n",
    "is complex Wishart distributed with covariance matrix $\\bf\\Sigma$ and $m$ degrees of freedom, \n",
    "then the maximum likelihood estimate\n",
    "for $\\bf\\Sigma$  is\n",
    "\n",
    "$$\n",
    "\\hat{\\bf\\Sigma} = {1\\over m}\\sum_{\\nu=1}^m\\un z(\\nu)\\un z(\\nu)^+ = {1\\over m}\\un x,\n",
    "$$\n",
    "\n",
    "so that each pixel $\\bar{\\un C}$ is the maximum likelihood estimate of $\\bf\\Sigma$."
   ]
  },
  {
   "cell_type": "markdown",
   "metadata": {
    "nbpresent": {
     "id": "9b838f43-f63b-423e-81b8-cfcd00c3f473"
    }
   },
   "source": [
    "To simplify the notation , define\n",
    "\n",
    "$$\n",
    "\\Gamma_N(m) = \\pi^{N(N-1)/2} \\prod_{i=1}^N\\Gamma(m+1-i).\n",
    "$$\n",
    "\n",
    "Then, for two $m$-look quad polarimetric covariance\n",
    "images $\\un X_1$ and $\\un X_2$, the multivariate densities are\n",
    "\n",
    "$$\\eqalign{\n",
    "p(\\un x_1\\mid m,{\\bf\\Sigma_1}) &= { |\\un x_1|^{m-3}\\exp(-\\tr({\\bf\\Sigma}_1^{-1}\\un x_1)) \\over |{\\bf\\Sigma}_1|^m\\Gamma_3(m)}\\cr\n",
    "p(\\un x_2\\mid m,{\\bf\\Sigma_2}) &= { |\\un x_2|^{m-3}\\exp(-\\tr({\\bf\\Sigma}_2^{-1}\\un x_2)) \\over |{\\bf\\Sigma}_2|^m\\Gamma_3(m)}. }\n",
    "$$"
   ]
  },
  {
   "cell_type": "markdown",
   "metadata": {
    "nbpresent": {
     "id": "5a2a1b7c-3a3c-48d3-9025-35326365cdcb"
    }
   },
   "source": [
    "We now define the null (or no-change) simple  hypothesis\n",
    "\n",
    "$$\n",
    "H_0:\\quad {\\bf\\Sigma}_1 = {\\bf\\Sigma}_2 = {\\bf\\Sigma},\n",
    "$$\n",
    "\n",
    "against the alternative composite hypothesis\n",
    "$$\n",
    "H_1:\\quad {\\bf\\Sigma}_1 \\ne {\\bf\\Sigma}_2.\n",
    "$$\n",
    "\n",
    "Under $H_0$ the likelihood for ${\\bf\\Sigma}$ is given by\n",
    "\n",
    "$$\n",
    "L({\\bf\\Sigma}) = p(\\un x_1\\mid m,{\\bf\\Sigma})p(\\un x_2\\mid m,{\\bf\\Sigma})  = { |\\un x_1|^{m-3}|\\un x_2|^{m-3}\\exp(-\\tr({\\bf\\Sigma}^{-1}(\\un x_1+ \\un x_2))) \\over |{\\bf\\Sigma}|^{2m}\\Gamma_3(m)^2}.\n",
    "$$"
   ]
  },
  {
   "cell_type": "markdown",
   "metadata": {
    "nbpresent": {
     "id": "a0f3a778-32aa-45a4-9b8d-cebad54574f4"
    }
   },
   "source": [
    "The maximum likelihood estimate of ${\\bf\\Sigma}$  is\n",
    "\n",
    "$$\n",
    "\\hat{\\bf\\Sigma} = {1\\over 2m}(\\un x_1+\\un x_2).\n",
    "$$\n",
    "\n",
    "Hence the maximum likelihood under the null hypothesis is\n",
    "\n",
    "$$\n",
    "L(\\hat{\\bf\\Sigma}) = { |\\un x_1|^{m-3}|\\un x_2|^{m-3}\\exp(-2m\\cdot\\tr(\\un I)) \\over \\left({1\\over 2m}\\right)^{3\\cdot 2m}|\\un x_1+\\un x_2|^{2m}\\Gamma_3(m)^2 },\n",
    "$$\n",
    "\n",
    "where $\\un I$ is the $3\\times 3$ identity matrix and $\\tr(\\un I)=3$."
   ]
  },
  {
   "cell_type": "markdown",
   "metadata": {
    "nbpresent": {
     "id": "38e0fce6-359e-4dc9-876c-cae4ec00a07b"
    }
   },
   "source": [
    "Under $H_1$ we obtain, similarly, the maximum likelihood for ${\\bf\\Sigma}_1$ and  ${\\bf\\Sigma}_2$ as\n",
    "\n",
    "$$\n",
    "L(\\hat{\\bf\\Sigma}_1,\\hat{\\bf\\Sigma}_2) = { |\\un x_1|^{m-3}|\\un x_2|^{m-3}\\exp(-2m\\cdot\\tr(\\un I)) \\over \\left({1\\over m}\\right)^{3m}\\left({1\\over m}\\right)^{3m} |\\un x_1|^m |\\un x_2|^m\\Gamma_3(m)^2 }\n",
    "$$\n",
    "\n",
    "Then the Likelihood ratio test has the critical region\n",
    "\n",
    "$$\n",
    "Q = {L(\\hat{\\bf\\Sigma}) \\over L(\\hat{\\bf\\Sigma}_1,\\hat{\\bf\\Sigma}_2) } = 2^{6m}{ |\\un x_1|^m |\\un x_2|^m \\over |\\un x_1 + \\un x_2|^{2m} } \\le k.\n",
    "$$"
   ]
  },
  {
   "cell_type": "markdown",
   "metadata": {
    "nbpresent": {
     "id": "26b4ec4a-3f7e-4eae-ab67-5a6b85f0098e"
    }
   },
   "source": [
    "For a large number of looks $m$, we can apply the asymptotic approximation described above to obtain the following\n",
    "distribution for the test statistic: As $m\\to\\infty$, the quantity\n",
    "\n",
    "$$\n",
    "-2\\log Q = -2m( 6\\log 2 + \\log|\\un x_1| + \\log|\\un x_2| -2\\log|\\un x_1+\\un x_2| )\n",
    "$$\n",
    "\n",
    "is a realization of a chi-square random variable with 9 degrees of freedom, i.e.,\n",
    "\n",
    "$$\n",
    "\\pr(-2\\log Q\\le z) \\simeq P_{\\chi^2;9}(z).\n",
    "$$\n",
    "\n",
    "This follows from the fact that the number of parameters required to specify a $3\\times 3$\n",
    "complex covariance matrix is 9: three for the real diagonal elements and $2\\times 3$ for \n",
    "the three complex elements above the diagonal.\n",
    "Thus the parameter space $\\omega$ for $({\\bf\\Sigma}_1,{\\bf\\Sigma}_2)$ has dimension $q=2\\times 9$,  and the\n",
    "subspace $\\omega_0$ for the simple null hypothesis has dimension $r=9$, so $q-r=9$."
   ]
  },
  {
   "cell_type": "markdown",
   "metadata": {
    "nbpresent": {
     "id": "3a781547-b877-4efe-8d26-f5b1a9b01ed9"
    }
   },
   "source": [
    "### Multitemporal data\n",
    "\n",
    "The preceding discussion generalizes in a straightforward way to a time series of $n$ images (<a href=\"http://www2.imm.dtu.dk/pubdb/views/publication_details.php?id=6825\">Conradsen et al (2016)</a>). In the equation for the test statistic $Q$ above, the numerator consists of a product $k$ determinants $|\\un x_1|\\cdot|\\un x_2|\\cdot\\dots|\\un x_n|$ and the denominator similarly the determinant of the sum of the $n$ observations $|\\un x_1+\\un x_2+\\dots \\un x_n|$. The multitemporal test is referred to as the __omnibus test__ will in general be more powerful (have a higher detection probability) for the same significance level than a bitemporal test just involving the first and last images. Furthermore, the test statistic can be factored into a product of test statistics that can be used to ascertain the time or times at which significant changes occur in the series.\n",
    "\n",
    "For each pixel:\n",
    "\n",
    "Test $\\Sigma_1 = \\Sigma_2$ against $\\Sigma_1 \\ne \\Sigma_2$\n",
    "\n",
    "If we don't reject $H_0$ then test $\\Sigma_1 = \\Sigma_2=\\Sigma_3$ against $\\Sigma_1 = \\Sigma_2 \\ne \\Sigma_3$\n",
    "\n",
    "If we reject, then start over from that point and test $\\Sigma_3=\\Sigma_4$ against $\\Sigma_3 \\ne \\Sigma_4$, etc."
   ]
  },
  {
   "cell_type": "code",
   "execution_count": null,
   "metadata": {
    "collapsed": true,
    "nbpresent": {
     "id": "23ced9f2-5ce4-47e4-96d7-043966e2fbe4"
    }
   },
   "outputs": [],
   "source": []
  }
 ],
 "metadata": {
  "anaconda-cloud": {},
  "kernelspec": {
   "display_name": "Python [Root]",
   "language": "python",
   "name": "Python [Root]"
  },
  "language_info": {
   "codemirror_mode": {
    "name": "ipython",
    "version": 2
   },
   "file_extension": ".py",
   "mimetype": "text/x-python",
   "name": "python",
   "nbconvert_exporter": "python",
   "pygments_lexer": "ipython2",
   "version": "2.7.12"
  },
  "nbpresent": {
   "slides": {
    "02833130-b2ba-4553-aff9-a4edcfb64269": {
     "id": "02833130-b2ba-4553-aff9-a4edcfb64269",
     "prev": "e5e09d0e-c869-4c6d-a5dd-0832b5a264ff",
     "regions": {
      "43fa756a-1707-419d-b20d-d92e314838f7": {
       "attrs": {
        "height": 0.8,
        "width": 0.8,
        "x": 0.1,
        "y": 0.1
       },
       "content": {
        "cell": "710a04ae-2589-4d0f-8535-d89cfa2005d6",
        "part": "whole"
       },
       "id": "43fa756a-1707-419d-b20d-d92e314838f7"
      }
     }
    },
    "0f9473ca-d0a3-4408-9beb-c841d31042d8": {
     "id": "0f9473ca-d0a3-4408-9beb-c841d31042d8",
     "prev": "a6273f81-7a2f-43a6-aa5b-c097ec442649",
     "regions": {
      "ec19de10-bb01-47b7-adde-c68c25e8ba50": {
       "attrs": {
        "height": 0.8,
        "width": 0.8,
        "x": 0.1,
        "y": 0.1
       },
       "content": {
        "cell": "c706176c-fe97-41dd-8470-38daf1135f56",
        "part": "whole"
       },
       "id": "ec19de10-bb01-47b7-adde-c68c25e8ba50"
      }
     }
    },
    "10eafe97-2d16-4223-b9f1-813c302583e7": {
     "id": "10eafe97-2d16-4223-b9f1-813c302583e7",
     "prev": "53935059-8024-4ff2-811c-4e7ebbe004ba",
     "regions": {
      "6bc1fce7-cb64-4eda-9115-4d8b753fe95e": {
       "attrs": {
        "height": 0.8,
        "width": 0.8,
        "x": 0.1,
        "y": 0.1
       },
       "content": {
        "cell": "ae86d8ef-64c5-41c0-8088-2a3907e7f18b",
        "part": "whole"
       },
       "id": "6bc1fce7-cb64-4eda-9115-4d8b753fe95e"
      }
     }
    },
    "14022d70-886d-444c-892c-3e3b017b9bd3": {
     "id": "14022d70-886d-444c-892c-3e3b017b9bd3",
     "prev": "88e24b4e-3f55-4ead-ab9a-ddcbc757476e",
     "regions": {
      "40c2e0d9-4dc1-461a-bbf5-1173f278a0c7": {
       "attrs": {
        "height": 0.8,
        "width": 0.8,
        "x": 0.1,
        "y": 0.1
       },
       "content": {
        "cell": "15f352b2-7b98-47b7-ad4b-f7a0a4733ce0",
        "part": "whole"
       },
       "id": "40c2e0d9-4dc1-461a-bbf5-1173f278a0c7"
      }
     }
    },
    "21c9f5e8-a10e-43cf-bd42-f01908e198ba": {
     "id": "21c9f5e8-a10e-43cf-bd42-f01908e198ba",
     "prev": "02833130-b2ba-4553-aff9-a4edcfb64269",
     "regions": {
      "469094a7-caea-422b-93a3-e0bc0a59d0f7": {
       "attrs": {
        "height": 0.8,
        "width": 0.8,
        "x": 0.1,
        "y": 0.1
       },
       "content": {
        "cell": "1df3f130-4fee-4cc3-a22b-29866c0fa8a3",
        "part": "whole"
       },
       "id": "469094a7-caea-422b-93a3-e0bc0a59d0f7"
      }
     }
    },
    "244b9e86-25db-43ef-9b76-6cb20ea8e517": {
     "id": "244b9e86-25db-43ef-9b76-6cb20ea8e517",
     "prev": "defe4249-7730-42e3-a01d-57764b3d39cd",
     "regions": {
      "14fd4fd0-c170-4cc3-815e-d36b5f77a0e6": {
       "attrs": {
        "height": 0.8,
        "width": 0.8,
        "x": 0.1,
        "y": 0.1
       },
       "content": {
        "cell": "a61392b1-9f4c-4985-8d2d-f36b00a8ce5b",
        "part": "whole"
       },
       "id": "14fd4fd0-c170-4cc3-815e-d36b5f77a0e6"
      }
     }
    },
    "248e02f7-86de-4948-bac4-46376b92b710": {
     "id": "248e02f7-86de-4948-bac4-46376b92b710",
     "prev": "651585bf-cebf-4414-99a0-3002864bd2fe",
     "regions": {
      "83950842-543d-4897-bc34-8f3ebf2bbbec": {
       "attrs": {
        "height": 0.8,
        "width": 0.8,
        "x": 0.1,
        "y": 0.1
       },
       "content": {
        "cell": "25fd53d9-052d-47df-a38b-f8f0dbb5cc84",
        "part": "whole"
       },
       "id": "83950842-543d-4897-bc34-8f3ebf2bbbec"
      }
     }
    },
    "258b63d4-54e1-43bc-8373-9b6ca4473c81": {
     "id": "258b63d4-54e1-43bc-8373-9b6ca4473c81",
     "prev": "d64a1f0a-c4cd-440a-b9ab-70342602fc2d",
     "regions": {
      "607d131f-ed97-4d66-8421-279c92fe8408": {
       "attrs": {
        "height": 0.8,
        "width": 0.8,
        "x": 0.1,
        "y": 0.1
       },
       "content": {
        "cell": "23ced9f2-5ce4-47e4-96d7-043966e2fbe4",
        "part": "whole"
       },
       "id": "607d131f-ed97-4d66-8421-279c92fe8408"
      }
     }
    },
    "27d16107-dce3-452e-897f-a265c968c79d": {
     "id": "27d16107-dce3-452e-897f-a265c968c79d",
     "prev": "aaa5a01f-8ae0-4534-94ed-da2bc322fc22",
     "regions": {
      "a10c5a3d-28a3-4058-93f5-911630aa90ab": {
       "attrs": {
        "height": 0.8,
        "width": 0.8,
        "x": 0.1,
        "y": 0.1
       },
       "content": {
        "cell": "69afd515-9600-4e26-9310-2205062f705e",
        "part": "whole"
       },
       "id": "a10c5a3d-28a3-4058-93f5-911630aa90ab"
      }
     }
    },
    "3b2161b8-96c4-42c6-8ae1-e40e4a70d705": {
     "id": "3b2161b8-96c4-42c6-8ae1-e40e4a70d705",
     "prev": "14022d70-886d-444c-892c-3e3b017b9bd3",
     "regions": {
      "24f91a06-b1e9-4493-96d7-d95cbc786318": {
       "attrs": {
        "height": 0.8,
        "width": 0.8,
        "x": 0.1,
        "y": 0.1
       },
       "content": {
        "cell": "7d02359e-c981-42a6-a6b1-302b0513a0b3",
        "part": "whole"
       },
       "id": "24f91a06-b1e9-4493-96d7-d95cbc786318"
      }
     }
    },
    "43691ad1-e98c-4548-a8e4-10f062c01166": {
     "id": "43691ad1-e98c-4548-a8e4-10f062c01166",
     "prev": "92481d8f-e0b3-4172-a4b5-036da902f929",
     "regions": {
      "cc0d037e-5bd9-4dfc-ab38-81b5e4b4345c": {
       "attrs": {
        "height": 0.8,
        "width": 0.8,
        "x": 0.1,
        "y": 0.1
       },
       "content": {
        "cell": "38e0fce6-359e-4dc9-876c-cae4ec00a07b",
        "part": "whole"
       },
       "id": "cc0d037e-5bd9-4dfc-ab38-81b5e4b4345c"
      }
     }
    },
    "4a0d346a-4b32-4f48-bdae-7ebdd9b5ab90": {
     "id": "4a0d346a-4b32-4f48-bdae-7ebdd9b5ab90",
     "prev": "7cbdd0b0-cbaa-449b-a1fe-859d1b949a6f",
     "regions": {
      "5d79e7f8-7461-4e4e-90a0-8ebe3a2b48e8": {
       "attrs": {
        "height": 0.8,
        "width": 0.8,
        "x": 0.1,
        "y": 0.1
       },
       "content": {
        "cell": "d13910ea-8e7b-468d-af84-09a111c863ab",
        "part": "whole"
       },
       "id": "5d79e7f8-7461-4e4e-90a0-8ebe3a2b48e8"
      }
     }
    },
    "53935059-8024-4ff2-811c-4e7ebbe004ba": {
     "id": "53935059-8024-4ff2-811c-4e7ebbe004ba",
     "prev": "cf4c60a3-23cc-466b-ac60-ecb7de67f88c",
     "regions": {
      "e4307f0f-a209-4b73-96d3-62f55b9c4c74": {
       "attrs": {
        "height": 0.8,
        "width": 0.8,
        "x": 0.1,
        "y": 0.1
       },
       "content": {
        "cell": "0000d4ea-3309-4df7-911a-14435fd5550f",
        "part": "whole"
       },
       "id": "e4307f0f-a209-4b73-96d3-62f55b9c4c74"
      }
     }
    },
    "5a159ca3-bd62-4f23-8eb5-246874f598a5": {
     "id": "5a159ca3-bd62-4f23-8eb5-246874f598a5",
     "prev": "72a02d57-0da7-401c-8475-8d085e91a611",
     "regions": {
      "bf074a2f-5fd7-4949-ace0-064f2de0a4d0": {
       "attrs": {
        "height": 0.8,
        "width": 0.8,
        "x": 0.1,
        "y": 0.1
       },
       "content": {
        "cell": "d887ec6f-60c1-4a40-90ef-5605ce5a6d92",
        "part": "whole"
       },
       "id": "bf074a2f-5fd7-4949-ace0-064f2de0a4d0"
      }
     }
    },
    "63c0ba72-6cbe-4b5a-8316-c0e2a0f810dc": {
     "id": "63c0ba72-6cbe-4b5a-8316-c0e2a0f810dc",
     "prev": "10eafe97-2d16-4223-b9f1-813c302583e7",
     "regions": {
      "984fcc07-9f9f-4832-a335-835528fc0d8e": {
       "attrs": {
        "height": 0.8,
        "width": 0.8,
        "x": 0.1,
        "y": 0.1
       },
       "content": {
        "cell": "8fe982e4-f7c2-4197-9b3e-31a53eaaf7b5",
        "part": "whole"
       },
       "id": "984fcc07-9f9f-4832-a335-835528fc0d8e"
      }
     }
    },
    "64d969bb-23f2-4203-af56-db9becdea911": {
     "id": "64d969bb-23f2-4203-af56-db9becdea911",
     "prev": "244b9e86-25db-43ef-9b76-6cb20ea8e517",
     "regions": {
      "95d994c1-6d77-425d-ad5d-c7b9811e6a96": {
       "attrs": {
        "height": 0.8,
        "width": 0.8,
        "x": 0.1,
        "y": 0.1
       },
       "content": {
        "cell": "48d65c06-b1f8-4b79-b6cc-4608be0e23eb",
        "part": "whole"
       },
       "id": "95d994c1-6d77-425d-ad5d-c7b9811e6a96"
      }
     }
    },
    "651585bf-cebf-4414-99a0-3002864bd2fe": {
     "id": "651585bf-cebf-4414-99a0-3002864bd2fe",
     "prev": "9d484c4e-67cb-46b8-a301-142a90c6fa13",
     "regions": {
      "1079e533-6d79-4335-b4ee-1386eba861aa": {
       "attrs": {
        "height": 0.8,
        "width": 0.8,
        "x": 0.1,
        "y": 0.1
       },
       "content": {
        "cell": "2340fd3a-6149-4eea-80d6-75cfb112c347",
        "part": "whole"
       },
       "id": "1079e533-6d79-4335-b4ee-1386eba861aa"
      }
     }
    },
    "66e2c2a6-6d9c-4947-8004-7e6a2ceb9345": {
     "id": "66e2c2a6-6d9c-4947-8004-7e6a2ceb9345",
     "prev": "b8bc0ee5-1ef3-4923-a3d7-0a12b22789dc",
     "regions": {
      "15a07eee-03b6-4534-9031-15d43f34fd21": {
       "attrs": {
        "height": 0.8,
        "width": 0.8,
        "x": 0.1,
        "y": 0.1
       },
       "content": {
        "cell": "1322ae67-a11a-4b61-bcb7-963b802bf2cf",
        "part": "whole"
       },
       "id": "15a07eee-03b6-4534-9031-15d43f34fd21"
      }
     }
    },
    "726a7e7c-b256-4dcb-899c-78f28fa3fca5": {
     "id": "726a7e7c-b256-4dcb-899c-78f28fa3fca5",
     "prev": "abcd15b0-cdd1-451b-a0d4-a3d99465b52a",
     "regions": {
      "68fd6dbd-4129-4d21-85db-2378a005935a": {
       "attrs": {
        "height": 0.8,
        "width": 0.8,
        "x": 0.1,
        "y": 0.1
       },
       "content": {
        "cell": "813a59ac-5d46-4bcd-b11f-e68b067c756a",
        "part": "whole"
       },
       "id": "68fd6dbd-4129-4d21-85db-2378a005935a"
      }
     }
    },
    "72a02d57-0da7-401c-8475-8d085e91a611": {
     "id": "72a02d57-0da7-401c-8475-8d085e91a611",
     "prev": "4a0d346a-4b32-4f48-bdae-7ebdd9b5ab90",
     "regions": {
      "b26c2662-c427-4730-a771-727542ea0ddb": {
       "attrs": {
        "height": 0.8,
        "width": 0.8,
        "x": 0.1,
        "y": 0.1
       },
       "content": {
        "cell": "ac7e823e-f2db-47cb-a0f8-0f3769bf9338",
        "part": "whole"
       },
       "id": "b26c2662-c427-4730-a771-727542ea0ddb"
      }
     }
    },
    "7cbdd0b0-cbaa-449b-a1fe-859d1b949a6f": {
     "id": "7cbdd0b0-cbaa-449b-a1fe-859d1b949a6f",
     "prev": "f4cb0444-1fb5-44c0-ae9c-a74fae387198",
     "regions": {
      "20a9a193-2ac9-46d6-b6f2-c5c565c4eedf": {
       "attrs": {
        "height": 0.8,
        "width": 0.8,
        "x": 0.1,
        "y": 0.1
       },
       "content": {
        "cell": "4c913aeb-3c86-4b3d-bdc0-1f9deb07eb49",
        "part": "whole"
       },
       "id": "20a9a193-2ac9-46d6-b6f2-c5c565c4eedf"
      }
     }
    },
    "7ef2b66b-cb82-4f89-8c72-de2a135b0d75": {
     "id": "7ef2b66b-cb82-4f89-8c72-de2a135b0d75",
     "prev": "edf3392b-cefc-4ab1-9e26-d4dbba66de39",
     "regions": {
      "63a8610e-91b1-4221-9110-74c56d9ae6fd": {
       "attrs": {
        "height": 0.8,
        "width": 0.8,
        "x": 0.1,
        "y": 0.1
       },
       "content": {
        "cell": "94ea87ef-d5ee-4648-97f2-0ee1bc9bed70",
        "part": "whole"
       },
       "id": "63a8610e-91b1-4221-9110-74c56d9ae6fd"
      }
     }
    },
    "88e24b4e-3f55-4ead-ab9a-ddcbc757476e": {
     "id": "88e24b4e-3f55-4ead-ab9a-ddcbc757476e",
     "prev": "de350e1f-b9a0-4b44-b099-5643e55239be",
     "regions": {
      "d7489cb5-647f-44ff-80cf-96d1b5384cde": {
       "attrs": {
        "height": 0.8,
        "width": 0.8,
        "x": 0.1,
        "y": 0.1
       },
       "content": {
        "cell": "9f507ba7-bebe-4d20-ba33-2a83967af249",
        "part": "whole"
       },
       "id": "d7489cb5-647f-44ff-80cf-96d1b5384cde"
      }
     }
    },
    "8a4fecb0-ca23-458d-b6d5-6abbd800da32": {
     "id": "8a4fecb0-ca23-458d-b6d5-6abbd800da32",
     "prev": "5a159ca3-bd62-4f23-8eb5-246874f598a5",
     "regions": {
      "ac23d8e5-c9e7-4293-a257-a10de2581df5": {
       "attrs": {
        "height": 0.8,
        "width": 0.8,
        "x": 0.1,
        "y": 0.1
       },
       "content": {
        "cell": "388c8377-f5c2-48df-afc8-763929561788",
        "part": "whole"
       },
       "id": "ac23d8e5-c9e7-4293-a257-a10de2581df5"
      }
     }
    },
    "92481d8f-e0b3-4172-a4b5-036da902f929": {
     "id": "92481d8f-e0b3-4172-a4b5-036da902f929",
     "prev": "a03e8f80-fd33-49a1-a91b-ede61c5f65f6",
     "regions": {
      "6ff976d3-9adc-47c0-a7e2-4cb3b68df843": {
       "attrs": {
        "height": 0.8,
        "width": 0.8,
        "x": 0.1,
        "y": 0.1
       },
       "content": {
        "cell": "a0f3a778-32aa-45a4-9b8d-cebad54574f4",
        "part": "whole"
       },
       "id": "6ff976d3-9adc-47c0-a7e2-4cb3b68df843"
      }
     }
    },
    "967e0964-70d7-4f2c-8754-9816bd5fde34": {
     "id": "967e0964-70d7-4f2c-8754-9816bd5fde34",
     "prev": "64d969bb-23f2-4203-af56-db9becdea911",
     "regions": {
      "b9370994-32fb-4902-9365-b4f8784e6f26": {
       "attrs": {
        "height": 0.8,
        "width": 0.8,
        "x": 0.1,
        "y": 0.1
       },
       "content": {
        "cell": "863eb1fa-1025-4d3d-aac4-effdc7099646",
        "part": "whole"
       },
       "id": "b9370994-32fb-4902-9365-b4f8784e6f26"
      }
     }
    },
    "9ce86bed-0abf-4b35-876d-9b53394facf3": {
     "id": "9ce86bed-0abf-4b35-876d-9b53394facf3",
     "prev": "726a7e7c-b256-4dcb-899c-78f28fa3fca5",
     "regions": {
      "b9a47b9b-3b96-4ee5-9a7f-275f75cf213c": {
       "attrs": {
        "height": 0.8,
        "width": 0.8,
        "x": 0.1,
        "y": 0.1
       },
       "content": {
        "cell": "dd779261-d89a-4be9-b09b-801efeabdb27",
        "part": "whole"
       },
       "id": "b9a47b9b-3b96-4ee5-9a7f-275f75cf213c"
      }
     }
    },
    "9d484c4e-67cb-46b8-a301-142a90c6fa13": {
     "id": "9d484c4e-67cb-46b8-a301-142a90c6fa13",
     "prev": "b7064fce-0163-4228-9338-28d9806dbf5a",
     "regions": {
      "0324e2b9-a52b-4548-bd89-a287fee3f9d8": {
       "attrs": {
        "height": 0.8,
        "width": 0.8,
        "x": 0.1,
        "y": 0.1
       },
       "content": {
        "cell": "6c3fd567-c1f1-4cff-ae3a-8f1a2768db6d",
        "part": "whole"
       },
       "id": "0324e2b9-a52b-4548-bd89-a287fee3f9d8"
      }
     }
    },
    "a03e8f80-fd33-49a1-a91b-ede61c5f65f6": {
     "id": "a03e8f80-fd33-49a1-a91b-ede61c5f65f6",
     "prev": "e863f99c-e0de-4345-94bb-f0cafac763dd",
     "regions": {
      "1f7e0b90-8aba-4383-b86a-938a584d5d43": {
       "attrs": {
        "height": 0.8,
        "width": 0.8,
        "x": 0.1,
        "y": 0.1
       },
       "content": {
        "cell": "5a2a1b7c-3a3c-48d3-9025-35326365cdcb",
        "part": "whole"
       },
       "id": "1f7e0b90-8aba-4383-b86a-938a584d5d43"
      }
     }
    },
    "a6273f81-7a2f-43a6-aa5b-c097ec442649": {
     "id": "a6273f81-7a2f-43a6-aa5b-c097ec442649",
     "prev": "9ce86bed-0abf-4b35-876d-9b53394facf3",
     "regions": {
      "6a1eaff9-0d26-4650-83fe-8cca31be476c": {
       "attrs": {
        "height": 0.8,
        "width": 0.8,
        "x": 0.1,
        "y": 0.1
       },
       "content": {
        "cell": "977a64ec-5bce-45f7-8fed-504472f7d303",
        "part": "whole"
       },
       "id": "6a1eaff9-0d26-4650-83fe-8cca31be476c"
      }
     }
    },
    "aaa5a01f-8ae0-4534-94ed-da2bc322fc22": {
     "id": "aaa5a01f-8ae0-4534-94ed-da2bc322fc22",
     "prev": "7ef2b66b-cb82-4f89-8c72-de2a135b0d75",
     "regions": {
      "5b4ab1d0-a535-4f70-b6b5-fa985776ae80": {
       "attrs": {
        "height": 0.8,
        "width": 0.8,
        "x": 0.1,
        "y": 0.1
       },
       "content": {
        "cell": "77afc68f-8835-4e48-babc-3e0e41abd98e",
        "part": "whole"
       },
       "id": "5b4ab1d0-a535-4f70-b6b5-fa985776ae80"
      }
     }
    },
    "abcd15b0-cdd1-451b-a0d4-a3d99465b52a": {
     "id": "abcd15b0-cdd1-451b-a0d4-a3d99465b52a",
     "prev": "967e0964-70d7-4f2c-8754-9816bd5fde34",
     "regions": {
      "9c27f61c-ca17-44f6-992e-7a588d68f617": {
       "attrs": {
        "height": 0.8,
        "width": 0.8,
        "x": 0.1,
        "y": 0.1
       },
       "content": {
        "cell": "5dba6815-8651-4901-8022-757c415c3d7e",
        "part": "whole"
       },
       "id": "9c27f61c-ca17-44f6-992e-7a588d68f617"
      }
     }
    },
    "afb68271-cf4c-48da-9813-fca156b9225a": {
     "id": "afb68271-cf4c-48da-9813-fca156b9225a",
     "prev": "3b2161b8-96c4-42c6-8ae1-e40e4a70d705",
     "regions": {
      "982025bb-37d1-460e-bdf3-000196f37b65": {
       "attrs": {
        "height": 0.8,
        "width": 0.8,
        "x": 0.1,
        "y": 0.1
       },
       "content": {
        "cell": "946cc548-401f-4e9b-b804-47e7574fc77d",
        "part": "whole"
       },
       "id": "982025bb-37d1-460e-bdf3-000196f37b65"
      }
     }
    },
    "b7064fce-0163-4228-9338-28d9806dbf5a": {
     "id": "b7064fce-0163-4228-9338-28d9806dbf5a",
     "prev": "ee1628ab-f43d-4eda-bcd9-fa3a26055ca7",
     "regions": {
      "d8c8f9f5-0d0c-401a-a617-1bb65eaa41cf": {
       "attrs": {
        "height": 0.8,
        "width": 0.8,
        "x": 0.1,
        "y": 0.1
       },
       "content": {
        "cell": "44996587-a69d-42a8-83ee-1b956cdbac1c",
        "part": "whole"
       },
       "id": "d8c8f9f5-0d0c-401a-a617-1bb65eaa41cf"
      }
     }
    },
    "b8bc0ee5-1ef3-4923-a3d7-0a12b22789dc": {
     "id": "b8bc0ee5-1ef3-4923-a3d7-0a12b22789dc",
     "prev": "27d16107-dce3-452e-897f-a265c968c79d",
     "regions": {
      "16d59b7d-1a60-42d1-af4a-821da2a3bad5": {
       "attrs": {
        "height": 0.8,
        "width": 0.8,
        "x": 0.1,
        "y": 0.1
       },
       "content": {
        "cell": "0d618934-cb6b-4931-9eff-4d16d62ad179",
        "part": "whole"
       },
       "id": "16d59b7d-1a60-42d1-af4a-821da2a3bad5"
      }
     }
    },
    "c59578aa-17bb-4952-b650-eaa7ff33bc58": {
     "id": "c59578aa-17bb-4952-b650-eaa7ff33bc58",
     "prev": "43691ad1-e98c-4548-a8e4-10f062c01166",
     "regions": {
      "6fa00f73-2d6d-4002-9a8b-1146fbd5f343": {
       "attrs": {
        "height": 0.8,
        "width": 0.8,
        "x": 0.1,
        "y": 0.1
       },
       "content": {
        "cell": "26b4ec4a-3f7e-4eae-ab67-5a6b85f0098e",
        "part": "whole"
       },
       "id": "6fa00f73-2d6d-4002-9a8b-1146fbd5f343"
      }
     }
    },
    "ccb9f649-0816-496f-9952-c9600c6c601f": {
     "id": "ccb9f649-0816-496f-9952-c9600c6c601f",
     "prev": "afb68271-cf4c-48da-9813-fca156b9225a",
     "regions": {
      "655cbd62-4f3b-4119-a024-aade8c499ed1": {
       "attrs": {
        "height": 0.8,
        "width": 0.8,
        "x": 0.1,
        "y": 0.1
       },
       "content": {
        "cell": "ffb64db1-1f28-4113-bf99-431c056adbbb",
        "part": "whole"
       },
       "id": "655cbd62-4f3b-4119-a024-aade8c499ed1"
      }
     }
    },
    "cf4c60a3-23cc-466b-ac60-ecb7de67f88c": {
     "id": "cf4c60a3-23cc-466b-ac60-ecb7de67f88c",
     "prev": "66e2c2a6-6d9c-4947-8004-7e6a2ceb9345",
     "regions": {
      "ce4ef736-2bf0-407b-a52b-a67cf884dd58": {
       "attrs": {
        "height": 0.8,
        "width": 0.8,
        "x": 0.1,
        "y": 0.1
       },
       "content": {
        "cell": "5896b541-46b3-48e5-b5df-86397d68cd82",
        "part": "whole"
       },
       "id": "ce4ef736-2bf0-407b-a52b-a67cf884dd58"
      }
     }
    },
    "d64a1f0a-c4cd-440a-b9ab-70342602fc2d": {
     "id": "d64a1f0a-c4cd-440a-b9ab-70342602fc2d",
     "prev": "c59578aa-17bb-4952-b650-eaa7ff33bc58",
     "regions": {
      "e55f7fd3-f376-48f5-ac25-456267d89687": {
       "attrs": {
        "height": 0.8,
        "width": 0.8,
        "x": 0.1,
        "y": 0.1
       },
       "content": {
        "cell": "3a781547-b877-4efe-8d26-f5b1a9b01ed9",
        "part": "whole"
       },
       "id": "e55f7fd3-f376-48f5-ac25-456267d89687"
      }
     }
    },
    "dbc12980-88aa-415a-a354-ac8f1603c759": {
     "id": "dbc12980-88aa-415a-a354-ac8f1603c759",
     "prev": "e6f9e576-66ca-4766-9883-7d8a11122dca",
     "regions": {
      "b8081a0d-c992-4e76-bb85-7d3f7ef5c5ec": {
       "attrs": {
        "height": 0.8,
        "width": 0.8,
        "x": 0.1,
        "y": 0.1
       },
       "content": {
        "cell": "24e4e8bd-b5df-4744-b6ac-0ed44c8331c3",
        "part": "whole"
       },
       "id": "b8081a0d-c992-4e76-bb85-7d3f7ef5c5ec"
      }
     }
    },
    "de350e1f-b9a0-4b44-b099-5643e55239be": {
     "id": "de350e1f-b9a0-4b44-b099-5643e55239be",
     "prev": "e0123b4f-b88e-485d-acd4-bc230c16574b",
     "regions": {
      "9dc7cb23-660c-4040-83fe-e7b7cea618f4": {
       "attrs": {
        "height": 0.8,
        "width": 0.8,
        "x": 0.1,
        "y": 0.1
       },
       "content": {
        "cell": "56d7bd62-983a-4a1e-8c87-2ed7ad544528",
        "part": "whole"
       },
       "id": "9dc7cb23-660c-4040-83fe-e7b7cea618f4"
      }
     }
    },
    "defe4249-7730-42e3-a01d-57764b3d39cd": {
     "id": "defe4249-7730-42e3-a01d-57764b3d39cd",
     "prev": "e21f982c-3a47-4de1-ba24-61f03f8c60b5",
     "regions": {
      "8ff3d8d2-4b5b-48ba-9409-7fae59f7035b": {
       "attrs": {
        "height": 0.8,
        "width": 0.8,
        "x": 0.1,
        "y": 0.1
       },
       "content": {
        "cell": "d80fd259-da12-444a-b678-26ead4fad6c6",
        "part": "whole"
       },
       "id": "8ff3d8d2-4b5b-48ba-9409-7fae59f7035b"
      }
     }
    },
    "e0123b4f-b88e-485d-acd4-bc230c16574b": {
     "id": "e0123b4f-b88e-485d-acd4-bc230c16574b",
     "prev": null,
     "regions": {
      "bb1c7b33-ad15-41db-a3b4-a736d2b536f0": {
       "attrs": {
        "height": 0.8,
        "width": 0.8,
        "x": 0.1,
        "y": 0.1
       },
       "content": {
        "cell": "5f314f94-8a03-4773-88a6-56d76571d56b",
        "part": "whole"
       },
       "id": "bb1c7b33-ad15-41db-a3b4-a736d2b536f0"
      }
     }
    },
    "e21f982c-3a47-4de1-ba24-61f03f8c60b5": {
     "id": "e21f982c-3a47-4de1-ba24-61f03f8c60b5",
     "prev": "63c0ba72-6cbe-4b5a-8316-c0e2a0f810dc",
     "regions": {
      "5a5b026a-66eb-4333-87d9-6b14a5768681": {
       "attrs": {
        "height": 0.8,
        "width": 0.8,
        "x": 0.1,
        "y": 0.1
       },
       "content": {
        "cell": "e6203571-8bcd-4d43-88d7-d0caf894485c",
        "part": "whole"
       },
       "id": "5a5b026a-66eb-4333-87d9-6b14a5768681"
      }
     }
    },
    "e5e09d0e-c869-4c6d-a5dd-0832b5a264ff": {
     "id": "e5e09d0e-c869-4c6d-a5dd-0832b5a264ff",
     "prev": "8a4fecb0-ca23-458d-b6d5-6abbd800da32",
     "regions": {
      "4fef6bbd-0835-4abb-a197-e9227e020054": {
       "attrs": {
        "height": 0.8,
        "width": 0.8,
        "x": 0.1,
        "y": 0.1
       },
       "content": {
        "cell": "d81f19f3-f23f-4e3b-89ac-05c7a6d048d1",
        "part": "whole"
       },
       "id": "4fef6bbd-0835-4abb-a197-e9227e020054"
      }
     }
    },
    "e6f9e576-66ca-4766-9883-7d8a11122dca": {
     "id": "e6f9e576-66ca-4766-9883-7d8a11122dca",
     "prev": "248e02f7-86de-4948-bac4-46376b92b710",
     "regions": {
      "23d6f3fa-d108-4c1e-b7db-825f6a74cf11": {
       "attrs": {
        "height": 0.8,
        "width": 0.8,
        "x": 0.1,
        "y": 0.1
       },
       "content": {
        "cell": "f0c3ba0d-ec87-4b88-90ab-231144a58827",
        "part": "whole"
       },
       "id": "23d6f3fa-d108-4c1e-b7db-825f6a74cf11"
      }
     }
    },
    "e863f99c-e0de-4345-94bb-f0cafac763dd": {
     "id": "e863f99c-e0de-4345-94bb-f0cafac763dd",
     "prev": "0f9473ca-d0a3-4408-9beb-c841d31042d8",
     "regions": {
      "d315e2a8-fb25-465e-8403-11679c332482": {
       "attrs": {
        "height": 0.8,
        "width": 0.8,
        "x": 0.1,
        "y": 0.1
       },
       "content": {
        "cell": "9b838f43-f63b-423e-81b8-cfcd00c3f473",
        "part": "whole"
       },
       "id": "d315e2a8-fb25-465e-8403-11679c332482"
      }
     }
    },
    "edf3392b-cefc-4ab1-9e26-d4dbba66de39": {
     "id": "edf3392b-cefc-4ab1-9e26-d4dbba66de39",
     "prev": "dbc12980-88aa-415a-a354-ac8f1603c759",
     "regions": {
      "62da92d4-3ec5-4c3b-98bc-ea99fdc94f00": {
       "attrs": {
        "height": 0.8,
        "width": 0.8,
        "x": 0.1,
        "y": 0.1
       },
       "content": {
        "cell": "d96a4b9e-ee99-4fab-88a6-213f24d8c6b5",
        "part": "whole"
       },
       "id": "62da92d4-3ec5-4c3b-98bc-ea99fdc94f00"
      }
     }
    },
    "ee1628ab-f43d-4eda-bcd9-fa3a26055ca7": {
     "id": "ee1628ab-f43d-4eda-bcd9-fa3a26055ca7",
     "prev": "f06c6f4f-7004-4f75-9047-edca3599d5eb",
     "regions": {
      "56b27a35-0911-4a3d-b5b4-145128c5b0d8": {
       "attrs": {
        "height": 0.8,
        "width": 0.8,
        "x": 0.1,
        "y": 0.1
       },
       "content": {
        "cell": "3c120f63-6f09-4bbb-8125-19d8bbef561f",
        "part": "whole"
       },
       "id": "56b27a35-0911-4a3d-b5b4-145128c5b0d8"
      }
     }
    },
    "f06c6f4f-7004-4f75-9047-edca3599d5eb": {
     "id": "f06c6f4f-7004-4f75-9047-edca3599d5eb",
     "prev": "21c9f5e8-a10e-43cf-bd42-f01908e198ba",
     "regions": {
      "c9227e26-216a-4335-a271-19a92bd4a453": {
       "attrs": {
        "height": 0.8,
        "width": 0.8,
        "x": 0.1,
        "y": 0.1
       },
       "content": {
        "cell": "449796ce-3fe9-4c9d-9c4d-64bd875c3425",
        "part": "whole"
       },
       "id": "c9227e26-216a-4335-a271-19a92bd4a453"
      }
     }
    },
    "f4cb0444-1fb5-44c0-ae9c-a74fae387198": {
     "id": "f4cb0444-1fb5-44c0-ae9c-a74fae387198",
     "prev": "ccb9f649-0816-496f-9952-c9600c6c601f",
     "regions": {
      "a3f6df35-a1c6-4d2e-9c87-334f5df8f220": {
       "attrs": {
        "height": 0.8,
        "width": 0.8,
        "x": 0.1,
        "y": 0.1
       },
       "content": {
        "cell": "abe39e63-fad0-445a-8ab0-a14bf9e81fa5",
        "part": "whole"
       },
       "id": "a3f6df35-a1c6-4d2e-9c87-334f5df8f220"
      }
     }
    }
   },
   "themes": {
    "default": "027b1cff-63fa-4cba-9876-b127b2800249",
    "theme": {
     "027b1cff-63fa-4cba-9876-b127b2800249": {
      "id": "027b1cff-63fa-4cba-9876-b127b2800249",
      "palette": {
       "19cc588f-0593-49c9-9f4b-e4d7cc113b1c": {
        "id": "19cc588f-0593-49c9-9f4b-e4d7cc113b1c",
        "rgb": [
         252,
         252,
         252
        ]
       },
       "31af15d2-7e15-44c5-ab5e-e04b16a89eff": {
        "id": "31af15d2-7e15-44c5-ab5e-e04b16a89eff",
        "rgb": [
         68,
         68,
         68
        ]
       },
       "50f92c45-a630-455b-aec3-788680ec7410": {
        "id": "50f92c45-a630-455b-aec3-788680ec7410",
        "rgb": [
         155,
         177,
         192
        ]
       },
       "c5cc3653-2ee1-402a-aba2-7caae1da4f6c": {
        "id": "c5cc3653-2ee1-402a-aba2-7caae1da4f6c",
        "rgb": [
         43,
         126,
         184
        ]
       },
       "efa7f048-9acb-414c-8b04-a26811511a21": {
        "id": "efa7f048-9acb-414c-8b04-a26811511a21",
        "rgb": [
         25.118061674008803,
         73.60176211453744,
         107.4819383259912
        ]
       }
      },
      "rules": {
       "blockquote": {
        "color": "50f92c45-a630-455b-aec3-788680ec7410"
       },
       "code": {
        "font-family": "Anonymous Pro"
       },
       "h1": {
        "color": "c5cc3653-2ee1-402a-aba2-7caae1da4f6c",
        "font-family": "Lato",
        "font-size": 8
       },
       "h2": {
        "color": "c5cc3653-2ee1-402a-aba2-7caae1da4f6c",
        "font-family": "Lato",
        "font-size": 6
       },
       "h3": {
        "color": "50f92c45-a630-455b-aec3-788680ec7410",
        "font-family": "Lato",
        "font-size": 5.5
       },
       "h4": {
        "color": "c5cc3653-2ee1-402a-aba2-7caae1da4f6c",
        "font-family": "Lato",
        "font-size": 5
       },
       "h5": {
        "font-family": "Lato"
       },
       "h6": {
        "font-family": "Lato"
       },
       "h7": {
        "font-family": "Lato"
       },
       "pre": {
        "font-family": "Anonymous Pro",
        "font-size": 4
       }
      },
      "text-base": {
       "font-family": "Merriweather",
       "font-size": 4
      }
     }
    }
   }
  }
 },
 "nbformat": 4,
 "nbformat_minor": 0
}
