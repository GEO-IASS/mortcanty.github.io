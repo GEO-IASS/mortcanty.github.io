{
 "cells": [
  {
   "cell_type": "markdown",
   "metadata": {
    "nbpresent": {
     "id": "56d7bd62-983a-4a1e-8c87-2ed7ad544528"
    }
   },
   "source": [
    "## Part 7. Hypothesis Testing\n",
    "$$ \\def\\pr{\\hbox{Pr}}\n",
    "\\def\\var{\\hbox{var}}\n",
    "\\def\\cov{\\hbox{cov}}\n",
    "\\def\\tr{\\hbox{tr}}\n",
    "\\def\\corr{\\hbox{corr}}\n",
    "\\def\\dmX{\\un{\\mathcal{X}}}\n",
    "\\def\\dmG{\\un{\\mathcal{G}}}\n",
    "\\def\\dmK{\\un{\\mathcal{K}}}\n",
    "\\def\\dmS{\\un{\\mathcal{S}}}\n",
    "\\def\\dmC{\\un{\\mathcal{C}}}\n",
    "\\def\\dmZ{\\un{\\mathcal{Z}}}\n",
    "\\def\\bma{{\\mbox{\\boldmath $\\alpha$}}}\n",
    "\\def\\bmb{{\\mbox{\\boldmath $\\beta$}}}\n",
    "\\def\\bmu{{\\mbox{\\boldmath $\\mu$}}}\n",
    "\\def\\bme{{\\mbox{\\boldmath $\\epsilon$}}}\n",
    "\\def\\bmS{{\\mbox{\\boldmath $\\Sigma$}}}\n",
    "\\def\\bmL{{\\mbox{\\boldmath $\\Lambda$}}}\n",
    "\\def\\bmd{{\\mbox{\\boldmath $\\delta$}}}\n",
    "\\def\\bmD{{\\mbox{\\boldmath $\\Delta$}}}\n",
    "\\def\\bmG{{\\mbox{\\boldmath $\\Gamma$}}}\n",
    "\\def\\bmphi{{\\mbox{\\boldmath $\\phi$}}}\n",
    "\\def\\bmPhi{{\\mbox{\\boldmath $\\Phi$}}}\n",
    "\\def\\bmpsi{{\\mbox{\\boldmath $\\psi$}}}\n",
    "\\def\\bmtheta{{\\mbox{\\boldmath $\\theta$}}}\n",
    "\\def\\eq{\\begin{equation}}\n",
    "\\def\\eeq{\\end{equation}}\n",
    "\\def\\i{{\\bf i}}\n",
    "\\def\\un#1{{\\bf #1}}$$\n",
    "\n"
   ]
  },
  {
   "cell_type": "markdown",
   "metadata": {
    "nbpresent": {
     "id": "9f507ba7-bebe-4d20-ba33-2a83967af249"
    }
   },
   "source": [
    "### Maximum likelihood\n",
    "\n",
    "Consider a random sample $\\un z(i)$, $i=1\\dots m$, from a population\n",
    "whose density function is $p(\\un z\\mid \\theta)$. The <span>*likelihood\n",
    "function*</span> for the sample is\n",
    "\n",
    "$$L(\\theta) = \\prod_{i=1}^m p(\\un z(i)\\mid \\theta).$$\n",
    "\n",
    "Its logarithm\n",
    "\n",
    "$$\\mathcal{L}(\\theta) = \\sum_{i=1}^{m} \\log p(\\un z(i)\\mid \\theta),$$ \n",
    "\n",
    "is called the <span>*log-likelihood*</span>. Taking products is justified\n",
    "when the $\\un z(i)$ are realizations of independent random vectors. The\n",
    "parameter set $\\hat\\theta$ which maximizes the likelihood function or\n",
    "its logarithm, i.e., which gives the largest value for all of the\n",
    "realizations, is called the <span>*maximum likelihood estimate*</span>\n",
    "of $\\theta$."
   ]
  },
  {
   "cell_type": "markdown",
   "metadata": {
    "nbpresent": {
     "id": "15f352b2-7b98-47b7-ad4b-f7a0a4733ce0"
    }
   },
   "source": [
    "For $m$ samples from the multivariate normal distribution:\n",
    "\n",
    "$$\\mathcal{L}(\\mu,{\\bf\\Sigma}) = m{N\\over 2}\\log 2\\pi-m{1\\over 2}\\log|{\\bf\\Sigma}|-{1\\over 2}\n",
    "\\sum_{i=1}^{m} (\\un z(i)-\\mu)^\\top\\bf\\Sigma^{-1}(\\un z(i)-\\mu).$$\n",
    "\n",
    "To maximize with respect to $\\mu$ we set\n",
    "\n",
    "$${\\partial\\mathcal{L}(\\mu,{\\bf\\Sigma})\\over\\partial\\mu}= \\sum_{i=1}^{m} {\\bf\\Sigma}^{-1}(\\un z(i)-\\mu) =\\un 0,$$\n",
    "\n",
    "giving $$\\hat\\mu = {1\\over m}\\sum_{i=1}^{m} \\un z(i),$$ which is the\n",
    "realization $ \\bar{\\un z}$ of the unbiased estimator for the sample mean.\n",
    "\n",
    "In a similar way one can show that\n",
    "\n",
    "$$\\hat{\\bf\\Sigma}  = {1\\over m}\\sum_{i=1}^{m}(\\un z(i)-\\mu)(\\un z(i)-\\mu)^\\top,$$\n",
    "\n",
    "which is (almost) the realization $\\un s$ of the unbiased sample\n",
    "covariance matrix estimator, except that the denominator $m-1$ is\n",
    "replaced by $m$, a fact which can often be ignored."
   ]
  },
  {
   "cell_type": "markdown",
   "metadata": {
    "nbpresent": {
     "id": "946cc548-401f-4e9b-b804-47e7574fc77d"
    }
   },
   "source": [
    "### Some terminology\n",
    "\n",
    "A <span>*statistical hypothesis*</span> is a conjecture about the\n",
    "distributions of one or more random variables. It might, for instance,\n",
    "be an assertion about the mean of a distribution, or about the\n",
    "equivalence of the variances of two different distributions.\n",
    "\n",
    "We distinguishe between <span>*simple*</span> hypotheses, for which the\n",
    "distributions are completely specified, for example: <span>*the mean of\n",
    "a normal distribution with variance $\\sigma^2$ is $\\mu=0$*</span>, and\n",
    "<span>*composite*</span> hypotheses, for which this is not the case,\n",
    "e.g., <span>*the mean is $\\mu\\ge 0$*</span>.\n",
    "\n",
    "In order to test such assertions on the basis of samples of the\n",
    "distributions involved, it is also necessary to formulate\n",
    "<span>*alternative*</span> hypotheses. To distinguish these from the\n",
    "original assertions, the latter are called <span>*null*</span>\n",
    "hypotheses.\n",
    "\n",
    "Thus we might be interested in testing the simple null hypothesis\n",
    "$\\mu = 0$ against the composite alternative hypothesis $\\mu\\ne 0$."
   ]
  },
  {
   "cell_type": "markdown",
   "metadata": {
    "collapsed": true,
    "nbpresent": {
     "id": "ffb64db1-1f28-4113-bf99-431c056adbbb"
    }
   },
   "source": [
    "An appropriate sample function for deciding whether or not to reject the\n",
    "null hypothesis in favor of its alternative is referred to as a\n",
    "<span>*test statistic*</span>.\n",
    "\n",
    "An appropriate <span>*test procedure*</span> will partition the possible\n",
    "realizations of the test statistic into two subsets: an acceptance\n",
    "region for the null hypothesis and a rejection region. The latter is\n",
    "referred to as the <span>*critical region*</span>."
   ]
  },
  {
   "cell_type": "markdown",
   "metadata": {
    "nbpresent": {
     "id": "abe39e63-fad0-445a-8ab0-a14bf9e81fa5"
    }
   },
   "source": [
    "<span>**Definition:**</span> Referring to the null hypothesis as $H_0$,\n",
    "there are two kinds of errors which can arise from any test procedure:\n",
    "\n",
    "1.  $H_0$ may be rejected when in fact it is true. This is called an\n",
    "    <span>*error of the first kind*</span> and the probability that it\n",
    "    will occur is denoted $\\alpha$.\n",
    "\n",
    "2.  $H_0$ may be accepted when in fact it is false, which is called an\n",
    "    <span>*error of the second kind*</span> with probability of\n",
    "    occurrence $\\beta$.\n",
    "\n",
    "The probability of obtaining a value of the test statistic within the\n",
    "critical region when $H_0$ is true is thus $\\alpha$. The probability\n",
    "$\\alpha$ is also referred to as the <span>*level of significance*</span>\n",
    "of the test.\n"
   ]
  },
  {
   "cell_type": "markdown",
   "metadata": {
    "nbpresent": {
     "id": "4c913aeb-3c86-4b3d-bdc0-1f9deb07eb49"
    }
   },
   "source": [
    "It is generally the case that the lower the value of $\\alpha$, the\n",
    "higher is the probability $\\beta$ of making a second kind error.\n",
    "Traditionally significance levels of 0.01 or 0.05 are used.\n",
    "\n",
    "Such values are obviously arbitrary, and for exploratory data analysis\n",
    "it is common to avoid specifying them altogether. Instead the\n",
    "<span>*$P$-value*</span> for the test is stated:\n",
    "\n",
    "<span>**Definition:**</span> Given the observed value of a test\n",
    "statistic, the <span>*$P$-value*</span> is the lowest level of\n",
    "significance at which the null hypothesis could have been rejected.\n",
    "\n",
    "High $P$-values provide evidence in favor of accepting the null\n",
    "hypothesis, without actually forcing one to commit to a decision.\n"
   ]
  },
  {
   "cell_type": "markdown",
   "metadata": {},
   "source": [
    "**Example: IAEA Nuclear material accontancy**\n",
    "\n",
    "$H_0:$ No material is missing (simple hypothesis)\n",
    "\n",
    "$H_1:$ One \"sgnificant quantity\"is missing (simple hypothesis).\n",
    "\n",
    "Test statistic:\n",
    "\n",
    "$$\n",
    "MUF = Inventory_0 + Input - Output - Inventory_1\n",
    "$$\n",
    "\n",
    "which might be assumed to be normally distibuted with mean 0 under $H_0$.\n",
    "\n",
    "$\\alpha$ is the *false alarm probability*.\n",
    "\n",
    "$1-\\beta$ is the *detection probability*."
   ]
  },
  {
   "cell_type": "markdown",
   "metadata": {
    "nbpresent": {
     "id": "ac7e823e-f2db-47cb-a0f8-0f3769bf9338"
    }
   },
   "source": [
    "**Likelihood ratio test**\n",
    "\n",
    "Consider a random sample $\\un z(i)$, $i=1\\dots m$, from a population\n",
    "whose density function is $p(\\un z\\mid \\theta)$. Here $\\theta$ is the\n",
    "parameter set of the density function, e.g.,\n",
    "$\\theta = \\{\\mu,\\sigma^2\\}$. The likelihood function for the sample is\n",
    "$$L(\\theta) = \\prod_{i=1}^m p(\\un z(i)\\mid \\theta).$$\n",
    "\n",
    "<span>**Definition:**</span> Let $\\omega$ be space of all possible\n",
    "values of the parameters $\\theta$ and $\\omega_0$ be a subset of that\n",
    "space. The <span>likelihood ratio test</span> for the null hypothesis\n",
    "$\\theta\\in\\omega_0$ against the alternative $\\theta\\in\\omega-\\omega_0$\n",
    "has the critical region\n",
    "\n",
    "$${\\max_{\\theta\\in \\omega_0} L(\\theta) \\over \\max_{\\theta\\in\\omega} L(\\theta)} \\le k.$$"
   ]
  },
  {
   "cell_type": "markdown",
   "metadata": {
    "nbpresent": {
     "id": "d887ec6f-60c1-4a40-90ef-5605ce5a6d92"
    }
   },
   "source": [
    "This definition simply reflects the fact that, if $H_0$ is true, the\n",
    "maximum likelihood for $\\theta$ when restricted to $\\omega_0$ should be\n",
    "close to the the maximum likelihood for $\\theta$ without that\n",
    "restriction. Therefore, if the likelihood ratio is small, (less than or\n",
    "equal to some small value $k$), then $H_0$ should be rejected.\n",
    "\n",
    "In many cases the likelihood ratio test will lead to a test statistic whose distribution is unknown.\n",
    "The LRT has, however, an important asymptotic property:\n",
    "\n",
    "**Theorem**\n",
    "\n",
    "If $\\omega$ is a region of $R^q$ and $\\omega_0$ is an\n",
    "$r$-dimensional subregion, then for each $\\theta\\in\\omega_0$, $-2\\log Q$ has an asymptotic\n",
    "chi-square distribution with $q-r$ degrees of freedom as $n\\to\\infty$.\n",
    "\n",
    "\n"
   ]
  },
  {
   "cell_type": "markdown",
   "metadata": {
    "nbpresent": {
     "id": "388c8377-f5c2-48df-afc8-763929561788"
    }
   },
   "source": [
    "<span>**Example:**</span> Given random samples $z_1,z_2\\dots z_m$ from a\n",
    "normal distribution with mean $\\mu$ and known variance $\\sigma^2$. The\n",
    "likelihood ratio test at significance level $\\alpha$ for the simple\n",
    "hypothesis $\n",
    "H_0:\\ \\mu = \\mu_0\n",
    "$ against the alternative composite hypothesis $\n",
    "H_1:\\ \\mu \\ne \\mu_0\n",
    "$ has the critical region \n",
    "\n",
    "$${L(\\mu_0)\\over L(\\hat\\mu)}\\le k,$$ \n",
    "\n",
    "where\n",
    "$\\hat\\mu$ is the maximizes the likelihood function for all possible\n",
    "values of $\\mu$, $$\\hat\\mu = \\bar z = {1\\over m}\\sum_{i=1}^m z_i.$$ The\n",
    "critical region is then (try to show this)\n",
    "\n",
    "$${L(\\mu_0)\\over L(\\hat\\mu)} = \\exp\\left(-{1\\over 2\\sigma^2/m}(\\bar z - \\mu_0)^2\\right) \\le k.$$"
   ]
  },
  {
   "cell_type": "markdown",
   "metadata": {
    "nbpresent": {
     "id": "710a04ae-2589-4d0f-8535-d89cfa2005d6"
    }
   },
   "source": [
    "Equivalently, $$e^{-x^2} \\le k,$$ where\n",
    "$$x = {\\bar z - \\mu_0 \\over \\sigma/\\sqrt{m}}$$ So the critical region\n",
    "can be written in the form\n",
    "$$\\left|{\\bar z - \\mu_0 \\over \\sigma/\\sqrt{m}}\\right| \\ge k_\\alpha.$$\n",
    "But we know that $\\bar z$ is normally distributed with mean $\\mu_0$ and\n",
    "variance $\\sigma^2/m$. Therefore $x$ has the standard normal\n",
    "distribution $\\Phi(x)$ and $k_\\alpha$ is determined by\n",
    "$$\\Phi(-k_\\alpha) + 1- \\Phi(k_\\alpha) = \\alpha,$$ or\n",
    "$$1- \\Phi(k_\\alpha) = \\alpha/2.$$\n"
   ]
  },
  {
   "cell_type": "markdown",
   "metadata": {
    "collapsed": true,
    "nbpresent": {
     "id": "1df3f130-4fee-4cc3-a22b-29866c0fa8a3"
    }
   },
   "source": [
    "\n",
    "<img src= 'fig2_4.png' height='600' width='600' />\n"
   ]
  },
  {
   "cell_type": "markdown",
   "metadata": {
    "nbpresent": {
     "id": "3c120f63-6f09-4bbb-8125-19d8bbef561f"
    }
   },
   "source": [
    "### T and F tests\n",
    "\n",
    "Suppose however that the variance $\\sigma^2$ is unknown and that we wish\n",
    "nevertheless to make a statement about $\\mu$ in terms of some\n",
    "realization of an appropriate statistic. To treat this and similar\n",
    "problems it is first necessary to define some additional distribution\n",
    "functions.\n",
    "\n",
    "**Theorem** If the random variables $Z_i$, $i=0\\dots m$, are independent and standard normally distributed,\n",
    "then the random variable\n",
    "\n",
    "$$\n",
    "T = { Z_0\\over \\sqrt{{1\\over m}(Z_1^2+\\dots + Z_m^2)} }\\tag 7\n",
    "$$\n",
    "\n",
    "is  *Student-t distributed with $m$ degrees of freedom*. The corresponding\n",
    "density is given by\n",
    "\n",
    "$$\n",
    "p_{t;m}(z) = d_m\\left( 1 + {z^2\\over m}\\right)^{-(m+1)/2},\\quad -\\infty<z<\\infty, \\tag 8\n",
    "$$\n",
    "\n",
    "with $d_m$ being a normalization factor. The Student-t distribution converges\n",
    "to the standard normal distribution for $m\\to\\infty$."
   ]
  },
  {
   "cell_type": "markdown",
   "metadata": {
    "nbpresent": {
     "id": "6c3fd567-c1f1-4cff-ae3a-8f1a2768db6d"
    }
   },
   "source": [
    "\n",
    "\n",
    "The Student-t distribution is used to make statements regarding the mean\n",
    "when the variance is unknown. Thus if $Z_i$, $i=1\\dots m$, is a sample\n",
    "from a normal distribution with mean $\\mu_0$ and unknown variance, and\n",
    "\n",
    "$$\\bar Z = {1\\over m}\\sum_{i=1}^m Z_i,\\quad S = {1\\over m}\\sum_i^m (Z_i-\\bar Z)^2,$$\n",
    "\n",
    "then the random variable\n",
    "\n",
    "$$T = {\\bar Z - \\mu_0 \\over \\sqrt{S/m} }$$\n",
    "\n",
    "is\n",
    "Student-t distributed with $m-1$ degrees of freedom and is a likelihood\n",
    "ratio test for $H_0: \\mu=\\mu_0$, $H_1: \\mu\\ne\\mu_0$.\n"
   ]
  },
  {
   "cell_type": "markdown",
   "metadata": {
    "nbpresent": {
     "id": "24e4e8bd-b5df-4744-b6ac-0ed44c8331c3"
    }
   },
   "source": [
    "If $Z_i$, $i=1\\dots n$, and $Y_i$, $i=1\\dots m$, are samples from normal\n",
    "distributions with equal variance, then the random variable\n",
    "\n",
    "$$T_d = {\\bar Z-\\bar Y - (\\mu_Z-\\mu_Y)\\over\n",
    "\\sqrt{\\left({1\\over n}+{1\\over m}\\right){(n-1)S_Z+(m-1)S_Y\\over n+m-2}}}\\tag 9$$\n",
    "\n",
    "is Student-t distributed with $n+m-2$ degrees of freedom. It may be used\n",
    "to test the hypothesis $\\mu_Z=\\mu_Y$."
   ]
  },
  {
   "cell_type": "markdown",
   "metadata": {
    "nbpresent": {
     "id": "d96a4b9e-ee99-4fab-88a6-213f24d8c6b5"
    }
   },
   "source": [
    "<span>**Definition:**</span> The <span>*F-probability density\n",
    "function*</span> with $m$ and $n$ degrees of freedom is given by \n",
    "\n",
    "$$\n",
    "p_{f;m,n}(f) = \\cases{ c_{mn} f^{(m-2)/2}\\left(1+{m\\over n}\\ f\\right)^{-(m+n)/2} & for $f>0$\\cr\n",
    "0 & otherwise,}\n",
    "$$\n",
    "\n",
    "with normalization factor $c_{mn}$.\n",
    "\n",
    "<span>**Theorem:**</span> Given independent and standard normally\n",
    "distributed random variables $Z_i$, $i=1\\dots n$ and $Y_i$,\n",
    "$i=1\\dots m$, the random variable\n",
    "\n",
    "$$F = {{1\\over m}(Y_1^2+\\dots + Y_m^2) \\over {1\\over n}(Z_1^2+\\dots + Z_n^2) }\\tag{10}$$\n",
    "\n",
    "is $F$-distributed with $m$ and $n$ degrees of freedom.\n",
    "\n",
    "Note that $F$ is the ratio of two chi-square distributed random\n",
    "variables.\n",
    "\n",
    "The $F$-distribution can be used for hypothesis tests regarding two\n",
    "variances. If $S_Z$ and $S_Y$ are sample variances for samples of size\n",
    "$n$ respectively $m$ drawn from normally distributed populations with\n",
    "variances $\\sigma_Z^2$ and $\\sigma_Y^2$, then\n",
    "$$F = {\\sigma_Y^2S_Z\\over \\sigma_Z^2S_Y}$$ is a random variable having\n",
    "an $F$-distribution with $n-1$ and $m-1$ degrees of freedom. It is a\n",
    "likelihood ratio test for\n",
    "\n",
    "$$H_0:\\sigma_Z^2 = \\sigma_Y^2, \\quad H_1: \\sigma_Z^2 \\ne \\sigma_Y^2.$$"
   ]
  },
  {
   "cell_type": "markdown",
   "metadata": {},
   "source": [
    "### Example: Automatic radiometric normalization of satellite imagery"
   ]
  },
  {
   "cell_type": "code",
   "execution_count": null,
   "metadata": {
    "collapsed": false
   },
   "outputs": [],
   "source": [
    "ls"
   ]
  },
  {
   "cell_type": "code",
   "execution_count": null,
   "metadata": {
    "collapsed": false
   },
   "outputs": [],
   "source": [
    "%matplotlib inline\n",
    "%run dispms -f /home/mort/stats2016/20010626 -e 1 -p [4,5,6] \\\n",
    "-F /home/mort/stats2016/20010829 -E 1 -P [4,5,6]"
   ]
  },
  {
   "cell_type": "code",
   "execution_count": null,
   "metadata": {
    "collapsed": false
   },
   "outputs": [],
   "source": [
    "%run iMad /home/mort/stats2016/20010626 /home/mort/stats2016/20010829"
   ]
  },
  {
   "cell_type": "code",
   "execution_count": null,
   "metadata": {
    "collapsed": false
   },
   "outputs": [],
   "source": [
    "run dispms -f /home/mort/stats2016/MAD(20010626-20010829) -e 3 -p [7,7,7] \\\n",
    "-F /home/mort/stats2016/MAD(20010626-20010829) -E 3 -P [4,5,6] "
   ]
  },
  {
   "cell_type": "code",
   "execution_count": null,
   "metadata": {
    "collapsed": false
   },
   "outputs": [],
   "source": [
    "run radcal /home/mort/stats2016/MAD(20010525-20010829)"
   ]
  },
  {
   "cell_type": "code",
   "execution_count": null,
   "metadata": {
    "collapsed": false
   },
   "outputs": [],
   "source": [
    "run dispms -f /home/mort/stats2016/20010829 -e 1 -p [4,5,6] \\\n",
    "-F /home/mort/stats2016/20010829_norm -E 1 -P [4,5,6]"
   ]
  },
  {
   "cell_type": "markdown",
   "metadata": {},
   "source": [
    "### ANOVA: More than two populations\n",
    "\n",
    "The case often arises when one wants to compare the mean values of several random variables, for instance if several medications are equally effective. \n",
    "\n",
    "Suppose that $X_1, X_2,\\dots, X_k$ are normally distributed random variables with means $\\mu_1,\\mu_2,\\dots,\\mu_k$ and variance $\\sigma^2$. We want to test the null hypothesis\n",
    "\n",
    "$$\n",
    "H_0: \\quad \\mu_1 = \\mu_2 = \\dots = \\mu_k.\n",
    "$$\n",
    "\n",
    "Let \n",
    "\n",
    "$$\n",
    "X_{11},X_{12},\\dots,X_{1n_1},\\quad X_{21},X_{22},\\dots,X_{2n_2},\\quad\\dots\\quad X_{k1},X_{k2},\\dots,X_{kn_k}\n",
    "$$\n",
    "\n",
    "be independent samples drawn from the $k$ distributions. Call this the *overall* sample, consisting of $k$ *partial samples*. The total number of samples is\n",
    "\n",
    "$$\n",
    "n = \\sum_1^k n_i.\n",
    "$$\n",
    "\n",
    "The overall sample mean and variance are then\n",
    "\n",
    "$$\n",
    "\\bar X = {1\\over n}\\sum_{i=1}^k\\sum_{j=1}^{n_i} X_{ij},\\quad S = {1\\over n-1}\\sum_{i=1}^k\\sum_{j=1}^{n_i}(X_{ij}-\\bar X)^2.\n",
    "$$\n",
    "\n",
    "Similarly for the partial samples,\n",
    "\n",
    "$$\n",
    "\\bar X_i = {1\\over n_i}\\sum_{j=1}^{n_i}X_{ij}, \\quad S_i= {1\\over n_i-1}\\sum_{j=1}^{n_i}(X_{ij}-\\bar X_i)^2.\n",
    "$$\n",
    "\n",
    "Now consider\n",
    "\n",
    "$$\\eqalign{\n",
    "\\sum_{j=1}^{n_i}(X_{ij}-\\bar X)^2 &= \\sum_{j=1}^{n_i}(X_{ij}-\\bar X_i + \\bar X_i-\\bar X)^2 = \\sum_{j=1}^{n_i}((X_{ij}-\\bar X_i) + (\\bar X_i-\\bar X))^2  \\cr\n",
    "&= \\sum_{j=1}^{n_i}(X_{ij}-\\bar X_i)^2 + 2(X_i-\\bar X)\\sum_{j=1}^{n_i}(X_{ij}-\\bar X_i) + n_i(\\bar X_i-\\bar X)^2  \\cr\n",
    "&= (n_i-1)S_i +  n_i(\\bar X_i-\\bar X)^2,\n",
    "}\n",
    "$$\n",
    "\n",
    "since the second term vanishes. Therefore\n",
    "\n",
    "$$\n",
    "(n-1)S = \\sum_{i=1}^k\\sum_{j=1}^{n_i}(X_{ij}-\\bar X)^2 = \\sum_{i=1}^k (n_i-1)S_i + \\sum_{i=1}^k n_i(\\bar X_i-\\bar X)^2.\\tag{11}\n",
    "$$\n",
    "\n",
    "Thus the overall sample variance can be split into a component that only depends upon the partial sample variances and a component that depends on the square of the distances between the partial sample means and the overall sample mean.\n",
    "\n",
    "Only the second term in (11) depends upon the partial sample means. So if we consider the ratio\n",
    "\n",
    "$$\n",
    "{\\sum_i n_i(\\bar X_i-\\bar X)^2\\over \\sum_i (n_i-1)S_i} = {\\sum_i n_i(\\bar X_i-\\bar X)^2\\over \\sum_i\\sum_j (X_{ij}-\\bar X_i)^2 }\n",
    "$$\n",
    "\n",
    "large values will indicate that the means are different. \n",
    "\n",
    "Under the null hypothesis all the $X_{ij}$ have the same (unknown) variance $\\sigma^2$ and $\\bar X_i$ has variance\n",
    "$\\sigma^2/n_i$. Rewriting the above ratio as\n",
    "\n",
    "$$\n",
    "{\\sum_i {(\\bar X_i-\\bar X)^2\\over \\sigma^2/n_i} \\over \\sum_i\\sum_j {(X_{ij}-\\bar X_i)^2 \\over \\sigma^2}}\n",
    "$$\n",
    "\n",
    "The numerator consists of the sum of the squares of $k$ standard normally distributed random variables, the denominator of $n$ standard normally distributed random variables.\n",
    "So if we construct the ratio\n",
    "\n",
    "$$\n",
    "{{1\\over k}\\sum_i n_i(\\bar X_i-\\bar X)^2\\over {1\\over n}\\sum_i\\sum_j (X_{ij}-\\bar X_i)^2 } = {n\\sum_i n_i(\\bar X_i-\\bar X)^2\\over k\\sum_i\\sum_j (X_{ij}-\\bar X_i)^2 }\n",
    "$$\n",
    "\n",
    "and compare with (10) we seem to have a test statistic with the F-distribution with $k$ and $n$ degrees of freedom. In fact, since we are using the estimated means (one estimate in the numerator and $k$ in the denominator), the correct statistic is\n",
    "\n",
    "$$\n",
    "{(n-k)\\sum_i n_i(\\bar X_i-\\bar X)^2\\over (k-1)\\sum_i\\sum_j (X_{ij}-\\bar X_i)^2 }\n",
    "$$\n",
    "\n",
    "which is F-distributed with $k-1$ and $n-k$ degrees of freedom."
   ]
  },
  {
   "cell_type": "code",
   "execution_count": null,
   "metadata": {
    "collapsed": false
   },
   "outputs": [],
   "source": [
    "import numpy as np\n",
    "from scipy.stats import f\n",
    "X1 = [21,22,26]\n",
    "X2 = [30,29,28]\n",
    "X3 = [25,27]\n",
    "X = X1+X2+X3\n",
    "X1bar = np.mean(X1)\n",
    "X2bar = np.mean(X2)\n",
    "X3bar = np.mean(X3)\n",
    "Xbar = np.mean(X)\n",
    "\n",
    "num = (8-3)*(3*(X1bar-Xbar)**2+3*(X2bar-Xbar)**2+2*(X3bar-Xbar)**2)\n",
    "\n",
    "den = (3-1)*(3*np.var(X1)+3*np.var(X2)+2*np.var(X3) )\n",
    "\n",
    "test = num/den\n",
    "\n",
    "print 'test statistic = %f' %test\n",
    "\n",
    "print 'rejection threshold = %f' %f.ppf(1-0.05,2,5)\n",
    "\n",
    "# P-value\n",
    "\n",
    "print 'p-value = %f' %(1-f.cdf(7.5,2,5))\n"
   ]
  },
  {
   "cell_type": "markdown",
   "metadata": {
    "nbpresent": {
     "id": "863eb1fa-1025-4d3d-aac4-effdc7099646"
    }
   },
   "source": [
    "\n",
    "### Example: WIshart test (polarimetric SAR change detection)\n",
    "\n",
    "<img src= 'sar.jpg' height='600' width='600' />\n",
    "\n",
    "The power received by a radar transmitting/receiving antenna reflected from a\n",
    "distributed (as opposed to point) target a distance $D$ from the  antenna is given by\n",
    "\n",
    "$$\n",
    "P_R = {P_TG_TG_R\\lambda^2\\sigma^o\\Delta_a\\Delta_r\\over (4\\pi)^3D^4}\\ [W],\n",
    "$$\n",
    "\n",
    "where $P_T$ is the transmitted power $[W\\cdot m^{-2}]$, $\\lambda$ is the operating wavelength~$[m]$,\n",
    "$G_T(G_R)$ is the transmitting(receiving) antenna gain, $\\Delta_a(\\Delta_r)$ is the azimuth(ground range)\n",
    "resolution $[m]$ and $\\sigma^o$ is the unitless scattering coefficient (referred to as the {\\it radar cross section})\n",
    "of the target surface.\n"
   ]
  },
  {
   "cell_type": "markdown",
   "metadata": {
    "nbpresent": {
     "id": "5dba6815-8651-4901-8022-757c415c3d7e"
    }
   },
   "source": [
    "A fully polarimetric SAR measures a\n",
    "$2\\times 2$ *scattering matrix* $\\un S$  at each resolution cell on the ground.\n",
    "The scattering matrix relates the incident and the backscattered\n",
    "electric fields $\\un E^i$ and $\\un E^b$ according to\n",
    "\n",
    "$$\n",
    "\\un E^b = \\un S\\un E^i \\quad\\hbox{or}\\quad \\pmatrix{E_h^b \\cr E_v^b}\n",
    "=\\pmatrix{S_{hh} & S_{hv}\\cr S_{vh} & S_{vv}}\\pmatrix{E_h^i \\cr E_v^i}.\n",
    "$$\n",
    "\n",
    "The per-pixel polarimetric information in the scattering matrix $\\un S$, under the assumption\n",
    "of reciprocity ($S_{hv} = S_{vh}$), can be expressed as a three-component complex vector\n",
    "\n",
    "$$\n",
    "\\un s = \\pmatrix{S_{hh}\\cr \\sqrt{2}S_{hv}\\cr S_{vv}},\n",
    "$$\n",
    "\n",
    "where the $\\sqrt{2}$ ensures that the total intensity (received signal power) is consistent."
   ]
  },
  {
   "cell_type": "markdown",
   "metadata": {
    "nbpresent": {
     "id": "813a59ac-5d46-4bcd-b11f-e68b067c756a"
    }
   },
   "source": [
    "The total intensity is referred to as the *span*,\n",
    "\n",
    "$$\n",
    "{\\rm span} = \\un s^+\\un s = |S_{hh}|^2 + 2|S_{hv}|^2 + |S_{vv}|^2,\n",
    "$$\n",
    "\n",
    "and the corresponding gray-scale image as the {\\it span image}.\n",
    "\n",
    "\n",
    "Another representation of the polarimetric signal is the {\\it complex covariance matrix} $\\un C$, obtained by taking\n",
    "the complex outer product of $\\un s$ with itself:\n",
    "\n",
    "$$\n",
    "\\un C = \\un s\\un s^+ = \\pmatrix{ |S_{hh}|^2 & \\sqrt{2}S_{hh}S_{hv}^* & S_{hh}S_{vv}^* \\cr\n",
    "                                     \\sqrt{2}S_{hv}S_{hh}^* & 2|S_{hv}|^2 & \\sqrt{2}S_{hv}S_{vv}^* \\cr\n",
    "                                     S_{vv}S_{hh}^* & \\sqrt{2}S_{vv}S_{hv}^* & |S_{vv}|^2 }.\n",
    "$$\n",
    "\n",
    "The diagonal elements of $\\un C$ are real numbers, with span $= {\\rm Tr}(\\un C)$, and the off-diagonal\n",
    "elements are complex. The covariance matrix representation contains all of the information in the polarized signal.\n"
   ]
  },
  {
   "cell_type": "markdown",
   "metadata": {
    "nbpresent": {
     "id": "dd779261-d89a-4be9-b09b-801efeabdb27"
    }
   },
   "source": [
    "*Multi-look processing* essentially corresponds to the averaging of neighborhood pixels, with the objective\n",
    "of reducing speckle and compressing the data. In practice the averaging is often not performed in the\n",
    "spatial domain, but rather in the frequency domain during range/azimuth compression of the received signal.\n",
    "The covariance matrix representation contains all of the information in the polarized signal.\n",
    "It can be averaged over the number of looks to give\n",
    "\n",
    "$$\\eqalign{\n",
    "\\bar{\\un C} & ={1\\over m}\\sum_{\\nu=1}^m \\un s(\\nu)\\un s(\\nu)^+ = \\langle \\un s\\un s^+ \\rangle \\cr\n",
    "& = \\pmatrix{ \\langle |S_{hh}|^2\\rangle & \\langle\\sqrt{2}S_{hh}S_{hv}^*\\rangle & \\langle S_{hh}S_{vv}^*\\rangle \\cr\n",
    "\\langle\\sqrt{2} S_{hv}S_{hh}^*\\rangle & \\langle 2|S_{hv}|^2\\rangle & \\langle\\sqrt{2}S_{hv}S_{vv}^*\\rangle \\cr\n",
    "\\langle S_{vv}S_{hh}^*\\rangle & \\langle\\sqrt{2}S_{vv}S_{hv}^*\\rangle & \\langle |S_{vv}|^2\\rangle }.}\n",
    "$$"
   ]
  },
  {
   "cell_type": "markdown",
   "metadata": {
    "nbpresent": {
     "id": "977a64ec-5bce-45f7-8fed-504472f7d303"
    }
   },
   "source": [
    "The quantity\n",
    "\n",
    "$$\n",
    "m\\bar{\\un C} = \\sum_{\\nu=1}^m \\un s(\\nu)\\un s(\\nu)^+ =: \\un x.\n",
    "$$\n",
    "\n",
    "is a realization of a complex sample matrix which is known to have\n",
    "a {\\it complex Wishart distribution} with $N\\times N$ covariance matrix $\\bmS$ (here $N=3$) and $m$ degrees of freedom\n",
    "\n",
    "$$\n",
    "p_{W_c}(\\un x) ={|\\un x|^{(m-N)}\\exp(-{\\rm tr}({\\bf\\Sigma}^{-1}\\un x)) \\over\n",
    "\\pi^{N(N-1)/2}|{\\bf\\Sigma}|^{m}\\prod_{i=1}^N\\Gamma(m+1-i)},\\quad m \\ge N,\n",
    "$$\n",
    "\n",
    "provided that the vectors $\\un s(\\nu)$ are independent and drawn from a complex multivariate normal\n",
    "distribution."
   ]
  },
  {
   "cell_type": "markdown",
   "metadata": {
    "nbpresent": {
     "id": "c706176c-fe97-41dd-8470-38daf1135f56"
    }
   },
   "source": [
    "We represent a pixel vector in an $m$ look-averaged\n",
    "polarimetric SAR image in covariance matrix format by $\\bar{\\un C}$, where\n",
    "\n",
    "$$\n",
    "m\\bar{\\un C} = \\un x = \\sum_{\\nu=1}^m \\un s(\\nu)\\un s(\\nu)^+\n",
    "$$\n",
    "\n",
    "is a realization of a random matrix $\\un X$ with a complex Wishart distribution.\n",
    "If\n",
    "\n",
    "$$\n",
    "\\un X = \\sum_{\\nu=1}^m\\un Z(\\nu)\\un Z(\\nu)^+,\\quad \\un Z(\\nu) \\sim \\mathcal{N}_C(\\un 0,\\bf\\Sigma),\\ \\nu=1\\dots m,\n",
    "$$\n",
    "\n",
    "is complex Wishart distributed with covariance matrix $\\bf\\Sigma$ and $m$ degrees of freedom, \n",
    "then the maximum likelihood estimate\n",
    "for $\\bf\\Sigma$  is\n",
    "\n",
    "$$\n",
    "\\hat{\\bf\\Sigma} = {1\\over m}\\sum_{\\nu=1}^m\\un z(\\nu)\\un z(\\nu)^+ = {1\\over m}\\un x,\n",
    "$$\n",
    "\n",
    "so that each pixel $\\bar{\\un C}$ is the maximum likelihood estimate of $\\bf\\Sigma$."
   ]
  },
  {
   "cell_type": "markdown",
   "metadata": {
    "nbpresent": {
     "id": "9b838f43-f63b-423e-81b8-cfcd00c3f473"
    }
   },
   "source": [
    "To simplify the notation , define\n",
    "\n",
    "$$\n",
    "\\Gamma_N(m) = \\pi^{N(N-1)/2} \\prod_{i=1}^N\\Gamma(m+1-i).\n",
    "$$\n",
    "\n",
    "Then, for two $m$-look quad polarimetric covariance\n",
    "images $\\un X_1$ and $\\un X_2$, the multivariate densities are\n",
    "\n",
    "$$\\eqalign{\n",
    "p(\\un x_1\\mid m,{\\bf\\Sigma_1}) &= { |\\un x_1|^{m-3}\\exp(-\\tr({\\bf\\Sigma}_1^{-1}\\un x_1)) \\over |{\\bf\\Sigma}_1|^m\\Gamma_3(m)}\\cr\n",
    "p(\\un x_2\\mid m,{\\bf\\Sigma_2}) &= { |\\un x_2|^{m-3}\\exp(-\\tr({\\bf\\Sigma}_2^{-1}\\un x_2)) \\over |{\\bf\\Sigma}_2|^m\\Gamma_3(m)}. }\n",
    "$$"
   ]
  },
  {
   "cell_type": "markdown",
   "metadata": {
    "nbpresent": {
     "id": "5a2a1b7c-3a3c-48d3-9025-35326365cdcb"
    }
   },
   "source": [
    "We now define the null (or no-change) simple  hypothesis\n",
    "\n",
    "$$\n",
    "H_0:\\quad {\\bf\\Sigma}_1 = {\\bf\\Sigma}_2 = {\\bf\\Sigma},\n",
    "$$\n",
    "\n",
    "against the alternative composite hypothesis\n",
    "$$\n",
    "H_1:\\quad {\\bf\\Sigma}_1 \\ne {\\bf\\Sigma}_2.\n",
    "$$\n",
    "\n",
    "Under $H_0$ the likelihood for ${\\bf\\Sigma}$ is given by\n",
    "\n",
    "$$\n",
    "L({\\bf\\Sigma}) = p(\\un x_1\\mid m,{\\bf\\Sigma})p(\\un x_2\\mid m,{\\bf\\Sigma})  = { |\\un x_1|^{m-3}|\\un x_2|^{m-3}\\exp(-\\tr({\\bf\\Sigma}^{-1}(\\un x_1+ \\un x_2))) \\over |{\\bf\\Sigma}|^{2m}\\Gamma_3(m)^2}.\n",
    "$$"
   ]
  },
  {
   "cell_type": "markdown",
   "metadata": {
    "nbpresent": {
     "id": "a0f3a778-32aa-45a4-9b8d-cebad54574f4"
    }
   },
   "source": [
    "The maximum likelihood estimate of ${\\bf\\Sigma}$  is\n",
    "\n",
    "$$\n",
    "\\hat{\\bf\\Sigma} = {1\\over 2m}(\\un x_1+\\un x_2).\n",
    "$$\n",
    "\n",
    "Hence the maximum likelihood under the null hypothesis is\n",
    "\n",
    "$$\n",
    "L(\\hat{\\bf\\Sigma}) = { |\\un x_1|^{m-3}|\\un x_2|^{m-3}\\exp(-2m\\cdot\\tr(\\un I)) \\over \\left({1\\over 2m}\\right)^{3\\cdot 2m}|\\un x_1+\\un x_2|^{2m}\\Gamma_3(m)^2 },\n",
    "$$\n",
    "\n",
    "where $\\un I$ is the $3\\times 3$ identity matrix and $\\tr(\\un I)=3$."
   ]
  },
  {
   "cell_type": "markdown",
   "metadata": {
    "nbpresent": {
     "id": "38e0fce6-359e-4dc9-876c-cae4ec00a07b"
    }
   },
   "source": [
    "Under $H_1$ we obtain, similarly, the maximum likelihood for ${\\bf\\Sigma}_1$ and  ${\\bf\\Sigma}_2$ as\n",
    "\n",
    "$$\n",
    "L(\\hat{\\bf\\Sigma}_1,\\hat{\\bf\\Sigma}_2) = { |\\un x_1|^{m-3}|\\un x_2|^{m-3}\\exp(-2m\\cdot\\tr(\\un I)) \\over \\left({1\\over m}\\right)^{3m}\\left({1\\over m}\\right)^{3m} |\\un x_1|^m |\\un x_2|^m\\Gamma_3(m)^2 }\n",
    "$$\n",
    "\n",
    "Then the Likelihood ratio test has the critical region\n",
    "\n",
    "$$\n",
    "Q = {L(\\hat{\\bf\\Sigma}) \\over L(\\hat{\\bf\\Sigma}_1,\\hat{\\bf\\Sigma}_2) } = 2^{6m}{ |\\un x_1|^m |\\un x_2|^m \\over |\\un x_1 + \\un x_2|^{2m} } \\le k.\n",
    "$$"
   ]
  },
  {
   "cell_type": "markdown",
   "metadata": {
    "nbpresent": {
     "id": "26b4ec4a-3f7e-4eae-ab67-5a6b85f0098e"
    }
   },
   "source": [
    "For a large number of looks $m$, we can apply the asymptotic approximation described above to obtain the following\n",
    "distribution for the test statistic: As $m\\to\\infty$, the quantity\n",
    "\n",
    "$$\n",
    "-2\\log Q = -2m( 6\\log 2 + \\log|\\un x_1| + \\log|\\un x_2| -2\\log|\\un x_1+\\un x_2| )\n",
    "$$\n",
    "\n",
    "is a realization of a chi-square random variable with 9 degrees of freedom, i.e.,\n",
    "\n",
    "$$\n",
    "\\pr(-2\\log Q\\le z) \\simeq P_{\\chi^2;9}(z).\n",
    "$$\n",
    "\n",
    "This follows from the fact that the number of parameters required to specify a $3\\times 3$\n",
    "complex covariance matrix is 9: three for the real diagonal elements and $2\\times 3$ for \n",
    "the three complex elements above the diagonal.\n",
    "Thus the parameter space $\\omega$ for $({\\bf\\Sigma}_1,{\\bf\\Sigma}_2)$ has dimension $q=2\\times 9$,  and the\n",
    "subspace $\\omega_0$ for the simple null hypothesis has dimension $r=9$, so $q-r=9$."
   ]
  },
  {
   "cell_type": "markdown",
   "metadata": {
    "nbpresent": {
     "id": "3a781547-b877-4efe-8d26-f5b1a9b01ed9"
    }
   },
   "source": [
    "### Multitemporal data\n",
    "\n",
    "The preceding discussion generalizes in a straightforward way to a time series of $n$ images (<a href=\"http://www2.imm.dtu.dk/pubdb/views/publication_details.php?id=6825\">Conradsen et al (2016)</a>). In the equation for the test statistic $Q$ above, the numerator consists of a product $k$ determinants $|\\un x_1|\\cdot|\\un x_2|\\cdot\\dots|\\un x_n|$ and the denominator similarly the determinant of the sum of the $n$ observations $|\\un x_1+\\un x_2+\\dots \\un x_n|$. The multitemporal test is referred to as the __omnibus test__ will in general be more powerful (have a higher detection probability) for the same significance level than a bitemporal test just involving the first and last images. Furthermore, the test statistic can be factored into a product of test statistics that can be used to ascertain the time or times at which significant changes occur in the series."
   ]
  },
  {
   "cell_type": "code",
   "execution_count": null,
   "metadata": {
    "collapsed": false,
    "nbpresent": {
     "id": "9febd33e-a55e-4160-9f88-a535ce73db97"
    }
   },
   "outputs": [],
   "source": [
    "run sar_seq -h"
   ]
  },
  {
   "cell_type": "code",
   "execution_count": null,
   "metadata": {
    "collapsed": false,
    "nbpresent": {
     "id": "b19bddef-e3bb-4646-b812-a027b9baa743"
    }
   },
   "outputs": [],
   "source": [
    "run sar_seq -m '20100426.tif','20100520.tif','20100707.tif','20100731.tif','20100824.tif','20101011.tif' result 12"
   ]
  },
  {
   "cell_type": "code",
   "execution_count": null,
   "metadata": {
    "collapsed": true,
    "nbpresent": {
     "id": "a8b0f1c5-2105-47b7-ad4f-33e4af59a571"
    }
   },
   "outputs": [],
   "source": [
    "%matplotlib inline"
   ]
  },
  {
   "cell_type": "code",
   "execution_count": null,
   "metadata": {
    "collapsed": false,
    "nbpresent": {
     "id": "ad2ebc19-e939-429d-9524-a7800587f3b8"
    }
   },
   "outputs": [],
   "source": [
    "run dispms -f /home/mort/stats2016/result_cmap -c -d [300,300,200,200] \\\n",
    "-F /home/mort/stats2016/20100426.tif -D [300,300,200,200] -o 0.5"
   ]
  },
  {
   "cell_type": "code",
   "execution_count": null,
   "metadata": {
    "collapsed": true,
    "nbpresent": {
     "id": "7d9891a9-8c53-4c20-8a0f-198ed326a423"
    }
   },
   "outputs": [],
   "source": []
  }
 ],
 "metadata": {
  "anaconda-cloud": {},
  "kernelspec": {
   "display_name": "Python [conda root]",
   "language": "python",
   "name": "conda-root-py"
  },
  "language_info": {
   "codemirror_mode": {
    "name": "ipython",
    "version": 2
   },
   "file_extension": ".py",
   "mimetype": "text/x-python",
   "name": "python",
   "nbconvert_exporter": "python",
   "pygments_lexer": "ipython2",
   "version": "2.7.12"
  },
  "nbpresent": {
   "slides": {
    "00ecdd5a-aa11-4a31-96e0-c8cd32ce1da2": {
     "id": "00ecdd5a-aa11-4a31-96e0-c8cd32ce1da2",
     "prev": "5fa2a70c-54e9-4b15-a6d7-d437775e2f37",
     "regions": {
      "d2241c1e-e490-4185-befc-1a5110565963": {
       "attrs": {
        "height": 0.8,
        "width": 0.8,
        "x": 0.1,
        "y": 0.1
       },
       "content": {
        "cell": "ffb64db1-1f28-4113-bf99-431c056adbbb",
        "part": "whole"
       },
       "id": "d2241c1e-e490-4185-befc-1a5110565963"
      }
     }
    },
    "15218a95-bdac-4804-a599-db0bbf521dc9": {
     "id": "15218a95-bdac-4804-a599-db0bbf521dc9",
     "prev": "2835af0e-1927-4e35-ad4f-f47dab4110ab",
     "regions": {
      "c1bf85ba-3079-41dd-b87d-028e3a5efcf6": {
       "attrs": {
        "height": 0.8,
        "width": 0.8,
        "x": 0.1,
        "y": 0.1
       },
       "content": {
        "cell": "9febd33e-a55e-4160-9f88-a535ce73db97",
        "part": "whole"
       },
       "id": "c1bf85ba-3079-41dd-b87d-028e3a5efcf6"
      }
     }
    },
    "1d1371bd-e483-46dd-b5e4-c4b9b41fb6c6": {
     "id": "1d1371bd-e483-46dd-b5e4-c4b9b41fb6c6",
     "prev": "4bf69e23-ad2e-4391-b377-f95008c009da",
     "regions": {
      "c46791d2-9232-42e8-9535-5c43f5c59d24": {
       "attrs": {
        "height": 0.8,
        "width": 0.8,
        "x": 0.1,
        "y": 0.1
       },
       "content": {
        "cell": "5dba6815-8651-4901-8022-757c415c3d7e",
        "part": "whole"
       },
       "id": "c46791d2-9232-42e8-9535-5c43f5c59d24"
      }
     }
    },
    "1f64fc5a-f3b5-4a2a-a938-f5f92119b889": {
     "id": "1f64fc5a-f3b5-4a2a-a938-f5f92119b889",
     "prev": "4c5416f7-f717-4985-b0d1-00bc6f16caa6",
     "regions": {
      "42c56a1b-44d8-4e57-903d-f5a5d9a86629": {
       "attrs": {
        "height": 0.8,
        "width": 0.8,
        "x": 0.1,
        "y": 0.1
       },
       "content": {
        "cell": "a8b0f1c5-2105-47b7-ad4f-33e4af59a571",
        "part": "whole"
       },
       "id": "42c56a1b-44d8-4e57-903d-f5a5d9a86629"
      }
     }
    },
    "1f8a2829-75de-4631-9c0d-22b5ee32b6af": {
     "id": "1f8a2829-75de-4631-9c0d-22b5ee32b6af",
     "prev": "447c4002-f248-4f86-b0b3-29f167ea0265",
     "regions": {
      "e14125be-1d8c-470e-847d-dfd502b25a9c": {
       "attrs": {
        "height": 0.8,
        "width": 0.8,
        "x": 0.1,
        "y": 0.1
       },
       "content": {
        "cell": "dd779261-d89a-4be9-b09b-801efeabdb27",
        "part": "whole"
       },
       "id": "e14125be-1d8c-470e-847d-dfd502b25a9c"
      }
     }
    },
    "1fdef0bc-5c83-4611-aee2-304f6a4f255e": {
     "id": "1fdef0bc-5c83-4611-aee2-304f6a4f255e",
     "prev": "4a23a8da-a70e-487d-9eac-171038c194aa",
     "regions": {
      "6d78220c-3fe1-40d8-84d5-beb78950ac8d": {
       "attrs": {
        "height": 0.8,
        "width": 0.8,
        "x": 0.1,
        "y": 0.1
       },
       "content": {
        "cell": "5a2a1b7c-3a3c-48d3-9025-35326365cdcb",
        "part": "whole"
       },
       "id": "6d78220c-3fe1-40d8-84d5-beb78950ac8d"
      }
     }
    },
    "23de35e6-4979-42a2-8428-740e0f0d7105": {
     "id": "23de35e6-4979-42a2-8428-740e0f0d7105",
     "prev": "2f894660-1aab-44b2-b92d-b514202d6ad7",
     "regions": {
      "50778456-5b76-4d3c-9d60-3231e40ef746": {
       "attrs": {
        "height": 0.8,
        "width": 0.8,
        "x": 0.1,
        "y": 0.1
       },
       "content": {
        "cell": "81bf9af1-5835-4a96-a5f2-7d82bd272d98",
        "part": "whole"
       },
       "id": "50778456-5b76-4d3c-9d60-3231e40ef746"
      }
     }
    },
    "280f1a7f-1a1f-4e53-82f5-1e5be9b7b172": {
     "id": "280f1a7f-1a1f-4e53-82f5-1e5be9b7b172",
     "prev": "b36f11fe-9470-4090-9c89-27794e797257",
     "regions": {
      "2aeac0ce-32e8-4e5e-a93d-0fc3d732e894": {
       "attrs": {
        "height": 0.8,
        "width": 0.8,
        "x": 0.1,
        "y": 0.1
       },
       "content": {
        "cell": "15f352b2-7b98-47b7-ad4b-f7a0a4733ce0",
        "part": "whole"
       },
       "id": "2aeac0ce-32e8-4e5e-a93d-0fc3d732e894"
      }
     }
    },
    "2835af0e-1927-4e35-ad4f-f47dab4110ab": {
     "id": "2835af0e-1927-4e35-ad4f-f47dab4110ab",
     "prev": "40bc13c0-4ac9-4b76-995b-77da579f2b76",
     "regions": {
      "de319745-49f3-4762-adf9-3353c1b456ea": {
       "attrs": {
        "height": 0.8,
        "width": 0.8,
        "x": 0.1,
        "y": 0.1
       },
       "content": {
        "cell": "3a781547-b877-4efe-8d26-f5b1a9b01ed9",
        "part": "whole"
       },
       "id": "de319745-49f3-4762-adf9-3353c1b456ea"
      }
     }
    },
    "2f894660-1aab-44b2-b92d-b514202d6ad7": {
     "id": "2f894660-1aab-44b2-b92d-b514202d6ad7",
     "prev": "fb70ae64-eadf-4bd9-ace6-136b5142ce96",
     "regions": {
      "2664beb2-aa87-4b4d-bcf5-3d1bdb780310": {
       "attrs": {
        "height": 0.8,
        "width": 0.8,
        "x": 0.1,
        "y": 0.1
       },
       "content": {
        "cell": "1170d60c-f3c8-4ac8-b8b0-5fb5cca31ca7",
        "part": "whole"
       },
       "id": "2664beb2-aa87-4b4d-bcf5-3d1bdb780310"
      }
     }
    },
    "39c622f2-ade4-4610-a821-3520761e8844": {
     "id": "39c622f2-ade4-4610-a821-3520761e8844",
     "prev": "7ab27127-8628-4810-9188-3393a30471ce",
     "regions": {
      "1802d4bd-4269-4a6c-ac02-e5a2b47f7e10": {
       "attrs": {
        "height": 0.8,
        "width": 0.8,
        "x": 0.1,
        "y": 0.1
       },
       "content": {
        "cell": "6c3fd567-c1f1-4cff-ae3a-8f1a2768db6d",
        "part": "whole"
       },
       "id": "1802d4bd-4269-4a6c-ac02-e5a2b47f7e10"
      }
     }
    },
    "40bc13c0-4ac9-4b76-995b-77da579f2b76": {
     "id": "40bc13c0-4ac9-4b76-995b-77da579f2b76",
     "prev": "6c254c00-2a8e-434c-a8b8-b985ca95a6a4",
     "regions": {
      "b199971a-12e6-45b1-957f-9bca835c6549": {
       "attrs": {
        "height": 0.8,
        "width": 0.8,
        "x": 0.1,
        "y": 0.1
       },
       "content": {
        "cell": "26b4ec4a-3f7e-4eae-ab67-5a6b85f0098e",
        "part": "whole"
       },
       "id": "b199971a-12e6-45b1-957f-9bca835c6549"
      }
     }
    },
    "447c4002-f248-4f86-b0b3-29f167ea0265": {
     "id": "447c4002-f248-4f86-b0b3-29f167ea0265",
     "prev": "1d1371bd-e483-46dd-b5e4-c4b9b41fb6c6",
     "regions": {
      "fca1f7dd-e093-4b24-a3e1-61e12590da67": {
       "attrs": {
        "height": 0.8,
        "width": 0.8,
        "x": 0.1,
        "y": 0.1
       },
       "content": {
        "cell": "813a59ac-5d46-4bcd-b11f-e68b067c756a",
        "part": "whole"
       },
       "id": "fca1f7dd-e093-4b24-a3e1-61e12590da67"
      }
     }
    },
    "45877ec4-757b-4430-9948-ae8880f58d9f": {
     "id": "45877ec4-757b-4430-9948-ae8880f58d9f",
     "prev": "1fdef0bc-5c83-4611-aee2-304f6a4f255e",
     "regions": {
      "f67bd626-2503-4edf-b81f-da85f42ec43c": {
       "attrs": {
        "height": 0.8,
        "width": 0.8,
        "x": 0.1,
        "y": 0.1
       },
       "content": {
        "cell": "a0f3a778-32aa-45a4-9b8d-cebad54574f4",
        "part": "whole"
       },
       "id": "f67bd626-2503-4edf-b81f-da85f42ec43c"
      }
     }
    },
    "4a23a8da-a70e-487d-9eac-171038c194aa": {
     "id": "4a23a8da-a70e-487d-9eac-171038c194aa",
     "prev": "ee113d5f-3534-4f6e-85ca-812de75937b1",
     "regions": {
      "b9622c90-d3b6-4bb8-81f9-317808564207": {
       "attrs": {
        "height": 0.8,
        "width": 0.8,
        "x": 0.1,
        "y": 0.1
       },
       "content": {
        "cell": "9b838f43-f63b-423e-81b8-cfcd00c3f473",
        "part": "whole"
       },
       "id": "b9622c90-d3b6-4bb8-81f9-317808564207"
      }
     }
    },
    "4bf69e23-ad2e-4391-b377-f95008c009da": {
     "id": "4bf69e23-ad2e-4391-b377-f95008c009da",
     "prev": "e94c91d7-04cc-45a6-8feb-ee69cc6d8f2c",
     "regions": {
      "8779ecea-21f3-46fb-851c-8f002580fa89": {
       "attrs": {
        "height": 0.8,
        "width": 0.8,
        "x": 0.1,
        "y": 0.1
       },
       "content": {
        "cell": "863eb1fa-1025-4d3d-aac4-effdc7099646",
        "part": "whole"
       },
       "id": "8779ecea-21f3-46fb-851c-8f002580fa89"
      }
     }
    },
    "4c5416f7-f717-4985-b0d1-00bc6f16caa6": {
     "id": "4c5416f7-f717-4985-b0d1-00bc6f16caa6",
     "prev": "15218a95-bdac-4804-a599-db0bbf521dc9",
     "regions": {
      "e0966a28-e2fb-478c-affa-ea64c206fe8c": {
       "attrs": {
        "height": 0.8,
        "width": 0.8,
        "x": 0.1,
        "y": 0.1
       },
       "content": {
        "cell": "b19bddef-e3bb-4646-b812-a027b9baa743",
        "part": "whole"
       },
       "id": "e0966a28-e2fb-478c-affa-ea64c206fe8c"
      }
     }
    },
    "555ec609-708c-4593-bf0a-169aa98bc038": {
     "id": "555ec609-708c-4593-bf0a-169aa98bc038",
     "prev": "1f8a2829-75de-4631-9c0d-22b5ee32b6af",
     "regions": {
      "4784617a-8ffa-4372-bd4e-d0975f6ec14d": {
       "attrs": {
        "height": 0.8,
        "width": 0.8,
        "x": 0.1,
        "y": 0.1
       },
       "content": {
        "cell": "977a64ec-5bce-45f7-8fed-504472f7d303",
        "part": "whole"
       },
       "id": "4784617a-8ffa-4372-bd4e-d0975f6ec14d"
      }
     }
    },
    "5fa2a70c-54e9-4b15-a6d7-d437775e2f37": {
     "id": "5fa2a70c-54e9-4b15-a6d7-d437775e2f37",
     "prev": "280f1a7f-1a1f-4e53-82f5-1e5be9b7b172",
     "regions": {
      "54b1c3a5-c132-4a79-ab67-4166595ec5ed": {
       "attrs": {
        "height": 0.8,
        "width": 0.8,
        "x": 0.1,
        "y": 0.1
       },
       "content": {
        "cell": "946cc548-401f-4e9b-b804-47e7574fc77d",
        "part": "whole"
       },
       "id": "54b1c3a5-c132-4a79-ab67-4166595ec5ed"
      }
     }
    },
    "6c254c00-2a8e-434c-a8b8-b985ca95a6a4": {
     "id": "6c254c00-2a8e-434c-a8b8-b985ca95a6a4",
     "prev": "45877ec4-757b-4430-9948-ae8880f58d9f",
     "regions": {
      "c5b00cec-3af9-470c-8228-2ade9bb396bc": {
       "attrs": {
        "height": 0.8,
        "width": 0.8,
        "x": 0.1,
        "y": 0.1
       },
       "content": {
        "cell": "38e0fce6-359e-4dc9-876c-cae4ec00a07b",
        "part": "whole"
       },
       "id": "c5b00cec-3af9-470c-8228-2ade9bb396bc"
      }
     }
    },
    "7990d0ec-2566-4608-988a-686e298630d3": {
     "id": "7990d0ec-2566-4608-988a-686e298630d3",
     "prev": "bbf00f9b-5997-4876-a918-e4bb855eaaa4",
     "regions": {
      "e0b1b56a-eafd-496d-9ac0-84c6a0d17823": {
       "attrs": {
        "height": 0.8,
        "width": 0.8,
        "x": 0.1,
        "y": 0.1
       },
       "content": {
        "cell": "7d9891a9-8c53-4c20-8a0f-198ed326a423",
        "part": "whole"
       },
       "id": "e0b1b56a-eafd-496d-9ac0-84c6a0d17823"
      }
     }
    },
    "7ab27127-8628-4810-9188-3393a30471ce": {
     "id": "7ab27127-8628-4810-9188-3393a30471ce",
     "prev": "900b1888-1115-4eda-90d6-68f9eb70621e",
     "regions": {
      "5b448a97-8bdd-4054-86f6-6698454a734b": {
       "attrs": {
        "height": 0.8,
        "width": 0.8,
        "x": 0.1,
        "y": 0.1
       },
       "content": {
        "cell": "3c120f63-6f09-4bbb-8125-19d8bbef561f",
        "part": "whole"
       },
       "id": "5b448a97-8bdd-4054-86f6-6698454a734b"
      }
     }
    },
    "7c263715-1cbf-4331-9b07-6872fc3f0965": {
     "id": "7c263715-1cbf-4331-9b07-6872fc3f0965",
     "prev": "00ecdd5a-aa11-4a31-96e0-c8cd32ce1da2",
     "regions": {
      "6b6ecb8e-d17f-4ae9-935b-ecf4c89673e3": {
       "attrs": {
        "height": 0.8,
        "width": 0.8,
        "x": 0.1,
        "y": 0.1
       },
       "content": {
        "cell": "abe39e63-fad0-445a-8ab0-a14bf9e81fa5",
        "part": "whole"
       },
       "id": "6b6ecb8e-d17f-4ae9-935b-ecf4c89673e3"
      }
     }
    },
    "900b1888-1115-4eda-90d6-68f9eb70621e": {
     "id": "900b1888-1115-4eda-90d6-68f9eb70621e",
     "prev": "af29a3d0-0859-46e0-8624-bc4e0702d869",
     "regions": {
      "64e966eb-2bc2-4c38-90e9-a7b058732925": {
       "attrs": {
        "height": 0.8,
        "width": 0.8,
        "x": 0.1,
        "y": 0.1
       },
       "content": {
        "cell": "1df3f130-4fee-4cc3-a22b-29866c0fa8a3",
        "part": "whole"
       },
       "id": "64e966eb-2bc2-4c38-90e9-a7b058732925"
      }
     }
    },
    "abbe3dea-2084-40e6-827c-93e30faf6c89": {
     "id": "abbe3dea-2084-40e6-827c-93e30faf6c89",
     "prev": "7c263715-1cbf-4331-9b07-6872fc3f0965",
     "regions": {
      "80d23797-df28-4934-bd3f-18f656d605f1": {
       "attrs": {
        "height": 0.8,
        "width": 0.8,
        "x": 0.1,
        "y": 0.1
       },
       "content": {
        "cell": "4c913aeb-3c86-4b3d-bdc0-1f9deb07eb49",
        "part": "whole"
       },
       "id": "80d23797-df28-4934-bd3f-18f656d605f1"
      }
     }
    },
    "acb481cb-bb82-4b9e-95f3-eded285c449e": {
     "id": "acb481cb-bb82-4b9e-95f3-eded285c449e",
     "prev": "ceb8ef54-c95d-4582-8de8-50277896e334",
     "regions": {
      "58e1a9a7-8985-4c31-a281-96d6f15f8d82": {
       "attrs": {
        "height": 0.8,
        "width": 0.8,
        "x": 0.1,
        "y": 0.1
       },
       "content": {
        "cell": "388c8377-f5c2-48df-afc8-763929561788",
        "part": "whole"
       },
       "id": "58e1a9a7-8985-4c31-a281-96d6f15f8d82"
      }
     }
    },
    "af29a3d0-0859-46e0-8624-bc4e0702d869": {
     "id": "af29a3d0-0859-46e0-8624-bc4e0702d869",
     "prev": "acb481cb-bb82-4b9e-95f3-eded285c449e",
     "regions": {
      "d8f0c7eb-e3ee-4aae-a97c-b343c7d31e80": {
       "attrs": {
        "height": 0.8,
        "width": 0.8,
        "x": 0.1,
        "y": 0.1
       },
       "content": {
        "cell": "710a04ae-2589-4d0f-8535-d89cfa2005d6",
        "part": "whole"
       },
       "id": "d8f0c7eb-e3ee-4aae-a97c-b343c7d31e80"
      }
     }
    },
    "b36f11fe-9470-4090-9c89-27794e797257": {
     "id": "b36f11fe-9470-4090-9c89-27794e797257",
     "prev": "23de35e6-4979-42a2-8428-740e0f0d7105",
     "regions": {
      "63c10e4b-585a-4fe7-bb67-f49392c926f3": {
       "attrs": {
        "height": 0.8,
        "width": 0.8,
        "x": 0.1,
        "y": 0.1
       },
       "content": {
        "cell": "9f507ba7-bebe-4d20-ba33-2a83967af249",
        "part": "whole"
       },
       "id": "63c10e4b-585a-4fe7-bb67-f49392c926f3"
      }
     }
    },
    "bbf00f9b-5997-4876-a918-e4bb855eaaa4": {
     "id": "bbf00f9b-5997-4876-a918-e4bb855eaaa4",
     "prev": "1f64fc5a-f3b5-4a2a-a938-f5f92119b889",
     "regions": {
      "e9cf5820-bca3-4250-ac5e-d6bc2f5d5579": {
       "attrs": {
        "height": 0.8,
        "width": 0.8,
        "x": 0.1,
        "y": 0.1
       },
       "content": {
        "cell": "ad2ebc19-e939-429d-9524-a7800587f3b8",
        "part": "whole"
       },
       "id": "e9cf5820-bca3-4250-ac5e-d6bc2f5d5579"
      }
     }
    },
    "caf302eb-181d-49a6-8db4-c4a086f6f1c3": {
     "id": "caf302eb-181d-49a6-8db4-c4a086f6f1c3",
     "prev": "abbe3dea-2084-40e6-827c-93e30faf6c89",
     "regions": {
      "8913d7ec-302b-48f7-b7dc-847f95623a10": {
       "attrs": {
        "height": 0.8,
        "width": 0.8,
        "x": 0.1,
        "y": 0.1
       },
       "content": {
        "cell": "ac7e823e-f2db-47cb-a0f8-0f3769bf9338",
        "part": "whole"
       },
       "id": "8913d7ec-302b-48f7-b7dc-847f95623a10"
      }
     }
    },
    "ceb8ef54-c95d-4582-8de8-50277896e334": {
     "id": "ceb8ef54-c95d-4582-8de8-50277896e334",
     "prev": "caf302eb-181d-49a6-8db4-c4a086f6f1c3",
     "regions": {
      "699a0fd4-ed64-4de7-9913-5152f170299b": {
       "attrs": {
        "height": 0.8,
        "width": 0.8,
        "x": 0.1,
        "y": 0.1
       },
       "content": {
        "cell": "d887ec6f-60c1-4a40-90ef-5605ce5a6d92",
        "part": "whole"
       },
       "id": "699a0fd4-ed64-4de7-9913-5152f170299b"
      }
     }
    },
    "e2e4e6fa-b076-4ddb-8639-8a3bd9f7057f": {
     "id": "e2e4e6fa-b076-4ddb-8639-8a3bd9f7057f",
     "prev": "39c622f2-ade4-4610-a821-3520761e8844",
     "regions": {
      "73d5840f-902b-45f1-9528-9d51686ef637": {
       "attrs": {
        "height": 0.8,
        "width": 0.8,
        "x": 0.1,
        "y": 0.1
       },
       "content": {
        "cell": "24e4e8bd-b5df-4744-b6ac-0ed44c8331c3",
        "part": "whole"
       },
       "id": "73d5840f-902b-45f1-9528-9d51686ef637"
      }
     }
    },
    "e94c91d7-04cc-45a6-8feb-ee69cc6d8f2c": {
     "id": "e94c91d7-04cc-45a6-8feb-ee69cc6d8f2c",
     "prev": "e2e4e6fa-b076-4ddb-8639-8a3bd9f7057f",
     "regions": {
      "291bec36-93af-4000-bcd4-31aa0fb37a91": {
       "attrs": {
        "height": 0.8,
        "width": 0.8,
        "x": 0.1,
        "y": 0.1
       },
       "content": {
        "cell": "d96a4b9e-ee99-4fab-88a6-213f24d8c6b5",
        "part": "whole"
       },
       "id": "291bec36-93af-4000-bcd4-31aa0fb37a91"
      }
     }
    },
    "ee113d5f-3534-4f6e-85ca-812de75937b1": {
     "id": "ee113d5f-3534-4f6e-85ca-812de75937b1",
     "prev": "555ec609-708c-4593-bf0a-169aa98bc038",
     "regions": {
      "ecbff95e-3131-475b-9301-0f027f542404": {
       "attrs": {
        "height": 0.8,
        "width": 0.8,
        "x": 0.1,
        "y": 0.1
       },
       "content": {
        "cell": "c706176c-fe97-41dd-8470-38daf1135f56",
        "part": "whole"
       },
       "id": "ecbff95e-3131-475b-9301-0f027f542404"
      }
     }
    },
    "fb70ae64-eadf-4bd9-ace6-136b5142ce96": {
     "id": "fb70ae64-eadf-4bd9-ace6-136b5142ce96",
     "prev": null,
     "regions": {
      "1661d194-73bd-4a9a-9d8a-4ff499628c3d": {
       "attrs": {
        "height": 0.8,
        "width": 0.8,
        "x": 0.1,
        "y": 0.1
       },
       "content": {
        "cell": "56d7bd62-983a-4a1e-8c87-2ed7ad544528",
        "part": "whole"
       },
       "id": "1661d194-73bd-4a9a-9d8a-4ff499628c3d"
      }
     }
    }
   },
   "themes": {
    "default": "027b1cff-63fa-4cba-9876-b127b2800249",
    "theme": {
     "027b1cff-63fa-4cba-9876-b127b2800249": {
      "id": "027b1cff-63fa-4cba-9876-b127b2800249",
      "palette": {
       "19cc588f-0593-49c9-9f4b-e4d7cc113b1c": {
        "id": "19cc588f-0593-49c9-9f4b-e4d7cc113b1c",
        "rgb": [
         252,
         252,
         252
        ]
       },
       "31af15d2-7e15-44c5-ab5e-e04b16a89eff": {
        "id": "31af15d2-7e15-44c5-ab5e-e04b16a89eff",
        "rgb": [
         68,
         68,
         68
        ]
       },
       "50f92c45-a630-455b-aec3-788680ec7410": {
        "id": "50f92c45-a630-455b-aec3-788680ec7410",
        "rgb": [
         155,
         177,
         192
        ]
       },
       "c5cc3653-2ee1-402a-aba2-7caae1da4f6c": {
        "id": "c5cc3653-2ee1-402a-aba2-7caae1da4f6c",
        "rgb": [
         43,
         126,
         184
        ]
       },
       "efa7f048-9acb-414c-8b04-a26811511a21": {
        "id": "efa7f048-9acb-414c-8b04-a26811511a21",
        "rgb": [
         25.118061674008803,
         73.60176211453744,
         107.4819383259912
        ]
       }
      },
      "rules": {
       "blockquote": {
        "color": "50f92c45-a630-455b-aec3-788680ec7410"
       },
       "code": {
        "font-family": "Anonymous Pro"
       },
       "h1": {
        "color": "c5cc3653-2ee1-402a-aba2-7caae1da4f6c",
        "font-family": "Lato",
        "font-size": 8
       },
       "h2": {
        "color": "c5cc3653-2ee1-402a-aba2-7caae1da4f6c",
        "font-family": "Lato",
        "font-size": 6
       },
       "h3": {
        "color": "50f92c45-a630-455b-aec3-788680ec7410",
        "font-family": "Lato",
        "font-size": 5.5
       },
       "h4": {
        "color": "c5cc3653-2ee1-402a-aba2-7caae1da4f6c",
        "font-family": "Lato",
        "font-size": 5
       },
       "h5": {
        "font-family": "Lato"
       },
       "h6": {
        "font-family": "Lato"
       },
       "h7": {
        "font-family": "Lato"
       },
       "pre": {
        "font-family": "Anonymous Pro",
        "font-size": 4
       }
      },
      "text-base": {
       "font-family": "Merriweather",
       "font-size": 4
      }
     }
    }
   }
  }
 },
 "nbformat": 4,
 "nbformat_minor": 0
}
