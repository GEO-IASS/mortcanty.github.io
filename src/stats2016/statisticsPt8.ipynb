{
 "cells": [
  {
   "cell_type": "markdown",
   "metadata": {
    "nbpresent": {
     "id": "90970bb8-c992-4ca4-a44b-87489ee7c4bd"
    }
   },
   "source": [
    "## Part 8. Data Assimilation\n",
    "$$ \\def\\pr{\\hbox{Pr}}\n",
    "\\def\\var{\\hbox{var}}\n",
    "\\def\\cov{\\hbox{cov}}\n",
    "\\def\\tr{\\hbox{tr}}\n",
    "\\def\\corr{\\hbox{corr}}\n",
    "\\def\\dmX{\\un{\\mathcal{X}}}\n",
    "\\def\\dmG{\\un{\\mathcal{G}}}\n",
    "\\def\\dmK{\\un{\\mathcal{K}}}\n",
    "\\def\\dmS{\\un{\\mathcal{S}}}\n",
    "\\def\\dmC{\\un{\\mathcal{C}}}\n",
    "\\def\\dmZ{\\un{\\mathcal{Z}}}\n",
    "\\def\\bma{{\\mbox{\\boldmath $\\alpha$}}}\n",
    "\\def\\bmb{{\\mbox{\\boldmath $\\beta$}}}\n",
    "\\def\\bmu{{\\mbox{\\boldmath $\\mu$}}}\n",
    "\\def\\bme{{\\mbox{\\boldmath $\\epsilon$}}}\n",
    "\\def\\bmS{{\\mbox{\\boldmath $\\Sigma$}}}\n",
    "\\def\\bmL{{\\mbox{\\boldmath $\\Lambda$}}}\n",
    "\\def\\bmd{{\\mbox{\\boldmath $\\delta$}}}\n",
    "\\def\\bmD{{\\mbox{\\boldmath $\\Delta$}}}\n",
    "\\def\\bmG{{\\mbox{\\boldmath $\\Gamma$}}}\n",
    "\\def\\bmphi{{\\mbox{\\boldmath $\\phi$}}}\n",
    "\\def\\bmPhi{{\\mbox{\\boldmath $\\Phi$}}}\n",
    "\\def\\bmpsi{{\\mbox{\\boldmath $\\psi$}}}\n",
    "\\def\\bmtheta{{\\mbox{\\boldmath $\\theta$}}}\n",
    "\\def\\eq{\\begin{equation}}\n",
    "\\def\\eeq{\\end{equation}}\n",
    "\\def\\i{{\\bf i}}\n",
    "\\def\\un#1{{\\bf #1}}$$\n",
    "\n",
    "\n",
    "<a href=\"https://people.eecs.berkeley.edu/~pabbeel/cs287-fa12/optreadings/Arulampalam_etal_2002.pdf \">Arulampalam, M. S., Maskell, S., Gordon, N., and Clapp, T. (2002).\n",
    " A tutotial on particle filters for online nonlinear/non-Gaussian\n",
    "  Bayesian tracking.\n",
    "IEEE Transactions on Signal Processing, (50)(2), 174--188.</a>\n",
    "\n",
    "<a href=\"http://www.springer.com/us/book/9780387310732\">Bishop, C. M. (2006).\n",
    "Pattern Recognition and Machine Learning, Springer.</a>\n",
    "\n",
    "<a href=\"http://onlinelibrary.wiley.com/doi/10.1034/j.1600-0870.1999.t01-2-00002.x/abstract\">\n",
    "Miller, R. N., Carter, E. F., and Blue, S. T. (1999).\n",
    "Data assimilation into nonlinear stochastic models.\n",
    "Tellus, 51A, 167--194.</a>"
   ]
  },
  {
   "cell_type": "markdown",
   "metadata": {
    "nbpresent": {
     "id": "b1adadaf-409c-43ee-8562-1ddd1b29a717"
    }
   },
   "source": [
    "Nonlinear system model (first-order Markov process):\n",
    "\n",
    "$$\n",
    "z_n = f(z_{n-1},w_n),\\quad w_n=\\hbox{system noise}.\\tag 1\n",
    "$$\n",
    "\n",
    "Nonlinear measurement model:\n",
    "\n",
    "$$\n",
    "x_n = h(z_n, v_n),\\quad v_n=\\hbox{measurement noise}.\\tag 2\n",
    "$$\n",
    "\n",
    "Given observations $X_n = (x_1,x_2\\dots x_n)$ we want to estimate the posterior probability\n",
    "density function\n",
    "$p(z_n\\mid X_n)$ for observing $z_n$. Then the state $z_n$ can be estimated:\n",
    "\n",
    "$$\n",
    "\\hat z_n = \\int z_np(z_n\\mid X_n)dz_n, \\quad \\var(z_n) = \\int (z_n-\\hat z_n)^2 p(z_n\\mid X_n)dz_n.\\tag 3\n",
    "$$"
   ]
  },
  {
   "cell_type": "markdown",
   "metadata": {},
   "source": [
    "If the data $x_n$ arrive sequentially, we can write (3) as\n",
    "\n",
    "$$\n",
    "\\hat z_n = \\int z_np(z_n\\mid x_n,X_{n-1})dz_n\\tag 4\n",
    "$$\n",
    "\n",
    "and say that $x_n$ is being \"assimilated\" to get a better estimate of the state variable $z_n$."
   ]
  },
  {
   "cell_type": "markdown",
   "metadata": {},
   "source": [
    "we make use of\n",
    "\n",
    "$$\\eqalign{\n",
    "p(a\\mid b,c) &\\propto p(b,c\\mid a)p(a)\\quad\\quad\\quad\\quad\\hbox{(Bayes)}\\cr\n",
    "&= p(b\\mid c,a)p(c\\mid a)p(a)\\quad\\hbox{(Product rule)}\\cr\n",
    "&\\propto p(b\\mid c,a)p(a\\mid c)\\quad\\quad\\quad\\hbox{(Bayes again)},\n",
    "}\n",
    "$$\n",
    "\n",
    "so that\n",
    "\n",
    "$$\n",
    "p(a\\mid b,c) ={p(b\\mid c,a)p(a\\mid c)\\over \\int p(b\\mid c,a)p(a\\mid c)da}.\\tag 5\n",
    "$$"
   ]
  },
  {
   "cell_type": "markdown",
   "metadata": {},
   "source": [
    "Rewriting (4) with the help of (5) and $a = z_n,\\ b=x_n,\\ c=X_{n-1}$,\n",
    "\n",
    "$$\n",
    "\\hat z_n = {\\int z_n p(x_n\\mid X_{n-1},z_n)p(z_n\\mid X_{n-1})dz_n\\over\n",
    "\\int p(x_n\\mid X_{n-1},z_n)p(z_n\\mid X_{n-1})dz_n}.\\tag 6\n",
    "$$\n",
    "\n",
    "But $x_n$ is conditionally independent of $X_{n-1}$ so we get\n",
    "\n",
    "$$\n",
    "\\hat z_n = {\\int z_n p(x_n\\mid z_n)p(z_n\\mid X_{n-1})dz_n\\over\n",
    "\\int p(x_n\\mid z_n)p(z_n\\mid X_{n-1})dz_n}.\\tag 7\n",
    "$$"
   ]
  },
  {
   "cell_type": "markdown",
   "metadata": {},
   "source": [
    "Now suppose that we have a set $\\{z_n^i\\}_1^N$ of $N$ samples drawn from the\n",
    "posterior PDF $p(z_n\\mid X_{n-1})$ at time $n$, i.e.,\n",
    "\n",
    "$$\n",
    "p(z_n\\mid X_{n-1}) \\approx \\sum_{i=1}^N\\delta(z_n-z_n^i).\\tag 8\n",
    "$$\n",
    "\n",
    "We measure $x_n$. Then we can assimilate $x_n$ to get a better current estimate\n",
    "of $z_n$ by substituting (8) into (7). This gives\n",
    "\n",
    "$$\n",
    "\\hat z_n =\\int z_np(z_n\\mid X_n)dz_n \\approx \\sum_{i=1}^N z_n^i {p(x_n\\mid z_n^i)\\over\\sum_{j=1}^Np(x_n\\mid z_n^j)} = \\sum_{i=1}^N z_n^i w_n^i,\\tag 9\n",
    "$$\n",
    "\n",
    "where the weights $w_i$ are given by the likelihoods $p(x_n\\mid z_n^i)$ for observing $x_n$\n",
    "given the model states $z_n^i$,\n",
    "\n",
    "$$\n",
    "w_n^i = {p(x_n\\mid z_n^i)\\over\\sum_{j=1}^Np(x_n\\mid z_n^j)}.\\tag{10}\n",
    "$$\n",
    "\n",
    "The *effective number of particles* involved in (9) is \n",
    "\n",
    "$$\n",
    "N_{eff} = {1 \\over \\sum_i^N (w_n^i)^2}.\n",
    "$$\n",
    "\n",
    "For example, if all of the weights are equal then $w_n^i = 1/N$ and we get\n",
    "\n",
    "$$\n",
    "N_{eff} = {1 \\over N\\cdot(1/N^2)} = N.\n",
    "$$\n",
    "\n",
    "Next we observe $x_{n+1}$. Now we must sample from $p(z_{n+1}\\mid X_n)$.\n",
    "Using Bayes Rule as above, we get\n",
    "\n",
    "$$\\eqalign{\n",
    "p(z_{n+1}\\mid X_n)\n",
    "={\\int p(z_{n+1}\\mid z_n) p(x_n\\mid z_n)p(z_n\\mid X_{n-1})dz_n\\over\n",
    "\\int p(x_n\\mid z_n)p(z_n\\mid X_{n-1})dz_n}.}\\tag{11}\n",
    "$$\n",
    "\n",
    "**Exercise 1:** Show this.\n"
   ]
  },
  {
   "cell_type": "markdown",
   "metadata": {},
   "source": [
    "Now substitute (8) into (10) to get\n",
    "\n",
    "$$\n",
    "p(z_{n+1}\\mid X_n) = \\sum_{i=1}^N w_n^i p(z_{n+1}\\mid z_n^i).\n",
    "$$\n",
    "\n",
    "So to go to the next step: for $i=1\\dots N$,\n",
    "choose PDF $p(z_{n+1}\\mid z_n^i)$ with probability $w_n^i$\n",
    "and use the model Equation (1) to sample from that PDF. Combine the weighted samples to get $\\{z_{n+1}^i\\}_i^N$.\n",
    "Then use (9) and (10) with $n\\to n+1$ to assimilate $x_{n+1}$, etc."
   ]
  },
  {
   "cell_type": "markdown",
   "metadata": {},
   "source": [
    "**Algorithm (Nonlinear Bayesian Tracking or Particle Filter):**\n",
    "\n",
    "1) Initialize $n=1$ , $\\{z_n^i\\}_1^N$.\n",
    "\n",
    "2) Measure $x_n$ and calculate weights $w_n^i = p(x_n\\mid z_n^i)$, $i=1\\dots N$ from measurement model (1). Set $w_n^i = w_n^i  / \\sum_i w_n^i$.\n",
    "\n",
    "3) Calcultate $N_{eff} = \\sum_i 1/(w_n^i)^2$ and re-sample the $z_n^i$ if too small.\n",
    "\n",
    "4) Calculate $\\hat z_n = \\sum_1^N z_n^i w_n^i,\\quad \\var(z_n) = \\sum_1^N (z_n^i-\\hat z_n)^2 w_n^i$.\n",
    "\n",
    "5) Sample $p(z_{n+1}\\mid z_n^i)$ from system model (2)  with weights $w_n^i$ to get $\\{z_{n+1}^i\\}_1^N$.\n",
    "\n",
    "6) Set n = n+1 and go to 2)."
   ]
  },
  {
   "cell_type": "markdown",
   "metadata": {},
   "source": [
    "### SImulation\n",
    "\n",
    "Following Miller et al.(1999) we use as system model, Equation (1), the stochastic Lorenz equations for the state vector $\\un Z=(Z_0,Z_1.Z_2)^\\top$\n",
    "\n",
    "$$\\eqalign{\n",
    "{dZ_0\\over dt} &= \\sigma(Z_1-Z_0) + w_0\\cr\n",
    "{dZ_1\\over dt} &= \\rho Z_0 - Z_1 -Z_0Z_2 + w_1\\cr\n",
    "{dZ_2\\over dt} &= Z_0Z_1-\\beta Z_2 + w_2,\n",
    "}\n",
    "$$\n",
    "\n",
    "with $\\sigma=10,\\ \\rho=28,\\ \\beta=8/3$ and $w_i \\sim N\\left(0,0.5\\right)$, $i=0\\dots 2$. This\n",
    "model is highly nonlinear and, for the choice of parameters, chaotic.\n"
   ]
  },
  {
   "cell_type": "code",
   "execution_count": 1,
   "metadata": {
    "collapsed": false,
    "nbpresent": {
     "id": "309c1732-6208-481a-9f71-2662a21c3bf3"
    }
   },
   "outputs": [
    {
     "data": {
      "image/png": "[encoded data removed]",
      "text/plain": [
       "<matplotlib.figure.Figure at 0x7f56d2cc6690>"
      ]
     },
     "metadata": {},
     "output_type": "display_data"
    }
   ],
   "source": [
    "%matplotlib inline\n",
    "%run /home/mort/stats2016/lorenz"
   ]
  },
  {
   "cell_type": "markdown",
   "metadata": {},
   "source": [
    "We run the model over the time interval $[0,45]$, simulating\n",
    "measurements $\\un X=(X_0,X_1,X_2)^\\top$ of all three state variables every 0.48 time units with uncorrelated Gaussian error noise. The measurement variance-covariance\n",
    "matrix is\n",
    "\n",
    "$$\n",
    "{\\bf\\Sigma}_v = \\pmatrix{2 & 0 & 0\\cr\n",
    "                  0 & 2 & 0\\cr\n",
    "                  0 & 0 & 2}.\n",
    "$$\n",
    "\n",
    "Then we restart the model and simulate the assimilation of the measurements using the particle filter described above.\n",
    "The number of particles (samples) is $N=4000$, and resampling is done when $N_{eff} < 3000$.\n",
    "\n",
    "**show simulation in IDL**"
   ]
  },
  {
   "cell_type": "code",
   "execution_count": null,
   "metadata": {
    "collapsed": true,
    "nbpresent": {
     "id": "938e8ef4-d9f4-4317-8820-067086166290"
    }
   },
   "outputs": [],
   "source": []
  }
 ],
 "metadata": {
  "anaconda-cloud": {},
  "kernelspec": {
   "display_name": "Python [Root]",
   "language": "python",
   "name": "Python [Root]"
  },
  "language_info": {
   "codemirror_mode": {
    "name": "ipython",
    "version": 2
   },
   "file_extension": ".py",
   "mimetype": "text/x-python",
   "name": "python",
   "nbconvert_exporter": "python",
   "pygments_lexer": "ipython2",
   "version": "2.7.12"
  },
  "nbpresent": {
   "slides": {
    "4dd40051-f59f-4fdd-b453-8d00da6691ac": {
     "id": "4dd40051-f59f-4fdd-b453-8d00da6691ac",
     "prev": "e7edaa97-02e9-45ce-b627-37a453f9b54d",
     "regions": {
      "ace60804-aa26-47a4-8d72-c137865620cb": {
       "attrs": {
        "height": 0.8,
        "width": 0.8,
        "x": 0.1,
        "y": 0.1
       },
       "content": {
        "cell": "309c1732-6208-481a-9f71-2662a21c3bf3",
        "part": "whole"
       },
       "id": "ace60804-aa26-47a4-8d72-c137865620cb"
      }
     }
    },
    "8c8e2dd7-24a1-4a18-9126-000f01a003d8": {
     "id": "8c8e2dd7-24a1-4a18-9126-000f01a003d8",
     "prev": "4dd40051-f59f-4fdd-b453-8d00da6691ac",
     "regions": {
      "2c028595-ac59-4795-a7fb-f5a91fba3643": {
       "attrs": {
        "height": 0.8,
        "width": 0.8,
        "x": 0.1,
        "y": 0.1
       },
       "content": {
        "cell": "938e8ef4-d9f4-4317-8820-067086166290",
        "part": "whole"
       },
       "id": "2c028595-ac59-4795-a7fb-f5a91fba3643"
      }
     }
    },
    "91fe99be-8430-4b41-923f-8a273c81eb76": {
     "id": "91fe99be-8430-4b41-923f-8a273c81eb76",
     "prev": null,
     "regions": {
      "05d3a1b4-c120-4418-aadd-80365f8b9ea2": {
       "attrs": {
        "height": 0.8,
        "width": 0.8,
        "x": 0.1,
        "y": 0.1
       },
       "content": {
        "cell": "90970bb8-c992-4ca4-a44b-87489ee7c4bd",
        "part": "whole"
       },
       "id": "05d3a1b4-c120-4418-aadd-80365f8b9ea2"
      }
     }
    },
    "e7edaa97-02e9-45ce-b627-37a453f9b54d": {
     "id": "e7edaa97-02e9-45ce-b627-37a453f9b54d",
     "prev": "91fe99be-8430-4b41-923f-8a273c81eb76",
     "regions": {
      "8df7557d-3c5c-4677-aed7-8dc959a68631": {
       "attrs": {
        "height": 0.8,
        "width": 0.8,
        "x": 0.1,
        "y": 0.1
       },
       "content": {
        "cell": "b1adadaf-409c-43ee-8562-1ddd1b29a717",
        "part": "whole"
       },
       "id": "8df7557d-3c5c-4677-aed7-8dc959a68631"
      }
     }
    }
   },
   "themes": {
    "default": "2241bd36-63cd-4e62-ab5d-859f0c730ed0",
    "theme": {
     "2241bd36-63cd-4e62-ab5d-859f0c730ed0": {
      "id": "2241bd36-63cd-4e62-ab5d-859f0c730ed0",
      "palette": {
       "19cc588f-0593-49c9-9f4b-e4d7cc113b1c": {
        "id": "19cc588f-0593-49c9-9f4b-e4d7cc113b1c",
        "rgb": [
         252,
         252,
         252
        ]
       },
       "31af15d2-7e15-44c5-ab5e-e04b16a89eff": {
        "id": "31af15d2-7e15-44c5-ab5e-e04b16a89eff",
        "rgb": [
         68,
         68,
         68
        ]
       },
       "50f92c45-a630-455b-aec3-788680ec7410": {
        "id": "50f92c45-a630-455b-aec3-788680ec7410",
        "rgb": [
         155,
         177,
         192
        ]
       },
       "c5cc3653-2ee1-402a-aba2-7caae1da4f6c": {
        "id": "c5cc3653-2ee1-402a-aba2-7caae1da4f6c",
        "rgb": [
         43,
         126,
         184
        ]
       },
       "efa7f048-9acb-414c-8b04-a26811511a21": {
        "id": "efa7f048-9acb-414c-8b04-a26811511a21",
        "rgb": [
         25.118061674008803,
         73.60176211453744,
         107.4819383259912
        ]
       }
      },
      "rules": {
       "blockquote": {
        "color": "50f92c45-a630-455b-aec3-788680ec7410"
       },
       "code": {
        "font-family": "Anonymous Pro"
       },
       "h1": {
        "color": "c5cc3653-2ee1-402a-aba2-7caae1da4f6c",
        "font-family": "Lato",
        "font-size": 8
       },
       "h2": {
        "color": "c5cc3653-2ee1-402a-aba2-7caae1da4f6c",
        "font-family": "Lato",
        "font-size": 6
       },
       "h3": {
        "color": "50f92c45-a630-455b-aec3-788680ec7410",
        "font-family": "Lato",
        "font-size": 5.5
       },
       "h4": {
        "color": "c5cc3653-2ee1-402a-aba2-7caae1da4f6c",
        "font-family": "Lato",
        "font-size": 5
       },
       "h5": {
        "font-family": "Lato"
       },
       "h6": {
        "font-family": "Lato"
       },
       "h7": {
        "font-family": "Lato"
       },
       "pre": {
        "font-family": "Anonymous Pro",
        "font-size": 4
       }
      },
      "text-base": {
       "font-family": "Merriweather",
       "font-size": 4
      }
     }
    }
   }
  }
 },
 "nbformat": 4,
 "nbformat_minor": 0
}
