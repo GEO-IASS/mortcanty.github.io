{
 "cells": [
  {
   "cell_type": "markdown",
   "metadata": {},
   "source": [
    "## Part 9. Spatial Statistics\n",
    "$$ \\def\\pr{\\hbox{Pr}}\n",
    "\\def\\var{\\hbox{var}}\n",
    "\\def\\cov{\\hbox{cov}}\n",
    "\\def\\tr{\\hbox{tr}}\n",
    "\\def\\corr{\\hbox{corr}}\n",
    "\\def\\dmX{\\un{\\mathcal{X}}}\n",
    "\\def\\dmG{\\un{\\mathcal{G}}}\n",
    "\\def\\dmK{\\un{\\mathcal{K}}}\n",
    "\\def\\dmS{\\un{\\mathcal{S}}}\n",
    "\\def\\dmC{\\un{\\mathcal{C}}}\n",
    "\\def\\dmZ{\\un{\\mathcal{Z}}}\n",
    "\\def\\bma{{\\mbox{\\boldmath $\\alpha$}}}\n",
    "\\def\\bmb{{\\mbox{\\boldmath $\\beta$}}}\n",
    "\\def\\bmu{{\\mbox{\\boldmath $\\mu$}}}\n",
    "\\def\\bme{{\\mbox{\\boldmath $\\epsilon$}}}\n",
    "\\def\\bmS{{\\mbox{\\boldmath $\\Sigma$}}}\n",
    "\\def\\bmL{{\\mbox{\\boldmath $\\Lambda$}}}\n",
    "\\def\\bmd{{\\mbox{\\boldmath $\\delta$}}}\n",
    "\\def\\bmD{{\\mbox{\\boldmath $\\Delta$}}}\n",
    "\\def\\bmG{{\\mbox{\\boldmath $\\Gamma$}}}\n",
    "\\def\\bmphi{{\\mbox{\\boldmath $\\phi$}}}\n",
    "\\def\\bmPhi{{\\mbox{\\boldmath $\\Phi$}}}\n",
    "\\def\\bmpsi{{\\mbox{\\boldmath $\\psi$}}}\n",
    "\\def\\bmtheta{{\\mbox{\\boldmath $\\theta$}}}\n",
    "\\def\\eq{\\begin{equation}}\n",
    "\\def\\eeq{\\end{equation}}\n",
    "\\def\\i{{\\bf i}}\n",
    "\\def\\un#1{{\\bf #1}}$$"
   ]
  },
  {
   "cell_type": "markdown",
   "metadata": {},
   "source": [
    "### The semi-variogram\n",
    "\n",
    "A random vector corresponding to some two-dimensional (geo)spatial\n",
    "measurement at a point $\\un x$: \n",
    "\n",
    "$$\\un Z(\\un x),\\quad \\un x \\in \\Re^2.$$\n",
    "\n",
    "For *first-order stationariy* the mean vector \n",
    "\n",
    "$$\\langle\\un Z(\\un x)\\rangle = \\bf \\mu$$ \n",
    "\n",
    "is constant, independent of $\\un x$, so WLoG we can assume\n",
    "\n",
    "$$\\langle\\un Z(\\un x)\\rangle = \\un 0.$$ "
   ]
  },
  {
   "cell_type": "markdown",
   "metadata": {},
   "source": [
    "For *second-order stationarity*, the <span>*spatial\n",
    "covariance*</span>\n",
    "\n",
    "$$\\un C(\\un x,\\un h) = \\langle \\un Z(\\un x) \\un Z(\\un x+\\un h)^\\top\\rangle = \\un C(\\un h)$$\n",
    "\n",
    "is also constant, independent of $\\un x$. Here $\\un h$ is the “lag”."
   ]
  },
  {
   "cell_type": "markdown",
   "metadata": {},
   "source": [
    "We have\n",
    "\n",
    "$$\\un C(\\un 0) = \\langle\\un Z(\\un x)\\un Z(\\un x)^\\top\\rangle = \\bf\\Sigma$$\n",
    "\n",
    "and \n",
    "\n",
    "$$\\eqalign{\n",
    "\\un C(-\\un h) &=  \\langle \\un Z(\\un x) \\un Z(\\un x-\\un h)^\\top\\rangle\\cr\n",
    "&= \\langle \\un Z(\\un x+\\un h) \\un Z(\\un x)^\\top\\rangle\\cr\n",
    "&= \\langle (\\un Z(\\un x) \\un Z(\\un x+\\un h)^\\top)^\\top\\rangle\\cr\n",
    "&= \\un C(\\un h)^\\top. }$$\n"
   ]
  },
  {
   "cell_type": "markdown",
   "metadata": {},
   "source": [
    "The (multivariate) <span>*variogram*</span> is defined as the covariance\n",
    "matrix of the random vector $\\un Z(\\un x)-\\un Z(\\un x+\\un h)$:\n",
    "\n",
    "$$\\eqalign{\n",
    "2\\bf\\Gamma(\\un h)&=\\langle  (\\un Z(\\un x)-\\un Z(\\un x+\\un h)) (\\un Z(\\un x)-\\un Z(\\un x+\\un h)^\\top\\rangle\\cr\n",
    "&=\\langle\\un Z(\\un x) \\un Z(\\un x)^\\top\\rangle+\\langle\\un Z(\\un x+\\un h) \\un Z(\\un x+\\un h)^\\top\\rangle\\cr\n",
    "&\\quad\\quad -\\langle\\un Z(\\un x) \\un Z(\\un x+\\un h)^\\top\\rangle-\\langle\\un Z(\\un x+\\un h) \\un Z(\\un x)^\\top\\rangle\\cr\n",
    "&=2\\bf\\Sigma-\\un C(\\un h)-\\un C(-\\un h).}$$\n",
    "\n",
    "Note that $\\bf\\Gamma(\\un h)$ is symmetric (why?)."
   ]
  },
  {
   "cell_type": "markdown",
   "metadata": {},
   "source": [
    "For scalar measurements, this is written\n",
    "\n",
    "$$2\\gamma(\\un h) = 2 \\sigma^2 - C(\\un h) - C(-\\un h) = 2(\\sigma^2-C(\\un h))$$\n",
    "\n",
    "and \n",
    "\n",
    "$$\\gamma(\\un h)=\\sigma^2-C(\\un h)$$ \n",
    "\n",
    "is called the <span>*semi-variogram*</span>."
   ]
  },
  {
   "cell_type": "markdown",
   "metadata": {},
   "source": [
    "An estimate for the semi-variogram based on sample measurements is\n",
    "\n",
    "$$\\hat\\gamma(\\un h) = {1\\over 2N(\\un h)}\\sum_{i=1}^{N(\\un h)}[z(\\un x_i)-z(\\un x_i+\\un h)]^2$$\n",
    "\n",
    "where $N(\\un h)$ is the number of sample point pairs separated by\n",
    "$\\un h$, both in magnitude and direction."
   ]
  },
  {
   "cell_type": "markdown",
   "metadata": {},
   "source": [
    "<img src= '2dvario.png'  height='400' width='800' />\n",
    "\n",
    "<span>Source: A. A. Nielsen (1994) <span>*Analysis of regularly and\n",
    "irregularly sampled spatial, multivariate and multitemporal\n",
    "data*</span>, PhD Thesis, Lyngby.</span>"
   ]
  },
  {
   "cell_type": "markdown",
   "metadata": {},
   "source": [
    "<img src= 'greenlandvario.png'  height='400' width='800' />\n",
    "\n",
    "<span>Source: A. A. Nielsen (1994) <span>*Analysis of regularly and\n",
    "irregularly sampled spatial, multivariate and multitemporal\n",
    "data*</span>, PhD Thesis, Lyngby.</span>"
   ]
  },
  {
   "cell_type": "markdown",
   "metadata": {},
   "source": [
    "A simple, isotropic semi-variogram model:\n",
    "\n",
    "$$\n",
    "\\gamma(h) = \\cases{ 0 & if $h=0$\\cr\n",
    "         C_0 + C_1\\left[{3\\over 2}{h\\over R}-{1\\over 2}\\left({h\\over R}\\right)^3\\right] & if $0<h<R$\\cr\n",
    "         C_0+C_1 & if $h\\ge R$\n",
    "}\n",
    "$$\n",
    "\n",
    "where $h = \\|\\un h\\|$, $C_0$ is the “nugget”, $R$ is the “range of \n",
    "influence” and $C_0+C_1$ is the “sill”.\n"
   ]
  },
  {
   "cell_type": "markdown",
   "metadata": {},
   "source": [
    "The parameters can be estimated from the experimental semivariograms by means of non-linear least squares methods. See \n",
    "\n",
    "<a href=\"http://link.springer.com/article/10.1007/BF01032885\">Journel and Froidevaux (1982) Anisotropic hole-effect modeling</a>\n",
    "\n",
    "<a href=\"http://eu.wiley.com/WileyCDA/WileyTitle/productCd-1119114616.html\">Cressie (2015) Statistics for Spatial Data, Wiley</a>"
   ]
  },
  {
   "cell_type": "markdown",
   "metadata": {},
   "source": [
    "### Ordinary kriging  (assuming second order stationarity)\n",
    "\n",
    "Suppose we have sampled the distribution characterized by the random\n",
    "variable $Z$ at the points $\\un x_1\\dots \\un x_m$, so we have the\n",
    "measurements $z(\\un x_1)\\dots z(\\un x_m)$. We want to interpolate to the\n",
    "point $\\un x_0$. A linear, unbiased estimator is the sample function\n",
    "\n",
    "$$\\hat Z(\\un x_0) = \\sum_{i=1}^m w_i Z(\\un x_i),$$ \n",
    "\n",
    "provided that\n",
    "\n",
    "$$\\sum_{i=1}^m w_i = 1.$$ \n",
    "\n",
    "That is,\n",
    "\n",
    "$$\\langle \\hat Z(\\un x_0)\\rangle = \\sum_{i=1}^m w_i\\langle Z(\\un x_i)\\rangle = \\sum_{i=1}^m w_i\\langle Z \\rangle = \\langle Z \\rangle.$$"
   ]
  },
  {
   "cell_type": "markdown",
   "metadata": {},
   "source": [
    "The variance in the estimate is\n",
    "\n",
    "$$\\sigma_E^2 = \\langle (\\hat Z(\\un x_0) - Z(\\un x_0))^2 \\rangle = \\left\\langle \\sum_{i=0}^m w_iZ(\\un x_i)\\cdot\\sum_{j=0}^m w_jZ(\\un x_j)\\right\\rangle$$\n",
    "\n",
    "where $w_0 = -1$. Therefore\n",
    "\n",
    "$$\\sigma_E^2 = \\sum_{i,j=0}^m w_iw_j\\langle Z(\\un x_i)Z(\\un x_j)\\rangle = \\sum_{i,j=0}^m w_iw_j C(\\un x_i-\\un x_j),$$\n",
    "\n",
    "since \n",
    "\n",
    "$$\n",
    "\\langle Z(\\un x_i)Z(\\un x_j)\\rangle =\\langle Z(\\un x_i)Z(\\un x_i-(\\un x_i- \\un x_j))\\rangle = C(\\un x_i-\\un x_j).\n",
    "$$\n"
   ]
  },
  {
   "cell_type": "markdown",
   "metadata": {},
   "source": [
    "With $C_{ij} = C(\\un x_i-\\un x_j)$, the minimum variance estimate is\n",
    "thus the minimum of the Lagrange function\n",
    "\n",
    "$$L(\\un w,\\lambda) = \\sum_{i,j=0}^m w_iw_j C_{ij} -\\lambda(\\sum_{i=1}^m w_i -1),$$\n",
    "\n",
    "with respect to $w_i$, $i=1\\dots m$, and $\\lambda$."
   ]
  },
  {
   "cell_type": "markdown",
   "metadata": {},
   "source": [
    "Taking derivatives $\\partial L/\\partial w_i$ and\n",
    "$\\partial L/\\partial\\lambda$ and equating to 0 gives\n",
    "$$\\sum_{j=1}^m w_jC_{ij} - \\lambda = C_{i0},\\quad i= 1\\dots m,\\quad \\sum_{i=1}^m w_i = 1.$$\n",
    "\n",
    "In matrix form: $$\\pmatrix{C_{11} & \\cdots & C_{1m} & 1\\cr\n",
    "                 \\vdots & \\cdots & \\vdots & 1\\cr\n",
    "                 C_{m1} & \\cdots & C_{mm} & 1\\cr\n",
    "                 1      & \\cdots & 1      & 0} \\pmatrix{w_1\\cr\\vdots\\cr w_m\\cr -\\lambda} = \\pmatrix{C_{10}\\cr\\vdots\\cr C_{m0}\\cr 1}$$\n",
    "or $$\\un C\\un w = \\un D.$$"
   ]
  },
  {
   "cell_type": "markdown",
   "metadata": {},
   "source": [
    "We get the required kriging coefficients (and $\\lambda$) from\n",
    "\n",
    "$$\\un w = \\un C^{-1}\\un D.$$\n",
    "\n",
    "For second order stationarity, $C_{ii} = \\sigma^2$, $i=1\\dots m.$ In\n",
    "terms of the semi-variogram,\n",
    "\n",
    "$$C_{ij} =  \\sigma^2 - \\gamma(\\un x_i - \\un x_j).$$"
   ]
  },
  {
   "cell_type": "markdown",
   "metadata": {},
   "source": [
    "We get the kriging variance by substituting back into the expression for\n",
    "$\\sigma_E^2$: \n",
    "\n",
    "$$\\eqalign{\n",
    "\\sigma_E^2 &= \\sum_{ij=0}^mw_iw_jC_{ij} = \\sum_{j=0}^m w_j \\sum_{i=0}^m w_i C_{ij}\\cr\n",
    "&= w_0\\sum_{i=0}^m w_iC_{i0} + \\sum_{j=1}^m w_j(w_0C_{0j} + \\sum_{i=1}^mw_iC_{ij})\\cr\n",
    "&= -\\sum_{i=0}^m w_iC_{i0} + \\sum_{j=1}^m w_j(-C_{0j} + \\lambda + C_{0j})\\cr\n",
    "&= -w_0C_{00} - \\sum_{i=1}^mw_iC_{i0} + \\lambda \\cr\n",
    "&=  - \\sum_{i=1}^mw_iC_{i0} + C_{00} + \\lambda.\n",
    "}$$"
   ]
  },
  {
   "cell_type": "markdown",
   "metadata": {},
   "source": [
    "Note that, if the point $\\un x_0$ coincides with one of the support\n",
    "points, $\\un x_0= \\un x_j$ say,\n",
    "\n",
    "$$\\sigma_E^2 =  - \\sum_{i=1}^mw_iC_{ij} + C_{jj} + \\lambda = -(C_{jj} + \\lambda) + C_{jj} + \\lambda = 0.$$"
   ]
  },
  {
   "cell_type": "markdown",
   "metadata": {},
   "source": [
    "### Maximizing spatial correlation: the MAF transform\n",
    "\n",
    "Recall that we had for the multivariate variogram\n",
    "\n",
    "$$2\\bf\\Gamma(\\un h)=2\\bf\\Sigma-\\un C(\\un h)-\\un C(-\\un h),$$ \n",
    "\n",
    "where\n",
    "$$\\un C(\\un h) = \\langle\\un Z(\\un x)\\un Z(\\un x+\\un h)^\\top\\rangle$$ \n",
    "\n",
    "and\n",
    "\n",
    "$$\\un C(\\un 0)=\\bf\\Sigma,\\quad \\un C(\\un h) = \\un C(-\\un h)^\\top.$$"
   ]
  },
  {
   "cell_type": "markdown",
   "metadata": {},
   "source": [
    "Now let us look at the spatial covariance of projections\n",
    "$$Y=\\un a^\\top\\un Z$$ of the original and data. These are\n",
    "given by \n",
    "\n",
    "$$\\eqalign{\n",
    "\\cov(\\un a^\\top\\un Z(\\un x),\\un a^\\top\\un Z(\\un x+\\un h))\n",
    "&=\\un a^\\top \\langle\\un Z(\\un x) \\un Z(\\un x+\\un h)^\\top\\rangle \\un a\\cr\n",
    "&= \\un a^\\top \\un C(\\un h) \\un a\\cr\n",
    "&= \\un a^\\top \\un C(-\\un h) \\un a \\quad\\hbox{(quadratic form!)}\\cr\n",
    "&= {1\\over 2}\\cdot\\un a^\\top (\\un C(\\un h)+\\un C(-\\un h)) \\un a\\cr\n",
    "&= {1\\over 2}\\cdot\\un a^\\top (2\\bf\\Sigma-2\\bf\\Gamma(\\un h)) \\un a\\cr\n",
    "&= \\un a^\\top\\bf\\Sigma\\un a - \\un a^\\top\\bf\\Gamma(\\un h)\\un a.}$$"
   ]
  },
  {
   "cell_type": "markdown",
   "metadata": {},
   "source": [
    "The <span>*spatial autocorrelation*</span> of the projections is\n",
    "therefore \n",
    "\n",
    "$$\\eqalign{\n",
    "\\corr(\\un a^\\top \\un Z(\\un x),\\un a^\\top \\un Z(\\un x+\\un h))\n",
    "&= {\\un a^\\top \\bf\\Sigma \\un a-\\un a^\\top \\bf\\Gamma(\\un h) \\un a \\over\n",
    "\\sqrt{\\var(\\un a^\\top \\un Z(\\un x))\\var(\\un a^\\top \\un Z(\\un x+\\un h))}}\\cr\n",
    "&= {\\un a^\\top \\bf\\Sigma \\un a - \\un a^\\top \\bf\\Gamma(\\un h) \\un a \\over\n",
    "\\sqrt{(\\un a^\\top \\bf\\Sigma \\un a)(\\un a^\\top \\bf\\Sigma \\un a)}}\\cr\n",
    "&= 1- {\\un a^\\top \\bf\\Gamma(\\un h) \\un a\\over \\un a^\\top \\bf\\Sigma \\un a}.}$$"
   ]
  },
  {
   "cell_type": "markdown",
   "metadata": {},
   "source": [
    "The <span>*maximum autocorrelation factor*</span> (MAF) transformation\n",
    "determines that vector $\\un a$ which maximizes the spatial\n",
    "autocorrelation. We obtain it by minimizing the <span>*Rayleigh\n",
    "quotient*</span>\n",
    "\n",
    "$$R(\\un a) =  {\\un a^\\top \\bf\\Gamma(\\un h) \\un a\\over \\un a^\\top \\bf\\Sigma \\un a}.$$"
   ]
  },
  {
   "cell_type": "markdown",
   "metadata": {},
   "source": [
    "Setting the vector derivative equal to zero gives\n",
    "\n",
    "$${\\partial R\\over \\partial \\un a}=\n",
    "{1\\over \\un a^\\top \\bf\\Sigma \\un a}\\cdot {1\\over 2}\\cdot\\bf\\Gamma(\\un h) \\un a\n",
    "-{\\un a^\\top \\bf\\Gamma(\\un h) \\un a\\over(\\un a^\\top \\bf\\Sigma \\un a)^2}\\cdot {1\\over 2}\\cdot\\bf\\Sigma \\un a= \\un 0$$\n",
    "\n",
    "or\n",
    "\n",
    "$$(\\un a^\\top \\bf\\Sigma \\un a)\\bf\\Gamma(\\un h) \\un a = (\\un a^\\top \\bf\\Gamma(\\un h) \\un a)\\bf\\Sigma \\un a.$$\n",
    "\n",
    "This condition is met when $\\un a$ solves the <span>*generalized\n",
    "eigenvalue problem*</span> \n",
    "\n",
    "$$\\bf\\Gamma(\\un h) \\un a = \\lambda\\bf\\Sigma \\un a.$$"
   ]
  },
  {
   "cell_type": "markdown",
   "metadata": {},
   "source": [
    "We can solve this eigenvalue problem as follows. Since $\\bf\\Sigma$ is\n",
    "symmetric positive definite, there exists a lower triangular matrix\n",
    "$\\un L$ such that \n",
    "\n",
    "$$\\bf\\Sigma = \\un L\\un L^\\top.$$ \n",
    "\n",
    "So we can write\n",
    "\n",
    "$$\\bf\\Gamma(\\un h)\\un a = \\lambda\\un L\\un L^\\top\\un a.$$ \n",
    "\n",
    "Equivalently,\n",
    "\n",
    "$$\\un L^{-1}\\bf\\Gamma(\\un h) (\\un L^\\top)^{-1}\\un L^\\top\\un a = \\lambda \\un L^\\top \\un a,$$\n",
    "\n",
    "or, with $\\un b = \\un L^\\top\\un a$,\n",
    "\n",
    "$$[\\un L^{-1}\\bf\\Gamma(\\un h)(\\un L^{-1})^\\top]\\un b = \\lambda\\un b,$$ \n",
    "\n",
    "a standard eigenvalue problem for the symmetric matrix\n",
    "$\\un L^{-1}\\bf\\Gamma(\\un h)(\\un L^{-1})^\\top$."
   ]
  },
  {
   "cell_type": "markdown",
   "metadata": {},
   "source": [
    "Let the eigenvalues be ordered from smallest to largest,\n",
    "$\\lambda_1\\le\\dots \\le\\lambda_N$, and the corresponding (orthogonal)\n",
    "eigenvectors be $\\un b_i$. We have\n",
    "\n",
    "$$\\un b_i^\\top \\un b_j= \\un a_i^\\top \\un L \\un L^\\top \\un a_j\n",
    "=\\un a_i^\\top \\bf\\Sigma \\un a_j=\\delta_{ij}$$ \n",
    "\n",
    "so that the MAF components\n",
    "$Y_i=\\un a_i^\\top\\un Z$, $\\ i=1\\dots N$, are orthogonal (uncorrelated)\n",
    "with unit variance. Moreover,\n",
    "\n",
    "$$\\corr(\\un a_i^\\top \\un Z(\\un x),\\un a_i^\\top \\un Z(\\un x+\\un h))=1-{1\\over 2}\\lambda_i,\\quad i=1\\dots N,$$\n",
    "\n",
    "and the first MAF component has maximum spatial autocorrelation."
   ]
  },
  {
   "cell_type": "markdown",
   "metadata": {},
   "source": [
    "Allan A. Nielsen (PhD Thesis 1995):\n",
    "\n",
    "“The MAFs for irregularly spaced data possess the characteristic that\n",
    "they are orthogonal and they are ordered by decreasing autocorrelation.\n",
    "Typically, low order factors will contain a lot of signal, high order\n",
    "factors will contain a lot of noise. The MAFs thus relate beautifully to\n",
    "\\[...\\] interpolation by kriging. Because low-order MAFs contain signal\n",
    "they are expected to have low nugget effects and long ranges of\n",
    "influence. \\[...\\] As the factors are orthogonal there is no\n",
    "cross-correlation for small lags ($\\un h$). I therefore suggest \\[...\\]\n",
    "kriging based on the MAF analysis of \\[...\\] multivariate data. In order\n",
    "to obtain kriged versions of the original data the inverse MAF\n",
    "transformation can be applied.”"
   ]
  },
  {
   "cell_type": "code",
   "execution_count": null,
   "metadata": {
    "collapsed": true
   },
   "outputs": [],
   "source": []
  }
 ],
 "metadata": {
  "anaconda-cloud": {},
  "kernelspec": {
   "display_name": "Python [Root]",
   "language": "python",
   "name": "Python [Root]"
  },
  "language_info": {
   "codemirror_mode": {
    "name": "ipython",
    "version": 2
   },
   "file_extension": ".py",
   "mimetype": "text/x-python",
   "name": "python",
   "nbconvert_exporter": "python",
   "pygments_lexer": "ipython2",
   "version": "2.7.12"
  }
 },
 "nbformat": 4,
 "nbformat_minor": 0
}
